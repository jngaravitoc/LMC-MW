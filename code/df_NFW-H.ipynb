{
 "cells": [
  {
   "cell_type": "code",
   "execution_count": 10,
   "metadata": {
    "collapsed": false
   },
   "outputs": [
    {
     "name": "stdout",
     "output_type": "stream",
     "text": [
      "Populating the interactive namespace from numpy and matplotlib\n"
     ]
    },
    {
     "name": "stderr",
     "output_type": "stream",
     "text": [
      "WARNING: pylab import has clobbered these variables: ['gamma']\n",
      "`%matplotlib` prevents importing * from pylab and numpy\n"
     ]
    }
   ],
   "source": [
    "%pylab inline\n",
    "from astropy import units\n",
    "from astropy import constants"
   ]
  },
  {
   "cell_type": "code",
   "execution_count": 11,
   "metadata": {
    "collapsed": true
   },
   "outputs": [],
   "source": [
    "# From the analytic aprox of Zentner & Bullock 2003 for a NFW profile/\n",
    "G = constants.G\n",
    "\n",
    "def los_vdisp_NFW(c, r, M, Rv):\n",
    "    M = M * units.Msun\n",
    "    Rv = Rv * units.kpc\n",
    "    vvir = np.sqrt(G * M / Rv)\n",
    "    g = np.log(1+c) - (c /(1+c))\n",
    "    vmax = np.sqrt(0.216 * vvir**2 * c / g)\n",
    "    x = r / Rv.value * c\n",
    "    sigma = vmax * 1.4393 * x **(0.354) / (1.0 + 1.1756*x**0.725)\n",
    "    sigma = sigma.to(units.kpc / units.Gyr)\n",
    "    return sigma"
   ]
  },
  {
   "cell_type": "code",
   "execution_count": 92,
   "metadata": {
    "collapsed": false
   },
   "outputs": [],
   "source": [
    "gamma = 1.0\n",
    "\n",
    "def X(s):\n",
    "    x = np.zeros(len(s))\n",
    "    for i in range(len(s)):\n",
    "        if s[i]<1:\n",
    "            x[i] = 1.0 / np.sqrt((1.0-s[i]**2.0))*log((1.0 + np.sqrt(1.0-s[i]**2.0))/s[i])\n",
    "        elif s[i]>1:\n",
    "            x[i] = 1.0 / np.sqrt(s[i]**2.0-1.0) *cos(1.0/s[i])**(-1.0)\n",
    "        elif s[i]==1.0:\n",
    "            x[i]=1.0\n",
    "    return x\n",
    "\n",
    "def surface_b(M, a, r):\n",
    "    s = (r/a)\n",
    "    x = X(s)\n",
    "    a = a * units.kpc\n",
    "    r = a * units.kpc\n",
    "    M = M * units.Msun\n",
    "    I = M/(2*np.pi*a**2*gamma*(1.0-s**2.0)**2.0) * ((2.0+s**2.0)*x-3.0)\n",
    "    index = np.where(s==1)[0]\n",
    "    I[index] = 2*M/(15*np.pi*a**2.0*gamma)\n",
    "    return I\n",
    "\n",
    "def los_vdisp_H(M, a, r):\n",
    "    s = r/a\n",
    "    x = X(s)\n",
    "    r = r * units.kpc\n",
    "    a = a * units.kpc\n",
    "    M = M * units.Msun\n",
    "    I = surface_b(M.value, a.value, r.value)\n",
    "    constants = G*M**2.0 / (12.0*np.pi*a**3.0*gamma*I)\n",
    "    factor = 1.0/(2.0*(1.0-s**2.0)**(3.0))\n",
    "    sigma2 = constants*(factor*((-3*s**2.0*x)*(8*s**6.0 - 28.0*s**4.0 + 35.0*s**2.0- 20.0)\\\n",
    "                                - 24.0*s**6.0 + 68.0*s**4.0 - 65.0*s**2.0 + 6.0) - 6*np.pi*s)\n",
    "    sigma = np.sqrt(sigma2)\n",
    "    sigma = sigma.to(units.kpc/units.Gyr)\n",
    "    return sigma"
   ]
  },
  {
   "cell_type": "code",
   "execution_count": 59,
   "metadata": {
    "collapsed": false
   },
   "outputs": [
    {
     "name": "stderr",
     "output_type": "stream",
     "text": [
      "/usr/local/lib/python2.7/dist-packages/ipykernel/__main__.py:35: RuntimeWarning: invalid value encountered in sqrt\n"
     ]
    }
   ],
   "source": [
    "#r = linspace(0.1, 300, 220)\n",
    "sigma_H = los_vdisp_H(1.55E12, 40.0, r)"
   ]
  },
  {
   "cell_type": "code",
   "execution_count": 60,
   "metadata": {
    "collapsed": false
   },
   "outputs": [],
   "source": [
    "sigma_NFW = los_vdisp_NFW(15, r, 1.2E12, 278.0)"
   ]
  },
  {
   "cell_type": "code",
   "execution_count": 63,
   "metadata": {
    "collapsed": false,
    "scrolled": true
   },
   "outputs": [
    {
     "data": {
      "text/plain": [
       "[<matplotlib.lines.Line2D at 0x7fc220378450>]"
      ]
     },
     "execution_count": 63,
     "metadata": {},
     "output_type": "execute_result"
    },
    {
     "data": {
      "image/png": "[encoded data removed]",
      "text/plain": [
       "<matplotlib.figure.Figure at 0x7fc220a07f10>"
      ]
     },
     "metadata": {},
     "output_type": "display_data"
    }
   ],
   "source": [
    "plot(r, sigma_NFW)\n",
    "plot(r, sigma_H)\n",
    "#ylim(0, 130)"
   ]
  },
  {
   "cell_type": "code",
   "execution_count": 64,
   "metadata": {
    "collapsed": false
   },
   "outputs": [
    {
     "name": "stdout",
     "output_type": "stream",
     "text": [
      "[ 0.65788713]\n"
     ]
    },
    {
     "data": {
      "text/plain": [
       "(0, 3.1)"
      ]
     },
     "execution_count": 64,
     "metadata": {},
     "output_type": "execute_result"
    },
    {
     "data": {
      "image/png": "[encoded data removed]",
      "text/plain": [
       "<matplotlib.figure.Figure at 0x7fc2202cfb50>"
      ]
     },
     "metadata": {},
     "output_type": "display_data"
    }
   ],
   "source": [
    "ss = linspace(0.001, 2, 2000)\n",
    "xx = X(ss)\n",
    "print X(np.ones(1)*2)\n",
    "plot(ss, xx)\n",
    "xlim(0, 3.1)"
   ]
  },
  {
   "cell_type": "code",
   "execution_count": 68,
   "metadata": {
    "collapsed": false
   },
   "outputs": [
    {
     "data": {
      "text/plain": [
       "[<matplotlib.lines.Line2D at 0x7fc22027e650>]"
      ]
     },
     "execution_count": 68,
     "metadata": {},
     "output_type": "execute_result"
    },
    {
     "data": {
      "image/png": "[encoded data removed]",
      "text/plain": [
       "<matplotlib.figure.Figure at 0x7fc220519310>"
      ]
     },
     "metadata": {},
     "output_type": "display_data"
    }
   ],
   "source": [
    "r = linspace(0.1, 300, 30)\n",
    "s = r/40.\n",
    "\n",
    "plot(s, X(s))"
   ]
  },
  {
   "cell_type": "code",
   "execution_count": 79,
   "metadata": {
    "collapsed": false
   },
   "outputs": [
    {
     "data": {
      "text/plain": [
       "[<matplotlib.lines.Line2D at 0x7fc21fd7aa90>]"
      ]
     },
     "execution_count": 79,
     "metadata": {},
     "output_type": "execute_result"
    },
    {
     "data": {
      "image/png": "[encoded data removed]",
      "text/plain": [
       "<matplotlib.figure.Figure at 0x7fc220022f50>"
      ]
     },
     "metadata": {},
     "output_type": "display_data"
    }
   ],
   "source": [
    "plot(r, 1/surface_b(1E12, 40., r))"
   ]
  },
  {
   "cell_type": "code",
   "execution_count": 90,
   "metadata": {
    "collapsed": true
   },
   "outputs": [],
   "source": [
    "def n_function(s):\n",
    "    x = X(s)\n",
    "    factor = 1.0/(2.0*(1.0-s**2.0)**(3.0))\n",
    "    ii = 1/surface_b(1E12, 40, r).value\n",
    "    sigma2 = r**2.0*ii*(factor*((-3*s**2.0*x)*(8*s**6.0 - 28.0*s**4.0 + 35.0*s**2.0- 20.0)\\\n",
    "                - 24.0*s**6.0 + 68.0*s**4.0 - 65.0*s**2.0 + 6.0) - 6*np.pi*s)\n",
    "    return sigma2"
   ]
  },
  {
   "cell_type": "code",
   "execution_count": 91,
   "metadata": {
    "collapsed": false
   },
   "outputs": [
    {
     "data": {
      "text/plain": [
       "[<matplotlib.lines.Line2D at 0x7fc21fbbd350>]"
      ]
     },
     "execution_count": 91,
     "metadata": {},
     "output_type": "execute_result"
    },
    {
     "data": {
      "image/png": "[encoded data removed]",
      "text/plain": [
       "<matplotlib.figure.Figure at 0x7fc21fcca310>"
      ]
     },
     "metadata": {},
     "output_type": "display_data"
    }
   ],
   "source": [
    "plot(s, n_function(s))"
   ]
  },
  {
   "cell_type": "code",
   "execution_count": null,
   "metadata": {
    "collapsed": true
   },
   "outputs": [],
   "source": []
  }
 ],
 "metadata": {
  "kernelspec": {
   "display_name": "Python 2",
   "language": "python",
   "name": "python2"
  },
  "language_info": {
   "codemirror_mode": {
    "name": "ipython",
    "version": 2
   },
   "file_extension": ".py",
   "mimetype": "text/x-python",
   "name": "python",
   "nbconvert_exporter": "python",
   "pygments_lexer": "ipython2",
   "version": "2.7.6"
  }
 },
 "nbformat": 4,
 "nbformat_minor": 0
}
