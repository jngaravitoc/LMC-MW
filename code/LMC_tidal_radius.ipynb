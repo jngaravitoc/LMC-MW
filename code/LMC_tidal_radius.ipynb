{
 "cells": [
  {
   "cell_type": "code",
   "execution_count": 1,
   "metadata": {
    "collapsed": false
   },
   "outputs": [
    {
     "name": "stdout",
     "output_type": "stream",
     "text": [
      "Populating the interactive namespace from numpy and matplotlib\n"
     ]
    },
    {
     "name": "stderr",
     "output_type": "stream",
     "text": [
      "/usr/lib/python3/dist-packages/matplotlib/__init__.py:760: UserWarning: Found matplotlib configuration in ~/.matplotlib/. To conform with the XDG base directory standard, this configuration location has been deprecated on Linux, and the new location is now '/home/ngaravito/.config'/matplotlib/. Please move your configuration there to ensure that matplotlib will continue to find it in the future.\n",
      "  _get_xdg_config_dir())\n"
     ]
    }
   ],
   "source": [
    "# Computing the Tidal Radius inspired by Dierickx 16 Eq 8.\n",
    "\n",
    "%pylab inline\n",
    "\n",
    "from pygadgetreader import *\n",
    "\n"
   ]
  },
  {
   "cell_type": "code",
   "execution_count": 10,
   "metadata": {
    "collapsed": true
   },
   "outputs": [],
   "source": [
    "lmc_orbit = np.loadtxt('LMC_orbit/orbits/LMC6_H1.txt')\n",
    "xcm_lmc = lmc_orbit[:,2]\n",
    "ycm_lmc = lmc_orbit[:,3]\n",
    "zcm_lmc = lmc_orbit[:,4]\n",
    "\n",
    "lmc_path = '../data/LMCMW/MWmLMC6/H1/'\n",
    "lmc_snap = 'MWfLMC6H1'\n",
    "N_snaps = 120\n",
    "NDM = 1000000\n"
   ]
  },
  {
   "cell_type": "code",
   "execution_count": 4,
   "metadata": {
    "collapsed": true
   },
   "outputs": [],
   "source": [
    "def mw_particles(xyz, vxyz, ids, N_halo, pot, M):\n",
    "    id_cut = np.sort(ids)[N_halo]\n",
    "    index_mw = np.where(ids<id_cut)[0]\n",
    "    index_lmc = np.where(ids>=id_cut)[0]\n",
    "    LMC_pos = xyz[index_lmc]\n",
    "    LMC_vel = vxyz[index_lmc]\n",
    "    LMC_pot = pot[index_lmc]\n",
    "    LMC_ids = ids[index_lmc]\n",
    "    LMC_mass = M[index_lmc]\n",
    "    #index_cut = np.where(np.sqrt(LMC_pos[:,0]**2.0 + LMC_pos[:,1]**2.0 + LMC_pos[:,2]**2.0) <600)[0]\n",
    "    return xyz[index_mw], vxyz[index_mw], M[index_mw], pot[index_mw], LMC_pos, LMC_vel, LMC_pot, LMC_mass"
   ]
  },
  {
   "cell_type": "code",
   "execution_count": 15,
   "metadata": {
    "collapsed": true
   },
   "outputs": [],
   "source": [
    "def reading_snaps(snap_path, snap_name, N_snap, N_part_host):\n",
    "    \"\"\"\n",
    "    function that read a snapshot using pygadget reader\n",
    "    \"\"\"\n",
    "    pos = readsnap(lmc_path + lmc_snap + '_{:03d}'.format(N_snap), 'pos', 'dm')\n",
    "    M = readsnap(lmc_path + lmc_snap + '_{:03d}'.format(N_snap),'mass', 'dm')\n",
    "    vel = readsnap(lmc_path + lmc_snap + '_{:03d}'.format(N_snap),'vel', 'dm')\n",
    "    pot = readsnap(lmc_path + lmc_snap + '_{:03d}'.format(N_snap),'pot', 'dm')\n",
    "    pids = readsnap(lmc_path + lmc_snap + '_{:03d}'.format(N_snap),'pid', 'dm')\n",
    " \n",
    "    MW_pos, MW_vel, MW_mass, MW_pot, LMC_pos, LMC_vel, LMC_mass, \\\n",
    "    LMC_pot = mw_particles(pos, vel, pids,  N_part_host, pot, M)\n",
    "\n",
    "    return MW_pos, MW_vel, MW_mass, MW_pot, LMC_pos, LMC_vel, \\\n",
    "           LMC_mass, LMC_pot\n"
   ]
  },
  {
   "cell_type": "code",
   "execution_count": 17,
   "metadata": {
    "collapsed": false
   },
   "outputs": [
    {
     "name": "stdout",
     "output_type": "stream",
     "text": [
      "Returning DM    Positions\n",
      "Returning DM    Mass\n",
      "Returning DM    Velocities\n",
      "Returning DM    Potential\n",
      "Returning DM    Particle IDs\n"
     ]
    }
   ],
   "source": [
    "MW_pos, MW_vel, MW_M, MW_pot,  LMC_pos, LMC_vel, LMC_M, LMC_pot = reading_snaps(lmc_path, lmc_snap, 119, NDM)"
   ]
  },
  {
   "cell_type": "code",
   "execution_count": null,
   "metadata": {
    "collapsed": true
   },
   "outputs": [],
   "source": [
    "def trunc_radius():\n",
    "    Msgr_rt = \n",
    "    M_MW \n",
    "    r_t = r*()**(1/3.)"
   ]
  }
 ],
 "metadata": {
  "kernelspec": {
   "display_name": "Python 3",
   "language": "python",
   "name": "python3"
  },
  "language_info": {
   "codemirror_mode": {
    "name": "ipython",
    "version": 3
   },
   "file_extension": ".py",
   "mimetype": "text/x-python",
   "name": "python",
   "nbconvert_exporter": "python",
   "pygments_lexer": "ipython3",
   "version": "3.4.3"
  }
 },
 "nbformat": 4,
 "nbformat_minor": 0
}
