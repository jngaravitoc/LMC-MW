{
 "cells": [
  {
   "cell_type": "code",
   "execution_count": 46,
   "metadata": {
    "collapsed": false
   },
   "outputs": [
    {
     "name": "stdout",
     "output_type": "stream",
     "text": [
      "Using matplotlib backend: Qt4Agg\n",
      "Populating the interactive namespace from numpy and matplotlib\n"
     ]
    }
   ],
   "source": [
    "%pylab \n",
    "from pygadgetreader import *\n",
    "from octopus import density\n",
    "from numpy import linalg\n",
    "from mpl_toolkits.mplot3d import Axes3D\n",
    "from matplotlib.patches import FancyArrowPatch\n",
    "from mpl_toolkits.mplot3d import proj3d"
   ]
  },
  {
   "cell_type": "code",
   "execution_count": 111,
   "metadata": {
    "collapsed": true
   },
   "outputs": [],
   "source": [
    "# Measuring the Warp of the MW"
   ]
  },
  {
   "cell_type": "code",
   "execution_count": 3,
   "metadata": {
    "collapsed": true
   },
   "outputs": [],
   "source": [
    "# From http://stackoverflow.com/questions/22867620/putting-arrowheads-on-vectors-in-matplotlibs-3d-plot\n",
    "class Arrow3D(FancyArrowPatch):\n",
    "    def __init__(self, xs, ys, zs, *args, **kwargs):\n",
    "        FancyArrowPatch.__init__(self, (0,0), (0,0), *args, **kwargs)\n",
    "        self._verts3d = xs, ys, zs\n",
    "\n",
    "    def draw(self, renderer):\n",
    "        xs3d, ys3d, zs3d = self._verts3d\n",
    "        xs, ys, zs = proj3d.proj_transform(xs3d, ys3d, zs3d, renderer.M)\n",
    "        self.set_positions((xs[0],ys[0]),(xs[1],ys[1]))\n",
    "        FancyArrowPatch.draw(self, renderer)"
   ]
  },
  {
   "cell_type": "code",
   "execution_count": 141,
   "metadata": {
    "collapsed": false
   },
   "outputs": [
    {
     "name": "stdout",
     "output_type": "stream",
     "text": [
      "Returning DISK  Positions\n",
      "Returning DISK  Velocities\n",
      "Returning DISK  Mass\n",
      "Returning DISK  Potential\n"
     ]
    }
   ],
   "source": [
    "disk_pos = readsnap('../data/LMCMW/MWmLMC6/H1/MWfLMC6H1_119.hdf5', 'pos', 'disk')\n",
    "disk_vel = readsnap('../data/LMCMW/MWmLMC6/H1/MWfLMC6H1_119.hdf5', 'vel', 'disk')\n",
    "disk_mass = readsnap('../data/LMCMW/MWmLMC6/H1/MWfLMC6H1_119.hdf5', 'mass', 'disk')\n",
    "disk_pot = readsnap('../data/LMCMW/MWmLMC6/H1/MWfLMC6H1_119.hdf5', 'pot', 'disk')"
   ]
  },
  {
   "cell_type": "code",
   "execution_count": 142,
   "metadata": {
    "collapsed": false
   },
   "outputs": [],
   "source": [
    "min_pot = np.sort(disk_pot)"
   ]
  },
  {
   "cell_type": "code",
   "execution_count": 143,
   "metadata": {
    "collapsed": false
   },
   "outputs": [],
   "source": [
    "x_cm = np.zeros(100)\n",
    "y_cm = np.zeros(100)\n",
    "z_cm = np.zeros(100)\n",
    "\n",
    "vx_cm = np.zeros(100)\n",
    "vy_cm = np.zeros(100)\n",
    "vz_cm = np.zeros(100)\n",
    "\n",
    "\n",
    "for i in range(100):\n",
    "    index = np.where(disk_pot == min_pot[i])[0]\n",
    "    x_cm[i] = disk_pos[index,0]\n",
    "    y_cm[i] = disk_pos[index,1]\n",
    "    z_cm[i] = disk_pos[index,2]\n",
    "    vx_cm[i] = disk_vel[index,0]\n",
    "    vy_cm[i] = disk_vel[index,1]\n",
    "    vz_cm[i] = disk_vel[index,2]"
   ]
  },
  {
   "cell_type": "code",
   "execution_count": 144,
   "metadata": {
    "collapsed": false
   },
   "outputs": [],
   "source": [
    "def cm(x, y, z, vx, vy, vz):\n",
    "    xcm = np.sum(x) / len(x)\n",
    "    ycm = np.sum(y) / len(y)\n",
    "    zcm = np.sum(z) / len(z)\n",
    "    vxcm = np.sum(vx) / len(vx)\n",
    "    vycm = np.sum(vy) / len(vy)\n",
    "    vzcm = np.sum(vz) / len(vz)\n",
    "    return xcm, ycm, zcm, vxcm, vycm, vzcm"
   ]
  },
  {
   "cell_type": "code",
   "execution_count": 145,
   "metadata": {
    "collapsed": false
   },
   "outputs": [],
   "source": [
    "xcm, ycm, zcm, vxcm, vycm, vzcm = cm(x_cm, y_cm, z_cm, vx_cm, vy_cm, vz_cm)"
   ]
  },
  {
   "cell_type": "code",
   "execution_count": 146,
   "metadata": {
    "collapsed": false
   },
   "outputs": [
    {
     "data": {
      "text/plain": [
       "<matplotlib.collections.PathCollection at 0x7f14e5c59350>"
      ]
     },
     "execution_count": 146,
     "metadata": {},
     "output_type": "execute_result"
    }
   ],
   "source": [
    "scatter(disk_pos[:,1], disk_pos[:, 2], s=0.1)\n",
    "scatter(y_cm, z_cm)\n"
   ]
  },
  {
   "cell_type": "code",
   "execution_count": 147,
   "metadata": {
    "collapsed": false
   },
   "outputs": [],
   "source": [
    "disk_cut = np.where((np.abs(disk_pos[:,0]-xcm)<40) & (np.abs(disk_pos[:,1]-ycm)<40) & (np.abs(disk_pos[:,2]-zcm)<10))[0]"
   ]
  },
  {
   "cell_type": "code",
   "execution_count": 148,
   "metadata": {
    "collapsed": false
   },
   "outputs": [],
   "source": [
    "X_d = disk_pos[disk_cut,0] - xcm\n",
    "Y_d = disk_pos[disk_cut,1] - ycm\n",
    "Z_d = disk_pos[disk_cut,2] - zcm\n",
    "\n",
    "Vx_d = disk_vel[disk_cut,0] - vxcm\n",
    "Vy_d = disk_vel[disk_cut,1] - vycm\n",
    "Vz_d = disk_vel[disk_cut,2] - vzcm\n",
    "\n",
    "XYZ_d = np.zeros((len(X_d), 3))\n",
    "XYZ_d[:,0] = X_d\n",
    "XYZ_d[:,1] = Y_d\n",
    "XYZ_d[:,2] = Z_d\n",
    "\n",
    "vXYZ_d = np.zeros((len(X_d), 3))\n",
    "vXYZ_d[:,0] = Vx_d\n",
    "vXYZ_d[:,1] = Vy_d\n",
    "vXYZ_d[:,2] = Vz_d"
   ]
  },
  {
   "cell_type": "code",
   "execution_count": 149,
   "metadata": {
    "collapsed": false
   },
   "outputs": [
    {
     "data": {
      "text/plain": [
       "<matplotlib.collections.PathCollection at 0x7f14e59b6d10>"
      ]
     },
     "execution_count": 149,
     "metadata": {},
     "output_type": "execute_result"
    }
   ],
   "source": [
    "subplot(1, 2, 1)\n",
    "scatter(Y_d, Z_d, s=0.1)\n",
    "axis('equal')\n",
    "\n",
    "subplot(1, 2, 2)\n",
    "scatter(XYZ_d[:,0], XYZ_d[:,1], s=0.1)\n",
    "\n",
    "#xlim(-30, 30)\n",
    "#ylim(-20, 0)"
   ]
  },
  {
   "cell_type": "code",
   "execution_count": 58,
   "metadata": {
    "collapsed": false
   },
   "outputs": [],
   "source": [
    "#disk_dens = density.grid(X_d, Y_d, Z_d, 50)"
   ]
  },
  {
   "cell_type": "code",
   "execution_count": 59,
   "metadata": {
    "collapsed": false
   },
   "outputs": [],
   "source": [
    "#imshow(np.log10(disk_dens.T), origin='lower', cmap='viridis')"
   ]
  },
  {
   "cell_type": "code",
   "execution_count": 49,
   "metadata": {
    "collapsed": true
   },
   "outputs": [],
   "source": [
    "disk_densYZ = density.grid(Y_d, Z_d, X_d, 100)"
   ]
  },
  {
   "cell_type": "code",
   "execution_count": 61,
   "metadata": {
    "collapsed": false
   },
   "outputs": [],
   "source": [
    "#imshow(np.log10(disk_densYZ.T), origin='lower', cmap='viridis')\n",
    "#xlim(50, 80)\n",
    "#ylim(20, 50)"
   ]
  },
  {
   "cell_type": "code",
   "execution_count": 133,
   "metadata": {
    "collapsed": true
   },
   "outputs": [],
   "source": [
    "def angular_m(xyz, vxyz):\n",
    "    r_c_p = ([np.cross(xyz[i], vxyz[i]) for i in range(len(xyz))])\n",
    "    J_x_i = np.zeros(len(r_c_p))\n",
    "    J_y_i = np.zeros(len(r_c_p))\n",
    "    J_z_i = np.zeros(len(r_c_p))\n",
    "    for i in range(len(r_c_p)):\n",
    "        J_x_i[i] = r_c_p[i][0]\n",
    "        J_y_i[i] = r_c_p[i][1]\n",
    "        J_z_i[i] = r_c_p[i][2]\n",
    "    J_x = np.sum(J_x_i)\n",
    "    J_y = np.sum(J_y_i)\n",
    "    J_z = np.sum(J_z_i)\n",
    "    J = np.array([J_x, J_y, J_z])\n",
    "    return J/ linalg.norm(J) "
   ]
  },
  {
   "cell_type": "code",
   "execution_count": 134,
   "metadata": {
    "collapsed": false
   },
   "outputs": [
    {
     "name": "stdout",
     "output_type": "stream",
     "text": [
      "1.56712983206\n"
     ]
    }
   ],
   "source": [
    "R = np.sqrt(XYZ_d[:,0]**2.0 + XYZ_d[:,1]**2.0)\n",
    "part_select = np.where((np.abs(R)<40) & (np.abs(XYZ_d[:,2])<10))[0]\n",
    "J_t = angular_m(XYZ_d[part_select], vXYZ_d[part_select])\n",
    "phi = np.arccos(J_t[0] / linalg.norm(J_t))\n",
    "print phi\n",
    "    "
   ]
  },
  {
   "cell_type": "code",
   "execution_count": 135,
   "metadata": {
    "collapsed": false
   },
   "outputs": [
    {
     "data": {
      "text/plain": [
       "89.789925325798521"
      ]
     },
     "execution_count": 135,
     "metadata": {},
     "output_type": "execute_result"
    }
   ],
   "source": [
    "rad2deg(phi)"
   ]
  },
  {
   "cell_type": "code",
   "execution_count": 110,
   "metadata": {
    "collapsed": false
   },
   "outputs": [
    {
     "data": {
      "text/plain": [
       "89.830361662408748"
      ]
     },
     "execution_count": 110,
     "metadata": {},
     "output_type": "execute_result"
    }
   ],
   "source": [
    "phi*180 / (np.pi)"
   ]
  },
  {
   "cell_type": "code",
   "execution_count": 21,
   "metadata": {
    "collapsed": false
   },
   "outputs": [
    {
     "data": {
      "text/plain": [
       "(-30, 30)"
      ]
     },
     "execution_count": 21,
     "metadata": {},
     "output_type": "execute_result"
    }
   ],
   "source": [
    "fig = plt.figure()\n",
    "ax = fig.add_subplot(111, projection='3d')\n",
    "a = Arrow3D([0,J[0]],[0,J[1]],[0,J[2]], mutation_scale=20, lw=1, arrowstyle=\"-|>\", color=\"k\", linestyle=\"dashed\")\n",
    "ax.scatter3D(XYZ_d[:,0], XYZ_d[:,1], XYZ_d[:,2], s=0.1)\n",
    "ax.add_artist(a)\n",
    "ax.set_zlim(-20, 20)\n",
    "ax.set_ylim(-30, 30)\n",
    "ax.set_xlim(-30, 30)"
   ]
  },
  {
   "cell_type": "code",
   "execution_count": 22,
   "metadata": {
    "collapsed": false
   },
   "outputs": [
    {
     "data": {
      "text/plain": [
       "<matplotlib.collections.PathCollection at 0x7f14e2180910>"
      ]
     },
     "execution_count": 22,
     "metadata": {},
     "output_type": "execute_result"
    }
   ],
   "source": [
    "scatter(XYZ_d[:,1], XYZ_d[:,2], s=0.1)"
   ]
  },
  {
   "cell_type": "markdown",
   "metadata": {},
   "source": [
    "# h measurement\n",
    "\n",
    "## Using eq. 7 of Levine 2006"
   ]
  },
  {
   "cell_type": "code",
   "execution_count": 150,
   "metadata": {
    "collapsed": false
   },
   "outputs": [],
   "source": [
    "def mean_z(x, y, z):\n",
    "    Nx = 2*(max(x) - min(x))\n",
    "    Ny = 2*(max(y) - min(y))\n",
    "    print Nx, Ny\n",
    "    x_grid = np.linspace(min(x), max(x), int(Nx))\n",
    "    y_grid = np.linspace(min(y), max(y), int(Ny))\n",
    "    z_mean = np.zeros((Nx, Ny))\n",
    "    for i in range(1,len(x_grid)):\n",
    "        for j in range(1,len(y_grid)):\n",
    "            z_cut = np.where(((x-x_grid[i])**2.0 +(y-y_grid[j])**2.0)<1.0)[0]\n",
    "            z_mean[i][j] = np.mean(z[z_cut])\n",
    "    return z_mean\n",
    "            "
   ]
  },
  {
   "cell_type": "code",
   "execution_count": 151,
   "metadata": {
    "collapsed": false
   },
   "outputs": [
    {
     "name": "stdout",
     "output_type": "stream",
     "text": [
      "153.107559204 155.437446594\n"
     ]
    }
   ],
   "source": [
    "Z_test = mean_z(XYZ_d[:,0], XYZ_d[:,1], XYZ_d[:,2])"
   ]
  },
  {
   "cell_type": "code",
   "execution_count": 154,
   "metadata": {
    "collapsed": false
   },
   "outputs": [
    {
     "data": {
      "text/plain": [
       "<matplotlib.colorbar.Colorbar at 0x7f14e4dfd290>"
      ]
     },
     "execution_count": 154,
     "metadata": {},
     "output_type": "execute_result"
    }
   ],
   "source": [
    "imshow((Z_test), cmap='viridis')\n",
    "colorbar()"
   ]
  },
  {
   "cell_type": "code",
   "execution_count": 181,
   "metadata": {
    "collapsed": true
   },
   "outputs": [],
   "source": [
    "def rho_disk(x, y, z, delta):\n",
    "    x_grid = np.linspace(min(x), max(x), delta)\n",
    "    y_grid = np.linspace(min(y), max(y), delta)\n",
    "    z_grid = np.linspace(min(z), max(z), delta)\n",
    "    rho_weight = np.zeros((delta, delta))\n",
    "    rho = np.zeros(delta)\n",
    "    for i in range(1,len(x_grid)):\n",
    "        for j in range(1,len(y_grid)):\n",
    "            for k in range(1,len(z_grid)):\n",
    "                index = np.where((x<x_grid[i]) & (x>x_grid[i-1]) & (y<y_grid[j]) & (y>y_grid[j-1]) & (z<z_grid[k]) & (z>z_grid[k-1]))[0]\n",
    "                N = len(index)\n",
    "                rho[k] = N / delta**2.0 * z[k] \n",
    "            rho_weight[i][j] = sum(rho)\n",
    "    return rho_weight"
   ]
  },
  {
   "cell_type": "code",
   "execution_count": 170,
   "metadata": {
    "collapsed": false
   },
   "outputs": [],
   "source": [
    "rho_t = rho_disk(XYZ_d[:,0], XYZ_d[:,1], XYZ_d[:,2], 50)"
   ]
  },
  {
   "cell_type": "code",
   "execution_count": 171,
   "metadata": {
    "collapsed": false
   },
   "outputs": [
    {
     "data": {
      "text/plain": [
       "<matplotlib.image.AxesImage at 0x7f14e24f1410>"
      ]
     },
     "execution_count": 171,
     "metadata": {},
     "output_type": "execute_result"
    }
   ],
   "source": [
    "imshow(rho_t[:,18,:])"
   ]
  },
  {
   "cell_type": "code",
   "execution_count": 178,
   "metadata": {
    "collapsed": true
   },
   "outputs": [],
   "source": [
    "def sigma(x, y, z, delta):\n",
    "    x_grid = np.linspace(min(x), max(x), delta)\n",
    "    y_grid = np.linspace(min(y), max(y), delta)\n",
    "    S = np.zeros((delta, delta))\n",
    "    for i in range(1,len(x_grid)):\n",
    "        for j in range(1,len(y_grid)):\n",
    "            index = np.where((x<x_grid[i]) & (x>x_grid[i-1]) & (y<y_grid[j]) & (y>y_grid[j-1]))[0]\n",
    "            N = len(index)\n",
    "            S[i][j] = N / delta**2.0 \n",
    "    return S\n",
    "    \n",
    "    "
   ]
  },
  {
   "cell_type": "code",
   "execution_count": 192,
   "metadata": {
    "collapsed": false
   },
   "outputs": [],
   "source": [
    "sigma_t = sigma(XYZ_d[:,0], XYZ_d[:,1], XYZ_d[:,2], 500)"
   ]
  },
  {
   "cell_type": "code",
   "execution_count": 193,
   "metadata": {
    "collapsed": false
   },
   "outputs": [
    {
     "data": {
      "text/plain": [
       "<matplotlib.image.AxesImage at 0x7f14e110e310>"
      ]
     },
     "execution_count": 193,
     "metadata": {},
     "output_type": "execute_result"
    }
   ],
   "source": [
    "imshow(np.log10(sigma_t), extent=[min(XYZ_d[:,0]), max(XYZ_d[:,0]), min(XYZ_d[:,1]), max(XYZ_d[:,1])], cmap='viridis')"
   ]
  },
  {
   "cell_type": "code",
   "execution_count": null,
   "metadata": {
    "collapsed": true
   },
   "outputs": [],
   "source": []
  }
 ],
 "metadata": {
  "kernelspec": {
   "display_name": "Python 2",
   "language": "python",
   "name": "python2"
  },
  "language_info": {
   "codemirror_mode": {
    "name": "ipython",
    "version": 2
   },
   "file_extension": ".py",
   "mimetype": "text/x-python",
   "name": "python",
   "nbconvert_exporter": "python",
   "pygments_lexer": "ipython2",
   "version": "2.7.6"
  }
 },
 "nbformat": 4,
 "nbformat_minor": 0
}
