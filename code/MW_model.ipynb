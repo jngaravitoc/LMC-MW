{
 "cells": [
  {
   "cell_type": "code",
   "execution_count": 1,
   "metadata": {
    "collapsed": false
   },
   "outputs": [
    {
     "name": "stdout",
     "output_type": "stream",
     "text": [
      "Populating the interactive namespace from numpy and matplotlib\n"
     ]
    },
    {
     "name": "stderr",
     "output_type": "stream",
     "text": [
      "/usr/local/lib/python2.7/dist-packages/IPython/kernel/__init__.py:13: ShimWarning: The `IPython.kernel` package has been deprecated. You should import from ipykernel or jupyter_client instead.\n",
      "  \"You should import from ipykernel or jupyter_client instead.\", ShimWarning)\n"
     ]
    }
   ],
   "source": [
    "%pylab inline\n",
    "from astropy import units\n",
    "from astropy import constants\n",
    "from cosmotools import rvir, rvir2\n",
    "from profiles import *\n",
    "import os.path"
   ]
  },
  {
   "cell_type": "code",
   "execution_count": 2,
   "metadata": {
    "collapsed": true
   },
   "outputs": [],
   "source": [
    "font = {'size':13, 'family':'serif'}\n",
    "matplotlib.rc('font', **font)"
   ]
  },
  {
   "cell_type": "code",
   "execution_count": 3,
   "metadata": {
    "collapsed": false
   },
   "outputs": [
    {
     "name": "stdout",
     "output_type": "stream",
     "text": [
      "2.26854523e-18 1 / s\n",
      "4.51835939627e-39 kpc3 / (s2 solMass) 2.19724835826e-18 1 / s\n"
     ]
    }
   ],
   "source": [
    "# Constants\n",
    "h = 0.7\n",
    "H = 67.8 * units.km / units.s / units.Mpc\n",
    "H_code = 3.2407789E-18  / units.s * 0.7\n",
    "print H_code\n",
    "print G, H.to(1/units.s)"
   ]
  },
  {
   "cell_type": "markdown",
   "metadata": {},
   "source": [
    "Here we model of the MW, our first model is for a MW of mass $ M_{vir}=1E12 M\\odot$.\n",
    "The MW have a bulge a disk and dark matter halo:\n",
    "\n",
    "- The MW Bulge have a mass of $M_b = 1E10 M\\odot$ this is modeled with a \n",
    "Hernquist profile with scale length $r_b = 0.7 kpc$.\n",
    "\n",
    "- The disk of the MW have a mass of $M_d = 6.5E10 M\\odot$ and is modeled as ...\n",
    "\n",
    "- The Dark Matter halo have a total mass of $M_h = M_{vir} - M_d - M_b$\n",
    "\n",
    "\n",
    "$M_h = M_{vir} - M_b - M_d =  1E12 - 6.5E10 - 1E10 = 9.25E11 M\\odot$"
   ]
  },
  {
   "cell_type": "markdown",
   "metadata": {},
   "source": [
    "## MW dark matter halo model:"
   ]
  },
  {
   "cell_type": "code",
   "execution_count": 4,
   "metadata": {
    "collapsed": true
   },
   "outputs": [],
   "source": [
    "def halo_c(M):# from http://adsabs.harvard.edu/abs/2011ApJ...740..102K eq.11\n",
    "    h = 0.7\n",
    "    C = 9.60 * (M * h/ 1E12)**(-0.075)\n",
    "    return C"
   ]
  },
  {
   "cell_type": "code",
   "execution_count": 5,
   "metadata": {
    "collapsed": false
   },
   "outputs": [
    {
     "name": "stdout",
     "output_type": "stream",
     "text": [
      "123.440349114 km / s 261.161595307 kpc\n"
     ]
    }
   ],
   "source": [
    "V = (9.25E11*units.Msun * H * G * sqrt(48.6) )**(1.0/3.0)\n",
    "V = V.to(units.km/units.s)\n",
    "R = V /(sqrt(48.6) * H)\n",
    "print V, R.to(units.kpc)"
   ]
  },
  {
   "cell_type": "code",
   "execution_count": 6,
   "metadata": {
    "collapsed": false
   },
   "outputs": [
    {
     "name": "stdout",
     "output_type": "stream",
     "text": [
      "359.295478591 1.29448373621e+41 km2 solMass / (kpc3 Mpc2)\n",
      "9.91809468574 255.827582235 kpc 253.794929639 kpc\n",
      "25.7940249958 kpc 25.5890811371 kpc\n"
     ]
    }
   ],
   "source": [
    "MW_halo_c = halo_c(9.25E11)\n",
    "MW_halo_rvir = rvir(9.25E11, 0)\n",
    "MW_halo_rvir2 = rvir2(9.25E11, 0)\n",
    "\n",
    "R_H1 = MW_halo_rvir / MW_halo_c \n",
    "R_H2 = MW_halo_rvir2 / MW_halo_c \n",
    "\n",
    "\n",
    "print MW_halo_c, MW_halo_rvir, MW_halo_rvir2\n",
    "\n",
    "print R_H1, R_H2\n",
    "\n",
    "\n",
    "RRR =  (9.25E11 * units.Msun * 2 * G / (360 * 0.27 * H**2))**(1/3.0)\n",
    "RRR = RRR.to(units.kpc)"
   ]
  },
  {
   "cell_type": "code",
   "execution_count": 7,
   "metadata": {
    "collapsed": false
   },
   "outputs": [
    {
     "name": "stdout",
     "output_type": "stream",
     "text": [
      "This code assume that your initial parameters are Mvir(NFW), Rvir(NFW) and Rs(NFW)\r\n",
      "Vvir (NFW) 124.761304185 km / s\r\n",
      "cvir(NFW) =  9.91809341855\r\n",
      "c200(NFW) =  7.35181015043\r\n",
      "a200 =  51.752210497\r\n",
      "avir =  53.7355719714\r\n",
      "M200 =  775328754038.0\r\n",
      "M_h_200 =  1.25626028938e+12\r\n",
      "M_h_vir =  1.3543957259e+12\r\n",
      "v_h_200 =  155.818789977 km / s\r\n",
      "v_h_vir =  141.671074105 km / s\r\n",
      "a_200 Volker =  55.5392687371 kpc\r\n"
     ]
    }
   ],
   "source": [
    "!python GalIC_input.py 9.25E11 255.8275 25.79402"
   ]
  },
  {
   "cell_type": "code",
   "execution_count": 8,
   "metadata": {
    "collapsed": true
   },
   "outputs": [],
   "source": [
    "M_halo_hern =  1.3543957259E12\n",
    "a_halo = 53.7355719714"
   ]
  },
  {
   "cell_type": "code",
   "execution_count": 9,
   "metadata": {
    "collapsed": true
   },
   "outputs": [],
   "source": [
    "r10 = linspace(0, 10, 100)\n",
    "r20 = linspace(0, 20, 100)\n",
    "r30 = linspace(0, 30, 100)\n",
    "r50 = linspace(0, 50, 100)\n",
    "r100 = linspace(0, 100, 100)\n",
    "r280 = linspace(0, 280, 100)"
   ]
  },
  {
   "cell_type": "code",
   "execution_count": 10,
   "metadata": {
    "collapsed": false
   },
   "outputs": [
    {
     "name": "stderr",
     "output_type": "stream",
     "text": [
      "/usr/local/lib/python2.7/dist-packages/astropy/units/quantity.py:785: RuntimeWarning: divide by zero encountered in true_divide\n",
      "  return super(Quantity, self).__truediv__(other)\n"
     ]
    }
   ],
   "source": [
    "teo_mass = mass_hernquist(a_halo ,r20, M_halo_hern)\n",
    "teo_mass260 = mass_hernquist(a_halo ,r280, M_halo_hern)\n",
    "\n",
    "teo_den = dens_hernquist(a_halo, r20, M_halo_hern)\n",
    "teo_den260 = dens_hernquist(a_halo, r280, M_halo_hern)\n",
    "\n",
    "\n",
    "teo_vc = vc_hernquist(a_halo, r20, 0, 0, M_halo_hern)\n",
    "teo_vc30 = vc_hernquist(a_halo, r30, 0, 0, M_halo_hern)\n",
    "teo_vc260 = vc_hernquist(a_halo, r280, 0, 0, M_halo_hern)\n",
    "teo_vc260_volk = vc_hernquist(55.525, r280, 0, 0, M_halo_hern)"
   ]
  },
  {
   "cell_type": "code",
   "execution_count": 11,
   "metadata": {
    "collapsed": false
   },
   "outputs": [
    {
     "name": "stdout",
     "output_type": "stream",
     "text": [
      "chervin =  1.32771428571e+12 40.1565714286\n"
     ]
    }
   ],
   "source": [
    "# Models\n",
    "#-----------------------------------------\n",
    "M_chervin_halo = 92.94E10 / h # from lsf.out of GalIC 200\n",
    "A_chervin_halo = 28.1096 / h  # 200\n",
    "print \"chervin = \", M_chervin_halo, A_chervin_halo"
   ]
  },
  {
   "cell_type": "markdown",
   "metadata": {},
   "source": [
    "# Data from simulations"
   ]
  },
  {
   "cell_type": "code",
   "execution_count": 12,
   "metadata": {
    "collapsed": false
   },
   "outputs": [
    {
     "ename": "IOError",
     "evalue": "[Errno 2] No such file or directory: '../ICs/MW_models/MW1/rotcurve.txt'",
     "output_type": "error",
     "traceback": [
      "\u001b[1;31m---------------------------------------------------------------------------\u001b[0m",
      "\u001b[1;31mIOError\u001b[0m                                   Traceback (most recent call last)",
      "\u001b[1;32m<ipython-input-12-9cb8471717df>\u001b[0m in \u001b[0;36m<module>\u001b[1;34m()\u001b[0m\n\u001b[0;32m      1\u001b[0m \u001b[0mIC_chervin\u001b[0m \u001b[1;33m=\u001b[0m \u001b[0mloadtxt\u001b[0m\u001b[1;33m(\u001b[0m\u001b[1;34m'../ICs/MW_models/MW1/chevin_rotcurve.txt'\u001b[0m\u001b[1;33m,\u001b[0m \u001b[0mskiprows\u001b[0m\u001b[1;33m=\u001b[0m\u001b[1;36m1\u001b[0m\u001b[1;33m)\u001b[0m\u001b[1;33m\u001b[0m\u001b[0m\n\u001b[0;32m      2\u001b[0m \u001b[0mIC_hack\u001b[0m \u001b[1;33m=\u001b[0m \u001b[0mloadtxt\u001b[0m\u001b[1;33m(\u001b[0m\u001b[1;34m'../ICs/MW_models/MW1/MW1_rotcurve.txt'\u001b[0m\u001b[1;33m,\u001b[0m \u001b[0mskiprows\u001b[0m\u001b[1;33m=\u001b[0m\u001b[1;36m1\u001b[0m\u001b[1;33m)\u001b[0m\u001b[1;33m\u001b[0m\u001b[0m\n\u001b[1;32m----> 3\u001b[1;33m \u001b[0mIC_MW\u001b[0m \u001b[1;33m=\u001b[0m \u001b[0mloadtxt\u001b[0m\u001b[1;33m(\u001b[0m\u001b[1;34m'../ICs/MW_models/MW1/rotcurve.txt'\u001b[0m\u001b[1;33m,\u001b[0m \u001b[0mskiprows\u001b[0m\u001b[1;33m=\u001b[0m\u001b[1;36m1\u001b[0m\u001b[1;33m)\u001b[0m\u001b[1;33m\u001b[0m\u001b[0m\n\u001b[0m",
      "\u001b[1;32m/usr/lib/python2.7/dist-packages/numpy/lib/npyio.pyc\u001b[0m in \u001b[0;36mloadtxt\u001b[1;34m(fname, dtype, comments, delimiter, converters, skiprows, usecols, unpack, ndmin)\u001b[0m\n\u001b[0;32m    732\u001b[0m                 \u001b[0mfh\u001b[0m \u001b[1;33m=\u001b[0m \u001b[0miter\u001b[0m\u001b[1;33m(\u001b[0m\u001b[0mbz2\u001b[0m\u001b[1;33m.\u001b[0m\u001b[0mBZ2File\u001b[0m\u001b[1;33m(\u001b[0m\u001b[0mfname\u001b[0m\u001b[1;33m)\u001b[0m\u001b[1;33m)\u001b[0m\u001b[1;33m\u001b[0m\u001b[0m\n\u001b[0;32m    733\u001b[0m             \u001b[1;32melif\u001b[0m \u001b[0msys\u001b[0m\u001b[1;33m.\u001b[0m\u001b[0mversion_info\u001b[0m\u001b[1;33m[\u001b[0m\u001b[1;36m0\u001b[0m\u001b[1;33m]\u001b[0m \u001b[1;33m==\u001b[0m \u001b[1;36m2\u001b[0m\u001b[1;33m:\u001b[0m\u001b[1;33m\u001b[0m\u001b[0m\n\u001b[1;32m--> 734\u001b[1;33m                 \u001b[0mfh\u001b[0m \u001b[1;33m=\u001b[0m \u001b[0miter\u001b[0m\u001b[1;33m(\u001b[0m\u001b[0mopen\u001b[0m\u001b[1;33m(\u001b[0m\u001b[0mfname\u001b[0m\u001b[1;33m,\u001b[0m \u001b[1;34m'U'\u001b[0m\u001b[1;33m)\u001b[0m\u001b[1;33m)\u001b[0m\u001b[1;33m\u001b[0m\u001b[0m\n\u001b[0m\u001b[0;32m    735\u001b[0m             \u001b[1;32melse\u001b[0m\u001b[1;33m:\u001b[0m\u001b[1;33m\u001b[0m\u001b[0m\n\u001b[0;32m    736\u001b[0m                 \u001b[0mfh\u001b[0m \u001b[1;33m=\u001b[0m \u001b[0miter\u001b[0m\u001b[1;33m(\u001b[0m\u001b[0mopen\u001b[0m\u001b[1;33m(\u001b[0m\u001b[0mfname\u001b[0m\u001b[1;33m)\u001b[0m\u001b[1;33m)\u001b[0m\u001b[1;33m\u001b[0m\u001b[0m\n",
      "\u001b[1;31mIOError\u001b[0m: [Errno 2] No such file or directory: '../ICs/MW_models/MW1/rotcurve.txt'"
     ]
    }
   ],
   "source": [
    "IC_chervin = loadtxt('../ICs/MW_models/MW1/chevin_rotcurve.txt', skiprows=1)\n",
    "IC_hack = loadtxt('../ICs/MW_models/MW1/MW1_rotcurve.txt', skiprows=1)\n",
    "IC_MW = loadtxt('../ICs/MW_models/MW1/rotcurve.txt', skiprows=1)"
   ]
  },
  {
   "cell_type": "code",
   "execution_count": 13,
   "metadata": {
    "collapsed": false
   },
   "outputs": [],
   "source": [
    "vc_chervin_halo = IC_chervin[:,2]\n",
    "vc_chervin_MW = IC_chervin[:,1]\n",
    "#vc_MW = IC_MW[:,1]\n",
    "#vc_MW_halo = IC_MW[:,2]\n",
    "#vc_MW_r = IC_MW[:,0] / h\n",
    "\n",
    "r = IC_chervin[:,0] / h\n",
    "#vc_hack_halo = IC_hack[:,1]\n",
    "#r2 = IC_hack[:,0] / h "
   ]
  },
  {
   "cell_type": "code",
   "execution_count": 14,
   "metadata": {
    "collapsed": false
   },
   "outputs": [
    {
     "data": {
      "text/plain": [
       "<matplotlib.lines.Line2D at 0x7f14b9394c50>"
      ]
     },
     "execution_count": 14,
     "metadata": {},
     "output_type": "execute_result"
    },
    {
     "data": {
      "image/png": "[encoded data removed]",
      "text/plain": [
       "<matplotlib.figure.Figure at 0x7f14b93a4e10>"
      ]
     },
     "metadata": {},
     "output_type": "display_data"
    }
   ],
   "source": [
    "figure(figsize=(8, 6))\n",
    "plot(r, vc_chervin_halo, lw=2)\n",
    "#plot(r, vc_chervin_MW, lw=2)\n",
    "#plot(r2, vc_hack_halo, lw=2)\n",
    "plot(r280, teo_vc260, lw=2)\n",
    "plot(r280, teo_vc260_volk, lw=2)\n",
    "\n",
    "plot(r30, teo_vc30, lw=2)\n",
    "axhline(170)\n",
    "\n",
    "#plot(r20, vc_teo2, lw=2)\n",
    "#plot(vc_MW_r, vc_MW_halo, lw=2)\n",
    "#plot(vc_MW_r, vc_MW, lw=2)"
   ]
  },
  {
   "cell_type": "code",
   "execution_count": 15,
   "metadata": {
    "collapsed": false
   },
   "outputs": [
    {
     "name": "stdout",
     "output_type": "stream",
     "text": [
      "359.295478591 1.29448373621e+41 km2 solMass / (kpc3 Mpc2)\n"
     ]
    }
   ],
   "source": [
    "mass_MW_NFW = mass_NFW(9.918, r280, 0, 0, 9.25E11)\n",
    "dens_MW_NFW = dens_NFW(9.918, r280, 0, 0, 9.25E11) \n",
    "\n",
    "#mass_MW_chervin =  mass_hernquist(40.15, r,  1.327E12)"
   ]
  },
  {
   "cell_type": "code",
   "execution_count": 16,
   "metadata": {
    "collapsed": false
   },
   "outputs": [
    {
     "data": {
      "image/png": "[encoded data removed]",
      "text/plain": [
       "<matplotlib.figure.Figure at 0x7f14b8a4c790>"
      ]
     },
     "metadata": {},
     "output_type": "display_data"
    }
   ],
   "source": [
    "figure(figsize=(8, 6))\n",
    "plot(r280, teo_mass260, label='Hernquist', lw=2)\n",
    "plot(r280, mass_MW_NFW, label='NFW', lw=2)\n",
    "#plot(r, mass_MW_chervin)\n",
    "axvline(255.82)\n",
    "axhline(9.25E11)\n",
    "legend(loc='best')\n",
    "savefig('../doc/MW_enclosedM.png', bbox_inches='tight')"
   ]
  },
  {
   "cell_type": "code",
   "execution_count": 18,
   "metadata": {
    "collapsed": false
   },
   "outputs": [
    {
     "data": {
      "image/png": "[encoded data removed]",
      "text/plain": [
       "<matplotlib.figure.Figure at 0x7f14b8ac2d10>"
      ]
     },
     "metadata": {},
     "output_type": "display_data"
    }
   ],
   "source": [
    "figure(figsize=(8, 6))\n",
    "plot(r280, log10(teo_den260.value), label='Hernquist', lw=2)\n",
    "plot(r280, log10(dens_MW_NFW.value), label='NFW', lw=2)\n",
    "#plot(r, mass_MW_chervin)\n",
    "#axvline(261)\n",
    "#axhline(1E12)\n",
    "legend(loc='best')\n",
    "#rvir(1E12, 0)\n",
    "savefig('../doc/MW_enclosedRho.png', bbox_inches='tight')"
   ]
  },
  {
   "cell_type": "code",
   "execution_count": null,
   "metadata": {
    "collapsed": true
   },
   "outputs": [],
   "source": []
  }
 ],
 "metadata": {
  "kernelspec": {
   "display_name": "Python 2",
   "language": "python",
   "name": "python2"
  },
  "language_info": {
   "codemirror_mode": {
    "name": "ipython",
    "version": 2
   },
   "file_extension": ".py",
   "mimetype": "text/x-python",
   "name": "python",
   "nbconvert_exporter": "python",
   "pygments_lexer": "ipython2",
   "version": "2.7.6"
  }
 },
 "nbformat": 4,
 "nbformat_minor": 0
}
