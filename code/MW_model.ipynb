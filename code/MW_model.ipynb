{
 "cells": [
  {
   "cell_type": "code",
   "execution_count": 1,
   "metadata": {
    "collapsed": false
   },
   "outputs": [
    {
     "name": "stdout",
     "output_type": "stream",
     "text": [
      "Populating the interactive namespace from numpy and matplotlib\n"
     ]
    },
    {
     "name": "stderr",
     "output_type": "stream",
     "text": [
      "/usr/local/lib/python2.7/dist-packages/IPython/kernel/__init__.py:13: ShimWarning: The `IPython.kernel` package has been deprecated. You should import from ipykernel or jupyter_client instead.\n",
      "  \"You should import from ipykernel or jupyter_client instead.\", ShimWarning)\n"
     ]
    }
   ],
   "source": [
    "%pylab inline\n",
    "from astropy import units\n",
    "from astropy import constants\n",
    "from cosmotools import rvir, rvir2\n",
    "from profiles import *\n",
    "import os.path"
   ]
  },
  {
   "cell_type": "code",
   "execution_count": 2,
   "metadata": {
    "collapsed": true
   },
   "outputs": [],
   "source": [
    "font = {'size':13, 'family':'serif'}\n",
    "matplotlib.rc('font', **font)"
   ]
  },
  {
   "cell_type": "code",
   "execution_count": 6,
   "metadata": {
    "collapsed": false
   },
   "outputs": [
    {
     "name": "stdout",
     "output_type": "stream",
     "text": [
      "4.51835939627e-39 kpc3 / (s2 solMass) 67.8 km / (Mpc s)\n"
     ]
    }
   ],
   "source": [
    "# Constants\n",
    "h = 0.7\n",
    "H = 67.8 * units.km / units.s / units.Mpc\n",
    "print G, H"
   ]
  },
  {
   "cell_type": "markdown",
   "metadata": {},
   "source": [
    "Here we model of the MW, our first model is for a MW of mass $ M_{vir}=1E12 M\\odot$.\n",
    "The MW have a bulge a disk and dark matter halo:\n",
    "\n",
    "- The MW Bulge have a mass of $M_b = 1E10 M\\odot$ this is modeled with a \n",
    "Hernquist profile with scale length $r_b = 0.7 kpc$.\n",
    "\n",
    "- The disk of the MW have a mass of $M_d = 6.5E10 M\\odot$ and is modeled as ...\n",
    "\n",
    "- The Dark Matter halo have a total mass of $M_h = M_{vir} - M_d - M_b$\n",
    "\n",
    "\n",
    "$M_h = M_{vir} - M_b - M_d =  1E12 - 6.5E10 - 1E10 = 9.25E11 M\\odot$"
   ]
  },
  {
   "cell_type": "markdown",
   "metadata": {},
   "source": [
    "## MW dark matter halo model:"
   ]
  },
  {
   "cell_type": "code",
   "execution_count": 16,
   "metadata": {
    "collapsed": true
   },
   "outputs": [],
   "source": [
    "def halo_c(M):# from http://adsabs.harvard.edu/abs/2011ApJ...740..102K eq.11\n",
    "    h = 0.7\n",
    "    C = 9.60 * (M * h/ 1E12)**(-0.075)\n",
    "    return C"
   ]
  },
  {
   "cell_type": "code",
   "execution_count": 21,
   "metadata": {
    "collapsed": false
   },
   "outputs": [
    {
     "name": "stdout",
     "output_type": "stream",
     "text": [
      "9.91809468574 254.542265412 kpc 253.480911915 kpc\n",
      "25.664431877 kpc 25.5574200435 kpc\n"
     ]
    }
   ],
   "source": [
    "MW_halo_c = halo_c(9.25E11)\n",
    "MW_halo_rvir = rvir(9.25E11, 0)\n",
    "MW_halo_rvir2 = rvir2(9.25E11, 0)\n",
    "\n",
    "R_H1 = MW_halo_rvir / MW_halo_c \n",
    "R_H2 = MW_halo_rvir2 / MW_halo_c \n",
    "\n",
    "\n",
    "print MW_halo_c, MW_halo_rvir, MW_halo_rvir2\n",
    "\n",
    "print R_H1, R_H2"
   ]
  },
  {
   "cell_type": "code",
   "execution_count": 48,
   "metadata": {
    "collapsed": false
   },
   "outputs": [
    {
     "name": "stdout",
     "output_type": "stream",
     "text": [
      "This code assume that your initial parameters are Mvir(NFW), Rvir(NFW) and Rs(NFW)\r\n",
      "Vvir (NFW) 124.761304185 km / s\r\n",
      "cvir(NFW) =  9.92097455969\r\n",
      "c200(NFW) =  7.35401313818\r\n",
      "a200 =  53.2291765882\r\n",
      "avir =  51.2645234547\r\n",
      "M200 =  775348261197.0\r\n",
      "M_h_200 =  1.25615055293e+12\r\n",
      "M_h_vir =  1.35427649457e+12\r\n",
      "v_h_200 =  155.814252833 km / s\r\n",
      "v_h_vir =  141.666916746 km / s\r\n",
      "a_200 Volker =  55.5251058514 kpc\r\n"
     ]
    }
   ],
   "source": [
    "!python GalIC_input.py 9.25E11 253.4809 25.55"
   ]
  },
  {
   "cell_type": "code",
   "execution_count": 49,
   "metadata": {
    "collapsed": true
   },
   "outputs": [],
   "source": [
    "M_halo_hern =  1.35427649457E12\n",
    "a_halo = 51.2645234547"
   ]
  },
  {
   "cell_type": "code",
   "execution_count": 50,
   "metadata": {
    "collapsed": true
   },
   "outputs": [],
   "source": [
    "r10 = linspace(0, 10, 100)\n",
    "r20 = linspace(0, 20, 100)\n",
    "r50 = linspace(0, 50, 100)\n",
    "r100 = linspace(0, 100, 100)\n",
    "r260 = linspace(0, 260, 100)"
   ]
  },
  {
   "cell_type": "code",
   "execution_count": 51,
   "metadata": {
    "collapsed": false
   },
   "outputs": [],
   "source": [
    "teo_mass = mass_hernquist(a_halo ,r20, M_halo_hern)\n",
    "teo_mass260 = mass_hernquist(a_halo ,r260, M_halo_hern)\n",
    "\n",
    "teo_den = dens_hernquist(a_halo, r20, M_halo_hern)\n",
    "teo_den260 = dens_hernquist(a_halo, r260, M_halo_hern)\n",
    "\n",
    "\n",
    "teo_vc = vc_hernquist(a_halo, r20, 0, 0, M_halo_hern)\n",
    "teo_vc260 = vc_hernquist(a_halo, r260, 0, 0, M_halo_hern)"
   ]
  },
  {
   "cell_type": "code",
   "execution_count": 52,
   "metadata": {
    "collapsed": false
   },
   "outputs": [
    {
     "name": "stdout",
     "output_type": "stream",
     "text": [
      "chervin =  1.32771428571e+12 40.1565714286\n"
     ]
    }
   ],
   "source": [
    "# Models\n",
    "#-----------------------------------------\n",
    "M_chervin_halo = 92.94E10 / h # from lsf.out of GalIC 200\n",
    "A_chervin_halo = 28.1096 / h  # 200\n",
    "print \"chervin = \", M_chervin_halo, A_chervin_halo"
   ]
  },
  {
   "cell_type": "markdown",
   "metadata": {},
   "source": [
    "# Data from simulations"
   ]
  },
  {
   "cell_type": "code",
   "execution_count": 4,
   "metadata": {
    "collapsed": true
   },
   "outputs": [],
   "source": [
    "IC_chervin = loadtxt('../ICs/MW_models/MW1/chevin_rotcurve.txt', skiprows=1)\n",
    "IC_hack = loadtxt('../ICs/MW_models/MW1/MW1_rotcurve.txt', skiprows=1)\n",
    "IC_MW = loadtxt('../ICs/MW_models/MW1/rotcurve.txt', skiprows=1)"
   ]
  },
  {
   "cell_type": "code",
   "execution_count": 53,
   "metadata": {
    "collapsed": false
   },
   "outputs": [],
   "source": [
    "vc_chervin_halo = IC_chervin[:,2]\n",
    "vc_chervin_MW = IC_chervin[:,1]\n",
    "#vc_MW = IC_MW[:,1]\n",
    "#vc_MW_halo = IC_MW[:,2]\n",
    "#vc_MW_r = IC_MW[:,0] / h\n",
    "\n",
    "r = IC_chervin[:,0] / h\n",
    "#vc_hack_halo = IC_hack[:,1]\n",
    "#r2 = IC_hack[:,0] / h "
   ]
  },
  {
   "cell_type": "code",
   "execution_count": 54,
   "metadata": {
    "collapsed": false
   },
   "outputs": [
    {
     "data": {
      "text/plain": [
       "[<matplotlib.lines.Line2D at 0x7f6cc14c0f50>]"
      ]
     },
     "execution_count": 54,
     "metadata": {},
     "output_type": "execute_result"
    },
    {
     "data": {
      "image/png": "[encoded data removed]",
      "text/plain": [
       "<matplotlib.figure.Figure at 0x7f6cc0730a50>"
      ]
     },
     "metadata": {},
     "output_type": "display_data"
    }
   ],
   "source": [
    "figure(figsize=(8, 6))\n",
    "#plot(r, vc_chervin_halo, lw=2)\n",
    "#plot(r, vc_chervin_MW, lw=2)\n",
    "#plot(r2, vc_hack_halo, lw=2)\n",
    "#plot(r260, teo_vc260, lw=2)\n",
    "plot(r20, teo_vc, lw=2)\n",
    "\n",
    "#plot(r20, vc_teo2, lw=2)\n",
    "#plot(vc_MW_r, vc_MW_halo, lw=2)\n",
    "#plot(vc_MW_r, vc_MW, lw=2)"
   ]
  },
  {
   "cell_type": "code",
   "execution_count": 57,
   "metadata": {
    "collapsed": true
   },
   "outputs": [],
   "source": [
    "mass_MW_NFW = mass_NFW(9.9209, r260, 0, 0, 9.25E11)\n",
    "dens_MW_NFW = dens_NFW(9.9209, r260, 0, 0, 9.25E11) \n",
    "\n",
    "#mass_MW_chervin =  mass_hernquist(40.15, r,  1.327E12)"
   ]
  },
  {
   "cell_type": "code",
   "execution_count": 65,
   "metadata": {
    "collapsed": false
   },
   "outputs": [
    {
     "data": {
      "image/png": "[encoded data removed]",
      "text/plain": [
       "<matplotlib.figure.Figure at 0x7f6cbff2e4d0>"
      ]
     },
     "metadata": {},
     "output_type": "display_data"
    }
   ],
   "source": [
    "figure(figsize=(8, 6))\n",
    "plot(r260, teo_mass260, label='Hernquist', lw=2)\n",
    "plot(r260, mass_MW_NFW, label='NFW', lw=2)\n",
    "#plot(r, mass_MW_chervin)\n",
    "#axvline(260)\n",
    "#axhline(9.25E11)\n",
    "legend(loc='best')\n",
    "savefig('../doc/MW_enclosedM.png', bbox_inches='tight')"
   ]
  },
  {
   "cell_type": "code",
   "execution_count": 47,
   "metadata": {
    "collapsed": false
   },
   "outputs": [
    {
     "data": {
      "image/png": "[encoded data removed]",
      "text/plain": [
       "<matplotlib.figure.Figure at 0x7f6cc0423c90>"
      ]
     },
     "metadata": {},
     "output_type": "display_data"
    }
   ],
   "source": [
    "figure(figsize=(8, 6))\n",
    "plot(r260, log10(teo_den260.value), label='Hernquist', lw=2)\n",
    "plot(r260, log10(dens_MW_NFW.value), label='NFW', lw=2)\n",
    "#plot(r, mass_MW_chervin)\n",
    "#axvline(261)\n",
    "#axhline(1E12)\n",
    "legend(loc='best')\n",
    "#rvir(1E12, 0)\n",
    "savefig('../doc/MW_enclosedRho.png', bbox_inches='tight')"
   ]
  },
  {
   "cell_type": "code",
   "execution_count": null,
   "metadata": {
    "collapsed": true
   },
   "outputs": [],
   "source": []
  }
 ],
 "metadata": {
  "kernelspec": {
   "display_name": "Python 2",
   "language": "python",
   "name": "python2"
  },
  "language_info": {
   "codemirror_mode": {
    "name": "ipython",
    "version": 2
   },
   "file_extension": ".py",
   "mimetype": "text/x-python",
   "name": "python",
   "nbconvert_exporter": "python",
   "pygments_lexer": "ipython2",
   "version": "2.7.6"
  }
 },
 "nbformat": 4,
 "nbformat_minor": 0
}
