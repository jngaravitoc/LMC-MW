{
 "cells": [
  {
   "cell_type": "code",
   "execution_count": 3,
   "metadata": {
    "collapsed": false
   },
   "outputs": [
    {
     "name": "stdout",
     "output_type": "stream",
     "text": [
      "Populating the interactive namespace from numpy and matplotlib\n"
     ]
    }
   ],
   "source": [
    "\n",
    "%pylab inline\n",
    "from pygadgetreader import *"
   ]
  },
  {
   "cell_type": "code",
   "execution_count": 30,
   "metadata": {
    "collapsed": true
   },
   "outputs": [],
   "source": [
    "def MW_LMC_particles(xyz, mass, pids, NMW_particles):\n",
    "    \"\"\"\n",
    "    Function that return the MW and the LMC particles\n",
    "    positions and velocities.\n",
    "\n",
    "    Parameters:\n",
    "    -----------\n",
    "    xyz: snapshot coordinates with shape (n,3)\n",
    "    vxys: snapshot velocities with shape (n,3)\n",
    "    pids: particles ids\n",
    "    NMW_particles: Number of MW particles in the snapshot\n",
    "    Returns:\n",
    "    --------\n",
    "    xyz_mw, vxyz_mw, xyzlmc, vxyz_lmc: coordinates and velocities of\n",
    "    the MW and the LMC.\n",
    "\n",
    "    \"\"\"\n",
    "    sort_indexes = np.sort(pids)\n",
    "    N_cut = sort_indexes[NMW_particles]\n",
    "    MW_ids = np.where(pids<N_cut)[0]\n",
    "    LMC_ids = np.where(pids>=N_cut)[0]\n",
    "    return xyz[LMC_ids], mass[LMC_ids]\n",
    "\n",
    "\n",
    "def re_center(pos, cm):\n",
    "    \"\"\"\n",
    "    Re center a halo to its center of mass.\n",
    "    \"\"\"\n",
    "    pos_n = copy(pos)\n",
    "    for i in range(3):\n",
    "        pos_n[:,i] = pos[:,i] - cm[i]\n",
    "    return pos_n\n",
    "\n",
    "def enclosed_mass(pos, mass):\n",
    "    \"\"\"\n",
    "    Computes the enclosed mass of a halo\n",
    "····\n",
    "    \"\"\"\n",
    "    r = (pos[:,0]**2 + pos[:,1]**2 + pos[:,2]**2)**0.5\n",
    "    dr = np.linspace(0.5, 20, 20)\n",
    "    cm = np.zeros(len(dr))\n",
    "    for i in range(len(dr)):\n",
    "        index = np.where(r<dr[i])\n",
    "        cm[i] = np.sum(mass[index])\n",
    "    return dr, cm\n",
    "\n",
    "    \n",
    "    "
   ]
  },
  {
   "cell_type": "markdown",
   "metadata": {},
   "source": [
    "lmc3 = 1.86 , snap 93\n",
    "\n",
    "lmc4 = 2.3, snap 115\n",
    "\n",
    "lmc5 = 2.24, snap 112\n",
    "\n",
    "lmc6 = 2.3, snap 115."
   ]
  },
  {
   "cell_type": "code",
   "execution_count": 33,
   "metadata": {
    "collapsed": false
   },
   "outputs": [],
   "source": [
    "def mr(snap, orbit, num_snap):\n",
    "    path_sims = '/media/ngaravito/4fb4fd3d-1665-4892-a18d-bdbb1185a07b/simulations/LMCMW40M/'\n",
    "    mwlmc_pos_3 = readsnap(path_sims + snap, 'pos', 'dm')\n",
    "    mwlmc_mass_3 = readsnap(path_sims + snap, 'mass', 'dm')\n",
    "    mwlmc_pid_3 = readsnap(path_sims + snap, 'pid', 'dm')\n",
    "    lmc_pos, lmc_mass = MW_LMC_particles(mwlmc_pos_3, mwlmc_mass_3, mwlmc_pid_3, 37500000)\n",
    "    orbit = np.loadtxt('LMC_orbit/orbits/' + orbit)\n",
    "    lmc_pos_cm = re_center(lmc_pos, orbit[num_snap][6:9])\n",
    "    r, cm_r = enclosed_mass(lmc_pos_cm, lmc_mass)\n",
    "    return r, cm_r\n",
    "    \n"
   ]
  },
  {
   "cell_type": "code",
   "execution_count": 34,
   "metadata": {
    "collapsed": false
   },
   "outputs": [
    {
     "name": "stdout",
     "output_type": "stream",
     "text": [
      "Returning DM    Positions\n",
      "Returning DM    Mass\n",
      "Returning DM    Particle IDs\n",
      "Returning DM    Positions\n",
      "Returning DM    Mass\n",
      "Returning DM    Particle IDs\n",
      "Returning DM    Positions\n",
      "Returning DM    Mass\n",
      "Returning DM    Particle IDs\n",
      "Returning DM    Positions\n",
      "Returning DM    Mass\n",
      "Returning DM    Particle IDs\n"
     ]
    }
   ],
   "source": [
    "r3, cm_r3 = mr('MWLMC3/MWLMC3_40M_b0_093' ,'LMC3_40Mb0_orbit.txt', 93)\n",
    "r5, cm_r5 = mr('MWLMC5/MWLMC5_40M_b0_112' ,'LMC5_40Mb0_orbit.txt', 112)\n",
    "r4, cm_r4 = mr('MWLMC4/MWLMC4_40M_b0_115' ,'LMC4_40Mb0_orbit.txt', 115)\n",
    "r6, cm_r6 = mr('MWLMC6/MWLMC6_40M_b0_115' ,'LMC6_40Mb0_orbit.txt', 115)"
   ]
  },
  {
   "cell_type": "code",
   "execution_count": 36,
   "metadata": {
    "collapsed": false
   },
   "outputs": [
    {
     "data": {
      "text/plain": [
       "<matplotlib.legend.Legend at 0x7fa017d32cc0>"
      ]
     },
     "execution_count": 36,
     "metadata": {},
     "output_type": "execute_result"
    },
    {
     "data": {
      "image/png": "[encoded data removed]",
      "text/plain": [
       "<matplotlib.figure.Figure at 0x7fa017c400f0>"
      ]
     },
     "metadata": {},
     "output_type": "display_data"
    }
   ],
   "source": [
    "figure(figsize(7,5))\n",
    "plt.semilogy(r3, cm_r3*1E10, label='$LMC3$')\n",
    "plt.semilogy(r4, cm_r4*1E10, label='$LMC4$')\n",
    "plt.semilogy(r5, cm_r5*1E10, label='$LMC5$')\n",
    "plt.semilogy(r6, cm_r6*1E10, label='$LMC6$')\n",
    "\n",
    "plt.axhline(1.7E10, ls='--', c='k', alpha=0.5)\n",
    "plt.axvline(8.7, ls='--', c='k', alpha=0.5)\n",
    "legend()\n",
    "\n"
   ]
  },
  {
   "cell_type": "code",
   "execution_count": null,
   "metadata": {
    "collapsed": true
   },
   "outputs": [],
   "source": []
  }
 ],
 "metadata": {
  "kernelspec": {
   "display_name": "Python 3",
   "language": "python",
   "name": "python3"
  },
  "language_info": {
   "codemirror_mode": {
    "name": "ipython",
    "version": 3
   },
   "file_extension": ".py",
   "mimetype": "text/x-python",
   "name": "python",
   "nbconvert_exporter": "python",
   "pygments_lexer": "ipython3",
   "version": "3.4.3"
  }
 },
 "nbformat": 4,
 "nbformat_minor": 0
}
