{
 "cells": [
  {
   "cell_type": "markdown",
   "metadata": {},
   "source": [
    "# Notebook to compute the softening lenght and the number of particles of a simulation.\n"
   ]
  },
  {
   "cell_type": "code",
   "execution_count": 1,
   "metadata": {
    "collapsed": false
   },
   "outputs": [
    {
     "name": "stdout",
     "output_type": "stream",
     "text": [
      "Populating the interactive namespace from numpy and matplotlib\n"
     ]
    }
   ],
   "source": [
    "%pylab inline"
   ]
  },
  {
   "cell_type": "markdown",
   "metadata": {},
   "source": [
    "## Things to take into account before runing the N-body simulations.\n",
    "\n",
    "1. The mass of the particles of the Halo has to be equal to those of the disk, the bulge and the LMC.\n",
    "2. Compute the softenig lenght for each simulation resolution."
   ]
  },
  {
   "cell_type": "markdown",
   "metadata": {},
   "source": [
    "### to-do:\n",
    "\n",
    "1. rm the python script and include that function in this notebook.\n",
    "2. "
   ]
  },
  {
   "cell_type": "code",
   "execution_count": 4,
   "metadata": {
    "collapsed": true
   },
   "outputs": [],
   "source": [
    "def N_disk_bulge_particles(N_halo, Mhalo, Mdisk, Mbulge, MLMC):\\\n",
    "    \"\"\"\n",
    "    Compute the number of particles requiered in the disk,\n",
    "    bulge and in the LMC given the mass of the particles \n",
    "    in the DM halo.\n",
    "    \n",
    "    Parameters:\n",
    "    -----------\n",
    "    N_halo: Number of particles in the DM Halo.\n",
    "    Mhalo: Mass of the halo.\n",
    "    Mdisk: Mass of the disk.\n",
    "    Mbulge: Mass of the bulge.\n",
    "    MLMC: Mass of the LMC.\n",
    "    \n",
    "    Returns:\n",
    "    --------\n",
    "    N_disk: Number of particles in the disk.\n",
    "    N_bulge: Number of particles in the bulge.\n",
    "    \n",
    "    \"\"\"\n",
    "    \n",
    "    N_disk = N_halo/Mhalo * Mdisk\n",
    "    N_bulge = N_halo/Mhalo * Mbulge\n",
    "    NLMC = N_halo/Mhalo * MLMC\n",
    "    \n",
    "    return N_disk, N_bulge\n",
    "\n",
    "def inter_particle_distance(N_part, R):\n",
    "    \"\"\"\n",
    "    Compute the inter-particle distance in a sphere\n",
    "    of radius R.        \n",
    "    \"\"\"\n",
    "    \n",
    "    V = 4/3.*np.pi*R**3.0\n",
    "    V_part = V / N_part\n",
    "    d_part = (V_part *3 / (4*np.pi))**(1./3.)\n",
    "    return d_part\n",
    "\n",
    "def optimal_softening(N_part, R):\n",
    "    \"\"\"\n",
    "    Eq 15 Power et al 2003\n",
    "    \"\"\"\n",
    "    e_opt = 4.*R/N_part**0.5\n",
    "    return e_opt"
   ]
  },
  {
   "cell_type": "code",
   "execution_count": 5,
   "metadata": {
    "collapsed": false
   },
   "outputs": [
    {
     "data": {
      "text/plain": [
       "(45833.333333333336, 11250.0)"
      ]
     },
     "execution_count": 5,
     "metadata": {},
     "output_type": "execute_result"
    }
   ],
   "source": [
    "N_disk_bulge_particles(1E6, 1.2E12, 5.5E10, 1.35E10)"
   ]
  },
  {
   "cell_type": "code",
   "execution_count": 3,
   "metadata": {
    "collapsed": false
   },
   "outputs": [
    {
     "name": "stdout",
     "output_type": "stream",
     "text": [
      "Returning DM    Positions\n",
      "3827327\n"
     ]
    }
   ],
   "source": [
    "!python3 virial_radius_particles.py '/media/ngaravito/4fb4fd3d-1665-4892-a18d-bdbb1185a07b/simulations/MW2_5M/MW2-5M_000.hdf5' 278 "
   ]
  },
  {
   "cell_type": "code",
   "execution_count": 18,
   "metadata": {
    "collapsed": false
   },
   "outputs": [
    {
     "data": {
      "text/plain": [
       "0.6698529954119242"
      ]
     },
     "execution_count": 18,
     "metadata": {},
     "output_type": "execute_result"
    }
   ],
   "source": [
    "interparticles_distance(89830797, 300)"
   ]
  },
  {
   "cell_type": "code",
   "execution_count": 10,
   "metadata": {
    "collapsed": false
   },
   "outputs": [
    {
     "data": {
      "text/plain": [
       "0.26928876013259695"
      ]
     },
     "execution_count": 10,
     "metadata": {},
     "output_type": "execute_result"
    }
   ],
   "source": [
    "interparticles_distance(51208885, 100)"
   ]
  },
  {
   "cell_type": "code",
   "execution_count": 11,
   "metadata": {
    "collapsed": false
   },
   "outputs": [
    {
     "data": {
      "text/plain": [
       "0.15920896114889402"
      ]
     },
     "execution_count": 11,
     "metadata": {},
     "output_type": "execute_result"
    }
   ],
   "source": [
    "interparticles_distance(30974727, 50)"
   ]
  },
  {
   "cell_type": "code",
   "execution_count": 17,
   "metadata": {
    "collapsed": false
   },
   "outputs": [
    {
     "data": {
      "text/plain": [
       "0.1266101780753007"
      ]
     },
     "execution_count": 17,
     "metadata": {},
     "output_type": "execute_result"
    }
   ],
   "source": [
    "optimal_softening(89830797, 300)"
   ]
  },
  {
   "cell_type": "code",
   "execution_count": null,
   "metadata": {
    "collapsed": true
   },
   "outputs": [],
   "source": []
  }
 ],
 "metadata": {
  "kernelspec": {
   "display_name": "Python 3",
   "language": "python",
   "name": "python3"
  },
  "language_info": {
   "codemirror_mode": {
    "name": "ipython",
    "version": 3
   },
   "file_extension": ".py",
   "mimetype": "text/x-python",
   "name": "python",
   "nbconvert_exporter": "python",
   "pygments_lexer": "ipython3",
   "version": "3.4.3"
  }
 },
 "nbformat": 4,
 "nbformat_minor": 0
}
