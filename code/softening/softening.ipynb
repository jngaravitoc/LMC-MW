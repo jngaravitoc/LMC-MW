{
 "cells": [
  {
   "cell_type": "markdown",
   "metadata": {},
   "source": [
    "# Notebook to compute the softening lenght and the number of particles of a simulation.\n"
   ]
  },
  {
   "cell_type": "code",
   "execution_count": 1,
   "metadata": {
    "collapsed": false
   },
   "outputs": [
    {
     "name": "stderr",
     "output_type": "stream",
     "text": [
      "/usr/local/lib/python3.4/dist-packages/matplotlib/__init__.py:841: UserWarning: Found matplotlib configuration in ~/.matplotlib/. To conform with the XDG base directory standard, this configuration location has been deprecated on Linux, and the new location is now /home/ngaravito/.config/matplotlib/. Please move your configuration there to ensure that matplotlib will continue to find it in the future.\n",
      "  _get_xdg_config_dir())\n"
     ]
    },
    {
     "name": "stdout",
     "output_type": "stream",
     "text": [
      "Populating the interactive namespace from numpy and matplotlib\n"
     ]
    }
   ],
   "source": [
    "%pylab inline\n",
    "font = {'size':13, 'family':'serif'}\n",
    "matplotlib.rc('font', **font)"
   ]
  },
  {
   "cell_type": "markdown",
   "metadata": {},
   "source": [
    "## Things to take into account before runing the N-body simulations.\n",
    "\n",
    "1. The mass of the particles of the Halo has to be equal to those of the disk, the bulge and the LMC.\n",
    "2. Initialize the halos with the correct number of particles. \n",
    "3. Compute the softenig lenght for each simulation resolution, taking into account that the number of particles inside $R_{200}$"
   ]
  },
  {
   "cell_type": "markdown",
   "metadata": {},
   "source": [
    "### to-do:\n",
    "\n",
    "1. rm the python script and include that function in this notebook.\n",
    "2. "
   ]
  },
  {
   "cell_type": "code",
   "execution_count": 2,
   "metadata": {
    "collapsed": false
   },
   "outputs": [],
   "source": [
    "def N_disk_bulge_particles(N_halo, Mhalo, Mdisk, Mbulge, MLMC):\n",
    "    \"\"\"\n",
    "    Compute the number of particles requiered in the disk,\n",
    "    bulge and in the LMC given the mass of the particles \n",
    "    in the DM halo.\n",
    "    \n",
    "    Parameters:\n",
    "    -----------\n",
    "    N_halo: Number of particles in the DM Halo.\n",
    "    Mhalo: Mass of the halo.\n",
    "    Mdisk: Mass of the disk.\n",
    "    Mbulge: Mass of the bulge.\n",
    "    MLMC: Mass of the LMC.\n",
    "    \n",
    "    Returns:\n",
    "    --------\n",
    "    N_disk: Number of particles in the disk.\n",
    "    N_bulge: Number of particles in the bulge.\n",
    "    \n",
    "    \"\"\"\n",
    "    \n",
    "    N_disk = N_halo/Mhalo * Mdisk\n",
    "    N_bulge = N_halo/Mhalo * Mbulge\n",
    "    NLMC = N_halo/Mhalo * MLMC\n",
    "    \n",
    "    return N_disk, N_bulge, NLMC\n",
    "\n",
    "def inter_particle_distance(N_part, R):\n",
    "    \"\"\"\n",
    "    Compute the inter-particle distance in a sphere\n",
    "    of radius R.        \n",
    "    \"\"\"\n",
    "    \n",
    "    V = 4/3.*np.pi*R**3.0\n",
    "    V_part = V / N_part\n",
    "    d_part = (V_part *3 / (4*np.pi))**(1./3.)\n",
    "    return d_part\n",
    "\n",
    "def optimal_softening(N_part, R200):\n",
    "    \"\"\"\n",
    "    Eq 15 Power et al 2003\n",
    "    \n",
    "    Parameters:\n",
    "    ----------\n",
    "    \n",
    "    N_part : Number of particles inside R\n",
    "    R : R200 \n",
    "    \"\"\"\n",
    "    e_opt = 4.* R200/N_part**0.5\n",
    "    return e_opt"
   ]
  },
  {
   "cell_type": "markdown",
   "metadata": {},
   "source": [
    "| Simulation       | $N_{part}$ DM Halo  | $N_{part}$ Disk | $N_{part}$ Bulge | $N_{part}$ LMC |\n",
    "| ------------- |:-------------:| :-----:| :------: | :-----: | -----: |\n",
    "| MWLMC3 (medium res) | $37.5$M  | $1382310$ | $337500$ | $2M$ |\n",
    "| MWLMC4 (medium res) | $37.5$M  | $1382310$ | $337500$ | $2.5M$ |\n",
    "| MWLMC5 (medium res) | $37.5$M  | $1382310$ | $337500$ | $4.5$M | \n",
    "| MWLMC6 (medium res) | $37.5$M  | $1382310$ | $335220$ | $6.25$M | "
   ]
  },
  {
   "cell_type": "code",
   "execution_count": 5,
   "metadata": {
    "collapsed": false
   },
   "outputs": [
    {
     "data": {
      "text/plain": [
       "(1105848.0, 268176.0, 1600000.0000000002)"
      ]
     },
     "execution_count": 5,
     "metadata": {},
     "output_type": "execute_result"
    }
   ],
   "source": [
    "N_disk_bulge_particles(30E6, 1.5E12, 5.52924E10, 1.34088E10, 0.8E11)"
   ]
  },
  {
   "cell_type": "code",
   "execution_count": 11,
   "metadata": {
    "collapsed": false
   },
   "outputs": [
    {
     "name": "stdout",
     "output_type": "stream",
     "text": [
      "37500000.0\n"
     ]
    }
   ],
   "source": [
    "mp = 5.52924E10 /1382310.\n",
    "Np_halo = 1.5E12 / mp\n",
    "print(Np_halo)"
   ]
  },
  {
   "cell_type": "code",
   "execution_count": 4,
   "metadata": {
    "collapsed": false
   },
   "outputs": [
    {
     "name": "stdout",
     "output_type": "stream",
     "text": [
      "python3: can't open file 'virial_radius_particles.py': [Errno 2] No such file or directory\r\n"
     ]
    }
   ],
   "source": [
    "!python3 virial_radius_particles.py '/media/ngaravito/4fb4fd3d-1665-4892-a18d-bdbb1185a07b/simulations/MW2_5M/MW2-5M_000.hdf5' 278 "
   ]
  },
  {
   "cell_type": "code",
   "execution_count": 5,
   "metadata": {
    "collapsed": false
   },
   "outputs": [
    {
     "data": {
      "text/plain": [
       "<matplotlib.legend.Legend at 0x7f22fd2e8dd8>"
      ]
     },
     "execution_count": 5,
     "metadata": {},
     "output_type": "execute_result"
    },
    {
     "data": {
      "image/png": "[encoded data removed]",
      "text/plain": [
       "<matplotlib.figure.Figure at 0x7f22fd11cc18>"
      ]
     },
     "metadata": {},
     "output_type": "display_data"
    }
   ],
   "source": [
    "n_part = logspace(6, 9)\n",
    "osl = zeros(len(n_part))\n",
    "ipd = zeros(len(n_part))\n",
    "for i in range(len(n_part)):\n",
    "    osl[i] = optimal_softening(n_part[i], 300)\n",
    "    ipd[i] = inter_particle_distance(n_part[i], 300)\n",
    "    \n",
    "semilogx(n_part, osl, label=r'Optimal $\\epsilon$')\n",
    "semilogx(n_part, ipd, label='Inter-particle distance')\n",
    "legend()"
   ]
  },
  {
   "cell_type": "code",
   "execution_count": 7,
   "metadata": {
    "collapsed": false
   },
   "outputs": [
    {
     "data": {
      "text/plain": [
       "0.21908902300206642"
      ]
     },
     "execution_count": 7,
     "metadata": {},
     "output_type": "execute_result"
    }
   ],
   "source": [
    "optimal_softening(30E6, 300)"
   ]
  }
 ],
 "metadata": {
  "kernelspec": {
   "display_name": "Python 3",
   "language": "python",
   "name": "python3"
  },
  "language_info": {
   "codemirror_mode": {
    "name": "ipython",
    "version": 3
   },
   "file_extension": ".py",
   "mimetype": "text/x-python",
   "name": "python",
   "nbconvert_exporter": "python",
   "pygments_lexer": "ipython3",
   "version": "3.4.3"
  }
 },
 "nbformat": 4,
 "nbformat_minor": 0
}
