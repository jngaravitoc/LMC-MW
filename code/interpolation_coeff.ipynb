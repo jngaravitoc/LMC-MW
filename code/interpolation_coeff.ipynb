{
 "cells": [
  {
   "cell_type": "code",
   "execution_count": 262,
   "metadata": {
    "collapsed": false
   },
   "outputs": [
    {
     "name": "stdout",
     "output_type": "stream",
     "text": [
      "Populating the interactive namespace from numpy and matplotlib\n"
     ]
    },
    {
     "name": "stderr",
     "output_type": "stream",
     "text": [
      "WARNING: pylab import has clobbered these variables: ['f']\n",
      "`%matplotlib` prevents importing * from pylab and numpy\n"
     ]
    }
   ],
   "source": [
    "%pylab inline\n",
    "\n",
    "import biff\n",
    "from pygadgetreader import *\n",
    "from astropy import constants\n",
    "from astropy import units\n",
    "from scipy import interpolate\n",
    "from octopus import leapfrog\n",
    "\n",
    "\n",
    "G1 = constants.G\n",
    "G1 = G1.to(units.kpc**3/(units.Msun * units.Gyr**2))\n",
    "\n",
    "G_c = constants.G\n",
    "G_c = G_c.to(units.kiloparsec**3 / (units.s**2 * units.Msun)) # "
   ]
  },
  {
   "cell_type": "code",
   "execution_count": 63,
   "metadata": {
    "collapsed": true
   },
   "outputs": [],
   "source": [
    "font = {'size':16, 'family':'serif'}\n",
    "plt.matplotlib.rc('font', **font)"
   ]
  },
  {
   "cell_type": "code",
   "execution_count": 4,
   "metadata": {
    "collapsed": true
   },
   "outputs": [],
   "source": [
    "## Code taken from (https://github.com/adrn/biff/blob/master/notebooks/Plummer%20test.ipynb)\n",
    "def STnlm(xyz, mass, rs, n_max, l_max):\n",
    "    nmax = n_max\n",
    "    lmax = l_max\n",
    "\n",
    "    Snlm = np.zeros((nmax+1,lmax+1,lmax+1))\n",
    "    Tnlm = np.zeros((nmax+1,lmax+1,lmax+1))\n",
    "\n",
    "    nlms = []\n",
    "\n",
    "    for n in range(nmax+1):\n",
    "        for l in range(lmax+1):\n",
    "            for m in range(l+1):\n",
    "                nlms.append([n,l,m])\n",
    "\n",
    "    for nlm in nlms:\n",
    "        n,l,m = nlm\n",
    "        S,T = biff.compute_coeffs_discrete(np.double(xyz), np.double(mass/100.0), nlm, rs)\n",
    "        Snlm[n,l,m] = S\n",
    "        Tnlm[n,l,m] = T\n",
    "    return Snlm, Tnlm, nlms"
   ]
  },
  {
   "cell_type": "code",
   "execution_count": 99,
   "metadata": {
    "collapsed": true
   },
   "outputs": [],
   "source": [
    "def evaluate_coeff(snap_n, rs, n_max, l_max):\n",
    "    LMCMW_pos = readsnap('../data/LMCMW/MWmLMC6/H1/MWfLMC6H1_{:03d}.hdf5'.format(snap_n), 'pos', 'dm')\n",
    "    LMCMW_mass = readsnap('../data/LMCMW/MWmLMC6/H1/MWfLMC6H1_{:03d}.hdf5'.format(snap_n), 'mass', 'dm')\n",
    "    SMWLMC, TMWLMC, nlmsMWLMC = STnlm(LMCMW_pos, LMCMW_mass, rs, n_max, l_max)\n",
    "    SMWLMC = reshape(SMWLMC, (size(SMWLMC)))\n",
    "    TMWLMC = reshape(TMWLMC, (size(TMWLMC)))\n",
    "    return SMWLMC, TMWLMC"
   ]
  },
  {
   "cell_type": "code",
   "execution_count": 249,
   "metadata": {
    "collapsed": false
   },
   "outputs": [],
   "source": [
    "def ST_interpol(nmax, lmax, n_snap, h, dt_snap):\n",
    "    #n_snap = 8\n",
    "    #nmax = 1\n",
    "    #lmax = 1\n",
    "    #dt_snap = 0.02\n",
    "    #h = 0.001\n",
    "    # Number of coefficients Snlm / Tnlm\n",
    "    n_coeff = ((nmax+1)*(lmax+1)*(lmax+1))\n",
    "    # S, T matrices, rows: time / cols: Number of coefficients\n",
    "    S_matrix = np.zeros((n_snap, n_coeff))\n",
    "    T_matrix = np.zeros((n_snap, n_coeff))\n",
    "\n",
    "    # Filling the matrix with the coefficients form the N-body sim.\n",
    "    for i in range(n_snap):\n",
    "        S_matrix[i], T_matrix[i] = evaluate_coeff(i, 40.3, nmax, lmax)\n",
    "\n",
    "    # time: Time between every snapshot\n",
    "    time = np.linspace(0, dt_snap*(n_snap-1), n_snap)\n",
    "    # N_interp: Number of times in the interpolation (this depent in the resolution of the leapfrog integration h)\n",
    "    N_interp = (dt_snap*(n_snap-1)/h)+1\n",
    "    # t: Time between every time step in the interpolation\n",
    "    t = np.linspace(0, dt_snap*(n_snap-1), N_interp)\n",
    "\n",
    "    #S_matrix_interp: Matrix with the new interpolated Snlm (times, Svalues)\n",
    "    S_matrix_interp = np.zeros((len(t), n_coeff))\n",
    "    T_matrix_interp = np.zeros((len(t), n_coeff))\n",
    "    # Interpolating \n",
    "    for i in range(n_coeff):\n",
    "        fs = interpolate.interp1d(time, S_matrix[:,i], kind='linear')\n",
    "        ft = interpolate.interp1d(time, T_matrix[:,i], kind='linear')\n",
    "        S_matrix_interp[:,i]= fs(t)\n",
    "        T_matrix_interp[:,i]= ft(t)\n",
    "    \n",
    "    S_new = reshape(S_matrix_interp, (N_interp, nmax+1, lmax+1, lmax+1))\n",
    "    T_new = reshape(T_matrix_interp, (N_interp, nmax+1, lmax+1, lmax+1))\n",
    "    \n",
    "    return S_new, T_new\n",
    "    \n"
   ]
  },
  {
   "cell_type": "code",
   "execution_count": 129,
   "metadata": {
    "collapsed": false
   },
   "outputs": [
    {
     "data": {
      "text/plain": [
       "<matplotlib.text.Text at 0x7fb38c5e0f10>"
      ]
     },
     "execution_count": 129,
     "metadata": {},
     "output_type": "execute_result"
    },
    {
     "data": {
      "image/png": "[encoded data removed]",
      "text/plain": [
       "<matplotlib.figure.Figure at 0x7fb38c730f90>"
      ]
     },
     "metadata": {},
     "output_type": "display_data"
    }
   ],
   "source": [
    "figure(figsize=(7, 5))\n",
    "plot(time, S_matrix[:,0], 'o', lw=1.5, c='k', ls='-', label='$\\mathrm{N-body}$')\n",
    "plot(t, S, lw=1.5, c='b', label='$\\mathrm{Interpolation}$')\n",
    "legend(loc='best', fontsize=18)\n",
    "xlabel('$\\mathrm{t(Gyrs)}$', fontsize=25)\n",
    "ylabel('$\\mathrm{S_{1,0,0}}$', fontsize=25)\n"
   ]
  },
  {
   "cell_type": "code",
   "execution_count": 250,
   "metadata": {
    "collapsed": false
   },
   "outputs": [
    {
     "name": "stdout",
     "output_type": "stream",
     "text": [
      "Returning DM    Positions\n",
      "Returning DM    Mass\n",
      "Returning DM    Positions\n",
      "Returning DM    Mass\n"
     ]
    }
   ],
   "source": [
    "S_test, T_test = ST_interpol(1, 1, 2, 0.001, 0.2)"
   ]
  },
  {
   "cell_type": "code",
   "execution_count": 261,
   "metadata": {
    "collapsed": false
   },
   "outputs": [
    {
     "data": {
      "text/plain": [
       "array([[[  1.63004232e+00,   0.00000000e+00],\n",
       "        [  1.80279471e-02,  -1.30883010e-03]],\n",
       "\n",
       "       [[  2.72801892e-02,   0.00000000e+00],\n",
       "        [  1.10641298e-02,  -1.83360879e-03]],\n",
       "\n",
       "       [[  1.05716837e-02,   0.00000000e+00],\n",
       "        [  5.74419581e-03,  -5.01678632e-04]]])"
      ]
     },
     "execution_count": 261,
     "metadata": {},
     "output_type": "execute_result"
    }
   ],
   "source": [
    "S_test[0]"
   ]
  },
  {
   "cell_type": "code",
   "execution_count": 255,
   "metadata": {
    "collapsed": false
   },
   "outputs": [
    {
     "name": "stdout",
     "output_type": "stream",
     "text": [
      "Returning DM    Positions\n",
      "Returning DM    Mass\n"
     ]
    }
   ],
   "source": [
    "LMCMW_pos = readsnap('../data/LMCMW/MWmLMC6/H1/MWfLMC6H1_000.hdf5', 'pos', 'dm')\n",
    "LMCMW_mass = readsnap('../data/LMCMW/MWmLMC6/H1/MWfLMC6H1_000.hdf5', 'mass', 'dm')\n",
    "SMWLMC, TMWLMC, nlmsMWLMC = STnlm(LMCMW_pos, LMCMW_mass, 40.3, 2, 1)"
   ]
  },
  {
   "cell_type": "code",
   "execution_count": 260,
   "metadata": {
    "collapsed": false
   },
   "outputs": [
    {
     "data": {
      "text/plain": [
       "array([[[  1.63004232e+00,   0.00000000e+00],\n",
       "        [  1.80279471e-02,  -1.30883010e-03]],\n",
       "\n",
       "       [[  2.72801892e-02,   0.00000000e+00],\n",
       "        [  1.10641298e-02,  -1.83360879e-03]],\n",
       "\n",
       "       [[  1.05716837e-02,   0.00000000e+00],\n",
       "        [  5.74419581e-03,  -5.01678632e-04]]])"
      ]
     },
     "execution_count": 260,
     "metadata": {},
     "output_type": "execute_result"
    }
   ],
   "source": [
    "SMWLMC"
   ]
  },
  {
   "cell_type": "code",
   "execution_count": 270,
   "metadata": {
    "collapsed": false,
    "scrolled": true
   },
   "outputs": [
    {
     "name": "stdout",
     "output_type": "stream",
     "text": [
      "Returning DM    Positions\n",
      "Returning DM    Mass\n",
      "Returning DM    Positions\n",
      "Returning DM    Mass\n",
      "Returning DM    Positions\n",
      "Returning DM    Mass\n",
      "Returning DM    Positions\n",
      "Returning DM    Mass\n",
      "Returning DM    Positions\n",
      "Returning DM    Mass\n",
      "Returning DM    Positions\n",
      "Returning DM    Mass\n",
      "Returning DM    Positions\n",
      "Returning DM    Mass\n",
      "Returning DM    Positions\n",
      "Returning DM    Mass\n",
      "Returning DM    Positions\n",
      "Returning DM    Mass\n",
      "Returning DM    Positions\n",
      "Returning DM    Mass\n",
      "Returning DM    Positions\n",
      "Returning DM    Mass\n",
      "Returning DM    Positions\n",
      "Returning DM    Mass\n",
      "Returning DM    Positions\n",
      "Returning DM    Mass\n",
      "Returning DM    Positions\n",
      "Returning DM    Mass\n",
      "Returning DM    Positions\n",
      "Returning DM    Mass\n",
      "Returning DM    Positions\n",
      "Returning DM    Mass\n",
      "Returning DM    Positions\n",
      "Returning DM    Mass\n",
      "Returning DM    Positions\n",
      "Returning DM    Mass\n",
      "Returning DM    Positions\n",
      "Returning DM    Mass\n",
      "Returning DM    Positions\n",
      "Returning DM    Mass\n",
      "Returning DM    Positions\n",
      "Returning DM    Mass\n"
     ]
    }
   ],
   "source": [
    "S_1, T_1 = ST_interpol(5, 5, 21, 0.001, 0.2)"
   ]
  },
  {
   "cell_type": "code",
   "execution_count": 271,
   "metadata": {
    "collapsed": false
   },
   "outputs": [],
   "source": [
    "t_hex1_c, x_hex1_c, y_hex1_c, z_hex1_c, vx_hex1_c, vy_hex1_c, vz_hex1_c = leapfrog.integrate_biff_t(0, 10, 0, 100, 0, 0, 0.4, S_1, T_1, 5, 5, G1.value, 1.55E12, 40.85)\n"
   ]
  },
  {
   "cell_type": "code",
   "execution_count": 272,
   "metadata": {
    "collapsed": false
   },
   "outputs": [
    {
     "data": {
      "text/plain": [
       "[<matplotlib.lines.Line2D at 0x7fb38c47aed0>]"
      ]
     },
     "execution_count": 272,
     "metadata": {},
     "output_type": "execute_result"
    },
    {
     "data": {
      "image/png": "[encoded data removed]",
      "text/plain": [
       "<matplotlib.figure.Figure at 0x7fb38c4b20d0>"
      ]
     },
     "metadata": {},
     "output_type": "display_data"
    }
   ],
   "source": [
    "plot(x_hex1_c, y_hex1_c)\n"
   ]
  },
  {
   "cell_type": "code",
   "execution_count": null,
   "metadata": {
    "collapsed": true
   },
   "outputs": [],
   "source": []
  }
 ],
 "metadata": {
  "kernelspec": {
   "display_name": "Python 2",
   "language": "python",
   "name": "python2"
  },
  "language_info": {
   "codemirror_mode": {
    "name": "ipython",
    "version": 2
   },
   "file_extension": ".py",
   "mimetype": "text/x-python",
   "name": "python",
   "nbconvert_exporter": "python",
   "pygments_lexer": "ipython2",
   "version": "2.7.6"
  }
 },
 "nbformat": 4,
 "nbformat_minor": 0
}
