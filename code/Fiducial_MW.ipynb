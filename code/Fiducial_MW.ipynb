{
 "cells": [
  {
   "cell_type": "code",
   "execution_count": 1,
   "metadata": {},
   "outputs": [
    {
     "name": "stdout",
     "output_type": "stream",
     "text": [
      "Populating the interactive namespace from numpy and matplotlib\n"
     ]
    }
   ],
   "source": [
    "%pylab inline\n",
    "from soda.profiles import *\n",
    "from pygadgetreader import *\n",
    "from astropy import constants as const\n",
    "from astropy import units as u\n",
    "\n",
    "font = {'size':18, 'family':'serif'}\n",
    "matplotlib.rc('font', **font)\n",
    "\n",
    "H_code = 2.26854550263e-18/units.s # GalIC value\n"
   ]
  },
  {
   "cell_type": "code",
   "execution_count": null,
   "metadata": {
    "collapsed": true
   },
   "outputs": [],
   "source": []
  },
  {
   "cell_type": "markdown",
   "metadata": {},
   "source": [
    "# Finding a MW model:\n",
    "\n",
    "## 1. Choose a Mvir and C.\n",
    "\n",
    "## 2. Derive the Mh.\n",
    "\n",
    "\\begin{equation}\n",
    "M_h(r) = M_N(r)\n",
    "\\end{equation}\n",
    "\n",
    "\n",
    "\n",
    "\\begin{equation}\n",
    "\\dfrac{M_H r^2}{a^2(1+r/a)^2} = 4 \\pi \\rho_s r_s^3 f(x)\n",
    "\\end{equation}\n",
    "\n",
    "With: $rho_N = \\rho_H$ for $r<<a$ it easy to find that:\n",
    "\n",
    "\\begin{equation}\n",
    "M_H = 2\\pi \\rho_s a^2 r_s\n",
    "\\end{equation}"
   ]
  },
  {
   "cell_type": "code",
   "execution_count": 2,
   "metadata": {
    "collapsed": true
   },
   "outputs": [],
   "source": [
    "# Some useful functions\n",
    "\n",
    "# Method from http://adsabs.harvard.edu/abs/2012ApJ...753....8V\n",
    "def fx(x):\n",
    "    f = np.log(1.+x) - (x / (1. + x))\n",
    "    return f\n",
    "\n",
    "#Computing cvir from c200\n",
    "def c(cvir, c200):\n",
    "    q = 2.058\n",
    "    y = (c200 / cvir) - (fx(c200) / (q * fx(cvir)))**(1./3.)\n",
    "    return y\n",
    "\n",
    "def bissection(cvir):\n",
    "    min_c200 = 0.1\n",
    "    max_c200 = 2*cvir\n",
    "    c_init = 0.5 * (min_c200 + max_c200)\n",
    "    y = c(cvir, c_init)\n",
    "    while abs(y) > 0.0002:\n",
    "        #print c_init\n",
    "        if y>0:\n",
    "            max_c200 = c_init\n",
    "        if y<0:\n",
    "            min_c200 = c_init\n",
    "        c_init = 0.5*(min_c200 + max_c200)\n",
    "        y = c(cvir, c_init)\n",
    "    return c_init\n",
    "\n",
    "# Compouting a/rs using cvir\n",
    "def ars(c):\n",
    "    x = 1 / ((2.0*fx(c))**(-0.5) - (1.0/c)) # Van Der Marel exact solution#\n",
    "    #x2 = np.sqrt(2.0 * (log(1 + c) - c/(1+c))) # springel approx equation\n",
    "    return x\n",
    "\n",
    "# Computing mvir from m200\n",
    "\n",
    "def mh_mvir(ar, c):\n",
    "    \"\"\"\n",
    "    Computes the total hernquist mass\n",
    "    from the virial mass.\n",
    "    \n",
    "    \"\"\"\n",
    "    x = ar**2.0 / (2.0*fx(c)) \n",
    "    return x\n",
    "\n",
    "def M200_Mvir(Mvir, cvir):\n",
    "    c200 = bissection(cvir)\n",
    "    M200 = Mvir * fx(c200) / fx(cvir)\n",
    "    return M200\n",
    "\n",
    "\n",
    "def hernquist_param(cc, Mvir):\n",
    "    '''\n",
    "    Return:\n",
    "    -------\n",
    "    Mh: Equivalent Hernquist Mass\n",
    "    a:  Hernquist scale length \n",
    "    rs: NFW scale length\n",
    "    '''\n",
    "    a_rs = ars(cc)\n",
    "    Mh = m200mvir(a_rs, cc) * Mvir\n",
    "    rs = rvir(Mvir, 0) / cc\n",
    "    a = a_rs * rs\n",
    "    return Mh, a.value, rs.value \n",
    "\n",
    "def vvir_galIC(Mvir):\n",
    "    Mvir = Mvir* units.Msun\n",
    "    G = const.G\n",
    "    v_vir = ((6.9713700231733506 * H_code*G)*Mvir)**(1/3.)\n",
    "    return v_vir.to(units.km/units.s)\n",
    "\n",
    "def Mh_total(CC, Mvir):\n",
    "    \"\"\"\n",
    "    Compute the Hernquist halo parameters and M200, R200.\n",
    "    \"\"\"\n",
    "    # Compoute a_rs ratio\n",
    "    ars_1 = ars(CC)\n",
    "    \n",
    "    # Compute Mh\n",
    "    Mh = mh_mvir(ars_1, CC)*Mvir\n",
    "    \n",
    "    # Compute Rvir\n",
    "    #Rvir = rvir(Mvir,0)\n",
    "    Rvir = rvir(Mvir, 0)\n",
    "    # Compute r_s (of the NFW profile)\n",
    "    r_s = Rvir/CC\n",
    "    \n",
    "    # Compute the scale lenght a of the hernquist profile\n",
    "    a = r_s*ars_1\n",
    "    \n",
    "    # Compute the M200\n",
    "    M200 = M200_Mvir(Mvir, CC)\n",
    "    R200 = r200(M200)\n",
    "    \n",
    "    return(Mh, Rvir, M200, R200, a, r_s)\n",
    "\n",
    "\n",
    "def disk_bulge_M(Mvir, Mdisk, Mbulge):\n",
    "    return Mdisk/Mvir, Mbulge/Mvir\n",
    "\n",
    "def bulge_scales(a, bulge_size):\n",
    "    return bulge_size/a\n",
    "    \n",
    "#H  (disk)       = 2.91129\n",
    "#Z0 (disk)       = 0.640484\n",
    "#A (bulge)       = 0.714457\n",
    "        "
   ]
  },
  {
   "cell_type": "code",
   "execution_count": 3,
   "metadata": {
    "collapsed": true
   },
   "outputs": [],
   "source": [
    "#def rotation_curve(Mhalo, CC, Mdisk, ra, rb, Mbulge, rb):\n",
    "    "
   ]
  },
  {
   "cell_type": "code",
   "execution_count": 4,
   "metadata": {},
   "outputs": [
    {
     "data": {
      "text/plain": [
       "0.017393434590886818"
      ]
     },
     "execution_count": 4,
     "metadata": {},
     "output_type": "execute_result"
    }
   ],
   "source": [
    "bulge_scales(40.82, 0.71)"
   ]
  },
  {
   "cell_type": "code",
   "execution_count": 5,
   "metadata": {},
   "outputs": [
    {
     "name": "stdout",
     "output_type": "stream",
     "text": [
      "219.22447787007005 kpc 279.0147766803976 kpc 276.79789253844825 kpc\n"
     ]
    }
   ],
   "source": [
    "#r200(1.03E12)\n",
    "print(r200(1.2E12), rvir(1.2E12, 0), rvir2(1.2E12, 0))"
   ]
  },
  {
   "cell_type": "code",
   "execution_count": 6,
   "metadata": {},
   "outputs": [
    {
     "name": "stdout",
     "output_type": "stream",
     "text": [
      "7.416748046875\n"
     ]
    }
   ],
   "source": [
    "c200 = bissection(10)\n",
    "print(c200)\n",
    "#fx(c200) / fx(10)"
   ]
  },
  {
   "cell_type": "markdown",
   "metadata": {},
   "source": [
    "## MW2"
   ]
  },
  {
   "cell_type": "code",
   "execution_count": 7,
   "metadata": {},
   "outputs": [
    {
     "name": "stdout",
     "output_type": "stream",
     "text": [
      "279.0147766803976 kpc 208.81176536709373 kpc\n",
      "1.5771299254e+12 1.03700060102e+12 208.81176536709373 kpc 40.852871619537424 kpc\n",
      "136.06917798290303 km / s\n",
      "(0.036648851226065045, 0.0088768843800157548)\n"
     ]
    }
   ],
   "source": [
    "## MW2\n",
    "Mvir = 1.2E12\n",
    "CC = 15\n",
    "Mtotal, Rvir, M200, R200, a, r_s = Mh_total(CC, Mvir)\n",
    "print(Rvir, R200)\n",
    "print(Mtotal, M200, R200, a)\n",
    "print(vvir_galIC(Mvir))\n",
    "print(disk_bulge_M(Mtotal, 5.78E10, 1.4E10))\n"
   ]
  },
  {
   "cell_type": "markdown",
   "metadata": {},
   "source": [
    "## MW3 "
   ]
  },
  {
   "cell_type": "code",
   "execution_count": 14,
   "metadata": {},
   "outputs": [
    {
     "name": "stdout",
     "output_type": "stream",
     "text": [
      "307.0954979884179 kpc 230.6705911254827 kpc\n",
      "2.02462915759e+12 1.39794729665e+12 230.6705911254827 kpc 38.35530134607776 kpc\n",
      "149.76350883881346 km / s\n",
      "(0.028548438010639263, 0.0069148465769714477)\n"
     ]
    }
   ],
   "source": [
    "## MW2\n",
    "Mvir = 1.6E12\n",
    "CC = 18\n",
    "Mtotal, Rvir, M200, R200, a, r_s = Mh_total(CC, Mvir)\n",
    "print(Rvir, R200)\n",
    "print(Mtotal, M200, R200, a)\n",
    "print(vvir_galIC(Mvir))\n",
    "print(disk_bulge_M(Mtotal, 5.78E10, 1.4E10))"
   ]
  },
  {
   "cell_type": "code",
   "execution_count": 9,
   "metadata": {},
   "outputs": [
    {
     "data": {
      "text/plain": [
       "0.020387652548456568"
      ]
     },
     "execution_count": 9,
     "metadata": {},
     "output_type": "execute_result"
    }
   ],
   "source": [
    "bulge_scales(34.825, 0.71)"
   ]
  },
  {
   "cell_type": "markdown",
   "metadata": {},
   "source": [
    "## MW2 "
   ]
  },
  {
   "cell_type": "code",
   "execution_count": 10,
   "metadata": {},
   "outputs": [
    {
     "name": "stdout",
     "output_type": "stream",
     "text": [
      "253.50174820520553 kpc\n",
      "1.18284744405e+12 777750450766.0 189.7180794370895 kpc 37.11729714809457 kpc\n",
      "123.62705268123736 km / s\n",
      "(0.048865134968086726, 0.011835845840021005)\n"
     ]
    },
    {
     "data": {
      "text/latex": [
       "$253.50175 \\; \\mathrm{kpc}$"
      ],
      "text/plain": [
       "<Quantity 253.50174820520553 kpc>"
      ]
     },
     "execution_count": 10,
     "metadata": {},
     "output_type": "execute_result"
    }
   ],
   "source": [
    "## MW2\n",
    "Mvir = 0.9E12\n",
    "CC = 15\n",
    "Mtotal, Rvir, M200, R200, a, r_s = Mh_total(CC, Mvir)\n",
    "print(Rvir)\n",
    "print(Mtotal, M200, R200, a)\n",
    "print(vvir_galIC(Mvir))\n",
    "print(disk_bulge_M(Mtotal, 5.78E10, 1.4E10))\n",
    "bulge_scales(a, 0.71)\n",
    "rvir(Mvir, 0)"
   ]
  },
  {
   "cell_type": "code",
   "execution_count": null,
   "metadata": {
    "collapsed": true
   },
   "outputs": [],
   "source": []
  },
  {
   "cell_type": "code",
   "execution_count": 90,
   "metadata": {},
   "outputs": [
    {
     "ename": "SyntaxError",
     "evalue": "invalid syntax (<ipython-input-90-e60b7d12ccac>, line 2)",
     "output_type": "error",
     "traceback": [
      "\u001b[0;36m  File \u001b[0;32m\"<ipython-input-90-e60b7d12ccac>\"\u001b[0;36m, line \u001b[0;32m2\u001b[0m\n\u001b[0;31m    , 'pos', /'dm')\u001b[0m\n\u001b[0m             ^\u001b[0m\n\u001b[0;31mSyntaxError\u001b[0m\u001b[0;31m:\u001b[0m invalid syntax\n"
     ]
    }
   ],
   "source": [
    "sim_MW = readsnap('/media/ngaravito/4fb4fd3d-1665-4892-a18d-bdbb1185a07b/simulations/MW2_40M/MW2_40M_vir_000'\n",
    "                  , 'pos', /'dm')"
   ]
  },
  {
   "cell_type": "code",
   "execution_count": 5,
   "metadata": {},
   "outputs": [
    {
     "name": "stdout",
     "output_type": "stream",
     "text": [
      "Returning DM    Mass\n"
     ]
    }
   ],
   "source": [
    "mass_MW = readsnap('/media/ngaravito/4fb4fd3d-1665-4892-a18d-bdbb1185a07b/simulations/MW2_40M/MW2_40M_vir_000'\n",
    "                  , 'mass', 'dm')"
   ]
  },
  {
   "cell_type": "code",
   "execution_count": 6,
   "metadata": {},
   "outputs": [
    {
     "data": {
      "text/plain": [
       "1506642303466.7969"
      ]
     },
     "execution_count": 6,
     "metadata": {},
     "output_type": "execute_result"
    }
   ],
   "source": [
    "sum(mass_MW)*1E10"
   ]
  },
  {
   "cell_type": "code",
   "execution_count": 7,
   "metadata": {},
   "outputs": [
    {
     "data": {
      "text/plain": [
       "40176.096263166983"
      ]
     },
     "execution_count": 7,
     "metadata": {},
     "output_type": "execute_result"
    }
   ],
   "source": [
    "mass_MW[0]*1E10"
   ]
  },
  {
   "cell_type": "code",
   "execution_count": 89,
   "metadata": {},
   "outputs": [
    {
     "ename": "NameError",
     "evalue": "name 'sim_MW' is not defined",
     "output_type": "error",
     "traceback": [
      "\u001b[0;31m---------------------------------------------------------------------------\u001b[0m",
      "\u001b[0;31mNameError\u001b[0m                                 Traceback (most recent call last)",
      "\u001b[0;32m<ipython-input-89-8e2b82b65557>\u001b[0m in \u001b[0;36m<module>\u001b[0;34m()\u001b[0m\n\u001b[0;32m----> 1\u001b[0;31m \u001b[0mx_sim_mw\u001b[0m \u001b[0;34m=\u001b[0m \u001b[0msim_MW\u001b[0m\u001b[0;34m[\u001b[0m\u001b[0;34m:\u001b[0m\u001b[0;34m,\u001b[0m\u001b[0;36m0\u001b[0m\u001b[0;34m]\u001b[0m\u001b[0;34m\u001b[0m\u001b[0m\n\u001b[0m\u001b[1;32m      2\u001b[0m \u001b[0my_sim_mw\u001b[0m \u001b[0;34m=\u001b[0m \u001b[0msim_MW\u001b[0m\u001b[0;34m[\u001b[0m\u001b[0;34m:\u001b[0m\u001b[0;34m,\u001b[0m\u001b[0;36m1\u001b[0m\u001b[0;34m]\u001b[0m\u001b[0;34m\u001b[0m\u001b[0m\n\u001b[1;32m      3\u001b[0m \u001b[0mz_sim_mw\u001b[0m \u001b[0;34m=\u001b[0m \u001b[0msim_MW\u001b[0m\u001b[0;34m[\u001b[0m\u001b[0;34m:\u001b[0m\u001b[0;34m,\u001b[0m\u001b[0;36m2\u001b[0m\u001b[0;34m]\u001b[0m\u001b[0;34m\u001b[0m\u001b[0m\n",
      "\u001b[0;31mNameError\u001b[0m: name 'sim_MW' is not defined"
     ]
    }
   ],
   "source": [
    "x_sim_mw = sim_MW[:,0]\n",
    "y_sim_mw = sim_MW[:,1]\n",
    "z_sim_mw = sim_MW[:,2]"
   ]
  },
  {
   "cell_type": "code",
   "execution_count": 9,
   "metadata": {},
   "outputs": [
    {
     "data": {
      "text/plain": [
       "79225.391"
      ]
     },
     "execution_count": 9,
     "metadata": {},
     "output_type": "execute_result"
    }
   ],
   "source": [
    "max(x_sim_mw)"
   ]
  },
  {
   "cell_type": "code",
   "execution_count": 87,
   "metadata": {
    "collapsed": true
   },
   "outputs": [],
   "source": [
    "def mass_profile(x, y, z, n_bins, r):\n",
    "    mp = 40176.096263166983\n",
    "    R = np.sqrt(x**2 + y**2 + z**2)\n",
    "    r = np.linspace(0.0, r, n_bins)\n",
    "    Mass = np.zeros(n_bins)\n",
    "    for i in range(len(r)):\n",
    "        dr = np.where(R<r[i])\n",
    "        dN = len(x[dr])\n",
    "        Mass[i] = dN * mp\n",
    "    return Mass, r"
   ]
  },
  {
   "cell_type": "code",
   "execution_count": 88,
   "metadata": {},
   "outputs": [
    {
     "ename": "NameError",
     "evalue": "name 'x_sim_mw' is not defined",
     "output_type": "error",
     "traceback": [
      "\u001b[0;31m---------------------------------------------------------------------------\u001b[0m",
      "\u001b[0;31mNameError\u001b[0m                                 Traceback (most recent call last)",
      "\u001b[0;32m<ipython-input-88-c0b9df1f10c0>\u001b[0m in \u001b[0;36m<module>\u001b[0;34m()\u001b[0m\n\u001b[1;32m      2\u001b[0m \u001b[0mr_pro\u001b[0m \u001b[0;34m=\u001b[0m \u001b[0mnp\u001b[0m\u001b[0;34m.\u001b[0m\u001b[0mlogspace\u001b[0m\u001b[0;34m(\u001b[0m\u001b[0;36m0\u001b[0m\u001b[0;34m,\u001b[0m \u001b[0mlog10\u001b[0m\u001b[0;34m(\u001b[0m\u001b[0mr_max\u001b[0m\u001b[0;34m)\u001b[0m\u001b[0;34m)\u001b[0m\u001b[0;34m\u001b[0m\u001b[0m\n\u001b[1;32m      3\u001b[0m \u001b[0;34m\u001b[0m\u001b[0m\n\u001b[0;32m----> 4\u001b[0;31m \u001b[0mM\u001b[0m\u001b[0;34m,\u001b[0m \u001b[0mR\u001b[0m \u001b[0;34m=\u001b[0m \u001b[0mmass_profile\u001b[0m\u001b[0;34m(\u001b[0m\u001b[0mx_sim_mw\u001b[0m\u001b[0;34m,\u001b[0m \u001b[0my_sim_mw\u001b[0m\u001b[0;34m,\u001b[0m \u001b[0mz_sim_mw\u001b[0m\u001b[0;34m,\u001b[0m \u001b[0;36m20\u001b[0m\u001b[0;34m,\u001b[0m \u001b[0mr_max\u001b[0m\u001b[0;34m)\u001b[0m\u001b[0;34m\u001b[0m\u001b[0m\n\u001b[0m",
      "\u001b[0;31mNameError\u001b[0m: name 'x_sim_mw' is not defined"
     ]
    }
   ],
   "source": [
    "r_max = 279\n",
    "r_pro = np.logspace(0, log10(r_max))\n",
    "\n",
    "M, R = mass_profile(x_sim_mw, y_sim_mw, z_sim_mw, 20, r_max)"
   ]
  },
  {
   "cell_type": "code",
   "execution_count": 33,
   "metadata": {},
   "outputs": [
    {
     "data": {
      "text/latex": [
       "$279.01441 \\; \\mathrm{kpc}$"
      ],
      "text/plain": [
       "<Quantity 279.01441172000966 kpc>"
      ]
     },
     "execution_count": 33,
     "metadata": {},
     "output_type": "execute_result"
    }
   ],
   "source": [
    "rvir(1.1999952910892628E12, 0)"
   ]
  },
  {
   "cell_type": "code",
   "execution_count": 34,
   "metadata": {},
   "outputs": [],
   "source": [
    "M_NFW = mass_NFW(15, 0 , r_pro, 0, 1.19E12)\n",
    "M_Hern = mass_hernquist(39.9, r_pro, 1506642303466.7969)"
   ]
  },
  {
   "cell_type": "code",
   "execution_count": 37,
   "metadata": {},
   "outputs": [
    {
     "data": {
      "text/plain": [
       "<matplotlib.legend.Legend at 0x7f8463153e10>"
      ]
     },
     "execution_count": 37,
     "metadata": {},
     "output_type": "execute_result"
    },
    {
     "data": {
      "image/png": "[encoded data removed]",
      "text/plain": [
       "<matplotlib.figure.Figure at 0x7f84631ee3c8>"
      ]
     },
     "metadata": {},
     "output_type": "display_data"
    }
   ],
   "source": [
    "figure(figsize=(8, 6))\n",
    "plot(r_pro, M_NFW, lw=2, label='NFW')\n",
    "plot(r_pro, M_Hern, lw=2, label='Hernquist')\n",
    "scatter(R, M, lw=2, label='N-body', s=5)\n",
    "\n",
    "axvline(278.832, lw=2, ls='--', c='k', alpha=0.6)\n",
    "axhline(1.19E12, lw=2, ls='--', c='k', alpha=0.6)\n",
    "xlabel('$Radius(kpc)$', fontsize=28)\n",
    "ylabel('$Mass(M_{\\odot)}$', fontsize=28)\n",
    "legend(loc='best')"
   ]
  },
  {
   "cell_type": "markdown",
   "metadata": {
    "collapsed": true
   },
   "source": [
    "## note: I think that the miss match is that GalIC have particles way outside Rvir. "
   ]
  },
  {
   "cell_type": "code",
   "execution_count": 93,
   "metadata": {},
   "outputs": [
    {
     "name": "stderr",
     "output_type": "stream",
     "text": [
      "/usr/local/lib/python3.5/dist-packages/astropy/units/quantity.py:951: RuntimeWarning: divide by zero encountered in true_divide\n",
      "  return super(Quantity, self).__truediv__(other)\n"
     ]
    }
   ],
   "source": [
    "r = linspace(0, 300, 30)\n",
    "rho_NFW = dens_NFW(15, 0, r, 0, 1E12)"
   ]
  },
  {
   "cell_type": "code",
   "execution_count": 102,
   "metadata": {},
   "outputs": [
    {
     "data": {
      "text/plain": [
       "<matplotlib.lines.Line2D at 0x7f50b57f45c0>"
      ]
     },
     "execution_count": 102,
     "metadata": {},
     "output_type": "execute_result"
    },
    {
     "data": {
      "image/png": "[encoded data removed]",
      "text/plain": [
       "<matplotlib.figure.Figure at 0x7f50b5805c18>"
      ]
     },
     "metadata": {},
     "output_type": "display_data"
    }
   ],
   "source": [
    "semilogy(r, rho_NFW)\n",
    "axhline(8157 ,c='k')\n",
    "axhline(14683)\n"
   ]
  },
  {
   "cell_type": "code",
   "execution_count": 97,
   "metadata": {},
   "outputs": [
    {
     "data": {
      "text/latex": [
       "$8157.3061 \\; \\mathrm{\\frac{M_{\\odot}}{kpc^{3}}}$"
      ],
      "text/plain": [
       "<Quantity 8157.306080290386 solMass / kpc3>"
      ]
     },
     "execution_count": 97,
     "metadata": {},
     "output_type": "execute_result"
    }
   ],
   "source": [
    "(rho_crit(0)*0.3*200).to(u.Msun/u.kpc**3) "
   ]
  },
  {
   "cell_type": "code",
   "execution_count": 98,
   "metadata": {},
   "outputs": [
    {
     "data": {
      "text/latex": [
       "$14683.151 \\; \\mathrm{\\frac{M_{\\odot}}{kpc^{3}}}$"
      ],
      "text/plain": [
       "<Quantity 14683.150944522695 solMass / kpc3>"
      ]
     },
     "execution_count": 98,
     "metadata": {},
     "output_type": "execute_result"
    }
   ],
   "source": [
    "(rho_crit(0)*0.3*360).to(u.Msun/u.kpc**3) "
   ]
  },
  {
   "cell_type": "code",
   "execution_count": null,
   "metadata": {
    "collapsed": true
   },
   "outputs": [],
   "source": []
  }
 ],
 "metadata": {
  "kernelspec": {
   "display_name": "Python 3",
   "language": "python",
   "name": "python3"
  },
  "language_info": {
   "codemirror_mode": {
    "name": "ipython",
    "version": 3
   },
   "file_extension": ".py",
   "mimetype": "text/x-python",
   "name": "python",
   "nbconvert_exporter": "python",
   "pygments_lexer": "ipython3",
   "version": "3.5.2"
  }
 },
 "nbformat": 4,
 "nbformat_minor": 1
}
