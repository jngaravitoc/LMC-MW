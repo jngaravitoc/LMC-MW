{
 "cells": [
  {
   "cell_type": "code",
   "execution_count": 1,
   "metadata": {
    "collapsed": false
   },
   "outputs": [
    {
     "name": "stderr",
     "output_type": "stream",
     "text": [
      "/usr/local/lib/python3.4/dist-packages/matplotlib/__init__.py:841: UserWarning: Found matplotlib configuration in ~/.matplotlib/. To conform with the XDG base directory standard, this configuration location has been deprecated on Linux, and the new location is now /home/ngaravito/.config/matplotlib/. Please move your configuration there to ensure that matplotlib will continue to find it in the future.\n",
      "  _get_xdg_config_dir())\n"
     ]
    },
    {
     "name": "stdout",
     "output_type": "stream",
     "text": [
      "Populating the interactive namespace from numpy and matplotlib\n"
     ]
    }
   ],
   "source": [
    "%pylab inline\n",
    "from octopus.profiles import *\n",
    "from pygadgetreader import *\n",
    "\n",
    "font = {'size':18, 'family':'serif'}\n",
    "matplotlib.rc('font', **font)"
   ]
  },
  {
   "cell_type": "markdown",
   "metadata": {},
   "source": [
    "# Finding a MW model:\n",
    "\n",
    "## 1. Choose a Mvir and C.\n",
    "\n",
    "## 2. Derive the Mh.\n",
    "\n",
    "\\begin{equation}\n",
    "M_h(r) = M_N(r)\n",
    "\\end{equation}\n",
    "\n",
    "\n",
    "\n",
    "\\begin{equation}\n",
    "\\dfrac{M_H r^2}{a^2(1+r/a)^2} = 4 \\pi \\rho_s r_s^3 f(x)\n",
    "\\end{equation}\n",
    "\n",
    "With: $rho_N = \\rho_H$ for $r<<a$ it easy to find that:\n",
    "\n",
    "\\begin{equation}\n",
    "M_H = 2\\pi \\rho_s a^2 r_s\n",
    "\\end{equation}"
   ]
  },
  {
   "cell_type": "code",
   "execution_count": 2,
   "metadata": {
    "collapsed": true
   },
   "outputs": [],
   "source": [
    "# Method from http://adsabs.harvard.edu/abs/2012ApJ...753....8V\n",
    "def fx(x):\n",
    "    f = np.log(1.+x) - (x / (1. + x))\n",
    "    return f\n",
    "\n",
    "#Computing cvir from c200\n",
    "def c(cvir, c200):\n",
    "    q = 2.058\n",
    "    y = (c200 / cvir) - (fx(c200) / (q * fx(cvir)))**(1./3.)\n",
    "    return y\n",
    "\n",
    "def bissection(c200):\n",
    "    min_cvir = 0.1\n",
    "    max_cvir = 2*c200\n",
    "    c_init = 0.5 * (min_cvir + max_cvir)\n",
    "    y = c(c_init, c200)\n",
    "    while abs(y) > 0.0002:\n",
    "        #print c_init\n",
    "        if y<0:\n",
    "            max_cvir = c_init\n",
    "        if y>0:\n",
    "            min_cvir = c_init\n",
    "        c_init = 0.5*(min_cvir + max_cvir)\n",
    "        y = c(c_init, c200)\n",
    "    return c_init\n",
    "\n",
    "# Compouting a/rs using cvir\n",
    "def ars(c):\n",
    "    x = 1 / ((2.0*fx(c))**(-0.5) - (1.0/c)) # Van Der Marel exact solution#\n",
    "    x2 = np.sqrt(2.0 * (log(1 + c) - c/(1+c))) # springel approx equation\n",
    "    return x, x2\n",
    "\n",
    "# Computing mvir from m200\n",
    "\n",
    "def mh_mvir(ar, c):\n",
    "    \"\"\"\n",
    "    m200 mvir conversion\n",
    "    \n",
    "    \"\"\"\n",
    "    x = ar**2.0 / (2.0*fx(c)) \n",
    "    return x\n",
    "\n",
    "def m200mvirNFW(Mvir, cvir, c200):\n",
    "    M200 = Mvir * fx(c200) / fx(cvir)\n",
    "    return M200\n",
    "    \n",
    "    "
   ]
  },
  {
   "cell_type": "code",
   "execution_count": 17,
   "metadata": {
    "collapsed": false
   },
   "outputs": [],
   "source": [
    "# rvir and Mvir, fix r_s, then a can be derived and Mh\n",
    "\n",
    "def Mh_total(CC, Mvir):\n",
    "    Mvir = 1.2E12\n",
    "    CC = 15.\n",
    "    ars_1, ars_2 = ars(CC)\n",
    "    #print(ars_1, ars_2)\n",
    "    Mh = mh_mvir(ars_1, CC)*Mvir\n",
    "    #print(Mh)\n",
    "    Rvir = rvir(Mvir,0)\n",
    "    #print(Rvir)\n",
    "    r_s = Rvir/CC\n",
    "    #print(r_s)\n",
    "    a = r_s*ars_1\n",
    "    #print(a)\n",
    "    return(Mh, a, r_s, Rvir)"
   ]
  },
  {
   "cell_type": "code",
   "execution_count": 18,
   "metadata": {
    "collapsed": false
   },
   "outputs": [
    {
     "data": {
      "text/plain": [
       "(1577129925395.6436,\n",
       " <Quantity 40.852871619537424 kpc>,\n",
       " <Quantity 18.600985112026503 kpc>,\n",
       " <Quantity 279.0147766803976 kpc>)"
      ]
     },
     "execution_count": 18,
     "metadata": {},
     "output_type": "execute_result"
    }
   ],
   "source": [
    "Mh_total(CC, Mvir)"
   ]
  },
  {
   "cell_type": "code",
   "execution_count": 11,
   "metadata": {
    "collapsed": false
   },
   "outputs": [],
   "source": [
    "r_pro = linspace(0, 300)\n",
    "mh_r = mass_hernquist(a.value, r_pro, Mh)\n",
    "mn_r = mass_NFW(CC, 0, r_pro, 0, Mvir)\n"
   ]
  },
  {
   "cell_type": "code",
   "execution_count": 14,
   "metadata": {
    "collapsed": false
   },
   "outputs": [
    {
     "data": {
      "text/plain": [
       "<matplotlib.lines.Line2D at 0x7fbb1e904f60>"
      ]
     },
     "execution_count": 14,
     "metadata": {},
     "output_type": "execute_result"
    },
    {
     "data": {
      "image/png": "[encoded data removed]",
      "text/plain": [
       "<matplotlib.figure.Figure at 0x7fbb1e937128>"
      ]
     },
     "metadata": {},
     "output_type": "display_data"
    }
   ],
   "source": [
    "plot(r_pro, mh_r)\n",
    "plot(r_pro, mn_r)\n",
    "axvline(Rvir.value)"
   ]
  },
  {
   "cell_type": "code",
   "execution_count": 4,
   "metadata": {
    "collapsed": false
   },
   "outputs": [
    {
     "name": "stdout",
     "output_type": "stream",
     "text": [
      "Returning DM    Positions\n"
     ]
    }
   ],
   "source": [
    "sim_MW = readsnap('/media/ngaravito/4fb4fd3d-1665-4892-a18d-bdbb1185a07b/simulations/MW2_40M/MW2_40M_vir_000'\n",
    "                  , 'pos', 'dm')"
   ]
  },
  {
   "cell_type": "code",
   "execution_count": 5,
   "metadata": {
    "collapsed": false
   },
   "outputs": [
    {
     "name": "stdout",
     "output_type": "stream",
     "text": [
      "Returning DM    Mass\n"
     ]
    }
   ],
   "source": [
    "mass_MW = readsnap('/media/ngaravito/4fb4fd3d-1665-4892-a18d-bdbb1185a07b/simulations/MW2_40M/MW2_40M_vir_000'\n",
    "                  , 'mass', 'dm')"
   ]
  },
  {
   "cell_type": "code",
   "execution_count": 6,
   "metadata": {
    "collapsed": false
   },
   "outputs": [
    {
     "data": {
      "text/plain": [
       "1506642303466.7969"
      ]
     },
     "execution_count": 6,
     "metadata": {},
     "output_type": "execute_result"
    }
   ],
   "source": [
    "sum(mass_MW)*1E10"
   ]
  },
  {
   "cell_type": "code",
   "execution_count": 7,
   "metadata": {
    "collapsed": false
   },
   "outputs": [
    {
     "data": {
      "text/plain": [
       "40176.096263166983"
      ]
     },
     "execution_count": 7,
     "metadata": {},
     "output_type": "execute_result"
    }
   ],
   "source": [
    "mass_MW[0]*1E10"
   ]
  },
  {
   "cell_type": "code",
   "execution_count": 8,
   "metadata": {
    "collapsed": true
   },
   "outputs": [],
   "source": [
    "x_sim_mw = sim_MW[:,0]\n",
    "y_sim_mw = sim_MW[:,1]\n",
    "z_sim_mw = sim_MW[:,2]"
   ]
  },
  {
   "cell_type": "code",
   "execution_count": 9,
   "metadata": {
    "collapsed": false
   },
   "outputs": [
    {
     "data": {
      "text/plain": [
       "79225.391"
      ]
     },
     "execution_count": 9,
     "metadata": {},
     "output_type": "execute_result"
    }
   ],
   "source": [
    "max(x_sim_mw)"
   ]
  },
  {
   "cell_type": "code",
   "execution_count": 11,
   "metadata": {
    "collapsed": true
   },
   "outputs": [],
   "source": [
    "def mass_profile(x, y, z, n_bins, r):\n",
    "    mp = 40176.096263166983\n",
    "    R = np.sqrt(x**2 + y**2 + z**2)\n",
    "    r = np.linspace(0.0, r, n_bins)\n",
    "    Mass = np.zeros(n_bins)\n",
    "    for i in range(len(r)):\n",
    "        dr = np.where(R<r[i])\n",
    "        dN = len(x[dr])\n",
    "        Mass[i] = dN * mp\n",
    "    return Mass, r"
   ]
  },
  {
   "cell_type": "code",
   "execution_count": 32,
   "metadata": {
    "collapsed": false
   },
   "outputs": [],
   "source": [
    "r_max = 279\n",
    "r_pro = np.logspace(0, log10(r_max))\n",
    "\n",
    "M, R = mass_profile(x_sim_mw, y_sim_mw, z_sim_mw, 20, r_max)"
   ]
  },
  {
   "cell_type": "code",
   "execution_count": 33,
   "metadata": {
    "collapsed": false
   },
   "outputs": [
    {
     "data": {
      "text/latex": [
       "$279.01441 \\; \\mathrm{kpc}$"
      ],
      "text/plain": [
       "<Quantity 279.01441172000966 kpc>"
      ]
     },
     "execution_count": 33,
     "metadata": {},
     "output_type": "execute_result"
    }
   ],
   "source": [
    "rvir(1.1999952910892628E12, 0)"
   ]
  },
  {
   "cell_type": "code",
   "execution_count": 34,
   "metadata": {
    "collapsed": false
   },
   "outputs": [],
   "source": [
    "M_NFW = mass_NFW(15, 0 , r_pro, 0, 1.19E12)\n",
    "M_Hern = mass_hernquist(39.9, r_pro, 1506642303466.7969)"
   ]
  },
  {
   "cell_type": "code",
   "execution_count": 37,
   "metadata": {
    "collapsed": false
   },
   "outputs": [
    {
     "data": {
      "text/plain": [
       "<matplotlib.legend.Legend at 0x7f8463153e10>"
      ]
     },
     "execution_count": 37,
     "metadata": {},
     "output_type": "execute_result"
    },
    {
     "data": {
      "image/png": "[encoded data removed]",
      "text/plain": [
       "<matplotlib.figure.Figure at 0x7f84631ee3c8>"
      ]
     },
     "metadata": {},
     "output_type": "display_data"
    }
   ],
   "source": [
    "figure(figsize=(8, 6))\n",
    "plot(r_pro, M_NFW, lw=2, label='NFW')\n",
    "plot(r_pro, M_Hern, lw=2, label='Hernquist')\n",
    "scatter(R, M, lw=2, label='N-body', s=5)\n",
    "\n",
    "axvline(278.832, lw=2, ls='--', c='k', alpha=0.6)\n",
    "axhline(1.19E12, lw=2, ls='--', c='k', alpha=0.6)\n",
    "xlabel('$Radius(kpc)$', fontsize=28)\n",
    "ylabel('$Mass(M_{\\odot)}$', fontsize=28)\n",
    "legend(loc='best')"
   ]
  },
  {
   "cell_type": "markdown",
   "metadata": {
    "collapsed": true
   },
   "source": [
    "## note: I think that the miss match is that GalIC have particles way outside Rvir. "
   ]
  }
 ],
 "metadata": {
  "kernelspec": {
   "display_name": "Python 3",
   "language": "python",
   "name": "python3"
  },
  "language_info": {
   "codemirror_mode": {
    "name": "ipython",
    "version": 3
   },
   "file_extension": ".py",
   "mimetype": "text/x-python",
   "name": "python",
   "nbconvert_exporter": "python",
   "pygments_lexer": "ipython3",
   "version": "3.4.3"
  }
 },
 "nbformat": 4,
 "nbformat_minor": 0
}
