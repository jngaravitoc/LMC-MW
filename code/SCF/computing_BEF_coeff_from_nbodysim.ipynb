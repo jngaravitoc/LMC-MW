{
 "cells": [
  {
   "cell_type": "markdown",
   "metadata": {},
   "source": [
    "# Implementation of the orbit integrations using the BFE method (test case: Hernquist halo)"
   ]
  },
  {
   "cell_type": "code",
   "execution_count": 1,
   "metadata": {
    "collapsed": false
   },
   "outputs": [
    {
     "name": "stderr",
     "output_type": "stream",
     "text": [
      "/usr/local/lib/python3.4/dist-packages/matplotlib/__init__.py:841: UserWarning: Found matplotlib configuration in ~/.matplotlib/. To conform with the XDG base directory standard, this configuration location has been deprecated on Linux, and the new location is now /home/ngaravito/.config/matplotlib/. Please move your configuration there to ensure that matplotlib will continue to find it in the future.\n",
      "  _get_xdg_config_dir())\n"
     ]
    },
    {
     "name": "stdout",
     "output_type": "stream",
     "text": [
      "Populating the interactive namespace from numpy and matplotlib\n"
     ]
    }
   ],
   "source": [
    "%pylab inline\n",
    "import octopus\n",
    "from pygadgetreader import readsnap\n",
    "import biff\n",
    "from scipy import interpolate\n",
    "from astropy import constants\n",
    "from astropy import units as u\n",
    "import soda as soda"
   ]
  },
  {
   "cell_type": "markdown",
   "metadata": {},
   "source": [
    "# Code structure:\n",
    "\n",
    "1. Read Halo particle positions\n",
    "2. Re-center halo\n",
    "3. Compute the Snlm and Tnlm coefficients with biff\n",
    "4. Interpotlate Snlm and Tnlm\n",
    "5. Use leapfrog with the interpolated coefficients and with biff\n",
    "\n",
    "# Check \n",
    "1. Compare with analytic Hernquist orbit integration\n",
    "2. Compare with N-body orbit"
   ]
  },
  {
   "cell_type": "markdown",
   "metadata": {},
   "source": [
    "# To do\n",
    "1. use the appropiate rvir of the LMC! the integration is very sensitive to this.\n",
    "2. Check the orbtis with the N-body simulations.\n",
    "3. Check the z-component of the orbit in biff!\n",
    "3. Fix the time step in octupus.leapfrog.integrate_biff_t to be an input parameter matching the interpolation\n"
   ]
  },
  {
   "cell_type": "markdown",
   "metadata": {},
   "source": [
    "# 1. Read Halo particle positions & computing the CM"
   ]
  },
  {
   "cell_type": "code",
   "execution_count": 2,
   "metadata": {
    "collapsed": false
   },
   "outputs": [
    {
     "name": "stdout",
     "output_type": "stream",
     "text": [
      "Returning DM    Positions\n",
      "Returning DM    Velocities\n",
      "Returning DM    Particle IDs\n",
      "Returning DM    Positions\n",
      "Returning DM    Velocities\n",
      "Returning DM    Particle IDs\n",
      "Returning DM    Positions\n",
      "Returning DM    Velocities\n",
      "Returning DM    Particle IDs\n",
      "Returning DM    Positions\n",
      "Returning DM    Velocities\n",
      "Returning DM    Particle IDs\n",
      "Returning DM    Positions\n",
      "Returning DM    Velocities\n",
      "Returning DM    Particle IDs\n",
      "Returning DM    Positions\n",
      "Returning DM    Velocities\n",
      "Returning DM    Particle IDs\n",
      "Returning DM    Positions\n",
      "Returning DM    Velocities\n",
      "Returning DM    Particle IDs\n",
      "Returning DM    Positions\n",
      "Returning DM    Velocities\n",
      "Returning DM    Particle IDs\n",
      "Returning DM    Positions\n",
      "Returning DM    Velocities\n",
      "Returning DM    Particle IDs\n",
      "Returning DM    Positions\n",
      "Returning DM    Velocities\n",
      "Returning DM    Particle IDs\n",
      "Returning DM    Positions\n",
      "Returning DM    Velocities\n",
      "Returning DM    Particle IDs\n",
      "Returning DM    Positions\n",
      "Returning DM    Velocities\n",
      "Returning DM    Particle IDs\n",
      "Returning DM    Positions\n",
      "Returning DM    Velocities\n",
      "Returning DM    Particle IDs\n",
      "Returning DM    Positions\n",
      "Returning DM    Velocities\n",
      "Returning DM    Particle IDs\n",
      "Returning DM    Positions\n",
      "Returning DM    Velocities\n",
      "Returning DM    Particle IDs\n",
      "Returning DM    Positions\n",
      "Returning DM    Velocities\n",
      "Returning DM    Particle IDs\n",
      "Returning DM    Positions\n",
      "Returning DM    Velocities\n",
      "Returning DM    Particle IDs\n",
      "Returning DM    Positions\n",
      "Returning DM    Velocities\n",
      "Returning DM    Particle IDs\n",
      "Returning DM    Positions\n",
      "Returning DM    Velocities\n",
      "Returning DM    Particle IDs\n",
      "Returning DM    Positions\n",
      "Returning DM    Velocities\n",
      "Returning DM    Particle IDs\n",
      "Returning DM    Positions\n",
      "Returning DM    Velocities\n",
      "Returning DM    Particle IDs\n",
      "Returning DM    Positions\n",
      "Returning DM    Velocities\n",
      "Returning DM    Particle IDs\n",
      "Returning DM    Positions\n",
      "Returning DM    Velocities\n",
      "Returning DM    Particle IDs\n",
      "Returning DM    Positions\n",
      "Returning DM    Velocities\n",
      "Returning DM    Particle IDs\n",
      "Returning DM    Positions\n",
      "Returning DM    Velocities\n",
      "Returning DM    Particle IDs\n",
      "Returning DM    Positions\n",
      "Returning DM    Velocities\n",
      "Returning DM    Particle IDs\n",
      "Returning DM    Positions\n",
      "Returning DM    Velocities\n",
      "Returning DM    Particle IDs\n",
      "Returning DM    Positions\n",
      "Returning DM    Velocities\n",
      "Returning DM    Particle IDs\n",
      "Returning DM    Positions\n",
      "Returning DM    Velocities\n",
      "Returning DM    Particle IDs\n",
      "Returning DM    Positions\n",
      "Returning DM    Velocities\n",
      "Returning DM    Particle IDs\n",
      "Returning DM    Positions\n",
      "Returning DM    Velocities\n",
      "Returning DM    Particle IDs\n",
      "Returning DM    Positions\n",
      "Returning DM    Velocities\n",
      "Returning DM    Particle IDs\n",
      "Returning DM    Positions\n",
      "Returning DM    Velocities\n",
      "Returning DM    Particle IDs\n",
      "Returning DM    Positions\n",
      "Returning DM    Velocities\n",
      "Returning DM    Particle IDs\n",
      "Returning DM    Positions\n",
      "Returning DM    Velocities\n",
      "Returning DM    Particle IDs\n",
      "Returning DM    Positions\n",
      "Returning DM    Velocities\n",
      "Returning DM    Particle IDs\n",
      "Returning DM    Positions\n",
      "Returning DM    Velocities\n",
      "Returning DM    Particle IDs\n",
      "Returning DM    Positions\n",
      "Returning DM    Velocities\n",
      "Returning DM    Particle IDs\n",
      "Returning DM    Positions\n",
      "Returning DM    Velocities\n",
      "Returning DM    Particle IDs\n",
      "Returning DM    Positions\n",
      "Returning DM    Velocities\n",
      "Returning DM    Particle IDs\n",
      "Returning DM    Positions\n",
      "Returning DM    Velocities\n",
      "Returning DM    Particle IDs\n",
      "Returning DM    Positions\n",
      "Returning DM    Velocities\n",
      "Returning DM    Particle IDs\n",
      "Returning DM    Positions\n",
      "Returning DM    Velocities\n",
      "Returning DM    Particle IDs\n",
      "Returning DM    Positions\n",
      "Returning DM    Velocities\n",
      "Returning DM    Particle IDs\n",
      "Returning DM    Positions\n",
      "Returning DM    Velocities\n",
      "Returning DM    Particle IDs\n",
      "Returning DM    Positions\n",
      "Returning DM    Velocities\n",
      "Returning DM    Particle IDs\n",
      "Returning DM    Positions\n",
      "Returning DM    Velocities\n",
      "Returning DM    Particle IDs\n",
      "Returning DM    Positions\n",
      "Returning DM    Velocities\n",
      "Returning DM    Particle IDs\n",
      "Returning DM    Positions\n",
      "Returning DM    Velocities\n",
      "Returning DM    Particle IDs\n",
      "Returning DM    Positions\n",
      "Returning DM    Velocities\n",
      "Returning DM    Particle IDs\n",
      "Returning DM    Positions\n",
      "Returning DM    Velocities\n",
      "Returning DM    Particle IDs\n",
      "Returning DM    Positions\n",
      "Returning DM    Velocities\n",
      "Returning DM    Particle IDs\n",
      "Returning DM    Positions\n",
      "Returning DM    Velocities\n",
      "Returning DM    Particle IDs\n",
      "Returning DM    Positions\n",
      "Returning DM    Velocities\n",
      "Returning DM    Particle IDs\n",
      "Returning DM    Positions\n",
      "Returning DM    Velocities\n",
      "Returning DM    Particle IDs\n",
      "Returning DM    Positions\n",
      "Returning DM    Velocities\n",
      "Returning DM    Particle IDs\n",
      "Returning DM    Positions\n",
      "Returning DM    Velocities\n",
      "Returning DM    Particle IDs\n",
      "Returning DM    Positions\n",
      "Returning DM    Velocities\n",
      "Returning DM    Particle IDs\n",
      "Returning DM    Positions\n",
      "Returning DM    Velocities\n",
      "Returning DM    Particle IDs\n",
      "Returning DM    Positions\n",
      "Returning DM    Velocities\n",
      "Returning DM    Particle IDs\n",
      "Returning DM    Positions\n",
      "Returning DM    Velocities\n",
      "Returning DM    Particle IDs\n",
      "Returning DM    Positions\n",
      "Returning DM    Velocities\n",
      "Returning DM    Particle IDs\n",
      "Returning DM    Positions\n",
      "Returning DM    Velocities\n",
      "Returning DM    Particle IDs\n",
      "Returning DM    Positions\n",
      "Returning DM    Velocities\n",
      "Returning DM    Particle IDs\n",
      "Returning DM    Positions\n",
      "Returning DM    Velocities\n",
      "Returning DM    Particle IDs\n",
      "Returning DM    Positions\n",
      "Returning DM    Velocities\n",
      "Returning DM    Particle IDs\n",
      "Returning DM    Positions\n",
      "Returning DM    Velocities\n",
      "Returning DM    Particle IDs\n",
      "Returning DM    Positions\n",
      "Returning DM    Velocities\n",
      "Returning DM    Particle IDs\n",
      "Returning DM    Positions\n",
      "Returning DM    Velocities\n",
      "Returning DM    Particle IDs\n",
      "Returning DM    Positions\n",
      "Returning DM    Velocities\n",
      "Returning DM    Particle IDs\n",
      "Returning DM    Positions\n",
      "Returning DM    Velocities\n",
      "Returning DM    Particle IDs\n",
      "Returning DM    Positions\n",
      "Returning DM    Velocities\n",
      "Returning DM    Particle IDs\n",
      "Returning DM    Positions\n",
      "Returning DM    Velocities\n",
      "Returning DM    Particle IDs\n",
      "Returning DM    Positions\n",
      "Returning DM    Velocities\n",
      "Returning DM    Particle IDs\n",
      "Returning DM    Positions\n",
      "Returning DM    Velocities\n",
      "Returning DM    Particle IDs\n",
      "Returning DM    Positions\n",
      "Returning DM    Velocities\n",
      "Returning DM    Particle IDs\n",
      "Returning DM    Positions\n",
      "Returning DM    Velocities\n",
      "Returning DM    Particle IDs\n",
      "Returning DM    Positions\n",
      "Returning DM    Velocities\n",
      "Returning DM    Particle IDs\n",
      "Returning DM    Positions\n",
      "Returning DM    Velocities\n",
      "Returning DM    Particle IDs\n",
      "Returning DM    Positions\n",
      "Returning DM    Velocities\n",
      "Returning DM    Particle IDs\n",
      "Returning DM    Positions\n",
      "Returning DM    Velocities\n",
      "Returning DM    Particle IDs\n",
      "Returning DM    Positions\n",
      "Returning DM    Velocities\n",
      "Returning DM    Particle IDs\n",
      "Returning DM    Positions\n",
      "Returning DM    Velocities\n",
      "Returning DM    Particle IDs\n",
      "Returning DM    Positions\n",
      "Returning DM    Velocities\n",
      "Returning DM    Particle IDs\n",
      "Returning DM    Positions\n",
      "Returning DM    Velocities\n",
      "Returning DM    Particle IDs\n",
      "Returning DM    Positions\n",
      "Returning DM    Velocities\n",
      "Returning DM    Particle IDs\n",
      "Returning DM    Positions\n",
      "Returning DM    Velocities\n",
      "Returning DM    Particle IDs\n",
      "Returning DM    Positions\n",
      "Returning DM    Velocities\n",
      "Returning DM    Particle IDs\n",
      "Returning DM    Positions\n",
      "Returning DM    Velocities\n",
      "Returning DM    Particle IDs\n",
      "Returning DM    Positions\n",
      "Returning DM    Velocities\n",
      "Returning DM    Particle IDs\n",
      "Returning DM    Positions\n",
      "Returning DM    Velocities\n",
      "Returning DM    Particle IDs\n",
      "Returning DM    Positions\n",
      "Returning DM    Velocities\n",
      "Returning DM    Particle IDs\n",
      "Returning DM    Positions\n",
      "Returning DM    Velocities\n",
      "Returning DM    Particle IDs\n",
      "Returning DM    Positions\n",
      "Returning DM    Velocities\n",
      "Returning DM    Particle IDs\n",
      "Returning DM    Positions\n",
      "Returning DM    Velocities\n",
      "Returning DM    Particle IDs\n",
      "Returning DM    Positions\n",
      "Returning DM    Velocities\n",
      "Returning DM    Particle IDs\n",
      "Returning DM    Positions\n",
      "Returning DM    Velocities\n",
      "Returning DM    Particle IDs\n",
      "Returning DM    Positions\n",
      "Returning DM    Velocities\n",
      "Returning DM    Particle IDs\n",
      "Returning DM    Positions\n",
      "Returning DM    Velocities\n",
      "Returning DM    Particle IDs\n",
      "Returning DM    Positions\n",
      "Returning DM    Velocities\n",
      "Returning DM    Particle IDs\n",
      "Returning DM    Positions\n",
      "Returning DM    Velocities\n",
      "Returning DM    Particle IDs\n"
     ]
    }
   ],
   "source": [
    "pos_cm_LMC, vel_cm_LMC, a, b = octopus.orbit('../../data/ICs/LMC/LMC1-97k/', 'LMC1_97K_vir', 0, 100, \n",
    "                                             97000, 0.1, lmc=False, disk=False)"
   ]
  },
  {
   "cell_type": "code",
   "execution_count": 3,
   "metadata": {
    "collapsed": false
   },
   "outputs": [],
   "source": [
    "rcm_LMC = np.sqrt(pos_cm_LMC[:,0]**2 + pos_cm_LMC[:,1]**2 + pos_cm_LMC[:,2]**2)"
   ]
  },
  {
   "cell_type": "code",
   "execution_count": 4,
   "metadata": {
    "collapsed": false
   },
   "outputs": [
    {
     "data": {
      "text/plain": [
       "[<matplotlib.lines.Line2D at 0x7f174274b5f8>]"
      ]
     },
     "execution_count": 4,
     "metadata": {},
     "output_type": "execute_result"
    },
    {
     "data": {
      "image/png": "[encoded data removed]",
      "text/plain": [
       "<matplotlib.figure.Figure at 0x7f17881f9518>"
      ]
     },
     "metadata": {},
     "output_type": "display_data"
    }
   ],
   "source": [
    "plot(rcm_LMC)"
   ]
  },
  {
   "cell_type": "markdown",
   "metadata": {},
   "source": [
    "## Core functions:"
   ]
  },
  {
   "cell_type": "code",
   "execution_count": 7,
   "metadata": {
    "collapsed": false
   },
   "outputs": [],
   "source": [
    "\n",
    "# Note: CM When the disk is taken into account thew CM should be computed from the CM of the disk\n",
    "def re_center_halo(pos, r_cm):\n",
    "    for i in range(3):\n",
    "        pos[:,i] = pos[:,i] - r_cm[i]\n",
    "        #vel[:,i] = vel[:,i] - v_cm[i]\n",
    "    return pos\n",
    "\n",
    "def compute_coeffs_from_snaps(path, snap_name, N_initial, N_final, Nmax, Lmax, r_s):\n",
    "    \"\"\"\n",
    "    Compute the coefficients from a series of snapshots of N-body simulations. \n",
    "    Dependecies: pygadgetreader and octopus.\n",
    "    \n",
    "    Input:\n",
    "    ------\n",
    "    \n",
    "    path : string\n",
    "        path to snapshots\n",
    "    snap_name : string \n",
    "        snapshots base name\n",
    "    N_intitial : int\n",
    "        initial number of the snapshot.\n",
    "    N_final : int\n",
    "        final number of the snaphot in the simulation.\n",
    "    Nmax : int\n",
    "        Max number of expansion terms in the radial terms of the BFE.\n",
    "    Lmax: \n",
    "        Max number of expansion terms in the angular terms of the BFE.\n",
    "        \n",
    "    Return:\n",
    "    -------\n",
    "    \n",
    "    S : matrix of shape [t, nmax+1, lmax+1, lmax+1]\n",
    "    T : matrix of shape [t, nmax+1, lmax+1, lmax+1]\n",
    "\n",
    "    \"\"\"\n",
    "    t = N_final - N_initial\n",
    "    S = np.zeros((t, Nmax+1, Lmax+1, Lmax+1))\n",
    "    T = np.zeros((t, Nmax+1, Lmax+1, Lmax+1))\n",
    "\n",
    "    for i in range(N_initial, N_final, 1):\n",
    "        pos_LMC = readsnap(path+snap_name+'_{:03d}'.format(i), 'pos', 'dm')\n",
    "        mass_LMC = readsnap(path+snap_name+'_{:03d}'.format(i), 'mass', 'dm')\n",
    "        rcm, vcm = octopus.CM(pos_LMC,  pos_LMC) # not using velocities!\n",
    "        pos_LMC_cm = re_center_halo(pos_LMC, rcm)\n",
    "        S[i], T[i] = biff.compute_coeffs_discrete(np.ascontiguousarray(pos_LMC_cm.astype(double)),\n",
    "                                                  mass_LMC.astype(double)*1E10,\n",
    "                                                  Nmax, Lmax, r_s)\n",
    "    return S, T\n",
    "\n",
    "\n",
    "    \n",
    "\n",
    "path = '../../data/ICs/LMC/LMC1-97k/'\n",
    "snap_name = 'LMC1_97K_vir'"
   ]
  },
  {
   "cell_type": "code",
   "execution_count": 8,
   "metadata": {
    "collapsed": false
   },
   "outputs": [
    {
     "name": "stdout",
     "output_type": "stream",
     "text": [
      "Returning DM    Positions\n",
      "Returning DM    Mass\n",
      "Returning DM    Positions\n",
      "Returning DM    Mass\n",
      "Returning DM    Positions\n",
      "Returning DM    Mass\n",
      "Returning DM    Positions\n",
      "Returning DM    Mass\n",
      "Returning DM    Positions\n",
      "Returning DM    Mass\n",
      "Returning DM    Positions\n",
      "Returning DM    Mass\n",
      "Returning DM    Positions\n",
      "Returning DM    Mass\n",
      "Returning DM    Positions\n",
      "Returning DM    Mass\n",
      "Returning DM    Positions\n",
      "Returning DM    Mass\n",
      "Returning DM    Positions\n",
      "Returning DM    Mass\n",
      "Returning DM    Positions\n",
      "Returning DM    Mass\n",
      "Returning DM    Positions\n",
      "Returning DM    Mass\n",
      "Returning DM    Positions\n",
      "Returning DM    Mass\n",
      "Returning DM    Positions\n",
      "Returning DM    Mass\n",
      "Returning DM    Positions\n",
      "Returning DM    Mass\n",
      "Returning DM    Positions\n",
      "Returning DM    Mass\n",
      "Returning DM    Positions\n",
      "Returning DM    Mass\n",
      "Returning DM    Positions\n",
      "Returning DM    Mass\n",
      "Returning DM    Positions\n",
      "Returning DM    Mass\n",
      "Returning DM    Positions\n",
      "Returning DM    Mass\n",
      "Returning DM    Positions\n",
      "Returning DM    Mass\n",
      "Returning DM    Positions\n",
      "Returning DM    Mass\n",
      "Returning DM    Positions\n",
      "Returning DM    Mass\n",
      "Returning DM    Positions\n",
      "Returning DM    Mass\n",
      "Returning DM    Positions\n",
      "Returning DM    Mass\n",
      "Returning DM    Positions\n",
      "Returning DM    Mass\n",
      "Returning DM    Positions\n",
      "Returning DM    Mass\n",
      "Returning DM    Positions\n",
      "Returning DM    Mass\n",
      "Returning DM    Positions\n",
      "Returning DM    Mass\n",
      "Returning DM    Positions\n",
      "Returning DM    Mass\n",
      "Returning DM    Positions\n",
      "Returning DM    Mass\n",
      "Returning DM    Positions\n",
      "Returning DM    Mass\n",
      "Returning DM    Positions\n",
      "Returning DM    Mass\n",
      "Returning DM    Positions\n",
      "Returning DM    Mass\n",
      "Returning DM    Positions\n",
      "Returning DM    Mass\n",
      "Returning DM    Positions\n",
      "Returning DM    Mass\n",
      "Returning DM    Positions\n",
      "Returning DM    Mass\n",
      "Returning DM    Positions\n",
      "Returning DM    Mass\n",
      "Returning DM    Positions\n",
      "Returning DM    Mass\n",
      "Returning DM    Positions\n",
      "Returning DM    Mass\n",
      "Returning DM    Positions\n",
      "Returning DM    Mass\n",
      "Returning DM    Positions\n",
      "Returning DM    Mass\n",
      "Returning DM    Positions\n",
      "Returning DM    Mass\n",
      "Returning DM    Positions\n",
      "Returning DM    Mass\n",
      "Returning DM    Positions\n",
      "Returning DM    Mass\n",
      "Returning DM    Positions\n",
      "Returning DM    Mass\n",
      "Returning DM    Positions\n",
      "Returning DM    Mass\n",
      "Returning DM    Positions\n",
      "Returning DM    Mass\n",
      "Returning DM    Positions\n",
      "Returning DM    Mass\n",
      "Returning DM    Positions\n",
      "Returning DM    Mass\n",
      "Returning DM    Positions\n",
      "Returning DM    Mass\n",
      "Returning DM    Positions\n",
      "Returning DM    Mass\n",
      "Returning DM    Positions\n",
      "Returning DM    Mass\n",
      "Returning DM    Positions\n",
      "Returning DM    Mass\n",
      "Returning DM    Positions\n",
      "Returning DM    Mass\n",
      "Returning DM    Positions\n",
      "Returning DM    Mass\n",
      "Returning DM    Positions\n",
      "Returning DM    Mass\n",
      "Returning DM    Positions\n",
      "Returning DM    Mass\n",
      "Returning DM    Positions\n",
      "Returning DM    Mass\n",
      "Returning DM    Positions\n",
      "Returning DM    Mass\n",
      "Returning DM    Positions\n",
      "Returning DM    Mass\n",
      "Returning DM    Positions\n",
      "Returning DM    Mass\n",
      "Returning DM    Positions\n",
      "Returning DM    Mass\n",
      "Returning DM    Positions\n",
      "Returning DM    Mass\n",
      "Returning DM    Positions\n",
      "Returning DM    Mass\n",
      "Returning DM    Positions\n",
      "Returning DM    Mass\n",
      "Returning DM    Positions\n",
      "Returning DM    Mass\n",
      "Returning DM    Positions\n",
      "Returning DM    Mass\n",
      "Returning DM    Positions\n",
      "Returning DM    Mass\n",
      "Returning DM    Positions\n",
      "Returning DM    Mass\n",
      "Returning DM    Positions\n",
      "Returning DM    Mass\n",
      "Returning DM    Positions\n",
      "Returning DM    Mass\n",
      "Returning DM    Positions\n",
      "Returning DM    Mass\n",
      "Returning DM    Positions\n",
      "Returning DM    Mass\n",
      "Returning DM    Positions\n",
      "Returning DM    Mass\n",
      "Returning DM    Positions\n",
      "Returning DM    Mass\n",
      "Returning DM    Positions\n",
      "Returning DM    Mass\n",
      "Returning DM    Positions\n",
      "Returning DM    Mass\n",
      "Returning DM    Positions\n",
      "Returning DM    Mass\n",
      "Returning DM    Positions\n",
      "Returning DM    Mass\n",
      "Returning DM    Positions\n",
      "Returning DM    Mass\n",
      "Returning DM    Positions\n",
      "Returning DM    Mass\n",
      "Returning DM    Positions\n",
      "Returning DM    Mass\n",
      "Returning DM    Positions\n",
      "Returning DM    Mass\n",
      "Returning DM    Positions\n",
      "Returning DM    Mass\n",
      "Returning DM    Positions\n",
      "Returning DM    Mass\n",
      "Returning DM    Positions\n",
      "Returning DM    Mass\n",
      "Returning DM    Positions\n",
      "Returning DM    Mass\n",
      "Returning DM    Positions\n",
      "Returning DM    Mass\n",
      "Returning DM    Positions\n",
      "Returning DM    Mass\n",
      "Returning DM    Positions\n",
      "Returning DM    Mass\n",
      "Returning DM    Positions\n",
      "Returning DM    Mass\n",
      "Returning DM    Positions\n",
      "Returning DM    Mass\n",
      "Returning DM    Positions\n",
      "Returning DM    Mass\n",
      "Returning DM    Positions\n",
      "Returning DM    Mass\n",
      "Returning DM    Positions\n",
      "Returning DM    Mass\n",
      "Returning DM    Positions\n",
      "Returning DM    Mass\n",
      "Returning DM    Positions\n",
      "Returning DM    Mass\n",
      "Returning DM    Positions\n",
      "Returning DM    Mass\n",
      "Returning DM    Positions\n",
      "Returning DM    Mass\n"
     ]
    }
   ],
   "source": [
    "N_initial = 0\n",
    "N_final = 10\n",
    "S_test, T_test = compute_coeffs_from_snaps(path, snap_name, 0, 100, 10, 2, r_s=3)"
   ]
  },
  {
   "cell_type": "code",
   "execution_count": 9,
   "metadata": {
    "collapsed": false
   },
   "outputs": [],
   "source": [
    "def interpolate_coeff(S, T, dt_nbody, dt_int, N_initial, N_final, nmax, lmax):\n",
    "    \"\"\"\n",
    "    Interpolate the BFE coefficients.\n",
    "    \n",
    "    Parameters:\n",
    "    -----------\n",
    "        Snlm : float \n",
    "            The value of the cosine expansion coefficient for the desired number of snapshots to be interpolated.\n",
    "        Tnlm : float \n",
    "            The value of the sine expansion coefficient for the desired number of snapshots to be interpolated.\n",
    "        dt_nbody : float\n",
    "            Time bet snapshot in the n-body simulation.\n",
    "        dt_int : float\n",
    "            Time \n",
    "        N_initial : int\n",
    "            Inital snapshot number. \n",
    "        N_final : int\n",
    "            Final snapshot number. \n",
    "        nmax : \n",
    "            Maximum value of ``n`` for the radial expansion.\n",
    "        lmax : \n",
    "            Maximum value of ``l`` for the spherical expansion.\n",
    "    Returns:\n",
    "    --------\n",
    "        Snlm_interpolate : float \n",
    "            The value of the cosine expansion coefficient interpolated for different dt values.\n",
    "        Tnlm_interpolate : float \n",
    "            The value of the sine expansion coefficient interpolated for different dt values.\n",
    "    \"\"\"\n",
    "\n",
    "    #dt_int = 0.01\n",
    "    #dt_nbody = 0.02\n",
    "    time = (N_final - N_initial) * dt_nbody \n",
    "\n",
    "    time_array = np.linspace(0, time, time/dt_nbody)\n",
    "    time_array_new = np.linspace(0, time, time/dt_int)\n",
    "    #S_test[:,0,0,0]\n",
    "    #print(time_array)\n",
    "    #nmax = 20\n",
    "    #lmax = 2\n",
    "    #print(time/dt_nbody)\n",
    "\n",
    "    S_new = np.zeros((int(time/dt_int), nmax+1, lmax+1, lmax+1))\n",
    "    T_new = np.zeros((int(time/dt_int), nmax+1, lmax+1, lmax+1))\n",
    "\n",
    "    for i in range(nmax+1):\n",
    "        for j in range(lmax+1):\n",
    "            for k in range(lmax+1):\n",
    "                if k<=j:\n",
    "                    # put the contrain k<j ? \n",
    "                    f = interpolate.interp1d(time_array, S[:,i,j,k])\n",
    "                    #print(f(time_array_new))\n",
    "                    S_new[:,i,j,k] = f(time_array_new)\n",
    "    #print(S_test[:,0,0,0])\n",
    "    #print(S_test_new)\n",
    "\n",
    "    #figure(figsize(7,5))\n",
    "    return S_new, T_new\n",
    "    #plot(time_array, S_test[:,15,0,2], '-o')\n",
    "    #plot(time_array_new, S_new[:,15,0,2], '-o', alpha=0.6)"
   ]
  },
  {
   "cell_type": "code",
   "execution_count": 10,
   "metadata": {
    "collapsed": false
   },
   "outputs": [
    {
     "name": "stdout",
     "output_type": "stream",
     "text": [
      "CPU times: user 4.4 ms, sys: 2 µs, total: 4.4 ms\n",
      "Wall time: 4.19 ms\n"
     ]
    }
   ],
   "source": [
    "%time S_interp, T_interp = interpolate_coeff(S_test, T_test, 0.02, 0.001, 0, 100, 10, 2)"
   ]
  },
  {
   "cell_type": "markdown",
   "metadata": {},
   "source": [
    "# Checking that the potentials and the acceleration are consistent from biff and the analytic computation:"
   ]
  },
  {
   "cell_type": "code",
   "execution_count": 12,
   "metadata": {
    "collapsed": true
   },
   "outputs": [],
   "source": [
    "def grid_gen(xmin, xmax, ymin, ymax, zmin, zmax, n_spaces):\n",
    "    \"\"\"\n",
    "    n_spaces : int\n",
    "        space between points.\n",
    "    \"\"\"\n",
    "    X, Y, Z = np.mgrid[xmin:xmax:n_spaces, ymin:ymax:n_spaces, zmin:zmax:n_spaces]\n",
    "    cart_grid = np.vstack([X.ravel(), Y.ravel(), Z.ravel()])\n",
    "    return cart_grid\n",
    "    #figure(figsize=(5,5))\n",
    "    #scatter(cart_grid[0], cart_grid[1], s=0.1)"
   ]
  },
  {
   "cell_type": "code",
   "execution_count": 13,
   "metadata": {
    "collapsed": true
   },
   "outputs": [],
   "source": [
    "grid_pos = grid_gen(-100, 100, -100, 100, -100, 100, 3)\n"
   ]
  },
  {
   "cell_type": "code",
   "execution_count": 14,
   "metadata": {
    "collapsed": false
   },
   "outputs": [
    {
     "name": "stdout",
     "output_type": "stream",
     "text": [
      "4.499753324353496e-06\n",
      "Returning DM    Mass\n",
      "2.99862\n"
     ]
    }
   ],
   "source": [
    "G = constants.G.to(u.kpc**3 / (u.Msun * u.Gyr**2)).value\n",
    "print(G)\n",
    "G_c = constants.G\n",
    "G_c = G_c.to(u.kiloparsec**3 / (u.s**2 * u.Msun))\n",
    "G_c2 = G_c.to(u.kiloparsec**3 / (u.Gyr**2 * u.Msun))\n",
    "\n",
    "\n",
    "M = sum(readsnap(path+snap_name+'_000', 'mass', 'dm')) #* 1E10\n",
    "r_s = 3\n",
    "print(M)"
   ]
  },
  {
   "cell_type": "code",
   "execution_count": 15,
   "metadata": {
    "collapsed": false
   },
   "outputs": [],
   "source": [
    "pot_biff_test = biff.potential(ascontiguousarray(grid_pos.T.astype(double)), S_interp[0], T_interp[0], G_c.value, 1, r_s)"
   ]
  },
  {
   "cell_type": "code",
   "execution_count": 16,
   "metadata": {
    "collapsed": true
   },
   "outputs": [],
   "source": [
    "r = sqrt(grid_pos[0]**2 + grid_pos[1]**2  + grid_pos[2]**2)"
   ]
  },
  {
   "cell_type": "code",
   "execution_count": 20,
   "metadata": {
    "collapsed": false
   },
   "outputs": [],
   "source": [
    "pot_hern_test = soda.pot_hernquist(3, r, 2.5E10)"
   ]
  },
  {
   "cell_type": "code",
   "execution_count": 21,
   "metadata": {
    "collapsed": true
   },
   "outputs": [],
   "source": [
    "M_hr = soda.mass_hernquist(3, r, 3E10)"
   ]
  },
  {
   "cell_type": "code",
   "execution_count": 23,
   "metadata": {
    "collapsed": false
   },
   "outputs": [
    {
     "data": {
      "text/plain": [
       "28967025849.783161"
      ]
     },
     "execution_count": 23,
     "metadata": {},
     "output_type": "execute_result"
    }
   ],
   "source": [
    "M_hr[-1]"
   ]
  },
  {
   "cell_type": "code",
   "execution_count": 22,
   "metadata": {
    "collapsed": false
   },
   "outputs": [
    {
     "data": {
      "text/plain": [
       "[<matplotlib.lines.Line2D at 0x7f173eee5860>]"
      ]
     },
     "execution_count": 22,
     "metadata": {},
     "output_type": "execute_result"
    },
    {
     "data": {
      "image/png": "[encoded data removed]",
      "text/plain": [
       "<matplotlib.figure.Figure at 0x7f174279ddd8>"
      ]
     },
     "metadata": {},
     "output_type": "display_data"
    }
   ],
   "source": [
    "plot(r, M_hr)"
   ]
  },
  {
   "cell_type": "code",
   "execution_count": 18,
   "metadata": {
    "collapsed": false
   },
   "outputs": [
    {
     "data": {
      "text/plain": [
       "[<matplotlib.lines.Line2D at 0x7f174284ab70>]"
      ]
     },
     "execution_count": 18,
     "metadata": {},
     "output_type": "execute_result"
    },
    {
     "data": {
      "image/png": "[encoded data removed]",
      "text/plain": [
       "<matplotlib.figure.Figure at 0x7f174284a240>"
      ]
     },
     "metadata": {},
     "output_type": "display_data"
    }
   ],
   "source": [
    "plot(r, pot_biff_test)\n",
    "plot(r, pot_hern_test)"
   ]
  },
  {
   "cell_type": "code",
   "execution_count": 25,
   "metadata": {
    "collapsed": true
   },
   "outputs": [],
   "source": [
    "acc_biff_test = biff.gradient(ascontiguousarray(grid_pos.T.astype(double)), S_interp[0], T_interp[0], G_c.value, 1, r_s)"
   ]
  },
  {
   "cell_type": "code",
   "execution_count": 26,
   "metadata": {
    "collapsed": false
   },
   "outputs": [],
   "source": [
    "a_hern_test = soda.a_hernquist(r_s, grid_pos[0], grid_pos[1], grid_pos[2], 2.89E10)"
   ]
  },
  {
   "cell_type": "code",
   "execution_count": 27,
   "metadata": {
    "collapsed": false
   },
   "outputs": [
    {
     "data": {
      "text/latex": [
       "$9.9588212 \\times 10^{32} \\; \\mathrm{\\frac{kpc}{Gyr^{2}}}$"
      ],
      "text/plain": [
       "<Quantity 9.9588211776e+32 kpc / Gyr2>"
      ]
     },
     "execution_count": 27,
     "metadata": {},
     "output_type": "execute_result"
    }
   ],
   "source": [
    "convtokms = 1 * u.kpc / u.s**2\n",
    "convtokms = convtokms.to(u.kpc/u.Gyr**2)\n",
    "convtokms"
   ]
  },
  {
   "cell_type": "code",
   "execution_count": 27,
   "metadata": {
    "collapsed": false
   },
   "outputs": [
    {
     "data": {
      "text/plain": [
       "-2.5151108485187105e-33"
      ]
     },
     "execution_count": 27,
     "metadata": {},
     "output_type": "execute_result"
    }
   ],
   "source": [
    "acc_biff_test[0][0]"
   ]
  },
  {
   "cell_type": "code",
   "execution_count": 28,
   "metadata": {
    "collapsed": false
   },
   "outputs": [
    {
     "data": {
      "text/plain": [
       "<matplotlib.collections.PathCollection at 0x7f923a256898>"
      ]
     },
     "execution_count": 28,
     "metadata": {},
     "output_type": "execute_result"
    },
    {
     "data": {
      "image/png": "[encoded data removed]",
      "text/plain": [
       "<matplotlib.figure.Figure at 0x7f923db20dd8>"
      ]
     },
     "metadata": {},
     "output_type": "display_data"
    }
   ],
   "source": [
    "scatter(grid_pos[0], np.log10((a_hern_test[0])), s=0.1)\n",
    "scatter(grid_pos[0], np.log10((-acc_biff_test[:,0])*convtokms.value), s=0.1)"
   ]
  },
  {
   "cell_type": "markdown",
   "metadata": {},
   "source": [
    "# 5. Use leapfrog with the interpolated coefficients and with biff"
   ]
  },
  {
   "cell_type": "code",
   "execution_count": 28,
   "metadata": {
    "collapsed": true
   },
   "outputs": [],
   "source": [
    "import sys\n",
    "sys.path.insert(0, '../../../BFE_integrator/src/')\n",
    "import leapfrog_bfe"
   ]
  },
  {
   "cell_type": "code",
   "execution_count": 29,
   "metadata": {
    "collapsed": false
   },
   "outputs": [],
   "source": [
    "\n",
    "t_orb, x_orb, y_orb, z_orb, vx_orb, vy_orb, vz_orb = leapfrog_bfe.integrate_biff_t(10, 0, 0, 0, 100, 0, 2, S_interp, \\\n",
    "                                                                                   T_interp, G_c.value, 1, r_s)"
   ]
  },
  {
   "cell_type": "code",
   "execution_count": 30,
   "metadata": {
    "collapsed": false
   },
   "outputs": [],
   "source": [
    "t_orb_biff_st, x_orb_biff_st, y_orb_biff_st, z_orb_biff_st, vx_orb_biff_st, vy_orb_biff_st, vz_orb_biff_st = leapfrog_bfe.integrate_biff(10, 0, 0, 0, 100, 0, 2, S_interp[0], \\\n",
    "                                                                                                                                         T_interp[0], G_c.value, 1, r_s)\n"
   ]
  },
  {
   "cell_type": "markdown",
   "metadata": {},
   "source": [
    "# 6. Compare with analytic Hernquist."
   ]
  },
  {
   "cell_type": "code",
   "execution_count": 31,
   "metadata": {
    "collapsed": false
   },
   "outputs": [],
   "source": [
    "t_orb_an, x_orb_an, y_orb_an, z_orb_an, vx_orb_an, vy_orb_an, vz_orb_an = leapfrog_bfe.integrate_hern(10, 0, 0, 0, 100,\\\n",
    "                                                                                                      0, 2, M*1E10, r_s)"
   ]
  },
  {
   "cell_type": "code",
   "execution_count": 32,
   "metadata": {
    "collapsed": false
   },
   "outputs": [
    {
     "data": {
      "text/plain": [
       "<matplotlib.legend.Legend at 0x7f173ee638d0>"
      ]
     },
     "execution_count": 32,
     "metadata": {},
     "output_type": "execute_result"
    },
    {
     "data": {
      "image/png": "[encoded data removed]",
      "text/plain": [
       "<matplotlib.figure.Figure at 0x7f173ee83ac8>"
      ]
     },
     "metadata": {},
     "output_type": "display_data"
    }
   ],
   "source": [
    "figure(figsize=(7, 5))\n",
    "plot(t_orb, z_orb, label='BFE orbit')\n",
    "plot(t_orb_biff_st, z_orb_biff_st, label='BFE orbit static')\n",
    "plot(t_orb_an, z_orb_an, label='Analytic')\n",
    "legend()"
   ]
  },
  {
   "cell_type": "code",
   "execution_count": 33,
   "metadata": {
    "collapsed": false
   },
   "outputs": [
    {
     "data": {
      "text/plain": [
       "<matplotlib.legend.Legend at 0x7f173edeeb70>"
      ]
     },
     "execution_count": 33,
     "metadata": {},
     "output_type": "execute_result"
    },
    {
     "data": {
      "image/png": "[encoded data removed]",
      "text/plain": [
       "<matplotlib.figure.Figure at 0x7f173ee1fc18>"
      ]
     },
     "metadata": {},
     "output_type": "display_data"
    }
   ],
   "source": [
    "figure(figsize=(5,5))\n",
    "plot(x_orb, y_orb, label='BFE orbit')\n",
    "plot(x_orb_biff_st, y_orb_biff_st, label='BFE orbit static')\n",
    "plot(x_orb_an, y_orb_an, label='Analytic')\n",
    "legend()"
   ]
  },
  {
   "cell_type": "markdown",
   "metadata": {},
   "source": [
    "# 7. Compare with N-body orbit"
   ]
  },
  {
   "cell_type": "code",
   "execution_count": null,
   "metadata": {
    "collapsed": true
   },
   "outputs": [],
   "source": []
  }
 ],
 "metadata": {
  "kernelspec": {
   "display_name": "Python 3",
   "language": "python",
   "name": "python3"
  },
  "language_info": {
   "codemirror_mode": {
    "name": "ipython",
    "version": 3
   },
   "file_extension": ".py",
   "mimetype": "text/x-python",
   "name": "python",
   "nbconvert_exporter": "python",
   "pygments_lexer": "ipython3",
   "version": "3.4.3"
  }
 },
 "nbformat": 4,
 "nbformat_minor": 0
}
