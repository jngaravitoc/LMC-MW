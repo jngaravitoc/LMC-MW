{
 "cells": [
  {
   "cell_type": "markdown",
   "metadata": {},
   "source": [
    "# Applying the SCF method to a MW like galaxy with Bulge, disk and DM\n",
    "\n"
   ]
  },
  {
   "cell_type": "code",
   "execution_count": 1,
   "metadata": {
    "collapsed": false
   },
   "outputs": [],
   "source": [
    "import matplotlib as mpl\n",
    "import matplotlib.pyplot as plt\n",
    "from matplotlib import gridspec\n",
    "import matplotlib.cm as cm\n",
    "import numpy as np\n",
    "from astropy import constants\n",
    "from astropy import units as u\n",
    "%matplotlib inline\n",
    "\n",
    "import biff\n",
    "from pygadgetreader import *\n",
    "from halo import *\n",
    "from soda import *"
   ]
  },
  {
   "cell_type": "code",
   "execution_count": 2,
   "metadata": {
    "collapsed": false
   },
   "outputs": [],
   "source": [
    "font = {'size':16, 'family':'serif'}\n",
    "plt.matplotlib.rc('font', **font)"
   ]
  },
  {
   "cell_type": "code",
   "execution_count": 3,
   "metadata": {
    "collapsed": false
   },
   "outputs": [],
   "source": [
    "G_c = constants.G\n",
    "G_c = G_c.to(u.kiloparsec**3 / (u.s**2 * u.Msun)) # \n",
    "\n",
    "# From N-body potential to kpc^2/s^2\n",
    "# in gadget G=43007.1 \n",
    "pot_factor = G_c/43007.1 #*1E10\n",
    "r_s = 40.85"
   ]
  },
  {
   "cell_type": "code",
   "execution_count": 4,
   "metadata": {
    "collapsed": false
   },
   "outputs": [
    {
     "data": {
      "text/latex": [
       "$44997.533 \\; \\mathrm{\\frac{kpc^{3}}{M_{\\odot}\\,Gyr^{2}}}$"
      ],
      "text/plain": [
       "<Quantity 44997.53324353495 kpc3 / (Gyr2 solMass)>"
      ]
     },
     "execution_count": 4,
     "metadata": {},
     "output_type": "execute_result"
    }
   ],
   "source": [
    "G_c.to((u.kiloparsec)**3.0 / (u.Gyr**2.0 * u.Msun))*1E10"
   ]
  },
  {
   "cell_type": "code",
   "execution_count": 5,
   "metadata": {
    "collapsed": false
   },
   "outputs": [],
   "source": [
    "# constants.G.to(u.cm**3/(u.s**2.0 * u.gram)) / ((3.08567E21) * (1E5)**2 / 1.989E43) "
   ]
  },
  {
   "cell_type": "markdown",
   "metadata": {},
   "source": [
    "# To-do\n",
    "1. Check 1.4 factor in the potential!\n",
    "2. Play with more coefficients in $n, l, m$\n",
    "3. Make 2d plots\n",
    "4. Compare the value of the potential at a given positions"
   ]
  },
  {
   "cell_type": "code",
   "execution_count": 6,
   "metadata": {
    "collapsed": false
   },
   "outputs": [],
   "source": [
    "# Simulated data:\n",
    "#../../data/MW_models/pm/MWN2vir_001.hdf5\n",
    "MW_pos = readsnap('../../data/MW_models/triaxial/spherical_002.hdf5', 'pos', 'dm')\n",
    "MW_vel = readsnap('../../data/MW_models/triaxial/spherical_002.hdf5', 'vel', 'dm')\n",
    "MW_mass = readsnap('../../data/MW_models/triaxial/spherical_002.hdf5', 'mass', 'dm')\n",
    "#MW_disk = readsnap('../../data/MW_models/triaxial/spherical_002.hdf5', 'pos', 'disk')\n",
    "#MW_bulge = readsnap('../../data/MW_models/triaxial/spherical_002.hdf5', 'pos', 'bulge')\n",
    "#MWf_bulge = readsnap('../../data/LMCMW/MWmLMC6/H1/MWfLMC6H1_130.hdf5', 'pos', 'bulge')\n",
    "MW_pot = readsnap('../../data/MW_models/triaxial/spherical_002.hdf5', 'pot', 'dm')\n",
    "\n",
    "#MW_sph_pot = readsnap('../../data/MW_models/triaxial/spherical_002.hdf5', 'pot', 'dm')\n",
    "#MW_sph_pos = readsnap('../../data/MW_models/triaxial/spherical_002.hdf5', 'pos', 'dm')"
   ]
  },
  {
   "cell_type": "code",
   "execution_count": 7,
   "metadata": {
    "collapsed": false
   },
   "outputs": [],
   "source": [
    "MW_pos_t, MW_vel_t, MW_mass_t, MW_pot_t = truncate(MW_pos, MW_vel, 500, MW_mass, MW_pot)"
   ]
  },
  {
   "cell_type": "code",
   "execution_count": 78,
   "metadata": {
    "collapsed": false
   },
   "outputs": [],
   "source": [
    "S_test, T_test = biff.compute_coeffs_discrete(MW_pos.astype(np.float64), (np.ones(len(MW_pos))).astype(np.float64), 15, 0, r_s=1)\n",
    "pot_test = biff.potential(MW_pos.astype(np.float64), S_test, T_test, G=100, M=1, r_s=40.85)\n",
    "pot_test2 = biff.potential(MW_pos.astype(np.float64), S_test, T_test, G=100, M=1, r_s=1)"
   ]
  },
  {
   "cell_type": "code",
   "execution_count": 79,
   "metadata": {
    "collapsed": true
   },
   "outputs": [],
   "source": [
    "pot_hernquist?"
   ]
  },
  {
   "cell_type": "code",
   "execution_count": 80,
   "metadata": {
    "collapsed": true
   },
   "outputs": [],
   "source": [
    "pot_test_teo = pot_hernquist(40.85,np.sqrt(MW_pos[:,0]**2.0 + MW_pos[:,1]**2.0 + MW_pos[:,2]**2), len(MW_pos), 100)\n",
    "pot_test_teo2 = pot_hernquist(1,np.sqrt(MW_pos[:,0]**2.0 + MW_pos[:,1]**2.0 + MW_pos[:,2]**2), len(MW_pos), 100)\n"
   ]
  },
  {
   "cell_type": "code",
   "execution_count": 81,
   "metadata": {
    "collapsed": false
   },
   "outputs": [
    {
     "data": {
      "text/plain": [
       "[<matplotlib.lines.Line2D at 0x7f4bd65d5908>]"
      ]
     },
     "execution_count": 81,
     "metadata": {},
     "output_type": "execute_result"
    },
    {
     "data": {
      "image/png": "[encoded data removed]",
      "text/plain": [
       "<matplotlib.figure.Figure at 0x7f4bd6126dd8>"
      ]
     },
     "metadata": {},
     "output_type": "display_data"
    }
   ],
   "source": [
    "plt.loglog(np.sqrt(MW_pos[:,0]**2.0 + MW_pos[:,1]**2.0 + MW_pos[:,2]**2), np.abs(pot_test))\n",
    "plt.loglog(np.sqrt(MW_pos[:,0]**2.0 + MW_pos[:,1]**2.0 + MW_pos[:,2]**2), np.abs(pot_test_teo), c='b', alpha=0.5)\n",
    "\n",
    "plt.loglog(np.sqrt(MW_pos[:,0]**2.0 + MW_pos[:,1]**2.0 + MW_pos[:,2]**2), np.abs(pot_test2), c='k')\n",
    "plt.loglog(np.sqrt(MW_pos[:,0]**2.0 + MW_pos[:,1]**2.0 + MW_pos[:,2]**2), np.abs(pot_test_teo2), c='k', alpha=0.5)\n",
    "#plt.xlim(1, 1E5)"
   ]
  },
  {
   "cell_type": "code",
   "execution_count": 76,
   "metadata": {
    "collapsed": false
   },
   "outputs": [
    {
     "data": {
      "text/plain": [
       "1855294976849.1089"
      ]
     },
     "execution_count": 76,
     "metadata": {},
     "output_type": "execute_result"
    }
   ],
   "source": [
    "Total_Mass = sum(MW_mass)\n",
    "Total_Mass_t = sum(MW_mass_t)\n",
    "\n",
    "Total_Mass*1E10"
   ]
  },
  {
   "cell_type": "code",
   "execution_count": 58,
   "metadata": {
    "collapsed": false
   },
   "outputs": [],
   "source": [
    "## Code taken from (https://github.com/adrn/biff/blob/master/notebooks/Plummer%20test.ipynb)\n",
    "Sspheric, Tspheric = biff.compute_coeffs_discrete(MW_pos.astype(np.float64), (MW_mass*1E10).astype(np.float64), 15, 0, 1)\n"
   ]
  },
  {
   "cell_type": "code",
   "execution_count": 82,
   "metadata": {
    "collapsed": false
   },
   "outputs": [],
   "source": [
    "rho_Biff = biff.density(MW_pos_t.astype(np.float64), Sspheric, Tspheric, Total_Mass_t, r_s)\n",
    "pot_Biff = biff.potential(MW_pos_t.astype(np.float64), Sspheric, Tspheric, G_c.value, M=1, r_s=1)"
   ]
  },
  {
   "cell_type": "code",
   "execution_count": 83,
   "metadata": {
    "collapsed": true
   },
   "outputs": [],
   "source": [
    "def pot_err(pot_nb, pot_biff):\n",
    "    err = (np.log10(np.abs(pot_nb)) - np.log10(np.abs(pot_biff)))/(np.log10(np.abs(pot_nb)))\n",
    "    #print(np.log10(np.abs(pot_nb)), np.log10(np.abs(pot_bitt)))\n",
    "    return err"
   ]
  },
  {
   "cell_type": "code",
   "execution_count": 84,
   "metadata": {
    "collapsed": false
   },
   "outputs": [],
   "source": [
    "r_MW_t = np.sqrt(MW_pos_t[:,0]**2.0 + MW_pos_t[:,1]**2.0 + MW_pos_t[:,2]**2.0)\n",
    "#r_MW = np.sqrt(MW[:,0]**2.0 + MW[:,1]**2.0 + MW[:,2]**2.0)\n",
    "#rho_teo_s = profiles.dens_hernquist(40.85, np.sort(r_MW_t), Total_Mass) \n",
    "rho_teo = profiles.dens_hernquist(40.85, r_MW_t, 0, 0, Total_Mass_t) \n",
    "pot_teo = profiles.pot_hernquist(40.85, r_MW_t, Total_Mass_t*1E10, G_c.value) "
   ]
  },
  {
   "cell_type": "code",
   "execution_count": 85,
   "metadata": {
    "collapsed": false
   },
   "outputs": [
    {
     "data": {
      "text/plain": [
       "(1, 1000.0)"
      ]
     },
     "execution_count": 85,
     "metadata": {},
     "output_type": "execute_result"
    },
    {
     "data": {
      "image/png": "[encoded data removed]",
      "text/plain": [
       "<matplotlib.figure.Figure at 0x7f4bd77a0cf8>"
      ]
     },
     "metadata": {},
     "output_type": "display_data"
    }
   ],
   "source": [
    "plt.figure(figsize=(7,5))\n",
    "plt.loglog(r_MW_t, np.abs(pot_Biff), label='SCF')\n",
    "plt.loglog(r_MW_t, np.abs(pot_teo), label='Hernquist')\n",
    "plt.loglog(r_MW_t, np.abs(MW_pot_t)*pot_factor*1E10, label='N-body')\n",
    "plt.legend(loc='best')\n",
    "\n",
    "plt.xlim(1, 1E3)"
   ]
  },
  {
   "cell_type": "code",
   "execution_count": 86,
   "metadata": {
    "collapsed": true
   },
   "outputs": [],
   "source": [
    "# Writing coefficients into a file.\n",
    "def writting_coeff(name, S, T):\n",
    "    f = open(name, 'w')\n",
    "    f.write(\"# S    T \\n\")\n",
    "    S1d = np.reshape(S, (np.size(S),1))\n",
    "    T1d = np.reshape(T, (np.size(T),1))\n",
    "    for i in range(len(S1d)):\n",
    "        f.write(\"%f %f \\n\"%(S1d[i][0], T1d[i][0]))\n",
    "    f.close"
   ]
  },
  {
   "cell_type": "code",
   "execution_count": 26,
   "metadata": {
    "collapsed": false
   },
   "outputs": [
    {
     "data": {
      "text/plain": [
       "[<matplotlib.lines.Line2D at 0x7f4bd79f5a20>]"
      ]
     },
     "execution_count": 26,
     "metadata": {},
     "output_type": "execute_result"
    },
    {
     "data": {
      "image/png": "[encoded data removed]",
      "text/plain": [
       "<matplotlib.figure.Figure at 0x7f4bd78c62b0>"
      ]
     },
     "metadata": {},
     "output_type": "display_data"
    }
   ],
   "source": [
    "EP = pot_err(pot_Biff, MW_pot_t)\n",
    "plt.plot(EP)"
   ]
  },
  {
   "cell_type": "code",
   "execution_count": 14,
   "metadata": {
    "collapsed": false
   },
   "outputs": [
    {
     "data": {
      "text/plain": [
       "[<matplotlib.lines.Line2D at 0x7f798aacbe80>]"
      ]
     },
     "execution_count": 14,
     "metadata": {},
     "output_type": "execute_result"
    },
    {
     "data": {
      "image/png": "[encoded data removed]",
      "text/plain": [
       "<matplotlib.figure.Figure at 0x7f798aa61710>"
      ]
     },
     "metadata": {},
     "output_type": "display_data"
    }
   ],
   "source": [
    "plt.loglog(r_MW_t, rho_Biff)\n",
    "plt.loglog(r_MW_t, rho_teo)"
   ]
  },
  {
   "cell_type": "code",
   "execution_count": 12,
   "metadata": {
    "collapsed": true
   },
   "outputs": [],
   "source": [
    "def SCF_diff_radii(pos, M, r_lim):\n",
    "    index = np.where(np.sqrt(pos[:,0]**2.0+pos[:,1]**2.0+pos[:,2]**2.0)<r_lim)[0]\n",
    "    Sspheric, Tspheric = biff.compute_coeffs_discrete(pos[index].astype(np.float64), M[index].astype(np.float64),15, 0, r_s)\n",
    "    rho_Biff = biff.density(pos[index].astype(np.float64), Sspheric, Tspheric, sum(M), r_s)\n",
    "    pot_Biff = biff.potential(pos[index].astype(np.float64), Sspheric, Tspheric, 43007.1, sum(M), r_s)\n",
    "    r = np.sqrt(pos[index,0]**2.0+pos[index,1]**2.0+pos[index,2]**2.0)\n",
    "    return r, rho_Biff, pot_Biff\n",
    "\n",
    "\n",
    "    "
   ]
  },
  {
   "cell_type": "code",
   "execution_count": 13,
   "metadata": {
    "collapsed": false
   },
   "outputs": [
    {
     "data": {
      "text/plain": [
       "(1, 300)"
      ]
     },
     "execution_count": 13,
     "metadata": {},
     "output_type": "execute_result"
    },
    {
     "data": {
      "image/png": "[encoded data removed]",
      "text/plain": [
       "<matplotlib.figure.Figure at 0x7f7989e05c50>"
      ]
     },
     "metadata": {},
     "output_type": "display_data"
    }
   ],
   "source": [
    "rcuts = np.linspace(10, 300, 5)\n",
    "plt.figure(figsize=(14,6))\n",
    "\n",
    "plt.subplot(1, 2, 1)\n",
    "for i in range(len(rcuts)):\n",
    "    r, rho, pot = SCF_diff_radii(MW_pos_t, MW_mass_t, rcuts[i])\n",
    "    sorting = np.argsort(r, axis=0)\n",
    "    plt.loglog(r[sorting], rho[sorting], lw=2)\n",
    "    #plt.loglog(r[sorting], np.abs(pot[sorting]))\n",
    "\n",
    "\n",
    "plt.xlabel('$\\mathrm{r[Kpc]}$', fontsize=25)\n",
    "plt.ylabel(r'$\\mathrm{\\rho}$', fontsize=25)\n",
    "plt.xlim(1, 300)\n",
    "\n",
    "plt.subplot(1, 2, 2)\n",
    "for i in range(len(rcuts)):\n",
    "    r, rho, pot = SCF_diff_radii(MW_pos_t, MW_mass_t, rcuts[i])\n",
    "    sorting = np.argsort(r, axis=0)\n",
    "    plt.loglog(r[sorting], np.abs(pot[sorting]), lw=2)\n",
    "    #plt.loglog(r[sorting], np.abs(pot[sorting]))\n",
    "    \n",
    "    \n",
    "plt.xlabel('$\\mathrm{r[Kpc]}$', fontsize=25)\n",
    "plt.ylabel('$\\mathrm{\\Phi}$', fontsize=25)\n",
    "plt.xlim(1, 300)"
   ]
  },
  {
   "cell_type": "code",
   "execution_count": 15,
   "metadata": {
    "collapsed": true
   },
   "outputs": [],
   "source": [
    "def sortingx(x,y):\n",
    "    sort_arg = np.argsort(x, axis=0)\n",
    "    return x[sort_arg], y[sort_arg]"
   ]
  },
  {
   "cell_type": "code",
   "execution_count": 16,
   "metadata": {
    "collapsed": false
   },
   "outputs": [
    {
     "ename": "NameError",
     "evalue": "name 'r_MW' is not defined",
     "output_type": "error",
     "traceback": [
      "\u001b[0;31m---------------------------------------------------------------------------\u001b[0m",
      "\u001b[0;31mNameError\u001b[0m                                 Traceback (most recent call last)",
      "\u001b[0;32m<ipython-input-16-6b153a85486a>\u001b[0m in \u001b[0;36m<module>\u001b[0;34m()\u001b[0m\n\u001b[1;32m      1\u001b[0m \u001b[0;31m# Sorting density arrays\u001b[0m\u001b[0;34m\u001b[0m\u001b[0;34m\u001b[0m\u001b[0m\n\u001b[0;32m----> 2\u001b[0;31m \u001b[0mdens_mw1\u001b[0m \u001b[0;34m=\u001b[0m \u001b[0mnp\u001b[0m\u001b[0;34m.\u001b[0m\u001b[0mzeros\u001b[0m\u001b[0;34m(\u001b[0m\u001b[0;34m(\u001b[0m\u001b[0mlen\u001b[0m\u001b[0;34m(\u001b[0m\u001b[0mr_MW\u001b[0m\u001b[0;34m)\u001b[0m\u001b[0;34m,\u001b[0m \u001b[0;36m2\u001b[0m\u001b[0;34m)\u001b[0m\u001b[0;34m)\u001b[0m\u001b[0;34m\u001b[0m\u001b[0m\n\u001b[0m\u001b[1;32m      3\u001b[0m \u001b[0mdens_mw1\u001b[0m\u001b[0;34m[\u001b[0m\u001b[0;34m:\u001b[0m\u001b[0;34m,\u001b[0m\u001b[0;36m0\u001b[0m\u001b[0;34m]\u001b[0m\u001b[0;34m,\u001b[0m \u001b[0mdens_mw1\u001b[0m\u001b[0;34m[\u001b[0m\u001b[0;34m:\u001b[0m\u001b[0;34m,\u001b[0m\u001b[0;36m1\u001b[0m\u001b[0;34m]\u001b[0m \u001b[0;34m=\u001b[0m \u001b[0msortingx\u001b[0m\u001b[0;34m(\u001b[0m\u001b[0mr_MW\u001b[0m\u001b[0;34m,\u001b[0m \u001b[0mMWbfe_rho\u001b[0m\u001b[0;34m)\u001b[0m\u001b[0;34m\u001b[0m\u001b[0m\n\u001b[1;32m      4\u001b[0m \u001b[0;34m\u001b[0m\u001b[0m\n\u001b[1;32m      5\u001b[0m \u001b[0mdens_mw2\u001b[0m \u001b[0;34m=\u001b[0m \u001b[0mnp\u001b[0m\u001b[0;34m.\u001b[0m\u001b[0mzeros\u001b[0m\u001b[0;34m(\u001b[0m\u001b[0;34m(\u001b[0m\u001b[0mlen\u001b[0m\u001b[0;34m(\u001b[0m\u001b[0mr_MW\u001b[0m\u001b[0;34m)\u001b[0m\u001b[0;34m,\u001b[0m \u001b[0;36m2\u001b[0m\u001b[0;34m)\u001b[0m\u001b[0;34m)\u001b[0m\u001b[0;34m\u001b[0m\u001b[0m\n",
      "\u001b[0;31mNameError\u001b[0m: name 'r_MW' is not defined"
     ]
    }
   ],
   "source": [
    "# Sorting density arrays\n",
    "dens_mw1 = np.zeros((len(r_MW), 2))\n",
    "dens_mw1[:,0], dens_mw1[:,1] = sortingx(r_MW, MWbfe_rho)\n",
    "\n",
    "dens_mw2 = np.zeros((len(r_MW), 2))\n",
    "dens_mw2[:,0], dens_mw2[:,1] = sortingx(r_MW, MWbfe_rho2)\n",
    "\n",
    "dens_teo = np.zeros((len(r_MW), 2))\n",
    "dens_teo[:,0], dens_teo[:,1] = sortingx(r_MW, rho_teo)\n",
    "\n",
    "residuals1 = np.zeros((len(r_MW), 2))\n",
    "residuals1[:,0], residuals1[:,1] = sortingx(r_MW, (dens_mw1[:,1] - dens_teo[:,1])/dens_teo[:,1])\n",
    "\n",
    "residuals2 = np.zeros((len(r_MW), 2))\n",
    "residuals2[:,0], residuals2[:,1] = sortingx(r_MW, (dens_mw2[:,1] - (dens_teo[:,1]))/dens_teo[:,1])\n"
   ]
  },
  {
   "cell_type": "code",
   "execution_count": null,
   "metadata": {
    "collapsed": false
   },
   "outputs": [],
   "source": [
    "#fig, ax1 = plt.subplots(1, 1, figsize=[5, 5])\n",
    "#gs = gridspec.GridSpec(1, 1, width_ratios=[1,1], height_ratios=[1,1])\n",
    "plt.figure(figsize=(5,5))\n",
    "#ax1 = plt.subplot(gs[0])\n",
    "plt.loglog(dens_mw1[:,0], dens_mw1[:,1], label='$n_{max} = 1$', lw=1.5, alpha=1)\n",
    "plt.loglog(dens_mw2[:,0], dens_mw2[:,1], label='$n_{max} = 10$', lw=1.5, alpha=1)\n",
    "#a.loglog(dens_mw3[:,0], dens_mw3[:,1], label='$n_{max} = 20$', lw=2, alpha=1)\n",
    "#ax1.loglog(r_MW_t, MWbfe_rho4, label='$n_{max} = 5,\\ l_{max}=5$')\n",
    "plt.loglog(dens_teo[:,0], dens_teo[:,1], label='$\\mathrm{Analytic}$', lw=1.5, c='k')\n",
    "plt.legend(fontsize=15, loc='best')\n",
    "plt.ylabel(r'$\\rho$', fontsize=25)\n",
    "plt.xlabel(r'$r[kpc]$', fontsize=25)\n",
    "#plt.xlim(1E-1, 1E3)\n",
    "\n",
    "#ax2 = plt.subplot(gs[1])\n",
    "#ax2.semilogx(residuals1[:,0], residuals1[:,1], lw=1.5)\n",
    "#ax2.semilogx(residuals2[:,0], residuals2[:,1], lw=1.5)\n",
    "#ax2.semilogx(residuals3[:,0], residuals3[:,1], lw=1.5)\n",
    "#ax2.semilogx(residuals4[:,0], residuals4[:,1])\n",
    "#ax2.set_xlabel(r'$r[kpc]$', fontsize=25)\n",
    "#ax2.set_ylabel(r'$\\Delta \\rho / \\rho$', fontsize=25)\n",
    "#ax2.set_ylim(0.1, 0.4)\n",
    "#ax2.set_xlim(1E-1, 1E3)\n",
    "plt.savefig('rho_MW.png', dpi=300, bbox_inches='tight')"
   ]
  },
  {
   "cell_type": "code",
   "execution_count": null,
   "metadata": {
    "collapsed": false
   },
   "outputs": [],
   "source": [
    "r = np.linspace(0.1, 500, 1000)\n",
    "hernpot = profiles.pot_hernquist(40.85, r_MW, Total_Mass)\n",
    "\n",
    "\n",
    "#disk_pot = profiles.pot_mn(0.638, 2.9,r, 0, 0, 5.78E10)\n",
    "#bulge_pot = profiles.pot_hernquist(0.7, r, 1.4E10)\n",
    "\n",
    "#bulge_pot_hex = profiles.pot_hernquist(0.7, r_MW_t, 1.4E10)\n",
    "#disk_pot_hex = profiles.pot_mn(0.638, 2.9, r_MW_t, 0, 0, 5.78E10)\n",
    "\n"
   ]
  },
  {
   "cell_type": "code",
   "execution_count": null,
   "metadata": {
    "collapsed": false
   },
   "outputs": [],
   "source": [
    "factor=1.0\n",
    "pot_mw1 = np.zeros((len(r_MW), 2))\n",
    "pot_mw1[:,0], pot_mw1[:,1] = sortingx(r_MW, np.abs(MWbfe_pot))\n",
    "\n",
    "pot_teo = np.zeros((len(r_MW), 2))\n",
    "pot_teo[:,0], pot_teo[:,1] = sortingx(r_MW, np.abs(hernpot))\n",
    "\n",
    "\n",
    "pot_res1 = np.zeros((len(r_MW), 2))\n",
    "pot_res1[:,0], pot_res1[:,1] = sortingx(r_MW, (pot_mw1[:,1]-pot_teo[:,1])/pot_teo[:,1])\n",
    "\n",
    "\n",
    "#pot_mw2 = np.zeros((len(r_MW_t), 2))\n",
    "#pot_mw2[:,0], pot_mw2[:,1] = sortingx(r_MW_t, np.abs(MWbfe_pot/factor + bulge_pot_hex + disk_pot_hex))\n",
    "\n",
    "#pot_mw3 = np.zeros((len(r_MW_t), 2))\n",
    "#pot_mw3[:,0], pot_mw3[:,1] = sortingx(r_MW_t, np.abs(MW_pot_t)*pot_factor)\n",
    "\n",
    "#pot_mw4 = np.zeros((len(r_MW_t), 2))\n",
    "#pot_mw4[:,0], pot_mw4[:,1] = sortingx(r_MW_t, np.abs(MWbfe_pot2/factor + bulge_pot_hex + disk_pot_hex))\n",
    "\n",
    "\n",
    "#pot_mw5 = np.zeros((len(r_MW_t), 2))\n",
    "#pot_mw5[:,0], pot_mw5[:,1] = sortingx(r_MW_t, np.abs(MWbfe_pot4/factor + bulge_pot_hex + disk_pot_hex))"
   ]
  },
  {
   "cell_type": "code",
   "execution_count": null,
   "metadata": {
    "collapsed": true
   },
   "outputs": [],
   "source": [
    "# N-body-potentia\n",
    "R_mw = np.sqrt(MW[:,0]**2.0 + MW[:,1]**2.0 + MW[:,2]**2.0)\n",
    "R, POT = sortingx(R_mw, MW_pot)"
   ]
  },
  {
   "cell_type": "code",
   "execution_count": null,
   "metadata": {
    "collapsed": false
   },
   "outputs": [],
   "source": [
    "plt.figure(figsize=(5,5))\n",
    "plt.loglog(pot_mw1[:,0], pot_mw1[:,1]*h, lw=1.5, label='$\\mathrm{SCF}$')\n",
    "plt.loglog(pot_teo[:,0], pot_teo[:,1], c='k', lw=1.5, label='$\\mathrm{Theo}$')\n",
    "plt.loglog(R, np.abs(POT)*pot_factor/1E10/h, label='$\\mathrm{N-body}$')\n",
    "plt.xlabel('$r[kpc]$', fontsize=30)\n",
    "plt.ylabel('$\\phi$', fontsize=30)\n",
    "plt.legend(loc='best', fontsize=15)\n",
    "#plt.ylim(1E-39, 1E-38)\n",
    "plt.savefig('scf_mw_pot.png', bbox_inches='tight', dpi=300)"
   ]
  },
  {
   "cell_type": "code",
   "execution_count": null,
   "metadata": {
    "collapsed": false
   },
   "outputs": [],
   "source": [
    "plt.plot(pot_res1[:,0], pot_res1[:,1], c='k', lw=1.5)"
   ]
  },
  {
   "cell_type": "code",
   "execution_count": null,
   "metadata": {
    "collapsed": false
   },
   "outputs": [],
   "source": [
    "print(np.max(MWbfe_pot))"
   ]
  },
  {
   "cell_type": "code",
   "execution_count": null,
   "metadata": {
    "collapsed": false
   },
   "outputs": [],
   "source": [
    "MW_pot_dif = np.abs(MW_pot_t)*pot_factor.value - np.abs(MWbfe_pot)/factor"
   ]
  },
  {
   "cell_type": "code",
   "execution_count": null,
   "metadata": {
    "collapsed": false
   },
   "outputs": [],
   "source": [
    "x_MW1_dif, y_MW1_dif, potMW1_dif = pot_contour(MW_t[:,0], MW_t[:,1], MW_pot_dif, 100)\n",
    "\n"
   ]
  },
  {
   "cell_type": "code",
   "execution_count": null,
   "metadata": {
    "collapsed": true
   },
   "outputs": [],
   "source": [
    "y_MW2_dif, z_MW2_dif, potMW2_dif = pot_contour(MW_t[:,1], MW_t[:,2], MW_pot_dif, 100)"
   ]
  },
  {
   "cell_type": "code",
   "execution_count": null,
   "metadata": {
    "collapsed": false
   },
   "outputs": [],
   "source": [
    "plt.scatter(MW_t[:,1], MW_t[:,2],c= MW_pot_dif, s=0.1, edgecolor='none')\n",
    "plt.colorbar()\n",
    "plt.xlim(-40, 40)\n",
    "plt.ylim(-40, 40)"
   ]
  },
  {
   "cell_type": "code",
   "execution_count": null,
   "metadata": {
    "collapsed": false
   },
   "outputs": [],
   "source": [
    "plt.contourf(x_MW1_dif, y_MW1_dif, potMW1_dif, origin='lower', cmap = plt.cm.bone)\n",
    "plt.colorbar()\n",
    "plt.xlim(-100, 100)\n",
    "plt.ylim(-100, 100)\n"
   ]
  },
  {
   "cell_type": "code",
   "execution_count": null,
   "metadata": {
    "collapsed": false
   },
   "outputs": [],
   "source": [
    "plt.contourf(y_MW2_dif, z_MW2_dif, potMW2_dif, origin='lower', cmap = plt.cm.bone)\n",
    "plt.colorbar()\n",
    "plt.xlim(-100, 100)\n",
    "plt.ylim(-100, 100)"
   ]
  },
  {
   "cell_type": "code",
   "execution_count": null,
   "metadata": {
    "collapsed": false
   },
   "outputs": [],
   "source": [
    "#plt.semilogx(pot_mw1[:,0], (pot_mw1[:,1]-pot_mw3[:,1])/pot_mw3[:,1], label='$n_{max} = 1$', lw=2)\n",
    "plt.semilogx(pot_mw2[:,0], (pot_mw2[:,1]-pot_mw3[:,1])/pot_mw3[:,1], label='$n_{max} = 1$', lw=2)\n",
    "plt.semilogx(pot_mw4[:,0], (pot_mw4[:,1]-pot_mw3[:,1])/pot_mw3[:,1], label='$n_{max} = 1$', lw=2)\n",
    "plt.semilogx(pot_mw5[:,0], (pot_mw5[:,1]-pot_mw3[:,1])/pot_mw3[:,1], label='$n_{max} = 1$', lw=2)"
   ]
  },
  {
   "cell_type": "code",
   "execution_count": null,
   "metadata": {
    "collapsed": false
   },
   "outputs": [],
   "source": [
    "plt.figure(figsize=(8,6))\n",
    "plt.loglog(pot_mw3[:,0],pot_mw3[:,1], label='$N-body$')\n",
    "plt.loglog(r, np.abs(hernpot + disk_pot + bulge_pot), label='$Analytic:\\ Halo + Disk + Bulge$', lw=1.5, ls='--', c='k')\n",
    "plt.loglog(r, np.abs(hernpot), label='$Analytic: Halo$', lw=1.5, ls=':', c='k')\n",
    "plt.loglog(pot_mw1[:,0], pot_mw1[:,1], label='$n_{max} = 1$', lw=2)\n",
    "plt.loglog(pot_mw2[:,0], pot_mw2[:,1], label='$n_{max} = 1 + Disk + Bulge$', lw=2)\n",
    "#plt.loglog(r_MW_t, np.abs(MWbfe_pot3), label='$n_{max} = 20$')\n",
    "#plt.loglog(r_MW_t, np.abs(MWbfe_pot4), label='$n_{max} = 5, l_{max}=5$')\n",
    "plt.xlim(1, 500)\n",
    "plt.ylim(1E-29, 4E-28)\n",
    "\n",
    "\n",
    "plt.legend(fontsize=15, loc='best')\n",
    "plt.xlabel(r'$r[kpc]$', fontsize=25)\n",
    "plt.ylabel(r'$|\\Phi|[Kpc^2/s^2]$', fontsize=25)\n",
    "\n",
    "plt.savefig('pot_MW.png', dpi=300, bbox_inches='tight')\n"
   ]
  },
  {
   "cell_type": "markdown",
   "metadata": {},
   "source": [
    "## Conclusions from the above plot:\n",
    "\n",
    "1. N-body potential of DM particles, feel the potential of the disk + buge (blue line)\n",
    "2. HEX potential doesn't account for disk and bulge. I am going to use the analytic forms of this potentials as a first approx.\n",
    "3. There is a factor of ~1.45 between the HEX potential and N-body!!!"
   ]
  },
  {
   "cell_type": "code",
   "execution_count": null,
   "metadata": {
    "collapsed": true
   },
   "outputs": [],
   "source": [
    "def potential_residuals(pot_nbody, pot_hex):\n",
    "    pot_factor = G_c/43007.1*1E10 \n",
    "    pot_nbody = pot_nbody * pot_factor.value\n",
    "    # Analytic Disk & Bulge potentials \n",
    "    bulge_pot_hex = profiles.pot_hernquist(0.7, r_MW_t, 1.4E10)\n",
    "    disk_pot_hex = profiles.pot_mn(0.638, 2.9,r_MW_t, 0, 0, 5.78E10)\n",
    "    pot_hex = pot_hex/1.5 + bulge_pot_hex + disk_pot_hex\n",
    "    pot_res = (pot_hex - pot_nbody) / pot_nbody\n",
    "    return pot_res"
   ]
  },
  {
   "cell_type": "code",
   "execution_count": null,
   "metadata": {
    "collapsed": false
   },
   "outputs": [],
   "source": [
    "MW_pot1d = np.reshape(MW_pot_t, (len(MW_pot_t), 1))"
   ]
  },
  {
   "cell_type": "code",
   "execution_count": null,
   "metadata": {
    "collapsed": false
   },
   "outputs": [],
   "source": [
    "def pot_contour(x, y, pot, n_bins):\n",
    "    x_pot = np.linspace(min(x), max(x), n_bins)\n",
    "    y_pot = np.linspace(min(y), max(y), n_bins)\n",
    "    pot_grid = np.zeros((n_bins,  n_bins))\n",
    "\n",
    "    for i in range(1,n_bins):\n",
    "        for j in range(1,n_bins):\n",
    "            index = np.where((x<x_pot[i]) & (x>x_pot[i-1]) & (y<y_pot[j]) & (y>y_pot[j-1]))[0]\n",
    "            pot_grid[i][j] = np.mean(pot[index])\n",
    "    return x_pot, y_pot, pot_grid"
   ]
  },
  {
   "cell_type": "code",
   "execution_count": null,
   "metadata": {
    "collapsed": false
   },
   "outputs": [],
   "source": [
    "pot_factor = G_c/43007.1*1E10 \n",
    "x_MW1, y_MW1, potMW1 = pot_contour(MW_t[:,0], MW_t[:,1], MW_pot_t*pot_factor.value, 100)"
   ]
  },
  {
   "cell_type": "code",
   "execution_count": null,
   "metadata": {
    "collapsed": false
   },
   "outputs": [],
   "source": [
    "MW_pot_b = MWbfe_pot/factor + bulge_pot_hex + disk_pot_hex\n",
    "x_MW1_b, y_MW1_b, potMW1_b = pot_contour(MW_t[:,0], MW_t[:,1], MW_pot_b, 100)"
   ]
  },
  {
   "cell_type": "code",
   "execution_count": null,
   "metadata": {
    "collapsed": false
   },
   "outputs": [],
   "source": [
    "MW_pot_res = (MW_pot_b - MW_pot_t*pot_factor.value)/(MW_pot_t*pot_factor.value)\n",
    "x_MW1_r, y_MW1_r, potMW1_r = pot_contour(MW_t[:,0], MW_t[:,1], MW_pot_res, 400)"
   ]
  },
  {
   "cell_type": "code",
   "execution_count": null,
   "metadata": {
    "collapsed": false
   },
   "outputs": [],
   "source": [
    "MW_pot3_b = MWbfe_pot3/factor + bulge_pot_hex + disk_pot_hex\n",
    "x_MW3_b, y_MW3_b, potMW3_b = pot_contour(MW_t[:,0], MW_t[:,1], MW_pot3_b, 100)"
   ]
  },
  {
   "cell_type": "code",
   "execution_count": null,
   "metadata": {
    "collapsed": true
   },
   "outputs": [],
   "source": [
    "MW_pot3_res = (MW_pot3_b - MW_pot_t*pot_factor.value)/(MW_pot_t*pot_factor.value)\n",
    "x_MW3_r, y_MW3_r, potMW3_r = pot_contour(MW_t[:,0], MW_t[:,1], MW_pot3_res, 100)"
   ]
  },
  {
   "cell_type": "code",
   "execution_count": null,
   "metadata": {
    "collapsed": false
   },
   "outputs": [],
   "source": [
    "levels1 = np.linspace(np.nanmin(potMW1), np.nanmax(potMW1), 15)\n",
    "levels2 = np.linspace(np.nanmin(potMW1_b), np.nanmax(potMW1_b), 15)\n",
    "levels3 = np.linspace(np.nanmin(potMW1_r), np.nanmax(potMW1_r), 15)\n",
    "\n",
    "plt.figure(figsize=(21, 5))\n",
    "plt.subplot(1,3,1)\n",
    "plt.contourf(x_MW1, y_MW1, potMW1, origin='lower', cmap = plt.cm.bone, levels=levels1)\n",
    "plt.axis('equal')\n",
    "plt.colorbar()\n",
    "plt.xlabel('$x[kpc]$', fontsize=30)\n",
    "plt.ylabel('$y[kpc]$', fontsize=30)\n",
    "plt.title('$\\Phi_{N-Body}$', fontsize=35, y=1.05)\n",
    "\n",
    "plt.subplot(1,3,2)\n",
    "plt.contourf(x_MW1_b, y_MW1_b, potMW1_b, origin='lower', cmap = plt.cm.bone, levels=levels2)\n",
    "plt.axis('equal')\n",
    "plt.colorbar()\n",
    "plt.xlabel('$x[kpc]$', fontsize=30)\n",
    "plt.title('$\\Phi_{SCF}$', fontsize=35, y=1.05)\n",
    "\n",
    "\n",
    "plt.subplot(1,3,3)\n",
    "plt.contourf(x_MW1_r, y_MW1_r, potMW1_r, origin='lower', cmap = plt.cm.bone, levels=levels3)\n",
    "plt.axis('equal')\n",
    "plt.colorbar()\n",
    "plt.xlabel('$x[kpc]$', fontsize=30)\n",
    "plt.title('$\\Delta \\Phi / \\Phi$', fontsize=35, y=1.05)\n",
    "\n",
    "#plt.savefig('MW_potn1.png', dpi=300, bbox_inches='tight')"
   ]
  },
  {
   "cell_type": "code",
   "execution_count": null,
   "metadata": {
    "collapsed": false
   },
   "outputs": [],
   "source": [
    "levels4 = np.linspace(np.nanmin(potMW1), np.nanmax(potMW1), 15)\n",
    "levels5 = np.linspace(np.nanmin(potMW3_b), np.nanmax(potMW3_b), 15)\n",
    "levels6 = np.linspace(np.nanmin(potMW3_r), np.nanmax(potMW3_r), 15)\n",
    "\n",
    "plt.figure(figsize=(21, 5))\n",
    "plt.subplot(1,3,1)\n",
    "plt.contourf(x_MW1, y_MW1, potMW1, origin='lower', cmap = plt.cm.bone, levels=levels4)\n",
    "plt.axis('equal')\n",
    "plt.colorbar()\n",
    "plt.xlabel('$x[kpc]$', fontsize=30)\n",
    "plt.ylabel('$y[kpc]$', fontsize=30)\n",
    "plt.title('$\\Phi_{N-Body}$', fontsize=35, y=1.05)\n",
    "\n",
    "plt.subplot(1,3,2)\n",
    "plt.contourf(x_MW3_b, y_MW3_b, potMW3_b, origin='lower', cmap = plt.cm.bone, levels=levels5)\n",
    "plt.axis('equal')\n",
    "plt.colorbar()\n",
    "plt.xlabel('$x[kpc]$', fontsize=30)\n",
    "plt.title('$\\Phi_{SCF}$', fontsize=35, y=1.05)\n",
    "\n",
    "\n",
    "plt.subplot(1,3,3)\n",
    "plt.contourf(x_MW3_r, y_MW3_r, potMW3_r, origin='lower', cmap = plt.cm.bone, levels=levels6)\n",
    "plt.axis('equal')\n",
    "plt.colorbar()\n",
    "plt.xlabel('$x[kpc]$', fontsize=30)\n",
    "plt.title('$\\Delta \\Phi / \\Phi$', fontsize=35, y=1.05)\n",
    "\n",
    "#plt.savefig('MW_potn20.png', dpi=300, bbox_inches='tight')"
   ]
  },
  {
   "cell_type": "code",
   "execution_count": null,
   "metadata": {
    "collapsed": false
   },
   "outputs": [],
   "source": [
    "index_slide = np.where((MW2_t[:,0]<10) & (MW2_t[:,0]>-10))[0]\n",
    "\n",
    "print len(index_slide)"
   ]
  },
  {
   "cell_type": "code",
   "execution_count": null,
   "metadata": {
    "collapsed": true
   },
   "outputs": [],
   "source": [
    "pot_factor = G_c/43007.1*1E10 \n",
    "\n",
    "x_MW2, y_MW2, potMW2 = pot_contour(MW2_t[index_slide,0], MW2_t[index_slide,1], MW2_pot_t[index_slide]*pot_factor.value, 100)"
   ]
  },
  {
   "cell_type": "code",
   "execution_count": null,
   "metadata": {
    "collapsed": false
   },
   "outputs": [],
   "source": [
    "y2_MW2, z2_MW2, potMW2 = pot_contour(MW2_t[index_slide,1], MW2_t[index_slide,2], MW2_pot_t[index_slide]*pot_factor.value, 100)"
   ]
  },
  {
   "cell_type": "code",
   "execution_count": null,
   "metadata": {
    "collapsed": false
   },
   "outputs": [],
   "source": [
    "plt.contourf(x_MW2, y_MW2, potMW1, origin='lower', cmap = plt.cm.bone)\n",
    "plt.axis('equal')\n"
   ]
  },
  {
   "cell_type": "code",
   "execution_count": null,
   "metadata": {
    "collapsed": false
   },
   "outputs": [],
   "source": [
    "plt.contourf(y2_MW2, z2_MW2, np.log10(np.abs(potMW1)), origin='lower', cmap = plt.cm.bone)\n",
    "plt.axis('equal')\n",
    "plt.colorbar()"
   ]
  },
  {
   "cell_type": "code",
   "execution_count": null,
   "metadata": {
    "collapsed": false
   },
   "outputs": [],
   "source": [
    "plt.scatter(MW2_t[index_slide,1], MW2_t[index_slide,2], c=(np.abs(MW2_pot_t[index_slide]))\n",
    "            , edgecolors='', s=0.1)\n",
    "plt.axis('equal')"
   ]
  },
  {
   "cell_type": "code",
   "execution_count": null,
   "metadata": {
    "collapsed": false
   },
   "outputs": [],
   "source": [
    "plt.scatter(MW_disk[:,1], MW_disk[:,2], s=0.1, alpha=0.2)\n",
    "plt.scatter(MW_bulge[:,1], MW_bulge[:,2], s=0.1, alpha=0.2, edgecolor='none', c='r')\n",
    "plt.xlim(-40, 40)\n",
    "plt.ylim(-40, 40)\n"
   ]
  },
  {
   "cell_type": "markdown",
   "metadata": {
    "collapsed": true
   },
   "source": [
    "## Coefficients Analysis & Weinberg 96"
   ]
  },
  {
   "cell_type": "markdown",
   "metadata": {},
   "source": [
    "Modified algorithm:\n",
    "    \n",
    "1. Accumulate contribution to the coefficientes $\\hat{a}_j$ and the covariance matrix in a loop over all\n",
    "particles and construct the outer-product matrix $S_{jk}$. \n",
    "\n",
    "$S_{kl} = \\hat{a}_k \\hat{a}_l$\n",
    "\n",
    "2. Solve the eigenvalue problem in order to construct the transformation $T$ to the best fitting uncorrelated basis. if $e^{[k]}$ are the eigenvectors with eigenvalues $\\lambda_j$, $T_{j,k}= e_j^{[k]}$ defines de transformation.\n",
    "\n",
    "3. Transfor the coefficient estimates $\\hat{a}_j$ to the new basis (denoted by star) , $\\hat{a}_{j}^* = \\sum_k T_{jk}\\hat{a}_k$ and use $var(\\hat{a}^*)_{jj} = \\sum_{kl}T_{jk} var(\\hat)_{kl}T^{t}_{lj} $ to compute $b_{j}^*$"
   ]
  },
  {
   "cell_type": "code",
   "execution_count": 266,
   "metadata": {
    "collapsed": true
   },
   "outputs": [],
   "source": [
    "from scipy import linalg"
   ]
  },
  {
   "cell_type": "code",
   "execution_count": 542,
   "metadata": {
    "collapsed": true
   },
   "outputs": [],
   "source": [
    "#SMW4, TMW4, nlmsMW4 = STnlm(MW, MW_mass, 40.85, 10, 10)\n",
    "#MWbfe_pot4 = biff.potential(np.ascontiguousarray(np.double(MW)), SMW4, TMW4, 10, 10, G_c.value, Total_Mass, 40.85)\n",
    "#MWbfe_rho4 = biff.density(np.ascontiguousarray(np.double(MW)), SMW4, TMW4, 10, 10, Total_Mass, 40.85)\n",
    "\n",
    "\n",
    "SMW5, TMW5, nlmsMW5 = STnlm(MW, MW_mass, 40.85, 10, 10)\n",
    "MWbfe_pot5 = biff.potential(np.ascontiguousarray(np.double(MW)), SMW5, TMW5, 10, 10, G_c.value, Total_Mass, 40.85)\n",
    "MWbfe_rho5 = biff.density(np.ascontiguousarray(np.double(MW)), SMW5, TMW5, 10, 10, Total_Mass, 40.85)"
   ]
  },
  {
   "cell_type": "code",
   "execution_count": 347,
   "metadata": {
    "collapsed": true
   },
   "outputs": [],
   "source": [
    "## Eq. 8 Weinberg 96\n",
    "def smooth_b(a):\n",
    "    b = np.zeros(len(a))\n",
    "    for i in range(1,len(a)):\n",
    "        b[i] = 1.0/(1.0 + np.var(a)/a[i-1]**2)\n",
    "    return b"
   ]
  },
  {
   "cell_type": "code",
   "execution_count": 342,
   "metadata": {
    "collapsed": false
   },
   "outputs": [],
   "source": [
    "def MISE(a):\n",
    "    b = smooth_b(a)\n",
    "    D = np.zeros(len(a))\n",
    "    for i in range(len(a)):\n",
    "        D[i] = np.sum(b[:i+1]**2 * np.var(a) + (b[:i+1]-1)**2.0*a[:i+1]**2.0)\n",
    "    return D"
   ]
  },
  {
   "cell_type": "code",
   "execution_count": 455,
   "metadata": {
    "collapsed": false
   },
   "outputs": [],
   "source": [
    "# Eq 11 Weinberg 96\n",
    "def S_matrix(a):\n",
    "    a = a.flatten()\n",
    "    S = np.zeros((len(a), len(a)))\n",
    "    for i in range(len(a)):\n",
    "        for j in range(len(a)):\n",
    "            S[i][j] = a[i]*a[j]\n",
    "    return S\n",
    "\n",
    "# Solving the eigenvalue problem\n",
    "def T_tranformation(S):\n",
    "    lambdas, eigenv = linalg.eig(S)\n",
    "    T = eigenv\n",
    "    return T, lambdas\n",
    "\n",
    "# Eq 12 Weinberg 96.\n",
    "def lambda_prime(lambdas):\n",
    "    F = np.zeros(len(lambdas))\n",
    "    print(len(F))\n",
    "    for i in range(len(F)):\n",
    "        F[i] = np.sum(lambdas.real[:i])/np.sum(lambdas.real)\n",
    "    return F\n",
    "\n",
    "def lambda_prime2(lambdas):\n",
    "    lambdas_lm = lambdas.real[8::9]\n",
    "    F = np.zeros(len(lambdas_lm))\n",
    "    print(len(F))\n",
    "    for i in range(len(F)):\n",
    "        F[i] = np.sum(lambdas_lm[:i])/np.sum(lambdas.real)\n",
    "    return F\n",
    "\n",
    "def a_prime(T, a):\n",
    "    return np.dot(T.real,a)\n",
    "\n",
    "\n",
    "def cov_matrix(a):\n",
    "    cov_m = np.zeros([len(a), len(a)])\n",
    "    for i in range(len(a)):\n",
    "        for j in range(len(a)):\n",
    "            cov_m[i][j] = np.cov((a[i], a[j]))\n",
    "    return cov_m\n",
    "\n",
    "def var_aprime(T, cov_a):\n",
    "    T_daga = np.conjugate(T).T\n",
    "    var_prime = (np.dot(T, np.dot(cov_a, T_daga)))\n",
    "    return var_prime.real\n",
    "\n",
    "            "
   ]
  },
  {
   "cell_type": "code",
   "execution_count": 438,
   "metadata": {
    "collapsed": false
   },
   "outputs": [
    {
     "name": "stdout",
     "output_type": "stream",
     "text": [
      "[ -1.17888926e-02   1.42749641e-03  -3.53617543e-04   1.54359517e-04\n",
      "   3.52780445e-05  -1.13992115e-05  -1.88047185e-05   1.59243029e-05\n",
      "   1.52812217e-06  -2.96432814e-06   4.66771031e-07  -5.67998683e-07\n",
      "  -3.83792721e-08  -1.01831593e-06   1.14662997e-06  -3.84307131e-07\n",
      "  -3.18736401e-07   2.92764411e-07  -2.36170187e-07   1.00153208e-07]\n",
      "[ -1.17888926e-02   1.42749641e-03  -3.53617543e-04   1.54359517e-04\n",
      "   3.52780445e-05  -1.13992115e-05  -1.88047185e-05   1.59243029e-05\n",
      "   1.52812217e-06  -2.96432814e-06   4.66771031e-07  -5.67998683e-07\n",
      "  -3.83792721e-08  -1.01831593e-06   1.14662997e-06  -3.84307131e-07\n",
      "  -3.18736401e-07   2.92764411e-07  -2.36170187e-07   1.00153208e-07]\n",
      "[  1.28041545e+00   0.00000000e+00   0.00000000e+00  -2.09640229e-03\n",
      "  -5.77292922e-03   0.00000000e+00   3.51747188e-03  -1.54030982e-03\n",
      "  -1.17888926e-02   6.46694670e-03   0.00000000e+00   0.00000000e+00\n",
      "   1.09884873e-03   1.75655816e-03   0.00000000e+00   5.76174043e-04\n",
      "   5.73412430e-04   1.42749641e-03  -2.62537596e-04   0.00000000e+00\n",
      "   0.00000000e+00  -1.79143686e-05  -4.56850077e-04   0.00000000e+00\n",
      "  -3.87790120e-04  -2.03818100e-04  -3.53617543e-04   5.30289034e-04\n",
      "   0.00000000e+00   0.00000000e+00   6.67102917e-05   1.55106352e-04\n",
      "   0.00000000e+00   9.89352631e-05  -1.33979938e-04   1.54359517e-04\n",
      "  -3.98647973e-04   0.00000000e+00   0.00000000e+00  -4.89370593e-05\n",
      "  -4.27500404e-05   0.00000000e+00  -2.50076650e-05   5.30934213e-05\n",
      "   3.52780445e-05   1.84633411e-04   0.00000000e+00   0.00000000e+00\n",
      "   5.06747841e-06   2.44931114e-05   0.00000000e+00   1.27982307e-05\n",
      "   5.37348916e-06  -1.13992115e-05  -6.60892077e-05   0.00000000e+00\n",
      "   0.00000000e+00   5.67108559e-06  -1.43249198e-05   0.00000000e+00\n",
      "   8.14769789e-06  -1.71982476e-05  -1.88047185e-05   1.97865509e-05\n",
      "   0.00000000e+00   0.00000000e+00  -2.06318095e-06   2.18873309e-05\n",
      "   0.00000000e+00  -7.07593169e-06   1.71415072e-05   1.59243029e-05\n",
      "  -6.06151105e-06   0.00000000e+00   0.00000000e+00  -1.76483772e-06\n",
      "  -1.23483738e-05   0.00000000e+00   6.52841623e-06  -1.11021747e-05\n",
      "   1.52812217e-06   3.88352099e-05   0.00000000e+00   0.00000000e+00\n",
      "  -1.00611938e-06   3.49492512e-06   0.00000000e+00  -6.58476851e-07\n",
      "   4.74058745e-07  -2.96432814e-06  -6.84773918e-05   0.00000000e+00\n",
      "   0.00000000e+00  -2.11632241e-06  -1.56746861e-06   0.00000000e+00\n",
      "  -6.32863035e-07   1.28490534e-06   4.66771031e-07   4.85877904e-05\n",
      "   0.00000000e+00   0.00000000e+00   2.27543411e-06  -5.33457040e-07\n",
      "   0.00000000e+00  -4.01690515e-07  -9.24689161e-07  -5.67998683e-07\n",
      "  -2.72942273e-05   0.00000000e+00   0.00000000e+00  -3.60447517e-07\n",
      "  -7.39673725e-07   0.00000000e+00   2.73147092e-07   5.49776026e-07\n",
      "  -3.83792721e-08   1.15172146e-05   0.00000000e+00   0.00000000e+00\n",
      "  -5.85803651e-07  -2.49056946e-08   0.00000000e+00  -1.84526034e-07\n",
      "  -9.88504919e-07  -1.01831593e-06  -1.19278321e-05   0.00000000e+00\n",
      "   0.00000000e+00   7.03654108e-07  -4.48045017e-07   0.00000000e+00\n",
      "  -3.43369704e-07   6.53048488e-07   1.14662997e-06   8.18039638e-06\n",
      "   0.00000000e+00   0.00000000e+00  -1.13792914e-06   1.32594328e-06\n",
      "   0.00000000e+00   3.30912929e-07  -2.72954847e-07  -3.84307131e-07\n",
      "  -2.27270965e-06   0.00000000e+00   0.00000000e+00   6.20500972e-07\n",
      "   1.03496340e-07   0.00000000e+00  -3.96109756e-08   3.23402828e-09\n",
      "  -3.18736401e-07   2.73438309e-06   0.00000000e+00   0.00000000e+00\n",
      "  -3.33753936e-07  -7.98192473e-07   0.00000000e+00  -1.25103457e-07\n",
      "   3.04621876e-07   2.92764411e-07   2.36877140e-06   0.00000000e+00\n",
      "   0.00000000e+00  -2.92873583e-07   5.19891835e-07   0.00000000e+00\n",
      "   2.62245089e-08  -1.56719346e-07  -2.36170187e-07   3.56977235e-07\n",
      "   0.00000000e+00   0.00000000e+00   2.44768672e-07  -2.22054883e-07\n",
      "   0.00000000e+00   5.53239028e-09   7.08309534e-08   1.00153208e-07]\n"
     ]
    }
   ],
   "source": [
    "print(SMW5[:,2,2])\n",
    "print(SMW5.flatten()[8::9])\n",
    "xx = (SMW5.flatten())\n",
    "\n",
    "\n",
    "print(xx)\n",
    "#print(S3)\n"
   ]
  },
  {
   "cell_type": "code",
   "execution_count": 581,
   "metadata": {
    "collapsed": false
   },
   "outputs": [],
   "source": [
    "S50 = SMW5[:,0,0]\n",
    "S51 = SMW5[:,1,1]\n",
    "S52 = SMW5[:,2,2]\n",
    "S53 = SMW5[:,3,3]\n",
    "S54 = SMW5[:,4,4]\n",
    "S55 = SMW5[:,5,5]\n",
    "S56 = SMW5[:,6,6]\n",
    "S57 = SMW5[:,7,7]\n",
    "S58 = SMW5[:,8,8]\n",
    "S59 = SMW5[:,9,9]\n",
    "S510 = SMW5[:,10,10]\n",
    "\n",
    "S5t = np.array([S50, S51, S52, S53, S54]).reshape(1,55)\n"
   ]
  },
  {
   "cell_type": "code",
   "execution_count": 582,
   "metadata": {
    "collapsed": false
   },
   "outputs": [],
   "source": [
    "S2 = SMW2.flatten()\n",
    "S3 = SMW3.flatten()\n",
    "S4 = SMW4.flatten()\n",
    "S5 = SMW5.flatten()"
   ]
  },
  {
   "cell_type": "code",
   "execution_count": 583,
   "metadata": {
    "collapsed": false
   },
   "outputs": [
    {
     "name": "stderr",
     "output_type": "stream",
     "text": [
      "/home/xozidok/work/github/LMC-MW/code/SCF/weinberg_method.py:23: RuntimeWarning: divide by zero encountered in double_scalars\n",
      "  b[i] = 1.0/(1.0 + np.var(a)/a[i-1]**2)\n"
     ]
    }
   ],
   "source": [
    "b2 = smooth_b(S2)\n",
    "b3 = smooth_b(S3)\n",
    "b4 = smooth_b(S4)\n",
    "b5 = smooth_b(S5t[0])\n",
    "\n",
    "D2 = MISE(S2)\n",
    "D3 = MISE(S3)\n",
    "D4 = MISE(S4)\n",
    "D4 = MISE(S5t[0])"
   ]
  },
  {
   "cell_type": "code",
   "execution_count": 590,
   "metadata": {
    "collapsed": false
   },
   "outputs": [
    {
     "data": {
      "image/png": "[encoded data removed]",
      "text/plain": [
       "<matplotlib.figure.Figure at 0x7fd92935cb00>"
      ]
     },
     "metadata": {},
     "output_type": "display_data"
    }
   ],
   "source": [
    "plt.figure(figsize=(12,5))\n",
    "#plt.plot(1, 3, 1)\n",
    "plt.plot(b5, lw=1.5, c='k', marker='o', label='$\\mathrm{MW_{Initial}}$')\n",
    "plt.xlim(-2, 55)\n",
    "plt.ylim(-0.2, 1.1)\n",
    "plt.xlabel('$j$', fontsize=25)\n",
    "plt.ylabel('$b_j$', fontsize=35)\n",
    "plt.legend(loc='upper center', fontsize=25)\n",
    "#plt.subplot(1, 3, 2)\n",
    "#plt.plot(b5[11:22])\n",
    "#plt.subplot(1, 3, 3)\n",
    "#plt.plot(b5[22:33])\n",
    "plt.savefig('bj_MWi.png', bbox_inches='tight')"
   ]
  },
  {
   "cell_type": "code",
   "execution_count": 456,
   "metadata": {
    "collapsed": false
   },
   "outputs": [
    {
     "name": "stdout",
     "output_type": "stream",
     "text": [
      "11\n",
      "21\n",
      "1331\n",
      "20\n"
     ]
    }
   ],
   "source": [
    "S_matrix_test2 = S_matrix(S2)\n",
    "T_trans2, L2 = T_tranformation(S_matrix_test2)\n",
    "F2 = lambda_prime(L2) \n",
    "\n",
    "\n",
    "\n",
    "S_matrix_test3 = S_matrix(S3)\n",
    "T_trans3, L3 = T_tranformation(S_matrix_test3)\n",
    "F3 = lambda_prime(L3) \n",
    "\n",
    "\n",
    "S_matrix_test4 = S_matrix(S4)\n",
    "T_trans4, L4 = T_tranformation(S_matrix_test4)\n",
    "F4 = lambda_prime(L4) \n",
    "\n",
    "\n",
    "\n",
    "S_matrix_test5 = S_matrix(S5)\n",
    "T_trans5, L5 = T_tranformation(S_matrix_test5)\n",
    "F5 = lambda_prime2(L5) \n",
    "#a_new = a_prime(T_trans, S2)\n",
    "#a_cov = cov_matrix(S2)\n",
    "\n"
   ]
  },
  {
   "cell_type": "code",
   "execution_count": 462,
   "metadata": {
    "collapsed": false
   },
   "outputs": [
    {
     "name": "stdout",
     "output_type": "stream",
     "text": [
      "[  1.63950610e+00   0.00000000e+00   1.38271396e-22  -2.20177770e-23\n",
      "   1.02395418e-23   7.79451069e-24   1.10867846e-24  -3.03191834e-25\n",
      "   4.16471873e-26  -1.54075468e-28  -3.51951005e-26]\n",
      "[  1.63970516e+00  -2.63045649e-20  -4.10454101e-21  -4.10454101e-21\n",
      "   1.80405857e-21   1.80405857e-21  -7.82246370e-22  -7.82246370e-22\n",
      "   5.98443533e-22   3.03762622e-22   3.03762622e-22  -1.45154900e-22\n",
      "  -7.07109746e-23  -7.07109746e-23  -7.38657722e-23   3.00707675e-23\n",
      "   3.00707675e-23  -2.57455951e-23  -7.46453253e-24  -7.46453253e-24\n",
      "   1.33163093e-23  -4.32171515e-24  -4.32171515e-24  -2.58482837e-25\n",
      "  -2.58482837e-25   2.09180865e-24   2.09180865e-24   2.48318366e-24\n",
      "  -1.24849989e-24   9.15144677e-25   5.60421350e-25  -4.53320702e-25\n",
      "  -3.45518107e-25  -3.45518107e-25   6.00317097e-27   6.00317097e-27\n",
      "   2.32281206e-25   2.32281206e-25  -2.49788291e-26  -2.49788291e-26\n",
      "  -1.73454761e-25  -1.73454761e-25   1.35521303e-25   1.22948130e-25\n",
      "  -1.16264337e-25   5.87417401e-27   5.87417401e-27  -4.69364389e-26\n",
      "  -3.57313611e-26  -3.57313611e-26   3.72172401e-26   3.72172401e-26\n",
      "   2.87733357e-27   2.87733357e-27  -2.19630749e-26   1.92493414e-26\n",
      "   1.53006207e-26  -9.87457260e-27  -9.87457260e-27  -2.85531782e-27\n",
      "  -2.85531782e-27   2.61943604e-27   2.61943604e-27  -1.05097638e-27\n",
      "  -1.05097638e-27  -2.98948844e-27  -1.57080080e-27   1.46304388e-27\n",
      "   1.46304388e-27   1.29916179e-27   1.29916179e-27  -6.63516510e-29\n",
      "  -6.63516510e-29  -6.83843815e-28  -6.83843815e-28  -7.14527004e-28\n",
      "   5.78245852e-28   1.54358189e-28   1.54358189e-28  -2.97987729e-28\n",
      "  -2.97987729e-28   3.98956389e-28  -3.10860911e-28   4.97796536e-29\n",
      "   4.97796536e-29   1.24789007e-28   1.24789007e-28   1.89967265e-28\n",
      "  -7.70334878e-29  -7.70334878e-29  -1.05780590e-28  -1.05780590e-28\n",
      "   8.83598359e-29   8.83598359e-29   8.75351861e-29   8.75351861e-29\n",
      "  -6.11895794e-29  -6.11895794e-29  -4.75991640e-29   5.08458552e-29\n",
      "  -2.51472905e-29  -2.51472905e-29   4.91182500e-30   4.91182500e-30\n",
      "   3.45014690e-29  -2.69742254e-29   1.73949207e-29   1.73949207e-29\n",
      "   4.60887255e-30   4.60887255e-30  -5.17001601e-30  -5.17001601e-30\n",
      "   6.26425379e-30  -2.51377198e-30   1.47425178e-30   6.33020024e-31\n",
      "   6.33020024e-31  -2.32884277e-31  -4.54596146e-34  -2.29635300e-32\n",
      "   0.00000000e+00   0.00000000e+00   0.00000000e+00   0.00000000e+00\n",
      "   0.00000000e+00   0.00000000e+00   0.00000000e+00   0.00000000e+00\n",
      "   0.00000000e+00   0.00000000e+00   0.00000000e+00   0.00000000e+00\n",
      "   0.00000000e+00   0.00000000e+00   0.00000000e+00   0.00000000e+00\n",
      "   0.00000000e+00   0.00000000e+00   0.00000000e+00   0.00000000e+00\n",
      "   0.00000000e+00   0.00000000e+00   0.00000000e+00   0.00000000e+00\n",
      "   0.00000000e+00   0.00000000e+00   0.00000000e+00   0.00000000e+00\n",
      "   0.00000000e+00   0.00000000e+00   0.00000000e+00   0.00000000e+00\n",
      "   0.00000000e+00   0.00000000e+00   0.00000000e+00   0.00000000e+00\n",
      "   0.00000000e+00   0.00000000e+00   0.00000000e+00   0.00000000e+00\n",
      "   0.00000000e+00   0.00000000e+00   0.00000000e+00   0.00000000e+00\n",
      "   0.00000000e+00   0.00000000e+00   0.00000000e+00   0.00000000e+00\n",
      "   0.00000000e+00   0.00000000e+00   0.00000000e+00   0.00000000e+00\n",
      "   0.00000000e+00   0.00000000e+00   0.00000000e+00   0.00000000e+00\n",
      "   0.00000000e+00   0.00000000e+00   0.00000000e+00   0.00000000e+00]\n"
     ]
    }
   ],
   "source": [
    "print(L2.real)\n",
    "print(L5.real)\n",
    "\n"
   ]
  },
  {
   "cell_type": "code",
   "execution_count": 453,
   "metadata": {
    "collapsed": false
   },
   "outputs": [
    {
     "data": {
      "text/plain": [
       "[<matplotlib.lines.Line2D at 0x7fd92aac5550>]"
      ]
     },
     "execution_count": 453,
     "metadata": {},
     "output_type": "execute_result"
    },
    {
     "data": {
      "image/png": "[encoded data removed]",
      "text/plain": [
       "<matplotlib.figure.Figure at 0x7fd92ab02550>"
      ]
     },
     "metadata": {},
     "output_type": "display_data"
    }
   ],
   "source": [
    "plt.plot(b5[8::9])"
   ]
  },
  {
   "cell_type": "code",
   "execution_count": 485,
   "metadata": {
    "collapsed": false
   },
   "outputs": [
    {
     "data": {
      "text/plain": [
       "[<matplotlib.lines.Line2D at 0x7fd929da53c8>]"
      ]
     },
     "execution_count": 485,
     "metadata": {},
     "output_type": "execute_result"
    },
    {
     "data": {
      "image/png": "[encoded data removed]",
      "text/plain": [
       "<matplotlib.figure.Figure at 0x7fd92a5f7828>"
      ]
     },
     "metadata": {},
     "output_type": "display_data"
    }
   ],
   "source": [
    "#plt.plot(b5[8::9])\n",
    "plt.plot(F5[:]/np.max(F5))"
   ]
  },
  {
   "cell_type": "code",
   "execution_count": 463,
   "metadata": {
    "collapsed": false
   },
   "outputs": [
    {
     "data": {
      "image/png": "[encoded data removed]",
      "text/plain": [
       "<matplotlib.figure.Figure at 0x7fd92a91f160>"
      ]
     },
     "metadata": {},
     "output_type": "display_data"
    }
   ],
   "source": [
    "plt.figure(figsize=(6,5))\n",
    "#plt.plot(F2)\n",
    "#plt.loglog(D2)\n",
    "plt.plot(b3, ls='--', c='k', marker='o', ms=4, label='$b_j$')\n",
    "#plt.loglog(D4)\n",
    "#plt.plot(b4)\n",
    "#plt.xlim(-1, 20)\n",
    "#plt.ylim(-0.1, 1)\n",
    "plt.plot(F3, c='k', marker='o', ms=4, label='$F_j$')\n",
    "plt.legend(loc='best', fontsize=18)\n",
    "plt.xlim(-1, 21)\n",
    "plt.ylim(-0.07, 1.05)\n",
    "plt.xlabel('$j$', fontsize=30)\n",
    "plt.ylabel('$b_j,\\ F_j$', fontsize=30)\n",
    "plt.savefig('bjFjn20Hernquist.png', bbox_inches='tight', dpi=300)"
   ]
  },
  {
   "cell_type": "code",
   "execution_count": 546,
   "metadata": {
    "collapsed": false
   },
   "outputs": [
    {
     "data": {
      "image/png": "[encoded data removed]",
      "text/plain": [
       "<matplotlib.figure.Figure at 0x7fd926d180b8>"
      ]
     },
     "metadata": {},
     "output_type": "display_data"
    }
   ],
   "source": [
    "#plt.plot(D3[1:])\n",
    "plt.figure(figsize=(6,5))\n",
    "plt.plot(D3[1:], c='k', lw=1.5)\n",
    "plt.xlabel('$j$', fontsize=30)\n",
    "plt.ylabel('$D_j$', fontsize=30)\n",
    "\n",
    "plt.savefig('mise.png', bbox_inches='tight', dpi=300)"
   ]
  },
  {
   "cell_type": "code",
   "execution_count": null,
   "metadata": {
    "collapsed": false
   },
   "outputs": [],
   "source": [
    "var_aprime(T_trans, a_cov)"
   ]
  },
  {
   "cell_type": "code",
   "execution_count": null,
   "metadata": {
    "collapsed": false
   },
   "outputs": [],
   "source": [
    "var_aprime(T_trans, a_cov)"
   ]
  },
  {
   "cell_type": "code",
   "execution_count": null,
   "metadata": {
    "collapsed": false
   },
   "outputs": [],
   "source": [
    "DD4 = np.zeros(len(S4))\n",
    "for i in range(len(S4)):\n",
    "    DD4[i] = MISE(S4[0:i+1])"
   ]
  },
  {
   "cell_type": "code",
   "execution_count": null,
   "metadata": {
    "collapsed": false
   },
   "outputs": [],
   "source": [
    "DD3 = np.zeros(len(S3))\n",
    "for i in range(len(S3)):\n",
    "    DD3[i] = MISE(S3[0:i+1])"
   ]
  },
  {
   "cell_type": "code",
   "execution_count": null,
   "metadata": {
    "collapsed": false
   },
   "outputs": [],
   "source": [
    "plt.semilogy(DD4, lw=2)"
   ]
  },
  {
   "cell_type": "code",
   "execution_count": null,
   "metadata": {
    "collapsed": false
   },
   "outputs": [],
   "source": [
    "plt.semilogy(DD3, lw=2)"
   ]
  },
  {
   "cell_type": "code",
   "execution_count": null,
   "metadata": {
    "collapsed": true
   },
   "outputs": [],
   "source": [
    "DD5 = np.zeros(len(S5))\n",
    "for i in range(len(S5)):\n",
    "    DD5[i] = MISE(S5[0:i+1])"
   ]
  },
  {
   "cell_type": "code",
   "execution_count": null,
   "metadata": {
    "collapsed": false
   },
   "outputs": [],
   "source": [
    "plt.semilogy(DD5, lw=2)"
   ]
  },
  {
   "cell_type": "code",
   "execution_count": null,
   "metadata": {
    "collapsed": false
   },
   "outputs": [],
   "source": [
    "F_k = lambda_prime(lambdas)\n",
    "S_new3 = a_prime(eigenv, S3)"
   ]
  },
  {
   "cell_type": "code",
   "execution_count": null,
   "metadata": {
    "collapsed": false
   },
   "outputs": [],
   "source": [
    "print S_new3, S3"
   ]
  },
  {
   "cell_type": "code",
   "execution_count": null,
   "metadata": {
    "collapsed": false
   },
   "outputs": [],
   "source": [
    "print S_new3"
   ]
  },
  {
   "cell_type": "code",
   "execution_count": null,
   "metadata": {
    "collapsed": false
   },
   "outputs": [],
   "source": [
    "np.shape(eigenv)"
   ]
  },
  {
   "cell_type": "code",
   "execution_count": null,
   "metadata": {
    "collapsed": false
   },
   "outputs": [],
   "source": [
    "np.dot(eigenv.T, S6)"
   ]
  },
  {
   "cell_type": "code",
   "execution_count": null,
   "metadata": {
    "collapsed": false
   },
   "outputs": [],
   "source": [
    "np.sum(lambdas.real[:0])"
   ]
  },
  {
   "cell_type": "code",
   "execution_count": null,
   "metadata": {
    "collapsed": false
   },
   "outputs": [],
   "source": [
    "plt.plot(F_k)"
   ]
  },
  {
   "cell_type": "code",
   "execution_count": null,
   "metadata": {
    "collapsed": false
   },
   "outputs": [],
   "source": [
    "DD6 = np.zeros(len(S6))\n",
    "for i in range(len(S6)):\n",
    "    DD6[i] = MISE(S6[0:i+1])"
   ]
  },
  {
   "cell_type": "code",
   "execution_count": null,
   "metadata": {
    "collapsed": false
   },
   "outputs": [],
   "source": [
    "plt.semilogy(DD6, lw=2.0)\n",
    "plt.xlabel('$S_{n,l,m}$', fontsize=35)"
   ]
  },
  {
   "cell_type": "code",
   "execution_count": null,
   "metadata": {
    "collapsed": false
   },
   "outputs": [],
   "source": [
    "S_test = S_matrix(SMW3)"
   ]
  },
  {
   "cell_type": "code",
   "execution_count": null,
   "metadata": {
    "collapsed": false
   },
   "outputs": [],
   "source": [
    "lambdas, eigenv = linalg.eig(S_test)"
   ]
  },
  {
   "cell_type": "markdown",
   "metadata": {
    "collapsed": false
   },
   "source": [
    "print len(lambdas)\n",
    "print np.shape(eigenv)"
   ]
  },
  {
   "cell_type": "code",
   "execution_count": null,
   "metadata": {
    "collapsed": false
   },
   "outputs": [],
   "source": [
    "print eigenv[0]"
   ]
  },
  {
   "cell_type": "code",
   "execution_count": null,
   "metadata": {
    "collapsed": false
   },
   "outputs": [],
   "source": [
    "enigenv_t = eigenv.conj().T"
   ]
  },
  {
   "cell_type": "code",
   "execution_count": null,
   "metadata": {
    "collapsed": false
   },
   "outputs": [],
   "source": [
    "prod = np.dot(eigenv, enigenv_t)"
   ]
  },
  {
   "cell_type": "code",
   "execution_count": null,
   "metadata": {
    "collapsed": false
   },
   "outputs": [],
   "source": [
    "plt.imshow(np.abs(enigenv_t))\n",
    "plt.colorbar()"
   ]
  },
  {
   "cell_type": "code",
   "execution_count": null,
   "metadata": {
    "collapsed": false
   },
   "outputs": [],
   "source": [
    "plt.imshow(np.abs(prod.real))\n",
    "plt.colorbar()"
   ]
  },
  {
   "cell_type": "code",
   "execution_count": null,
   "metadata": {
    "collapsed": false
   },
   "outputs": [],
   "source": [
    "np.var([1,1,1,1,1.1])"
   ]
  },
  {
   "cell_type": "code",
   "execution_count": null,
   "metadata": {
    "collapsed": false
   },
   "outputs": [],
   "source": [
    "linalg.det(eigenv)"
   ]
  }
 ],
 "metadata": {
  "kernelspec": {
   "display_name": "Python 3",
   "language": "python",
   "name": "python3"
  },
  "language_info": {
   "codemirror_mode": {
    "name": "ipython",
    "version": 3
   },
   "file_extension": ".py",
   "mimetype": "text/x-python",
   "name": "python",
   "nbconvert_exporter": "python",
   "pygments_lexer": "ipython3",
   "version": "3.4.3"
  }
 },
 "nbformat": 4,
 "nbformat_minor": 0
}
