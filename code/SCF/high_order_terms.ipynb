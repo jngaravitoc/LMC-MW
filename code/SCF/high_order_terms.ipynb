{
 "cells": [
  {
   "cell_type": "code",
   "execution_count": 1,
   "metadata": {
    "collapsed": false
   },
   "outputs": [
    {
     "name": "stderr",
     "output_type": "stream",
     "text": [
      "/usr/local/lib/python3.4/dist-packages/matplotlib/__init__.py:841: UserWarning: Found matplotlib configuration in ~/.matplotlib/. To conform with the XDG base directory standard, this configuration location has been deprecated on Linux, and the new location is now /home/ngaravito/.config/matplotlib/. Please move your configuration there to ensure that matplotlib will continue to find it in the future.\n",
      "  _get_xdg_config_dir())\n"
     ]
    },
    {
     "name": "stdout",
     "output_type": "stream",
     "text": [
      "Populating the interactive namespace from numpy and matplotlib\n"
     ]
    }
   ],
   "source": [
    "%pylab inline\n",
    "import octopus\n",
    "from pygadgetreader import readsnap\n",
    "import biff\n",
    "from astropy import units as u\n",
    "from astropy import constants"
   ]
  },
  {
   "cell_type": "markdown",
   "metadata": {},
   "source": [
    "# To do: \n",
    "\n",
    "1. Do this with a HR halo.\n",
    "2. Lower the number of particles to a few tens to really understand what is going on.\n",
    "3. Find which terms really appear.\n",
    "4. Check the high order terms with my code.\n",
    "5. Check the potential change due to the number of coefficients."
   ]
  },
  {
   "cell_type": "code",
   "execution_count": 23,
   "metadata": {
    "collapsed": true
   },
   "outputs": [],
   "source": [
    "def re_center(pos, cm):\n",
    "    \"\"\"\n",
    "    Re center a halo to its center of mass.\n",
    "    \"\"\"\n",
    "    for i in range(3):\n",
    "        pos[:,i] = pos[:,i] - cm[i]\n",
    "    return pos\n",
    "\n",
    "def biff_potential(pos, S, T, n,l,m):\n",
    "    S_new = np.zeros(shape(S))\n",
    "    T_new = np.zeros(shape(T))\n",
    "    S_new[n,l,m] = S[n,l,m]\n",
    "    T_new[n,l,m] = T[n,l,m]\n",
    "    pot_nlm = biff.potential(pos.astype(double), S_new, T_new, G=G_c.value, M=1, r_s=3)\n",
    "    #r = np.sqrt(pos[:,0]**2 + pos[:,1]**2 + pos[:,2]**2)\n",
    "    #indexes = argsort(r)\n",
    "    return pot_nlm\n",
    "    \n",
    "def n_body_potential(pos, pot):\n",
    "    r = np.sqrt(pos[:,0]**2 + pos[:,1]**2 + pos[:,2]**2)\n",
    "    indexes = argsort(r)\n",
    "    return r[indexes], pot[indexes]"
   ]
  },
  {
   "cell_type": "code",
   "execution_count": 146,
   "metadata": {
    "collapsed": false
   },
   "outputs": [],
   "source": [
    "def high_order_terms(Coeff):\n",
    "    \"\"\"\n",
    "    Identify the indices (n,l,m) of the terms which amplitude is larger than \n",
    "    the (n=0, l=0, m=0) term.\n",
    "    Input:\n",
    "    ------\n",
    "        Coeff : float\n",
    "            A 3d matrix of the coefficients.\n",
    "    \n",
    "    Output:\n",
    "    -------\n",
    "        n : list\n",
    "           List with the ``n`` indices.\n",
    "        l : list\n",
    "           List with the ``l`` indices.\n",
    "        m : list\n",
    "           List with the ``m`` indices.\n",
    "    \"\"\"\n",
    "    \n",
    "    index = np.where(Coeff>Coeff[0,0,0])\n",
    "    n = index[0]\n",
    "    l = index[1]\n",
    "    m = index[2]\n",
    "    \n",
    "    #print('n=', n)\n",
    "    #print('l=', l)\n",
    "    #print('m=', m)\n",
    "    coeffs = np.array([n, l, m, Coeff[n,l,m]]).T\n",
    "    return coeffs[coeffs[:,3].argsort()]\n",
    "\n",
    "\n",
    "def pot_diff(pot1, pot2):\n",
    "    dif = np.abs(np.abs(pot1)-np.abs(pot2))\n",
    "    return dif"
   ]
  },
  {
   "cell_type": "markdown",
   "metadata": {},
   "source": [
    "# Potential comparisson from the N body to the analytic and the SCF method"
   ]
  },
  {
   "cell_type": "code",
   "execution_count": 653,
   "metadata": {
    "collapsed": false
   },
   "outputs": [
    {
     "name": "stdout",
     "output_type": "stream",
     "text": [
      "Returning DM    Positions\n",
      "Returning DM    Velocities\n",
      "Returning DM    Particle IDs\n",
      "Returning DM    Positions\n",
      "Returning DM    Velocities\n",
      "Returning DM    Particle IDs\n",
      "Returning DM    Positions\n",
      "Returning DM    Velocities\n",
      "Returning DM    Particle IDs\n",
      "Returning DM    Positions\n",
      "Returning DM    Velocities\n",
      "Returning DM    Particle IDs\n",
      "Returning DM    Positions\n",
      "Returning DM    Velocities\n",
      "Returning DM    Particle IDs\n",
      "Returning DM    Positions\n",
      "Returning DM    Velocities\n",
      "Returning DM    Particle IDs\n",
      "Returning DM    Positions\n",
      "Returning DM    Velocities\n",
      "Returning DM    Particle IDs\n",
      "Returning DM    Positions\n",
      "Returning DM    Velocities\n",
      "Returning DM    Particle IDs\n",
      "Returning DM    Positions\n",
      "Returning DM    Velocities\n",
      "Returning DM    Particle IDs\n",
      "Returning DM    Positions\n",
      "Returning DM    Velocities\n",
      "Returning DM    Particle IDs\n",
      "Returning DM    Positions\n",
      "Returning DM    Velocities\n",
      "Returning DM    Particle IDs\n",
      "Returning DM    Positions\n",
      "Returning DM    Velocities\n",
      "Returning DM    Particle IDs\n",
      "Returning DM    Positions\n",
      "Returning DM    Velocities\n",
      "Returning DM    Particle IDs\n",
      "Returning DM    Positions\n",
      "Returning DM    Velocities\n",
      "Returning DM    Particle IDs\n",
      "Returning DM    Positions\n",
      "Returning DM    Velocities\n",
      "Returning DM    Particle IDs\n",
      "Returning DM    Positions\n",
      "Returning DM    Velocities\n",
      "Returning DM    Particle IDs\n",
      "Returning DM    Positions\n",
      "Returning DM    Velocities\n",
      "Returning DM    Particle IDs\n",
      "Returning DM    Positions\n",
      "Returning DM    Velocities\n",
      "Returning DM    Particle IDs\n",
      "Returning DM    Positions\n",
      "Returning DM    Velocities\n",
      "Returning DM    Particle IDs\n",
      "Returning DM    Positions\n",
      "Returning DM    Velocities\n",
      "Returning DM    Particle IDs\n",
      "Returning DM    Positions\n",
      "Returning DM    Velocities\n",
      "Returning DM    Particle IDs\n",
      "Returning DM    Positions\n",
      "Returning DM    Velocities\n",
      "Returning DM    Particle IDs\n",
      "Returning DM    Positions\n",
      "Returning DM    Velocities\n",
      "Returning DM    Particle IDs\n",
      "Returning DM    Positions\n",
      "Returning DM    Velocities\n",
      "Returning DM    Particle IDs\n",
      "Returning DM    Positions\n",
      "Returning DM    Velocities\n",
      "Returning DM    Particle IDs\n",
      "Returning DM    Positions\n",
      "Returning DM    Velocities\n",
      "Returning DM    Particle IDs\n",
      "Returning DM    Positions\n",
      "Returning DM    Velocities\n",
      "Returning DM    Particle IDs\n",
      "Returning DM    Positions\n",
      "Returning DM    Velocities\n",
      "Returning DM    Particle IDs\n",
      "Returning DM    Positions\n",
      "Returning DM    Velocities\n",
      "Returning DM    Particle IDs\n",
      "Returning DM    Positions\n",
      "Returning DM    Velocities\n",
      "Returning DM    Particle IDs\n",
      "Returning DM    Positions\n",
      "Returning DM    Velocities\n",
      "Returning DM    Particle IDs\n",
      "Returning DM    Positions\n",
      "Returning DM    Velocities\n",
      "Returning DM    Particle IDs\n",
      "Returning DM    Positions\n",
      "Returning DM    Velocities\n",
      "Returning DM    Particle IDs\n",
      "Returning DM    Positions\n",
      "Returning DM    Velocities\n",
      "Returning DM    Particle IDs\n",
      "Returning DM    Positions\n",
      "Returning DM    Velocities\n",
      "Returning DM    Particle IDs\n",
      "Returning DM    Positions\n",
      "Returning DM    Velocities\n",
      "Returning DM    Particle IDs\n",
      "Returning DM    Positions\n",
      "Returning DM    Velocities\n",
      "Returning DM    Particle IDs\n",
      "Returning DM    Positions\n",
      "Returning DM    Velocities\n",
      "Returning DM    Particle IDs\n",
      "Returning DM    Positions\n",
      "Returning DM    Velocities\n",
      "Returning DM    Particle IDs\n",
      "Returning DM    Positions\n",
      "Returning DM    Velocities\n",
      "Returning DM    Particle IDs\n",
      "Returning DM    Positions\n",
      "Returning DM    Velocities\n",
      "Returning DM    Particle IDs\n",
      "Returning DM    Positions\n",
      "Returning DM    Velocities\n",
      "Returning DM    Particle IDs\n",
      "Returning DM    Positions\n",
      "Returning DM    Velocities\n",
      "Returning DM    Particle IDs\n",
      "Returning DM    Positions\n",
      "Returning DM    Velocities\n",
      "Returning DM    Particle IDs\n",
      "Returning DM    Positions\n",
      "Returning DM    Velocities\n",
      "Returning DM    Particle IDs\n",
      "Returning DM    Positions\n",
      "Returning DM    Velocities\n",
      "Returning DM    Particle IDs\n",
      "Returning DM    Positions\n",
      "Returning DM    Velocities\n",
      "Returning DM    Particle IDs\n",
      "Returning DM    Positions\n",
      "Returning DM    Velocities\n",
      "Returning DM    Particle IDs\n",
      "Returning DM    Positions\n",
      "Returning DM    Velocities\n",
      "Returning DM    Particle IDs\n",
      "Returning DM    Positions\n",
      "Returning DM    Velocities\n",
      "Returning DM    Particle IDs\n",
      "Returning DM    Positions\n",
      "Returning DM    Velocities\n",
      "Returning DM    Particle IDs\n",
      "Returning DM    Positions\n",
      "Returning DM    Velocities\n",
      "Returning DM    Particle IDs\n",
      "Returning DM    Positions\n",
      "Returning DM    Velocities\n",
      "Returning DM    Particle IDs\n",
      "Returning DM    Positions\n",
      "Returning DM    Velocities\n",
      "Returning DM    Particle IDs\n",
      "Returning DM    Positions\n",
      "Returning DM    Velocities\n",
      "Returning DM    Particle IDs\n",
      "Returning DM    Positions\n",
      "Returning DM    Velocities\n",
      "Returning DM    Particle IDs\n",
      "Returning DM    Positions\n",
      "Returning DM    Velocities\n",
      "Returning DM    Particle IDs\n",
      "Returning DM    Positions\n",
      "Returning DM    Velocities\n",
      "Returning DM    Particle IDs\n",
      "Returning DM    Positions\n",
      "Returning DM    Velocities\n",
      "Returning DM    Particle IDs\n",
      "Returning DM    Positions\n",
      "Returning DM    Velocities\n",
      "Returning DM    Particle IDs\n",
      "Returning DM    Positions\n",
      "Returning DM    Velocities\n",
      "Returning DM    Particle IDs\n",
      "Returning DM    Positions\n",
      "Returning DM    Velocities\n",
      "Returning DM    Particle IDs\n",
      "Returning DM    Positions\n",
      "Returning DM    Velocities\n",
      "Returning DM    Particle IDs\n",
      "Returning DM    Positions\n",
      "Returning DM    Velocities\n",
      "Returning DM    Particle IDs\n",
      "Returning DM    Positions\n",
      "Returning DM    Velocities\n",
      "Returning DM    Particle IDs\n",
      "Returning DM    Positions\n",
      "Returning DM    Velocities\n",
      "Returning DM    Particle IDs\n",
      "Returning DM    Positions\n",
      "Returning DM    Velocities\n",
      "Returning DM    Particle IDs\n",
      "Returning DM    Positions\n",
      "Returning DM    Velocities\n",
      "Returning DM    Particle IDs\n",
      "Returning DM    Positions\n",
      "Returning DM    Velocities\n",
      "Returning DM    Particle IDs\n",
      "Returning DM    Positions\n",
      "Returning DM    Velocities\n",
      "Returning DM    Particle IDs\n",
      "Returning DM    Positions\n",
      "Returning DM    Velocities\n",
      "Returning DM    Particle IDs\n",
      "Returning DM    Positions\n",
      "Returning DM    Velocities\n",
      "Returning DM    Particle IDs\n",
      "Returning DM    Positions\n",
      "Returning DM    Velocities\n",
      "Returning DM    Particle IDs\n",
      "Returning DM    Positions\n",
      "Returning DM    Velocities\n",
      "Returning DM    Particle IDs\n",
      "Returning DM    Positions\n",
      "Returning DM    Velocities\n",
      "Returning DM    Particle IDs\n",
      "Returning DM    Positions\n",
      "Returning DM    Velocities\n",
      "Returning DM    Particle IDs\n",
      "Returning DM    Positions\n",
      "Returning DM    Velocities\n",
      "Returning DM    Particle IDs\n",
      "Returning DM    Positions\n",
      "Returning DM    Velocities\n",
      "Returning DM    Particle IDs\n",
      "Returning DM    Positions\n",
      "Returning DM    Velocities\n",
      "Returning DM    Particle IDs\n",
      "Returning DM    Positions\n",
      "Returning DM    Velocities\n",
      "Returning DM    Particle IDs\n",
      "Returning DM    Positions\n",
      "Returning DM    Velocities\n",
      "Returning DM    Particle IDs\n",
      "Returning DM    Positions\n",
      "Returning DM    Velocities\n",
      "Returning DM    Particle IDs\n",
      "Returning DM    Positions\n",
      "Returning DM    Velocities\n",
      "Returning DM    Particle IDs\n",
      "Returning DM    Positions\n",
      "Returning DM    Velocities\n",
      "Returning DM    Particle IDs\n",
      "Returning DM    Positions\n",
      "Returning DM    Velocities\n",
      "Returning DM    Particle IDs\n",
      "Returning DM    Positions\n",
      "Returning DM    Velocities\n",
      "Returning DM    Particle IDs\n",
      "Returning DM    Positions\n",
      "Returning DM    Velocities\n",
      "Returning DM    Particle IDs\n",
      "Returning DM    Positions\n",
      "Returning DM    Velocities\n",
      "Returning DM    Particle IDs\n",
      "Returning DM    Positions\n",
      "Returning DM    Velocities\n",
      "Returning DM    Particle IDs\n",
      "Returning DM    Positions\n",
      "Returning DM    Velocities\n",
      "Returning DM    Particle IDs\n",
      "Returning DM    Positions\n",
      "Returning DM    Velocities\n",
      "Returning DM    Particle IDs\n",
      "Returning DM    Positions\n",
      "Returning DM    Velocities\n",
      "Returning DM    Particle IDs\n",
      "Returning DM    Positions\n",
      "Returning DM    Velocities\n",
      "Returning DM    Particle IDs\n",
      "Returning DM    Positions\n",
      "Returning DM    Velocities\n",
      "Returning DM    Particle IDs\n",
      "Returning DM    Positions\n",
      "Returning DM    Velocities\n",
      "Returning DM    Particle IDs\n",
      "Returning DM    Positions\n",
      "Returning DM    Velocities\n",
      "Returning DM    Particle IDs\n",
      "Returning DM    Positions\n",
      "Returning DM    Velocities\n",
      "Returning DM    Particle IDs\n",
      "Returning DM    Positions\n",
      "Returning DM    Velocities\n",
      "Returning DM    Particle IDs\n",
      "Returning DM    Positions\n",
      "Returning DM    Velocities\n",
      "Returning DM    Particle IDs\n",
      "Returning DM    Positions\n",
      "Returning DM    Velocities\n",
      "Returning DM    Particle IDs\n",
      "Returning DM    Positions\n",
      "Returning DM    Velocities\n",
      "Returning DM    Particle IDs\n"
     ]
    }
   ],
   "source": [
    "# Computing the center of mass of the halo.\n",
    "pos_cm_LMC, vel_cm_LMC, a, b = octopus.orbit('../../data/ICs/LMC/LMC1-97k/', 'LMC1_97K_vir', 0, 100, 97000, 0.1)"
   ]
  },
  {
   "cell_type": "code",
   "execution_count": 654,
   "metadata": {
    "collapsed": false
   },
   "outputs": [
    {
     "data": {
      "text/plain": [
       "[<matplotlib.lines.Line2D at 0x7fae155ca1d0>]"
      ]
     },
     "execution_count": 654,
     "metadata": {},
     "output_type": "execute_result"
    },
    {
     "data": {
      "image/png": "[encoded data removed]",
      "text/plain": [
       "<matplotlib.figure.Figure at 0x7fae156795c0>"
      ]
     },
     "metadata": {},
     "output_type": "display_data"
    }
   ],
   "source": [
    "# CM trajectory.\n",
    "rcm_LMC = np.sqrt(pos_cm_LMC[:,0]**2 + pos_cm_LMC[:,1]**2 + pos_cm_LMC[:,2]**2)\n",
    "plot(rcm_LMC)"
   ]
  },
  {
   "cell_type": "code",
   "execution_count": 194,
   "metadata": {
    "collapsed": false
   },
   "outputs": [
    {
     "name": "stdout",
     "output_type": "stream",
     "text": [
      "Returning DM    Positions\n",
      "Returning DM    Velocities\n",
      "Returning DM    Mass\n",
      "Returning DM    Particle IDs\n",
      "Returning DM    Potential\n"
     ]
    }
   ],
   "source": [
    "# Fisrt snapshot properties!\n",
    "pos_LMC = readsnap('../../data/ICs/LMC/LMC6_20M_vir_000', 'pos', 'dm')\n",
    "vel_LMC = readsnap('../../data/ICs/LMC/LMC6_20M_vir_000', 'vel', 'dm')\n",
    "mass_LMC = readsnap('../../data/ICs/LMC/LMC6_20M_vir_000', 'mass', 'dm')\n",
    "pid_LMC = readsnap('../../data/ICs/LMC/LMC6_20M_vir_000', 'pid', 'dm')\n",
    "pot_LMC = readsnap('../../data/ICs/LMC/LMC6_20M_vir_000', 'pot', 'dm')"
   ]
  },
  {
   "cell_type": "code",
   "execution_count": null,
   "metadata": {
    "collapsed": true
   },
   "outputs": [],
   "source": [
    "# Computing all the coefficients for the first snapshot\n",
    "S0, T0 = biff.compute_coeffs_discrete(np.ascontiguousarray(pos_LMC.astype(double)), mass_LMC.astype(double)*1E10, 10, 10, 3)"
   ]
  },
  {
   "cell_type": "markdown",
   "metadata": {},
   "source": [
    "Remeber to correct by the fact that Gagdet have different units for G\n",
    "this is:\n",
    "$G=43007.1$"
   ]
  },
  {
   "cell_type": "code",
   "execution_count": 6,
   "metadata": {
    "collapsed": false
   },
   "outputs": [],
   "source": [
    "G_c = constants.G\n",
    "G_c = G_c.to(u.kiloparsec**3 / (u.s**2 * u.Msun)) # \n",
    "pot_factor = G_c/43007.1 *1E10"
   ]
  },
  {
   "cell_type": "code",
   "execution_count": 7,
   "metadata": {
    "collapsed": false
   },
   "outputs": [],
   "source": [
    "r_lmc, pot_nb_lmc = n_body_potential(pos_LMC, pot_LMC)"
   ]
  },
  {
   "cell_type": "code",
   "execution_count": 8,
   "metadata": {
    "collapsed": false
   },
   "outputs": [],
   "source": [
    "# Analytic potential\n",
    "pot_an_lmc = octopus.pot_hernquist(3, r_lmc, 3E10)\n",
    "# Biff potential\n",
    "pot_biff_LMC = biff.potential(pos_LMC.astype(double), S0, T0, G=G_c.value, M=1, r_s=3)"
   ]
  },
  {
   "cell_type": "code",
   "execution_count": 9,
   "metadata": {
    "collapsed": false
   },
   "outputs": [],
   "source": [
    "r = np.sqrt(pos_LMC[:,0]**2 + pos_LMC[:,1]**2 + pos_LMC[:,2]**2)\n",
    "indexes = argsort(r)\n"
   ]
  },
  {
   "cell_type": "code",
   "execution_count": 10,
   "metadata": {
    "collapsed": false
   },
   "outputs": [
    {
     "data": {
      "text/plain": [
       "(0.009968961589038372, 100)"
      ]
     },
     "execution_count": 10,
     "metadata": {},
     "output_type": "execute_result"
    },
    {
     "data": {
      "image/png": "[encoded data removed]",
      "text/plain": [
       "<matplotlib.figure.Figure at 0x7f8d318639e8>"
      ]
     },
     "metadata": {},
     "output_type": "display_data"
    }
   ],
   "source": [
    "loglog(r_lmc, np.abs(pot_nb_lmc)*pot_factor, label='gadget3')\n",
    "loglog(r_lmc, np.abs(pot_an_lmc), label='Analytic')\n",
    "loglog(r[indexes], np.abs(pot_biff_LMC[indexes]), label='biff')\n",
    "legend()\n",
    "xlim(0, 100)"
   ]
  },
  {
   "cell_type": "code",
   "execution_count": 22,
   "metadata": {
    "collapsed": false
   },
   "outputs": [
    {
     "name": "stdout",
     "output_type": "stream",
     "text": [
      "[[  1.00000000e+00   1.00000000e+01   9.00000000e+00   3.29664471e+10]\n",
      " [  0.00000000e+00   7.00000000e+00   7.00000000e+00   4.12068946e+10]\n",
      " [  1.00000000e+00   8.00000000e+00   3.00000000e+00   5.16889190e+10]\n",
      " [  0.00000000e+00   7.00000000e+00   3.00000000e+00   5.23610522e+10]\n",
      " [  0.00000000e+00   7.00000000e+00   5.00000000e+00   5.30872648e+10]\n",
      " [  0.00000000e+00   8.00000000e+00   2.00000000e+00   9.01544182e+10]\n",
      " [  1.00000000e+00   9.00000000e+00   2.00000000e+00   9.42397276e+10]\n",
      " [  1.00000000e+00   1.00000000e+01   2.00000000e+00   1.21613894e+11]\n",
      " [  0.00000000e+00   9.00000000e+00   5.00000000e+00   1.32432912e+11]\n",
      " [  1.00000000e+00   9.00000000e+00   8.00000000e+00   1.32493722e+11]\n",
      " [  1.00000000e+00   1.00000000e+01   8.00000000e+00   1.63005301e+11]\n",
      " [  0.00000000e+00   9.00000000e+00   9.00000000e+00   1.81948187e+11]\n",
      " [  0.00000000e+00   8.00000000e+00   3.00000000e+00   2.03341627e+11]\n",
      " [  1.00000000e+00   1.00000000e+01   1.00000000e+01   2.27677798e+11]\n",
      " [  0.00000000e+00   9.00000000e+00   0.00000000e+00   2.62252249e+11]\n",
      " [  1.00000000e+00   1.00000000e+01   4.00000000e+00   3.50604427e+11]\n",
      " [  0.00000000e+00   1.00000000e+01   5.00000000e+00   1.60950243e+12]\n",
      " [  0.00000000e+00   1.00000000e+01   3.00000000e+00   2.45934090e+12]\n",
      " [  0.00000000e+00   1.00000000e+01   9.00000000e+00   2.59288570e+12]]\n"
     ]
    }
   ],
   "source": [
    "## Finding high order terms! \n",
    "hot_S0 = high_order_terms(S0)\n",
    "print(hot_S0.astype(float32))"
   ]
  },
  {
   "cell_type": "code",
   "execution_count": 30,
   "metadata": {
    "collapsed": true
   },
   "outputs": [],
   "source": [
    "def grid_gen(xmin, xmax, ymin, ymax, zmin, zmax, n_spaces):\n",
    "    \"\"\"\n",
    "    n_spaces : int\n",
    "        space between points.\n",
    "    \"\"\"\n",
    "    X, Y, Z = np.mgrid[xmin:xmax:n_spaces, ymin:ymax:n_spaces, zmin:zmax:n_spaces]\n",
    "    cart_grid = np.vstack([X.ravel(), Y.ravel(), Z.ravel()])\n",
    "    return cart_grid\n",
    "    #figure(figsize=(5,5))\n",
    "    #scatter(cart_grid[0], cart_grid[1], s=0.1)"
   ]
  },
  {
   "cell_type": "code",
   "execution_count": 165,
   "metadata": {
    "collapsed": false
   },
   "outputs": [
    {
     "data": {
      "text/plain": [
       "<matplotlib.collections.PathCollection at 0x7f8d2b9fa588>"
      ]
     },
     "execution_count": 165,
     "metadata": {},
     "output_type": "execute_result"
    },
    {
     "data": {
      "image/png": "[encoded data removed]",
      "text/plain": [
       "<matplotlib.figure.Figure at 0x7f8d2a8946a0>"
      ]
     },
     "metadata": {},
     "output_type": "display_data"
    }
   ],
   "source": [
    "# Example of the grid\n",
    "figure(figsize=(6,6))\n",
    "grid_pos = grid_gen(-100, 100, -100, 100, -100, 100, 3)\n",
    "scatter(grid_pos[0], grid_pos[1])"
   ]
  },
  {
   "cell_type": "code",
   "execution_count": 166,
   "metadata": {
    "collapsed": false
   },
   "outputs": [],
   "source": [
    "pot_biff_all_LMC = biff.potential(ascontiguousarray(grid_pos.T.astype(double)), S0, T0, G=G_c.value, M=1, r_s=3)\n",
    "pot_biff_partial_LMC = biff_potential(ascontiguousarray(grid_pos.T), S0, T0, 0, 10, 9)\n",
    "pot_biff_principal_LMC = biff_potential(ascontiguousarray(grid_pos.T), S0, T0, 0, 0, 0)\n",
    "\n",
    "#pot_biff_partial_LMC"
   ]
  },
  {
   "cell_type": "code",
   "execution_count": null,
   "metadata": {
    "collapsed": true
   },
   "outputs": [],
   "source": [
    "### computing differences in the potential!"
   ]
  },
  {
   "cell_type": "code",
   "execution_count": 183,
   "metadata": {
    "collapsed": false
   },
   "outputs": [
    {
     "name": "stdout",
     "output_type": "stream",
     "text": [
      "0.0\n"
     ]
    }
   ],
   "source": [
    "pot_dif_all_all = pot_diff(pot_biff_all_LMC, pot_biff_all_LMC)\n",
    "print(sum(pot_dif_all_all))"
   ]
  },
  {
   "cell_type": "code",
   "execution_count": 184,
   "metadata": {
    "collapsed": false
   },
   "outputs": [
    {
     "name": "stdout",
     "output_type": "stream",
     "text": [
      "3.0990312109e-28\n"
     ]
    }
   ],
   "source": [
    "pot_dif_all_principal = pot_diff(pot_biff_all_LMC, pot_biff_principal_LMC)\n",
    "print(sum(pot_dif_all_principal))"
   ]
  },
  {
   "cell_type": "code",
   "execution_count": 185,
   "metadata": {
    "collapsed": false
   },
   "outputs": [
    {
     "name": "stdout",
     "output_type": "stream",
     "text": [
      "4.61786903561e-25\n"
     ]
    }
   ],
   "source": [
    "pot_dif_all_partial = pot_diff(pot_biff_all_LMC, pot_biff_partial_LMC)\n",
    "print(sum(pot_dif_all_partial))"
   ]
  },
  {
   "cell_type": "code",
   "execution_count": 186,
   "metadata": {
    "collapsed": true
   },
   "outputs": [],
   "source": [
    "def scatter_slice(pos, pot, zmin, zmax):\n",
    "    \"\"\"\n",
    "    Slices the 3d cartessian grid along the z-coordinate.\n",
    "    \n",
    "    \"\"\"\n",
    "    index = np.where((pos[:,2]<zmax) & ((pos[:,2]>zmin)))\n",
    "    return pos[index], pot[index]\n",
    "    "
   ]
  },
  {
   "cell_type": "code",
   "execution_count": null,
   "metadata": {
    "collapsed": true
   },
   "outputs": [],
   "source": [
    "### Visualizing the potential "
   ]
  },
  {
   "cell_type": "code",
   "execution_count": 131,
   "metadata": {
    "collapsed": false
   },
   "outputs": [
    {
     "data": {
      "text/plain": [
       "<matplotlib.collections.PathCollection at 0x7f8d2b0a8908>"
      ]
     },
     "execution_count": 131,
     "metadata": {},
     "output_type": "execute_result"
    },
    {
     "data": {
      "image/png": "[encoded data removed]",
      "text/plain": [
       "<matplotlib.figure.Figure at 0x7f8d2b0df2e8>"
      ]
     },
     "metadata": {},
     "output_type": "display_data"
    }
   ],
   "source": [
    "figure(figsize=(6,6))\n",
    "pos_slice, pot_slice_all = scatter_slice(grid_pos.T, pot_biff_all_LMC, -5, 5)\n",
    "scatter(pos_slice[:,0], pos_slice[:,1], c = np.log10(np.abs(pot_slice_all)/np.max(np.abs(pot_biff_all_LMC))), s=70, marker='s')"
   ]
  },
  {
   "cell_type": "code",
   "execution_count": 132,
   "metadata": {
    "collapsed": false
   },
   "outputs": [
    {
     "data": {
      "text/plain": [
       "<matplotlib.collections.PathCollection at 0x7f8d2b018a58>"
      ]
     },
     "execution_count": 132,
     "metadata": {},
     "output_type": "execute_result"
    },
    {
     "data": {
      "image/png": "[encoded data removed]",
      "text/plain": [
       "<matplotlib.figure.Figure at 0x7f8d2b0bec18>"
      ]
     },
     "metadata": {},
     "output_type": "display_data"
    }
   ],
   "source": [
    "figure(figsize=(6,6))\n",
    "pos_slice, pot_slice_principal = scatter_slice(grid_pos.T, pot_biff_principal_LMC, -5, 5)\n",
    "scatter(pos_slice[:,0], pos_slice[:,1], c = np.log10(np.abs(pot_slice_principal)/np.max(np.abs(pot_biff_all_LMC))), s=70, marker='s')"
   ]
  },
  {
   "cell_type": "code",
   "execution_count": 191,
   "metadata": {
    "collapsed": false
   },
   "outputs": [
    {
     "data": {
      "text/plain": [
       "<matplotlib.colorbar.Colorbar at 0x7f8d29751e10>"
      ]
     },
     "execution_count": 191,
     "metadata": {},
     "output_type": "execute_result"
    },
    {
     "data": {
      "image/png": "[encoded data removed]",
      "text/plain": [
       "<matplotlib.figure.Figure at 0x7f8d29809be0>"
      ]
     },
     "metadata": {},
     "output_type": "display_data"
    }
   ],
   "source": [
    "figure(figsize=(7,6))\n",
    "pos_slice, pot_slice_dif_all_principal = scatter_slice(grid_pos.T, pot_dif_all_principal, 0, 10)\n",
    "scatter(pos_slice[:,0], pos_slice[:,1], c = (np.abs(pot_slice_dif_all_principal)/np.max(np.abs(pot_biff_all_LMC)))\n",
    "        ,s=17, marker='s')\n",
    "xlabel('$x[kpc]$', fontsize=25)\n",
    "ylabel('$y[kpc]$', fontsize=25)\n",
    "xlim(-100,100)\n",
    "ylim(-100,100)\n",
    "\n",
    "colorbar()"
   ]
  },
  {
   "cell_type": "code",
   "execution_count": null,
   "metadata": {
    "collapsed": true
   },
   "outputs": [],
   "source": [
    "figure(figsize=(7,6))\n",
    "pos_slice, pot_slice_partial = scatter_slice(grid_pos.T, pot_biff_partial_LMC, -25, -20)\n",
    "scatter(pos_slice[:,0], pos_slice[:,1], c = np.log10(np.abs(pot_slice_partial)/np.max(np.abs(pot_biff_partial_LMC)))\n",
    "        ,s=80, marker='s')\n",
    "xlabel('$x[kpc]$', fontsize=25)\n",
    "ylabel('$y[kpc]$', fontsize=25)\n",
    "xlim(-100,100)\n",
    "ylim(-100,100)\n",
    "\n",
    "colorbar()"
   ]
  },
  {
   "cell_type": "markdown",
   "metadata": {},
   "source": [
    "# Relaxation effect!\n",
    "\n",
    "Does the relaxation have any inprint in the amplitude of the coefficients?\n"
   ]
  },
  {
   "cell_type": "code",
   "execution_count": 117,
   "metadata": {
    "collapsed": false
   },
   "outputs": [
    {
     "name": "stdout",
     "output_type": "stream",
     "text": [
      "Returning DM    Positions\n",
      "Returning DM    Velocities\n",
      "Returning DM    Mass\n",
      "Returning DM    Particle IDs\n"
     ]
    }
   ],
   "source": [
    "pos_LMC_f = readsnap('../../data/ICs/LMC/LMC1-97k/LMC1_97K_vir_100', 'pos', 'dm')\n",
    "vel_LMC_f = readsnap('../../data/ICs/LMC/LMC1-97k/LMC1_97K_vir_100', 'vel', 'dm')\n",
    "mass_LMC_f = readsnap('../../data/ICs/LMC/LMC1-97k/LMC1_97K_vir_100', 'mass', 'dm')\n",
    "pid_LMC_f = readsnap('../../data/ICs/LMC/LMC1-97k/LMC1_97K_vir_100', 'pid', 'dm')"
   ]
  },
  {
   "cell_type": "code",
   "execution_count": 119,
   "metadata": {
    "collapsed": true
   },
   "outputs": [],
   "source": [
    "pos_LMC_centered = re_center(pos_LMC, pos_cm_LMC[0])\n",
    "pos_LMC_f_centered = re_center(pos_LMC_f, pos_cm_LMC[100])\n",
    "#octopus.CM(pos_LMC_centered,  vel_LMC)\n",
    "S0_cm, T0_cm = biff.compute_coeffs_discrete(np.ascontiguousarray(pos_LMC_centered.astype(double)), mass_LMC.astype(double), 10, 10, 3)\n",
    "S0f_cm, T0f_cm = biff.compute_coeffs_discrete(np.ascontiguousarray(pos_LMC_f_centered.astype(double)), mass_LMC.astype(double), 10, 10, 3)"
   ]
  },
  {
   "cell_type": "code",
   "execution_count": 148,
   "metadata": {
    "collapsed": false
   },
   "outputs": [
    {
     "data": {
      "text/plain": [
       "[<matplotlib.lines.Line2D at 0x7fae1deff198>]"
      ]
     },
     "execution_count": 148,
     "metadata": {},
     "output_type": "execute_result"
    },
    {
     "data": {
      "image/png": "[encoded data removed]",
      "text/plain": [
       "<matplotlib.figure.Figure at 0x7fae1e0068d0>"
      ]
     },
     "metadata": {},
     "output_type": "display_data"
    }
   ],
   "source": [
    "figure(figsize=(7,5))\n",
    "plot(S0_cm.flatten(), alpha=1)\n",
    "plot(S0f_cm.flatten(), alpha=0.5)"
   ]
  },
  {
   "cell_type": "code",
   "execution_count": 147,
   "metadata": {
    "collapsed": false
   },
   "outputs": [
    {
     "data": {
      "text/plain": [
       "<matplotlib.text.Text at 0x7fae1dfc6e80>"
      ]
     },
     "execution_count": 147,
     "metadata": {},
     "output_type": "execute_result"
    },
    {
     "data": {
      "image/png": "[encoded data removed]",
      "text/plain": [
       "<matplotlib.figure.Figure at 0x7fae1e008828>"
      ]
     },
     "metadata": {},
     "output_type": "display_data"
    }
   ],
   "source": [
    "figure(figsize=(7,5))\n",
    "\n",
    "plot(np.log10(np.abs(S0_cm[0,:,0])/np.abs(S0_cm[0,0,0])), lw=2, ls='--', label='$t=0$')\n",
    "plot(np.log10(np.abs(S0f_cm[0,:,0])/np.abs(S0f_cm[0,0,0])), lw=2, ls='--', label='$t=2Gyr$')\n",
    "legend(fontsize=15)\n",
    "xlabel('$l$', fontsize=25)\n",
    "ylabel('$S(0, l, 0)$', fontsize=25)"
   ]
  },
  {
   "cell_type": "markdown",
   "metadata": {},
   "source": [
    "## Off center effect on the BFE expansion"
   ]
  },
  {
   "cell_type": "code",
   "execution_count": 150,
   "metadata": {
    "collapsed": true
   },
   "outputs": [],
   "source": [
    "pos_LMC_off_center = re_center(pos_LMC, [5, 5, 5])\n",
    "S0_off, T0_off = biff.compute_coeffs_discrete(np.ascontiguousarray(pos_LMC_off_center.astype(double)), mass_LMC.astype(double), 10, 10, 3)\n"
   ]
  },
  {
   "cell_type": "code",
   "execution_count": 176,
   "metadata": {
    "collapsed": false
   },
   "outputs": [
    {
     "data": {
      "text/plain": [
       "<matplotlib.legend.Legend at 0x7fae1d39e978>"
      ]
     },
     "execution_count": 176,
     "metadata": {},
     "output_type": "execute_result"
    },
    {
     "data": {
      "image/png": "[encoded data removed]",
      "text/plain": [
       "<matplotlib.figure.Figure at 0x7fae1d44c7b8>"
      ]
     },
     "metadata": {},
     "output_type": "display_data"
    }
   ],
   "source": [
    "figure(figsize=(7,5))\n",
    "plot(S0_off[:,:,2].flatten()/np.abs(np.max(S0_off)), alpha=1, label='Off-center')\n",
    "plot(S0_cm[:,:,2].flatten()/np.abs(np.max(S0_cm)), alpha=1, label='Cetered halo')\n",
    "legend()"
   ]
  },
  {
   "cell_type": "code",
   "execution_count": 173,
   "metadata": {
    "collapsed": false
   },
   "outputs": [
    {
     "data": {
      "text/plain": [
       "<matplotlib.text.Text at 0x7fae1d69f9e8>"
      ]
     },
     "execution_count": 173,
     "metadata": {},
     "output_type": "execute_result"
    },
    {
     "data": {
      "image/png": "[encoded data removed]",
      "text/plain": [
       "<matplotlib.figure.Figure at 0x7fae1d680320>"
      ]
     },
     "metadata": {},
     "output_type": "display_data"
    }
   ],
   "source": [
    "figure(figsize=(7,5))\n",
    "\n",
    "plot(np.log10(np.abs(S0_off[0,:,0])/np.abs(S0_off[0,0,0])), lw=2, ls='--', label='$off-center$')\n",
    "plot(np.log10(np.abs(S0_cm[0,:,0])/np.abs(S0f_cm[0,0,0])), lw=2, ls='--', label='$center$')\n",
    "legend(fontsize=15)\n",
    "xlabel('$l$', fontsize=25)\n",
    "ylabel('$S(0, l, 0)$', fontsize=25)"
   ]
  },
  {
   "cell_type": "markdown",
   "metadata": {
    "collapsed": true
   },
   "source": [
    "## conclusion: There is effect due to the CM ! "
   ]
  },
  {
   "cell_type": "markdown",
   "metadata": {},
   "source": [
    "# truncation radii on the BFE expansion coefficients"
   ]
  },
  {
   "cell_type": "code",
   "execution_count": 9,
   "metadata": {
    "collapsed": true
   },
   "outputs": [],
   "source": [
    "def trunc_radii(pos,  r_t):\n",
    "    pos_r = np.sqrt(pos[:,0]**2 + pos[:,1]**2 + pos[:,2]**2) \n",
    "    len(pos_r)\n",
    "    index = np.where(pos_r < r_t)\n",
    "    return pos[index]"
   ]
  },
  {
   "cell_type": "code",
   "execution_count": 10,
   "metadata": {
    "collapsed": true
   },
   "outputs": [],
   "source": [
    "pos_LMC_trunc = trunc_radii(pos_LMC_centered, 10)"
   ]
  },
  {
   "cell_type": "code",
   "execution_count": 11,
   "metadata": {
    "collapsed": true
   },
   "outputs": [],
   "source": [
    "S0_tr, T0_tr = biff.compute_coeffs_discrete(np.ascontiguousarray(pos_LMC_trunc.astype(double)), mass_LMC.astype(double), 10, 10, 3)"
   ]
  },
  {
   "cell_type": "code",
   "execution_count": 162,
   "metadata": {
    "collapsed": false
   },
   "outputs": [
    {
     "data": {
      "text/plain": [
       "[<matplotlib.lines.Line2D at 0x7fae1daecc50>]"
      ]
     },
     "execution_count": 162,
     "metadata": {},
     "output_type": "execute_result"
    },
    {
     "data": {
      "image/png": "[encoded data removed]",
      "text/plain": [
       "<matplotlib.figure.Figure at 0x7fae1daeca58>"
      ]
     },
     "metadata": {},
     "output_type": "display_data"
    }
   ],
   "source": [
    "plot(S0_tr.flatten(), alpha=1)\n",
    "plot(S0_cm.flatten(), alpha=0.5)\n"
   ]
  },
  {
   "cell_type": "markdown",
   "metadata": {},
   "source": [
    "## conclusion: Not much effect due to the truncation radii"
   ]
  },
  {
   "cell_type": "code",
   "execution_count": 189,
   "metadata": {
    "collapsed": true
   },
   "outputs": [],
   "source": [
    "def random_res_damping(pids, pos, M, damp_perc):\n",
    "    \"\"\"\n",
    "    Decrease the resolution of a halo by randomly selecting\n",
    "    particle ids.\n",
    "    \n",
    "    Parameters:\n",
    "    -----------\n",
    "        pids : array\n",
    "           1-d array with the halo particle ids.\n",
    "        damp_perc : int\n",
    "            percetange to decrease the halo resolution, range: [0-100].\n",
    "    \n",
    "    Returns:\n",
    "    --------\n",
    "         pids :  array\n",
    "             1-d array with the randomly selected halo particle ids.\n",
    "    \"\"\"\n",
    "    N = len(pids)\n",
    "    assert((damp_perc>=0) & (damp_perc<100))\n",
    "    N_indixes = int(N-N*damp_perc/100.)\n",
    "    print(N_indixes)\n",
    "    random_indexes = np.random.randint(0, N, N_indixes)\n",
    "    return pids[random_indexes], pos[random_indexes], M[random_indexes]\n",
    "    \n",
    "    "
   ]
  },
  {
   "cell_type": "code",
   "execution_count": 190,
   "metadata": {
    "collapsed": false
   },
   "outputs": [
    {
     "ename": "NameError",
     "evalue": "name 'pos_lr_LMC' is not defined",
     "output_type": "error",
     "traceback": [
      "\u001b[0;31m----------------------------------------------------------------------\u001b[0m",
      "\u001b[0;31mNameError\u001b[0m                            Traceback (most recent call last)",
      "\u001b[0;32m<ipython-input-190-096e8a19ae35>\u001b[0m in \u001b[0;36m<module>\u001b[0;34m()\u001b[0m\n\u001b[0;32m----> 1\u001b[0;31m \u001b[0mscatter\u001b[0m\u001b[0;34m(\u001b[0m\u001b[0mpos_lr_LMC\u001b[0m\u001b[0;34m[\u001b[0m\u001b[0;34m:\u001b[0m\u001b[0;34m,\u001b[0m\u001b[0;36m0\u001b[0m\u001b[0;34m]\u001b[0m\u001b[0;34m,\u001b[0m \u001b[0mpos_lr_LMC\u001b[0m\u001b[0;34m[\u001b[0m\u001b[0;34m:\u001b[0m\u001b[0;34m,\u001b[0m\u001b[0;36m1\u001b[0m\u001b[0;34m]\u001b[0m\u001b[0;34m,\u001b[0m \u001b[0ms\u001b[0m\u001b[0;34m=\u001b[0m\u001b[0;36m0.1\u001b[0m\u001b[0;34m)\u001b[0m\u001b[0;34m\u001b[0m\u001b[0m\n\u001b[0m\u001b[1;32m      2\u001b[0m \u001b[0mxlim\u001b[0m\u001b[0;34m(\u001b[0m\u001b[0;34m-\u001b[0m\u001b[0;36m100\u001b[0m\u001b[0;34m,\u001b[0m \u001b[0;36m100\u001b[0m\u001b[0;34m)\u001b[0m\u001b[0;34m\u001b[0m\u001b[0m\n\u001b[1;32m      3\u001b[0m \u001b[0mylim\u001b[0m\u001b[0;34m(\u001b[0m\u001b[0;34m-\u001b[0m\u001b[0;36m100\u001b[0m\u001b[0;34m,\u001b[0m \u001b[0;36m100\u001b[0m\u001b[0;34m)\u001b[0m\u001b[0;34m\u001b[0m\u001b[0m\n",
      "\u001b[0;31mNameError\u001b[0m: name 'pos_lr_LMC' is not defined"
     ]
    }
   ],
   "source": [
    "scatter(pos_lr_LMC[:,0], pos_lr_LMC[:,1], s=0.1)\n",
    "xlim(-100, 100)\n",
    "ylim(-100, 100)"
   ]
  },
  {
   "cell_type": "code",
   "execution_count": 116,
   "metadata": {
    "collapsed": false
   },
   "outputs": [
    {
     "name": "stdout",
     "output_type": "stream",
     "text": [
      "97000\n",
      "33\n",
      "48500\n",
      "31\n",
      "9700\n",
      "41\n",
      "970\n",
      "61\n",
      "97\n",
      "77\n"
     ]
    },
    {
     "data": {
      "image/png": "[encoded data removed]",
      "text/plain": [
       "<matplotlib.figure.Figure at 0x7fae1e91f710>"
      ]
     },
     "metadata": {},
     "output_type": "display_data"
    }
   ],
   "source": [
    "figure(figsize=(7,5))\n",
    "resolutions = [0, 50, 90, 99, 99.9 ]\n",
    "labels = ['100%', '50%', '10%', '1%', '0.1%']\n",
    "for i in range(len(resolutions)):\n",
    "    pids_lr_LMC, pos_lr_LMC, mass_lr_LMC = random_res_damping(pid_LMC, pos_LMC_centered, mass_LMC, resolutions[i])\n",
    "    S0_lr1, T0_lr1 = biff.compute_coeffs_discrete(np.ascontiguousarray(pos_lr_LMC.astype(double)), mass_LMC.astype(double), 10, 10, 3)\n",
    "    coeffs = high_order_terms(S0_lr1)\n",
    "    print(shape(coeffs)[1])\n",
    "    plot(np.log10(np.abs(S0_lr1[0,:,0])/np.abs(S0_lr1[0,0,0])), c='k', lw=2.5-i/2.0, ls='--', label=labels[i])\n",
    "    plt.legend(loc='best')\n"
   ]
  },
  {
   "cell_type": "code",
   "execution_count": null,
   "metadata": {
    "collapsed": true
   },
   "outputs": [],
   "source": []
  }
 ],
 "metadata": {
  "kernelspec": {
   "display_name": "Python 3",
   "language": "python",
   "name": "python3"
  },
  "language_info": {
   "codemirror_mode": {
    "name": "ipython",
    "version": 3
   },
   "file_extension": ".py",
   "mimetype": "text/x-python",
   "name": "python",
   "nbconvert_exporter": "python",
   "pygments_lexer": "ipython3",
   "version": "3.4.3"
  }
 },
 "nbformat": 4,
 "nbformat_minor": 0
}
