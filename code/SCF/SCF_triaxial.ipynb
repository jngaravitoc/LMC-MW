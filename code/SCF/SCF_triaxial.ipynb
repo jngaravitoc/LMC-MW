{
 "cells": [
  {
   "cell_type": "code",
   "execution_count": 11,
   "metadata": {
    "collapsed": false
   },
   "outputs": [
    {
     "name": "stdout",
     "output_type": "stream",
     "text": [
      "Populating the interactive namespace from numpy and matplotlib\n"
     ]
    },
    {
     "name": "stderr",
     "output_type": "stream",
     "text": [
      "/usr/local/lib/python3.4/dist-packages/IPython/core/magics/pylab.py:161: UserWarning: pylab import has clobbered these variables: ['linalg', 'chararray']\n",
      "`%matplotlib` prevents importing * from pylab and numpy\n",
      "  \"\\n`%matplotlib` prevents importing * from pylab and numpy\"\n"
     ]
    }
   ],
   "source": [
    "%pylab inline\n",
    "\n",
    "from scipy import special\n",
    "import numpy as np\n",
    "from math import factorial\n",
    "import biff\n",
    "from octopus import *\n",
    "from pygadgetreader import *\n",
    "from weinberg_method import *\n"
   ]
  },
  {
   "cell_type": "code",
   "execution_count": 2,
   "metadata": {
    "collapsed": true
   },
   "outputs": [],
   "source": [
    "font = {'size':18, 'family':'serif'}\n",
    "plt.matplotlib.rc('font', **font)"
   ]
  },
  {
   "cell_type": "markdown",
   "metadata": {},
   "source": [
    "## How well can the SCF method reproduce a triaxial halo?\n",
    "\n",
    "1. Compute the Snlm, Tnlm coefficients for oblate and prolate halos.\n",
    "2. Try to determine "
   ]
  },
  {
   "cell_type": "code",
   "execution_count": 3,
   "metadata": {
    "collapsed": false
   },
   "outputs": [],
   "source": [
    "r_s = 40.85"
   ]
  },
  {
   "cell_type": "code",
   "execution_count": 4,
   "metadata": {
    "collapsed": true
   },
   "outputs": [],
   "source": [
    "def truncate(pos):\n",
    "    index_cut = np.where(np.sqrt(pos[:,0]**2.0+pos[:,1]**2.0+pos[:,2]**2.0)<500)[0]\n",
    "    return pos[index_cut]"
   ]
  },
  {
   "cell_type": "code",
   "execution_count": 5,
   "metadata": {
    "collapsed": false
   },
   "outputs": [
    {
     "name": "stdout",
     "output_type": "stream",
     "text": [
      "500000\n"
     ]
    }
   ],
   "source": [
    "MW_sph = readsnap('../../data/MW_models/triaxial/spherical_010', 'pos', 'dm')\n",
    "MW_oblate12 = readsnap('../../data/MW_models/triaxial/Oblate12_010', 'pos', 'dm')\n",
    "MW_oblate15 = readsnap('../../data/MW_models/triaxial/Oblate15_010', 'pos', 'dm')\n",
    "MW_prolate06 = readsnap('../../data/MW_models/triaxial/Prolate06_010', 'pos', 'dm')\n",
    "MW_prolate08 = readsnap('../../data/MW_models/triaxial/Prolate08_010', 'pos', 'dm')\n",
    "print(len(MW_prolate08))"
   ]
  },
  {
   "cell_type": "code",
   "execution_count": 6,
   "metadata": {
    "collapsed": false
   },
   "outputs": [
    {
     "name": "stdout",
     "output_type": "stream",
     "text": [
      "391910\n"
     ]
    }
   ],
   "source": [
    "MW_sph_t = truncate(MW_sph)\n",
    "MW_oblate12_t = truncate(MW_oblate12)\n",
    "MW_oblate15_t = truncate(MW_oblate15)\n",
    "MW_prolate08_t = truncate(MW_prolate08)\n",
    "MW_prolate06_t = truncate(MW_prolate06)\n",
    "\n",
    "\n",
    "print(len(MW_prolate08_t))"
   ]
  },
  {
   "cell_type": "code",
   "execution_count": null,
   "metadata": {
    "collapsed": false
   },
   "outputs": [],
   "source": [
    "figure(figsize=(16,5))\n",
    "subplot(1, 3, 1)\n",
    "title('$Spherical$', fontsize=35)\n",
    "scatter(MW_sph_t[:,0], MW_sph_t[:,1], s=0.1)\n",
    "axis('equal')\n",
    "\n",
    "subplot(1, 3, 2)\n",
    "title('$Oblate$', fontsize=35)\n",
    "scatter(MW_oblate15_t[:,0], MW_oblate15_t[:,2], s=0.1)\n",
    "axis('equal')\n",
    "\n",
    "subplot(1, 3, 3)\n",
    "title('$Prolate$', fontsize=35)\n",
    "scatter(MW_prolate06_t[:,0], MW_prolate06_t[:,2], s=0.1)\n",
    "axis('equal')\n"
   ]
  },
  {
   "cell_type": "code",
   "execution_count": 8,
   "metadata": {
    "collapsed": false
   },
   "outputs": [
    {
     "name": "stdout",
     "output_type": "stream",
     "text": [
      "398707\n"
     ]
    }
   ],
   "source": [
    "Mass = np.ones(len(MW_sph_t))\n",
    "print(len(Mass))"
   ]
  },
  {
   "cell_type": "code",
   "execution_count": 14,
   "metadata": {
    "collapsed": false
   },
   "outputs": [],
   "source": [
    "Sspheric, Tspheric = biff.compute_coeffs_discrete(MW_sph_t.astype(np.float64), Mass.astype(np.float64), 10, 10, r_s, compute_var=True)\n",
    "#Soblate12, Toblate12 = biff.compute_coeffs_discrete(MW_oblate12_t, Mass, 10, 10, r_s)\n",
    "#Soblate15, Toblate15 = STnlm(MW_oblate15_t, Mass, r_s, 10, 10)\n",
    "#Sprolate06, Tprolate06 = STnlm(MW_prolate06_t, Mass, r_s, 10, 10)\n",
    "#Sprolate08, Tprolate08 = STnlm(MW_prolate08_t, Mass, r_s, 10, 10)"
   ]
  },
  {
   "cell_type": "code",
   "execution_count": 42,
   "metadata": {
    "collapsed": true
   },
   "outputs": [],
   "source": [
    "def b(a, var_a):\n",
    "    vara = var_a-a**2.0\n",
    "    b = np.zeros(len(a))\n",
    "    print(len(b))\n",
    "    for i in range(len(b)):\n",
    "        b[i] = 1./(1. + vara[i]/a[i]**2.0)\n",
    "    return b"
   ]
  },
  {
   "cell_type": "code",
   "execution_count": 43,
   "metadata": {
    "collapsed": false
   },
   "outputs": [
    {
     "name": "stdout",
     "output_type": "stream",
     "text": [
      "1331\n"
     ]
    },
    {
     "name": "stderr",
     "output_type": "stream",
     "text": [
      "/usr/local/lib/python3.4/dist-packages/ipykernel/__main__.py:6: RuntimeWarning: invalid value encountered in double_scalars\n"
     ]
    }
   ],
   "source": [
    "S = Sspheric[0].flatten()\n",
    "Svar = Sspheric[1].flatten()\n",
    "B_s = b(S, Svar)\n"
   ]
  },
  {
   "cell_type": "code",
   "execution_count": 47,
   "metadata": {
    "collapsed": false
   },
   "outputs": [],
   "source": [
    "B_s_m = B_s.reshape([11,11,11])"
   ]
  },
  {
   "cell_type": "code",
   "execution_count": 57,
   "metadata": {
    "collapsed": false
   },
   "outputs": [
    {
     "data": {
      "text/plain": [
       "<matplotlib.colorbar.Colorbar at 0x7f9670f6f7b8>"
      ]
     },
     "execution_count": 57,
     "metadata": {},
     "output_type": "execute_result"
    },
    {
     "data": {
      "image/png": "[encoded data removed]",
      "text/plain": [
       "<matplotlib.figure.Figure at 0x7f9670fe5d30>"
      ]
     },
     "metadata": {},
     "output_type": "display_data"
    }
   ],
   "source": [
    "imshow(np.log10(np.abs(B_s_m[:,:,0]).T ), origin='lower', interpolation='None',cmap = plt.cm.bone)\n",
    "colorbar()"
   ]
  },
  {
   "cell_type": "code",
   "execution_count": null,
   "metadata": {
    "collapsed": false
   },
   "outputs": [],
   "source": [
    "figure(figsize=(16,4))\n",
    "\n",
    "#subplot(1, 3, 1)\n",
    "title('$Spherical$', fontsize=35)\n",
    "imshow(np.log10(np.abs(Sspheric[:,:,0]).T / np.max(Sspheric[:,:,:])), origin='lower', interpolation='None'\n",
    "           ,cmap = plt.cm.bone)#, vmin=-11, vmax=0)\n",
    "colorbar()\n",
    "xlabel('$n$', fontsize=35)\n",
    "ylabel('$l$', fontsize=35)\n",
    "\n",
    "\"\"\"\n",
    "subplot(1, 3, 2)\n",
    "title('$Oblate$', fontsize=35)\n",
    "imshow(np.log10(np.abs(Soblate15[:,:,0]).T / np.nanmax(Soblate15[:,:,:])), origin='lower', interpolation='None'\n",
    "           ,cmap = plt.cm.bone, vmin=-11, vmax=0)\n",
    "colorbar()\n",
    "xlabel('$n$', fontsize=35)\n",
    "#ylabel('$l$', fontsize=35)\n",
    "\n",
    "\n",
    "subplot(1, 3, 3)\n",
    "title('$Prolate$', fontsize=35)\n",
    "imshow(np.log10(np.abs(Sprolate06[:,:,0]).T / np.nanmax(Sprolate06[:,:,:])), origin='lower', interpolation='None'\n",
    "           ,cmap = plt.cm.bone, vmin=-11, vmax=0)\n",
    "colorbar()\n",
    "xlabel('$n$', fontsize=35)\n",
    "#ylabel('$l$', fontsize=35)\n",
    "\n",
    "savefig('S_nl_triaxialhalos.png', bbox_inces='tight', dpi=300)\n",
    "\n",
    "\"\"\"\n"
   ]
  },
  {
   "cell_type": "code",
   "execution_count": null,
   "metadata": {
    "collapsed": false
   },
   "outputs": [],
   "source": [
    "title('$Spherical$', fontsize=35)\n",
    "imshow(np.log10(np.abs(Tspheric[:,:,1]).T / np.max(Tspheric[:,:,:])), origin='lower', interpolation='None'\n",
    "           ,cmap = plt.cm.bone)#, vmin=-11, vmax=0)\n",
    "colorbar()\n",
    "xlabel('$n$', fontsize=35)\n",
    "ylabel('$l$', fontsize=35)"
   ]
  },
  {
   "cell_type": "markdown",
   "metadata": {},
   "source": [
    "From Weinberg96 Appendix 2.\n",
    "\n",
    "\\begin{equation}\n",
    "var(\\hat{a}_j) = \\dfrac{1}{N}(E[\\Psi_j \\Psi_j] - E[\\Psi_j]E[\\Psi_j])\n",
    "\\end{equation}\n",
    "\n",
    "Using Lowing11 notation $\\Psi_j$ is defined in 3D as:  \n",
    "\n",
    "\\begin{equation}\n",
    "\\Psi_{S_{n,l,m}} =  m_k \\Phi_{n,l}(r_k)Y_{l,m}(\\theta_k)cos(m\\phi_k)\n",
    "\\end{equation}\n",
    "\n",
    "\n",
    "\\begin{equation}\n",
    "\\Psi_{T_{n,l,m}} =  m_k \\Phi_{n,l}(r_k)Y_{l,m}(\\theta_k)sin(m\\phi_k)\n",
    "\\end{equation}"
   ]
  },
  {
   "cell_type": "code",
   "execution_count": null,
   "metadata": {
    "collapsed": false
   },
   "outputs": [],
   "source": [
    "Sspheric[0,:,0]"
   ]
  },
  {
   "cell_type": "code",
   "execution_count": null,
   "metadata": {
    "collapsed": false
   },
   "outputs": [],
   "source": [
    "def phi_nl_f(r, n, l):\n",
    "    \"\"\"\n",
    "    Input:\n",
    "    ------\n",
    "    r: S_nlm, T_nlm coefficients.\n",
    "    n: Array of particles x-coordiante\n",
    "    l: Array of particles y-coordiante\n",
    "    Output:\n",
    "    -------\n",
    "    phi_nl: A float number with the variance\n",
    "    of the coefficient (S_nlm, T_nlm)\n",
    "    \"\"\"\n",
    "    factor = r**l * (1.+r)**(-2.*l-1.) * np.sqrt(4.*np.pi)\n",
    "    s = (r-1.)/(r+1.)\n",
    "    print(s)\n",
    "    C_n = special.eval_gegenbauer(n, 2.*l+3./2., s)\n",
    "    return -factor*C_n.real\n",
    "\n",
    "def Anl_f(n,l): \n",
    "    K_nl = 0.5*n*(n + 4.*l + 3.) + (l + 1.)*(2.*l + 1.)\n",
    "    factor = 2.**(8.*l + 6.)/(4.*np.pi*K_nl)\n",
    "    return -factor*factorial(n)*(n + 2*l+ 3./2.)*(special.gamma(2.*l + 3./2.))**2.0/special.gamma(n + 4.*l + 3.)\n",
    "    "
   ]
  },
  {
   "cell_type": "code",
   "execution_count": null,
   "metadata": {
    "collapsed": false
   },
   "outputs": [],
   "source": [
    "def coeff_variance(a, x, y, z, mass, n, l, m):\n",
    "    \"\"\"\n",
    "    Input:\n",
    "    ------\n",
    "    a: S_nlm, T_nlm coefficients.\n",
    "    x: Array of particles x-coordiante\n",
    "    y: Array of particles y-coordiante\n",
    "    z: Array of particles z-coordinate\n",
    "    mass: Array with the mass particles\n",
    "    n: n\n",
    "    l: l\n",
    "    m: m\n",
    "    r_s: halo scale length\n",
    "    Output:\n",
    "    -------\n",
    "    var(a): A float number with the variance\n",
    "    of the coefficient (S_nlm, T_nlm) evaluated at n,l,m.\n",
    "    \"\"\"\n",
    "    \n",
    "    r = np.sqrt(x**2.0+y**2.0+z**2.0)/r_s\n",
    "    N = len(r)\n",
    "    theta = np.arccos(z/(r*r_s))\n",
    "    phi = np.arctan2(y,x)\n",
    "    Y_lm = special.sph_harm(m,l,0,theta) # scipy notation m,l \n",
    "    phi_nl = phi_nl_f(r, n, l)\n",
    "    Psi = phi_nl*Y_lm*mass*np.cos(m*phi)# Multiply by mass etc..\n",
    "    if m==0:\n",
    "        dm0=1.0\n",
    "    else:\n",
    "        dm0=0.0\n",
    "    Anl = Anl_f(n,l)\n",
    "    #print(Anl, phi_nl, Psi.real)\n",
    "    variance = ((2.-dm0)**2.0*Anl**2.0*np.sum(Psi.real**2.0)) - a**2.0\n",
    "    S=(2.-dm0)*Anl*np.sum(Psi.real)\n",
    "    print(S)\n",
    "    #print(np.sum(Psi**2.0)*(2.-dm0)*Anl)\n",
    "    print(a)\n",
    "    return variance# assuming that all particles have the same mass"
   ]
  },
  {
   "cell_type": "code",
   "execution_count": null,
   "metadata": {
    "collapsed": false
   },
   "outputs": [],
   "source": [
    "var_a = np.zeros(3)\n",
    "for i in range(1):\n",
    "    var_a[i] = 1/(1+coeff_variance(Sspheric[i,10,0], MW_sph_t[:,0], MW_sph_t[:,1], MW_sph_t[:,0], Mass/100., i, 0, 0)/Sspheric[i,10,0]**2.0)"
   ]
  },
  {
   "cell_type": "code",
   "execution_count": null,
   "metadata": {
    "collapsed": false
   },
   "outputs": [],
   "source": [
    "plot(np.abs(var_a[0:]))\n",
    "#ylim(-40, 10)"
   ]
  },
  {
   "cell_type": "code",
   "execution_count": null,
   "metadata": {
    "collapsed": false
   },
   "outputs": [],
   "source": [
    "Ssph = Sspheric.flatten()\n",
    "#Sob12 = Soblate12[:,0,0].flatten()\n",
    "#Sob15 = Soblate15[:,0,0].flatten()\n",
    "#Spr06 = Sprolate06[:,0,0].flatten()\n",
    "#Spr08 = Sprolate08[:,0,0].flatten()\n",
    "\n",
    "\"\"\"\n",
    "Ssph_l = Sspheric_l.flatten()\n",
    "Sob12_l = Soblate12_l.flatten()\n",
    "Sob15_l = Soblate15_l.flatten()\n",
    "Spr06_l = Sprolate06_l.flatten()\n",
    "Spr08_l = Sprolate08_l.flatten()\n",
    "\"\"\"\n",
    "#Ssph_all = Ssph_l.flatten()\n",
    "#Sob12_all = Soblate12_l.flatten()\n",
    "#Spr06_all = Sprolate06_l.flatten()\n",
    "\n"
   ]
  },
  {
   "cell_type": "code",
   "execution_count": null,
   "metadata": {
    "collapsed": true
   },
   "outputs": [],
   "source": [
    "def S_matrix(a):\n",
    "    a = a.flatten()\n",
    "    S = np.zeros((len(a), len(a)))\n",
    "    for i in range(len(a)):\n",
    "        for j in range(len(a)):\n",
    "            S[i][j] = a[i]*a[j]\n",
    "    return S\n",
    "\n",
    "# Solving the eigenvalue problem\n",
    "def T_tranformation(S):\n",
    "    lambdas, eigenv = linalg.eig(S)\n",
    "    T = eigenv\n",
    "    return T, lambdas\n",
    "\n",
    "# Eq 12 Weinberg 96.\n",
    "def lambda_prime(lambdas):\n",
    "    F = np.zeros(len(lambdas))\n",
    "    print(len(F))\n",
    "    for i in range(len(F)):\n",
    "        F[i] = np.sum(lambdas.real[:i])/np.sum(lambdas.real)\n",
    "    return F\n",
    "\n",
    "def lambda_prime2(lambdas):\n",
    "    lambdas_lm = lambdas.real[8::9] # jumping coefficients\n",
    "    F = np.zeros(len(lambdas_lm))\n",
    "    print(len(F))\n",
    "    for i in range(len(F)):\n",
    "        F[i] = np.sum(lambdas_lm[:i])/np.sum(lambdas.real)\n",
    "    return F\n",
    "\n",
    "def a_prime(T, a):\n",
    "    return np.dot(T.real,a)\n",
    "\n",
    "\n",
    "def cov_matrix(a):\n",
    "    cov_m = np.zeros([len(a), len(a)])\n",
    "    for i in range(len(a)):\n",
    "        for j in range(len(a)):\n",
    "            cov_m[i][j] = np.cov((a[i], a[j]))\n",
    "    return cov_m\n",
    "\n",
    "def var_aprime(T, cov_a):\n",
    "    T_daga = np.conjugate(T).T\n",
    "    var_prime = (np.dot(T, np.dot(cov_a, T_daga)))\n",
    "    return var_prime.real"
   ]
  },
  {
   "cell_type": "code",
   "execution_count": null,
   "metadata": {
    "collapsed": false
   },
   "outputs": [],
   "source": [
    "plot(Ssph[0::10]/Ssph[0], marker='o', c='k')\n",
    "plot(Sspheric[:,0,0]/np.max(Sspheric[:,:,:]), marker='o', c='r')\n",
    "xlabel('$n$', fontsize=25)\n",
    "xlim(-0.2 ,11)\n",
    "#ylim(-0.1 ,1.1)"
   ]
  },
  {
   "cell_type": "code",
   "execution_count": null,
   "metadata": {
    "collapsed": false
   },
   "outputs": [],
   "source": [
    "Smatrix_sph = S_matrix(Ssph)\n",
    "Ttrans_sph, l_sph = T_tranformation(Smatrix_sph)\n",
    "Snlm_star = a_prime(Ttrans_sph, Ssph)\n",
    "\n",
    "#Smatrix_ob15 = S_matrix(Sob15)\n",
    "#Ttrans_ob15, l_ob15 = T_tranformation(Smatrix_ob15)\n",
    "#Snlm_star_ob15 = a_prime(Ttrans_ob15, Sob15)\n",
    "\n",
    "#Smatrix_pr06 = S_matrix(Spr06)\n",
    "#Ttrans_pr06, l_pr06 = T_tranformation(Smatrix_pr06)\n",
    "#Snlm_star_pr06 = a_prime(Ttrans_pr06, Spr06)"
   ]
  },
  {
   "cell_type": "code",
   "execution_count": null,
   "metadata": {
    "collapsed": false
   },
   "outputs": [],
   "source": [
    "figure(figsize=(17,5))\n",
    "subplot(1, 3, 1)\n",
    "title('$Spherical$', fontsize=35)\n",
    "\n",
    "plot(np.abs(Snlm_star), marker='o', c='k', label='$\\mathrm{PCA\\ basis}$', lw=1.5)\n",
    "plot(np.abs(Ssph), marker='o', c='b', ls='--', label='$\\mathrm{Biff}$', lw=1.5)\n",
    "legend()\n",
    "xlabel('$l$', fontsize=25)\n",
    "ylabel('$S_{0,l,0}/S_{0,0,0}$', fontsize=25)\n",
    "\n",
    "#xlim(-0.2 ,11)\n",
    "#ylim(-0.1 ,1.1)\n",
    "\n",
    "\"\"\"\n",
    "subplot(1, 3, 2)\n",
    "title('$Oblate$', fontsize=35)\n",
    "\n",
    "plot(Snlm_star_ob15/Snlm_star_ob15[0], marker='o', c='k', label='$\\mathrm{PCA\\ basis}$', lw=1.5)\n",
    "plot(Sob15/Sob15[0], marker='o', c='b', ls='--',label='$\\mathrm{Biff}$', lw=1.5)\n",
    "#legend()\n",
    "xlabel('$n$', fontsize=25)\n",
    "#ylabel('$S_{n,l,m}$', fontsize=25)\n",
    "\n",
    "xlim(-0.2 ,11)\n",
    "#ylim(-0.1 ,1.1)\n",
    "\n",
    "\n",
    "subplot(1, 3, 3)\n",
    "title('$Prolate$', fontsize=35)\n",
    "\n",
    "plot(Snlm_star_pr06/Snlm_star_pr06[0], marker='o', c='k', label='$\\mathrm{PCA\\ basis}$', lw=1.5)\n",
    "plot(Spr06/Spr06[0], marker='o', c='b', ls='--',label='$\\mathrm{Biff}$', lw=1.5)\n",
    "#legend()\n",
    "xlabel('$n$', fontsize=25)\n",
    "xlim(-0.2 ,11)\n",
    "ylim(-0.1 ,1.1)\n",
    "\n",
    "savefig('Coefficients_in_PCA_basis.png', bbox_inches='tight', dpi=300)\n",
    "\"\"\""
   ]
  },
  {
   "cell_type": "code",
   "execution_count": null,
   "metadata": {
    "collapsed": true
   },
   "outputs": [],
   "source": [
    "x = np.linspace(-500, 500)\n",
    "y = np.linspace(-500, 500)\n",
    "z = np.linspace(-500, 500)\n",
    "\n",
    "xyz = np.array([x,y,z])"
   ]
  },
  {
   "cell_type": "code",
   "execution_count": null,
   "metadata": {
    "collapsed": false
   },
   "outputs": [],
   "source": [
    "shape(xyz.T)\n",
    "#biff.density?\n"
   ]
  },
  {
   "cell_type": "code",
   "execution_count": null,
   "metadata": {
    "collapsed": false
   },
   "outputs": [],
   "source": [
    "# Density recover.\n",
    "\n",
    "rho_test = biff.density(np.ascontiguousarray(xyz.T), Sspheric, Tspheric, 1.0, 40.85)"
   ]
  },
  {
   "cell_type": "code",
   "execution_count": null,
   "metadata": {
    "collapsed": false
   },
   "outputs": [],
   "source": [
    "def plot_density_contours(idx, S, T, grid_max=250., n_grid=300):\n",
    "    _grid = np.zeros((3,n_grid*n_grid))\n",
    "    _grid[idx] = np.vstack(map(np.ravel, np.meshgrid(np.linspace(-grid_max,grid_max,n_grid),\n",
    "                                                     np.linspace(-grid_max,grid_max,n_grid))))\n",
    "\n",
    "    dens = biff.density(np.ascontiguousarray(_grid.T), S, T, M=1.0, r_s=40.85)\n",
    "    dens[dens < 0] = np.nan\n",
    "    \n",
    "    percs = np.log10([dens[dens > 0].min(), dens[dens > 0].max()])\n",
    "    levels = np.logspace(percs[0], percs[1], 20)\n",
    "    \n",
    "    shp = (n_grid, n_grid)\n",
    "\n",
    "    fig,ax = subplots(1,1,figsize=(6,6))\n",
    "\n",
    "\n",
    "    ax.contourf(_grid[idx[0]].reshape(shp), _grid[idx[1]].reshape(shp),\n",
    "                dens.reshape(shp), cmap='Spectral', levels=levels)\n",
    "\n",
    "    ax.set_xlim(-grid_max, grid_max)\n",
    "    ax.set_ylim(-grid_max, grid_max)\n",
    "    \n",
    "    ax.set_xlabel(\"${}$\".format('xyz'[idx[0]]))\n",
    "    ax.set_ylabel(\"${}$\".format('xyz'[idx[1]]))\n",
    "    \n",
    "    tmp = np.array([0,1,2])\n",
    "    tmp = np.delete(tmp, np.where((tmp==idx[0]) | (tmp == idx[1]))[0])\n",
    "    #ax.set_title(\"Isodensity contours at ${}=0$\".format('xyz'[tmp[0]]))\n",
    "\n",
    "    fig.tight_layout()\n",
    "    \n",
    "    return fig,ax"
   ]
  },
  {
   "cell_type": "code",
   "execution_count": null,
   "metadata": {
    "collapsed": false
   },
   "outputs": [],
   "source": [
    "new_S = np.zeros([11, 11, 11])\n",
    "new_T = np.zeros([11, 11, 11])\n",
    "\n",
    "new_S = copy(Sspheric)\n",
    "new_T = copy(Tspheric)\n",
    "\n",
    "new_S[0,0,0] = 0.0\n",
    "new_T[0,0,0] = 0.0"
   ]
  },
  {
   "cell_type": "code",
   "execution_count": null,
   "metadata": {
    "collapsed": false
   },
   "outputs": [],
   "source": [
    "fig,ax = plot_density_contours([0,1], new_S, new_T, grid_max=200)"
   ]
  },
  {
   "cell_type": "code",
   "execution_count": null,
   "metadata": {
    "collapsed": false
   },
   "outputs": [],
   "source": [
    "fig,ax = plot_density_contours([0,1], Sspheric, Tspheric, grid_max=200)"
   ]
  },
  {
   "cell_type": "code",
   "execution_count": null,
   "metadata": {
    "collapsed": true
   },
   "outputs": [],
   "source": []
  }
 ],
 "metadata": {
  "kernelspec": {
   "display_name": "Python 3",
   "language": "python",
   "name": "python3"
  },
  "language_info": {
   "codemirror_mode": {
    "name": "ipython",
    "version": 3
   },
   "file_extension": ".py",
   "mimetype": "text/x-python",
   "name": "python",
   "nbconvert_exporter": "python",
   "pygments_lexer": "ipython3",
   "version": "3.4.3"
  }
 },
 "nbformat": 4,
 "nbformat_minor": 0
}
