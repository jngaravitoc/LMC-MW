{
 "cells": [
  {
   "cell_type": "code",
   "execution_count": 1,
   "metadata": {
    "collapsed": false
   },
   "outputs": [
    {
     "name": "stdout",
     "output_type": "stream",
     "text": [
      "Populating the interactive namespace from numpy and matplotlib\n"
     ]
    }
   ],
   "source": [
    "%pylab inline"
   ]
  },
  {
   "cell_type": "code",
   "execution_count": 10,
   "metadata": {
    "collapsed": true
   },
   "outputs": [],
   "source": [
    "Nbody = loadtxt('../CM/rgal_snaps_l0.txt')\n",
    "A1_host = loadtxt('../../../orbits/data/LMC_1E11_1E12_free_a1_host.txt')\n",
    "A1_sat = loadtxt('../../../orbits/data/LMC_1E11_1E12_free_a1_sat.txt')\n",
    "A05_host = loadtxt('../../../orbits/data/LMC_1E11_1E12_free_a05_host.txt')\n",
    "A05_sat = loadtxt('../../../orbits/data/LMC_1E11_1E12_free_a05_sat.txt')\n",
    "                 "
   ]
  },
  {
   "cell_type": "code",
   "execution_count": 19,
   "metadata": {
    "collapsed": false
   },
   "outputs": [],
   "source": [
    "Nbody_t = Nbody[:,0]\n",
    "Nbody_R = Nbody[:,1]\n",
    "\n",
    "t1 = A1_host[:,0] + 1.2 \n",
    "t05 = A05_host[:,0] + 1.2\n",
    "\n",
    "x1 = A1_host[:,1] - A1_sat[:,1]\n",
    "y1 = A1_host[:,2] - A1_sat[:,2]\n",
    "z1 = A1_host[:,3] - A1_sat[:,3]\n",
    "\n",
    "vx1 = A1_host[:,4] - A1_sat[:,4]\n",
    "vy1 = A1_host[:,5] - A1_sat[:,5]\n",
    "vz1 = A1_host[:,6] - A1_sat[:,6]\n",
    "\n",
    "x05 =  A05_host[:,1] - A05_sat[:,1]\n",
    "y05 =  A05_host[:,2] - A05_sat[:,2]\n",
    "z05 =  A05_host[:,3] - A05_sat[:,3]\n",
    "\n",
    "vx05 =  A05_host[:,4] - A05_sat[:,4]\n",
    "vy05 =  A05_host[:,5] - A05_sat[:,5]\n",
    "vz05 =  A05_host[:,6] - A05_sat[:,6]"
   ]
  },
  {
   "cell_type": "code",
   "execution_count": 20,
   "metadata": {
    "collapsed": true
   },
   "outputs": [],
   "source": [
    "Rgal1 = np.sqrt(x1**2 + y1**2 + z1**2)\n",
    "Rgal05 = np.sqrt(x05**2 + y05**2 + z05**2)"
   ]
  },
  {
   "cell_type": "code",
   "execution_count": 29,
   "metadata": {
    "collapsed": false
   },
   "outputs": [
    {
     "data": {
      "text/plain": [
       "[<matplotlib.lines.Line2D at 0x7f32e5130f90>]"
      ]
     },
     "execution_count": 29,
     "metadata": {},
     "output_type": "execute_result"
    },
    {
     "data": {
      "image/png": "[encoded data removed]",
      "text/plain": [
       "<matplotlib.figure.Figure at 0x7f32e50828d0>"
      ]
     },
     "metadata": {},
     "output_type": "display_data"
    }
   ],
   "source": [
    "plot(Nbody_t, Nbody_R)\n",
    "plot(t05, Rgal1)\n",
    "plot(t05, Rgal05)\n",
    "#xlim(0, 2)\n",
    "#ylim(0, 400)"
   ]
  },
  {
   "cell_type": "code",
   "execution_count": 38,
   "metadata": {
    "collapsed": false
   },
   "outputs": [
    {
     "name": "stdout",
     "output_type": "stream",
     "text": [
      "[ 1.2]\n"
     ]
    }
   ],
   "source": [
    "index = where(Nbody_R == min(Nbody_R))\n",
    "print Nbody_t[index[0]]"
   ]
  },
  {
   "cell_type": "code",
   "execution_count": 39,
   "metadata": {
    "collapsed": false
   },
   "outputs": [
    {
     "name": "stdout",
     "output_type": "stream",
     "text": [
      "-111.647496 -987.778922 -41.836804\n",
      "5.954537 74.283167 20.954251\n"
     ]
    }
   ],
   "source": [
    "# Run with this ICs\n",
    "print x1[-1], y1[-1], z1[-1]\n",
    "print vx1[-1], vy1[-1], vz1[-1]\n"
   ]
  },
  {
   "cell_type": "code",
   "execution_count": 35,
   "metadata": {
    "collapsed": false
   },
   "outputs": [
    {
     "name": "stdout",
     "output_type": "stream",
     "text": [
      "42.994833\n",
      "80.186456\n",
      "-243.544563\n",
      "45.997352\n",
      "99.325122\n",
      "-248.814064\n"
     ]
    }
   ],
   "source": [
    "print A1_host[-1,1]\n",
    "print A1_host[-1,2]\n",
    "print A1_host[-1,3]\n",
    "\n",
    "print A05_host[-1,1]\n",
    "print A05_host[-1,2]\n",
    "print A05_host[-1,3]"
   ]
  },
  {
   "cell_type": "code",
   "execution_count": null,
   "metadata": {
    "collapsed": true
   },
   "outputs": [],
   "source": []
  }
 ],
 "metadata": {
  "kernelspec": {
   "display_name": "Python 2",
   "language": "python",
   "name": "python2"
  },
  "language_info": {
   "codemirror_mode": {
    "name": "ipython",
    "version": 2
   },
   "file_extension": ".py",
   "mimetype": "text/x-python",
   "name": "python",
   "nbconvert_exporter": "python",
   "pygments_lexer": "ipython2",
   "version": "2.7.6"
  }
 },
 "nbformat": 4,
 "nbformat_minor": 0
}
