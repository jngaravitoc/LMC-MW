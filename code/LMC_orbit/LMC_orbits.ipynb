{
 "cells": [
  {
   "cell_type": "code",
   "execution_count": 7,
   "metadata": {
    "collapsed": false
   },
   "outputs": [
    {
     "name": "stdout",
     "output_type": "stream",
     "text": [
      "Populating the interactive namespace from numpy and matplotlib\n"
     ]
    }
   ],
   "source": [
    "%pylab inline\n",
    "font = {'size':13, 'family':'serif'}\n",
    "matplotlib.rc('font', **font)"
   ]
  },
  {
   "cell_type": "code",
   "execution_count": 8,
   "metadata": {
    "collapsed": false
   },
   "outputs": [],
   "source": [
    "Nbody = loadtxt('../CM/rgal_snaps_l0.txt')\n",
    "A1_host = loadtxt('../../../orbits/data/LMC_1E11_1E12_free_a1_host.txt')\n",
    "A1_sat = loadtxt('../../../orbits/data/LMC_1E11_1E12_free_a1_sat.txt')\n",
    "A05_host = loadtxt('../../../orbits/data/LMC_1E11_1E12_free_a05_host.txt')\n",
    "A05_sat = loadtxt('../../../orbits/data/LMC_1E11_1E12_free_a05_sat.txt')"
   ]
  },
  {
   "cell_type": "code",
   "execution_count": 9,
   "metadata": {
    "collapsed": false
   },
   "outputs": [],
   "source": [
    "Nbody_t = Nbody[:,0]\n",
    "Nbody_R = Nbody[:,1]\n",
    "\n",
    "# Making Nbody and Analytic times equal\n",
    "\n",
    "t1 = A1_host[:,0] + 1.2 \n",
    "t05 = A05_host[:,0] + 1.2\n",
    "\n",
    "# Defining galactocentric distances and velocities\n",
    "x1 = A1_host[:,1] - A1_sat[:,1]\n",
    "y1 = A1_host[:,2] - A1_sat[:,2]\n",
    "z1 = A1_host[:,3] - A1_sat[:,3]\n",
    "\n",
    "vx1 = A1_host[:,4] - A1_sat[:,4]\n",
    "vy1 = A1_host[:,5] - A1_sat[:,5]\n",
    "vz1 = A1_host[:,6] - A1_sat[:,6]\n",
    "\n",
    "x05 =  A05_host[:,1] - A05_sat[:,1]\n",
    "y05 =  A05_host[:,2] - A05_sat[:,2]\n",
    "z05 =  A05_host[:,3] - A05_sat[:,3]\n",
    "\n",
    "vx05 =  A05_host[:,4] - A05_sat[:,4]\n",
    "vy05 =  A05_host[:,5] - A05_sat[:,5]\n",
    "vz05 =  A05_host[:,6] - A05_sat[:,6]"
   ]
  },
  {
   "cell_type": "code",
   "execution_count": 53,
   "metadata": {
    "collapsed": true
   },
   "outputs": [],
   "source": [
    "Rgal1 = np.sqrt(x1**2 + y1**2 + z1**2)\n",
    "Rgal05 = np.sqrt(x05**2 + y05**2 + z05**2)\n",
    "Vgal1 = np.sqrt(vx1**2 + vy1**2 + vz1**2)\n",
    "Vgal05 = np.sqrt(vx05**2 + vy05**2 + vz05**2)"
   ]
  },
  {
   "cell_type": "code",
   "execution_count": 54,
   "metadata": {
    "collapsed": false
   },
   "outputs": [],
   "source": [
    "NB_t = Nbody[:,0]\n",
    "NB_R = Nbody[:,1]\n",
    "Xlmc = Nbody[:,2]\n",
    "Ylmc = Nbody[:,3]\n",
    "Zlmc = Nbody[:,4]\n",
    "Xmw = Nbody[:,5]\n",
    "Ymw = Nbody[:,6]\n",
    "Zmw = Nbody[:,7]\n",
    "NB_V = Nbody[:,8]\n",
    "vXlmc = Nbody[:,9]\n",
    "vYlmc = Nbody[:,10]\n",
    "vZlmc = Nbody[:,11]\n",
    "vXmw = Nbody[:,12]\n",
    "vYmw = Nbody[:,13]\n",
    "vZmw = Nbody[:,14]"
   ]
  },
  {
   "cell_type": "code",
   "execution_count": 21,
   "metadata": {
    "collapsed": false
   },
   "outputs": [
    {
     "data": {
      "text/plain": [
       "[<matplotlib.lines.Line2D at 0x7f1823fa8990>]"
      ]
     },
     "execution_count": 21,
     "metadata": {},
     "output_type": "execute_result"
    },
    {
     "data": {
      "image/png": "[encoded data removed]",
      "text/plain": [
       "<matplotlib.figure.Figure at 0x7f18240d68d0>"
      ]
     },
     "metadata": {},
     "output_type": "display_data"
    }
   ],
   "source": [
    "plot(t05, Rgal1, lw=2)\n",
    "plot(t05, Rgal05, lw=2)\n",
    "plot(NB_t, NB_R, lw=2, ls='--')\n",
    "\n",
    "#xlim(0, 2)\n",
    "#ylim(0, 400)"
   ]
  },
  {
   "cell_type": "code",
   "execution_count": 64,
   "metadata": {
    "collapsed": false
   },
   "outputs": [
    {
     "name": "stdout",
     "output_type": "stream",
     "text": [
      "1283 1435\n"
     ]
    }
   ],
   "source": [
    "R2vir1 = where(Rgal1 >= 280)[0]\n",
    "R2vir05 = where(Rgal05 >= 280)[0]\n",
    "IC1 = R2vir1[0]\n",
    "IC05 = R2vir05[0]\n",
    "#print Nbody_t[index[0]]\n",
    "print IC1, IC05"
   ]
  },
  {
   "cell_type": "code",
   "execution_count": 69,
   "metadata": {
    "collapsed": false
   },
   "outputs": [
    {
     "name": "stdout",
     "output_type": "stream",
     "text": [
      "With full df:\n",
      "-43.490378 -261.472044 90.572333\n",
      "20.21568 177.004835 5.972404\n",
      "\n",
      "With soften df:\n",
      "-41.975472 -266.550019 75.05848\n",
      "14.204868 144.829729 21.979781\n"
     ]
    }
   ],
   "source": [
    "# Run with this ICs\n",
    "print 'With full df:'\n",
    "print x1[IC1], y1[IC1], z1[IC1]\n",
    "print vx1[IC1], vy1[IC1], vz1[IC1]\n",
    "print \n",
    "print 'With soften df:'\n",
    "print x05[IC05], y05[IC05], z05[IC05]\n",
    "print vx05[IC05], vy05[IC05], vz05[IC05]"
   ]
  },
  {
   "cell_type": "code",
   "execution_count": 59,
   "metadata": {
    "collapsed": false
   },
   "outputs": [
    {
     "data": {
      "text/plain": [
       "[<matplotlib.lines.Line2D at 0x7f1823be8110>]"
      ]
     },
     "execution_count": 59,
     "metadata": {},
     "output_type": "execute_result"
    },
    {
     "data": {
      "image/png": "[encoded data removed]",
      "text/plain": [
       "<matplotlib.figure.Figure at 0x7f1823d3be90>"
      ]
     },
     "metadata": {},
     "output_type": "display_data"
    }
   ],
   "source": [
    "plot(t1, Vgal1)\n",
    "plot(t05, Vgal05)\n",
    "plot(NB_t, NB_V)\n"
   ]
  },
  {
   "cell_type": "code",
   "execution_count": null,
   "metadata": {
    "collapsed": true
   },
   "outputs": [],
   "source": []
  }
 ],
 "metadata": {
  "kernelspec": {
   "display_name": "Python 2",
   "language": "python",
   "name": "python2"
  },
  "language_info": {
   "codemirror_mode": {
    "name": "ipython",
    "version": 2
   },
   "file_extension": ".py",
   "mimetype": "text/x-python",
   "name": "python",
   "nbconvert_exporter": "python",
   "pygments_lexer": "ipython2",
   "version": "2.7.6"
  }
 },
 "nbformat": 4,
 "nbformat_minor": 0
}
