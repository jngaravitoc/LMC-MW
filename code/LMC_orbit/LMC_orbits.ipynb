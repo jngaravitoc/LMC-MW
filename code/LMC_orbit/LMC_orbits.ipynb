{
 "cells": [
  {
   "cell_type": "code",
   "execution_count": 1,
   "metadata": {
    "collapsed": true
   },
   "outputs": [],
   "source": [
    "# Notebook that explore the LMC orbital histories"
   ]
  },
  {
   "cell_type": "code",
   "execution_count": 2,
   "metadata": {
    "collapsed": false
   },
   "outputs": [
    {
     "name": "stderr",
     "output_type": "stream",
     "text": [
      "/usr/local/lib/python3.4/dist-packages/matplotlib/__init__.py:841: UserWarning: Found matplotlib configuration in ~/.matplotlib/. To conform with the XDG base directory standard, this configuration location has been deprecated on Linux, and the new location is now /home/ngaravito/.config/matplotlib/. Please move your configuration there to ensure that matplotlib will continue to find it in the future.\n",
      "  _get_xdg_config_dir())\n"
     ]
    },
    {
     "name": "stdout",
     "output_type": "stream",
     "text": [
      "Populating the interactive namespace from numpy and matplotlib\n"
     ]
    }
   ],
   "source": [
    "%pylab inline\n",
    "import matplotlib as mpl\n",
    "from pygadgetreader import *\n",
    "from mpl_toolkits.mplot3d import Axes3D\n",
    "\n",
    "font = {'size':18, 'family':'serif'}\n",
    "matplotlib.rc('font', **font)"
   ]
  },
  {
   "cell_type": "markdown",
   "metadata": {},
   "source": [
    "## To-Do:\n",
    "\n",
    "1. Interpolate orbit to find the best observable value!"
   ]
  },
  {
   "cell_type": "markdown",
   "metadata": {},
   "source": [
    "|`Simulation`| `ICs` | Time (Gyrs) | Coordinates (kpc $\\&$ km/s)|\n",
    "|--------|---------|---------|--------|\n",
    "| LMC3 | r=(24.33628 277.752518 58.543234), v=(4.336299 -58.767378 -77.49269) | 1.88  | r=(-0.21$\\hat{x}$, -41.45$\\hat{y}$, -28.11$\\hat{z}$), v=(-72.23, -263.41, 218.57) |\n",
    "| LMC4 (need to be improved) | r=(25, 308, 88.6), v=(6, -37, -68.6) | 1.42 | r = (-1.23$\\hat{x}$, -43.04$\\hat{y}$, -26.82$\\hat{z}$), v=(-58$\\hat{x}$, -225.28$\\hat{y}$, 226.16)$\\hat{z}$ | \n",
    "| LMC5 |  r=(8.314183 211.882583 122.726527), v=(14.090038 35.727729 -71.808439)  | 2.32 | r = (-0.79$\\hat{x}$, -43.96$\\hat{y}$, -28.28$\\hat{z}$), v=(-62.34$\\hat{x}$, -239.11$\\hat{y}$, 225.07)$\\hat{z}$  | \n",
    "| LMC6 | r=(11.584929 247.791118 129.901859),v=(11.910111 11.210542 -77.135969) | 2.38 | r = (-1.18$\\hat{x}$, -44.96$\\hat{y}$, -27.3$\\hat{z}$), v=(-66.8$\\hat{x}$, -245.39$\\hat{y}$, 229.84)$\\hat{z}$ | \n"
   ]
  },
  {
   "cell_type": "code",
   "execution_count": 3,
   "metadata": {
    "collapsed": true
   },
   "outputs": [],
   "source": [
    "#Nbody1 = loadtxt('LMCMW-H6.txt')\n",
    "# Function that reads the data from the Analytic integration\n",
    "def reading_data(snap_name):\n",
    "    host = loadtxt('../../../orbits/data/lmc/'+ snap_name +'_host.txt')\n",
    "    sat = loadtxt('../../../orbits/data/lmc/'+ snap_name +'_sat.txt')\n",
    "    t = host[:,0] \n",
    "    # Defining galactocentric distances and velocities\n",
    "    x = sat[:,1] - host[:,1] \n",
    "    y = sat[:,2] - host[:,2] \n",
    "    z = sat[:,3] - host[:,3] \n",
    "\n",
    "    vx = sat[:,4] - host[:,4] \n",
    "    vy = sat[:,5] - host[:,5] \n",
    "    vz = sat[:,6] - host[:,6]        \n",
    "\n",
    "    Rgal = np.sqrt(x**2.0 + y**2.0 + z**2.0)\n",
    "    Vgal = np.sqrt(vx**2.0 + vy**2.0 + vz**2.0)\n",
    "    \n",
    "    return t, x, y, z, vx, vy, vz, Rgal, Vgal\n",
    "\n",
    "def ICs(Rgal, cut, x, y, z, vx, vy, vz, t):\n",
    "    Rcut = np.where(Rgal>=cut)[0]\n",
    "    return Rgal[Rcut[0]], x[Rcut[0]], y[Rcut[0]], z[Rcut[0]], vx[Rcut[0]], vy[Rcut[0]], vz[Rcut[0]], t[Rcut[0]]\n",
    "    \n",
    "def data_host(snap_name):\n",
    "    host = loadtxt('../../../orbits/data/lmc/'+ snap_name +'_host.txt')\n",
    "    return host[:,1], host[:,2], host[:,3], host[:,4], host[:,5], host[:,6]\n",
    "\n",
    "def data_sat(snap_name):\n",
    "    sat = loadtxt('../../../orbits/data/lmc/'+ snap_name +'_sat.txt')\n",
    "    return sat[:,1], sat[:,2], sat[:,3], sat[:,4], sat[:,5], sat[:,6]\n",
    "\n",
    "#Function that reads the N-body simulation orbit\n",
    "def reading_Nbody(snap_name):\n",
    "    data = np.loadtxt('orbits/' + snap_name)\n",
    "    #time = data[:,0]\n",
    "    #Rgal = data[:,1]\n",
    "    x_sat= data[:,6]\n",
    "    y_sat = data[:,7]\n",
    "    z_sat = data[:,8]\n",
    "    x_gal = data[:,0]\n",
    "    y_gal = data[:,1]\n",
    "    z_gal = data[:,2]\n",
    "    #Vgal = data[:,8]\n",
    "    vx_sat = data[:,9]\n",
    "    vy_sat = data[:,10]\n",
    "    vz_sat = data[:,11]\n",
    "    vx_gal = data[:,3]\n",
    "    vy_gal = data[:,4]\n",
    "    vz_gal = data[:,5]\n",
    "    Rgal= np.sqrt((x_sat-x_gal)**2 + (y_sat-y_gal)**2 + (z_sat-z_gal)**2)\n",
    "    Vgal= np.sqrt((vx_sat-vx_gal)**2 + (vy_sat-vy_gal)**2 + (vz_sat-vz_gal)**2)\n",
    "\n",
    "    return Rgal, x_sat, y_sat, z_sat, x_gal, y_gal, z_gal, Vgal, vx_sat, vy_sat, vz_sat, vx_gal, vy_gal, vz_gal\n",
    "\n",
    "    \n",
    "def best_values(x, y, z, vx, vy, vz):\n",
    "    \"\"\"\n",
    "    Computes the closes value of the N-body orbit to the observed present day LMC positions\n",
    "    and velocities.\n",
    "    \n",
    "    \"\"\"\n",
    "    x_obs = -1\n",
    "    y_obs = -41\n",
    "    z_obs = -28\n",
    "    vx_obs = -57\n",
    "    vy_obs = -226\n",
    "    vz_obs = 221\n",
    "    Robs = np.sqrt((x_obs-x)**2.0 + (y_obs-y)**2.0 + (z_obs-z)**2.0)\n",
    "    index = np.where(Robs == min(Robs))[0]\n",
    "    \n",
    "    sigma_vx = 13\n",
    "    sigma_vy = 15\n",
    "    sigma_vz = 19\n",
    "    \n",
    "    dx = x_obs - x[index]\n",
    "    dy = y_obs - y[index]\n",
    "    dz = z_obs - z[index]\n",
    "    \n",
    "    dvx = vx_obs - vx[index]\n",
    "    dvy = vy_obs - vy[index]\n",
    "    dvz = vz_obs - vz[index]\n",
    "    t = np.linspace(0, 3, 151)\n",
    "\n",
    "    print('Dr = ', dx, dy, dz, (dx**2 + dy**2 + dz**2)**0.5)\n",
    "    print('Dv = ', dvx, dvy, dvz, (dvx**2 + dvy**2 + dvz**2)**0.5)\n",
    "    return t[index], x[index], y[index], z[index], vx[index], vy[index], vz[index]\n",
    "    "
   ]
  },
  {
   "cell_type": "markdown",
   "metadata": {},
   "source": [
    "## LMC6"
   ]
  },
  {
   "cell_type": "code",
   "execution_count": 4,
   "metadata": {
    "collapsed": false
   },
   "outputs": [
    {
     "name": "stdout",
     "output_type": "stream",
     "text": [
      "Dr =  [-0.470554] [ 2.457576] [-1.42977] [ 2.88189922]\n",
      "Dv =  [ 19.03294] [ 20.310012] [-15.77689] [ 31.9946816]\n"
     ]
    },
    {
     "data": {
      "text/plain": [
       "(array([ 2.3]),\n",
       " array([-0.529446]),\n",
       " array([-43.457576]),\n",
       " array([-26.57023]),\n",
       " array([-76.03294]),\n",
       " array([-246.310012]),\n",
       " array([ 236.77689]))"
      ]
     },
     "execution_count": 4,
     "metadata": {},
     "output_type": "execute_result"
    }
   ],
   "source": [
    "R_gal6,  x_sat, y_sat, z_sat, x_gal, y_gal, z_gal, Vgal, vx_sat, vy_sat, vz_sat, vx_gal, vy_gal, vz_gal = reading_Nbody('LMC6_40Mb0_orbit.txt')\n",
    "best_values(x_sat-x_gal, y_sat-y_gal, z_sat-z_gal, vx_sat-vx_gal, vy_sat-vy_gal, vz_sat-vz_gal)"
   ]
  },
  {
   "cell_type": "code",
   "execution_count": 5,
   "metadata": {
    "collapsed": false
   },
   "outputs": [
    {
     "name": "stdout",
     "output_type": "stream",
     "text": [
      "Dr =  [ 1.041708] [ 2.699152] [-0.435855] [ 2.92584119]\n",
      "Dv =  [ 28.982098] [ 19.873106] [-5.022758] [ 35.49831608]\n"
     ]
    },
    {
     "data": {
      "text/plain": [
       "(array([ 2.26]),\n",
       " array([-2.041708]),\n",
       " array([-43.699152]),\n",
       " array([-27.564145]),\n",
       " array([-85.982098]),\n",
       " array([-245.873106]),\n",
       " array([ 226.022758]))"
      ]
     },
     "execution_count": 5,
     "metadata": {},
     "output_type": "execute_result"
    }
   ],
   "source": [
    "R_gal6,  x_sat, y_sat, z_sat, x_gal, y_gal, z_gal, Vgal, vx_sat, vy_sat, vz_sat, vx_gal, vy_gal, vz_gal = reading_Nbody('LMC6_40Mb0_ic11_orbit.txt')\n",
    "best_values(x_sat-x_gal, y_sat-y_gal, z_sat-z_gal, vx_sat-vx_gal, vy_sat-vy_gal, vz_sat-vz_gal)"
   ]
  },
  {
   "cell_type": "code",
   "execution_count": 6,
   "metadata": {
    "collapsed": false
   },
   "outputs": [
    {
     "data": {
      "text/plain": [
       "<matplotlib.lines.Line2D at 0x7f89b645e630>"
      ]
     },
     "execution_count": 6,
     "metadata": {},
     "output_type": "execute_result"
    },
    {
     "data": {
      "image/png": "[encoded data removed]",
      "text/plain": [
       "<matplotlib.figure.Figure at 0x7f89ec56f748>"
      ]
     },
     "metadata": {},
     "output_type": "display_data"
    }
   ],
   "source": [
    "figure(figsize=(7,5))\n",
    "plot(linspace(0, 3, 151), R_gal6)\n",
    "axvline(2.34)"
   ]
  },
  {
   "cell_type": "code",
   "execution_count": 7,
   "metadata": {
    "collapsed": false
   },
   "outputs": [
    {
     "name": "stdout",
     "output_type": "stream",
     "text": [
      "Dr =  [-0.360506] [-3.244337] [ 1.382242] [ 3.54489493]\n",
      "Dv =  [ 31.834577] [ 43.431005] [-17.788654] [ 56.71092222]\n"
     ]
    },
    {
     "data": {
      "text/plain": [
       "(array([ 2.2]),\n",
       " array([-0.639494]),\n",
       " array([-37.755663]),\n",
       " array([-29.382242]),\n",
       " array([-88.834577]),\n",
       " array([-269.431005]),\n",
       " array([ 238.788654]))"
      ]
     },
     "execution_count": 7,
     "metadata": {},
     "output_type": "execute_result"
    }
   ],
   "source": [
    "orbit6_b1 = reading_Nbody('LMC6_40Mb1_orbit.txt')\n",
    "R_gal6_b1 = orbit6_b1[0]\n",
    "x_sat6_b1 = orbit6_b1[1]\n",
    "y_sat6_b1 = orbit6_b1[2]\n",
    "z_sat6_b1 = orbit6_b1[3]\n",
    "x_gal6_b1 = orbit6_b1[4]\n",
    "y_gal6_b1 = orbit6_b1[5]\n",
    "z_gal6_b1 = orbit6_b1[6]\n",
    "Vgal6_b1 = orbit6_b1[7]\n",
    "vx_sat6_b1 = orbit6_b1[8]\n",
    "vy_sat6_b1 = orbit6_b1[9]\n",
    "vz_sat6_b1 = orbit6_b1[10]\n",
    "vx_gal6_b1 = orbit6_b1[11]\n",
    "vy_gal6_b1 = orbit6_b1[12]\n",
    "vz_gal6_b1 = orbit6_b1[13]\n",
    "best_values(x_sat6_b1-x_gal6_b1, y_sat6_b1-y_gal6_b1, z_sat6_b1-z_gal6_b1, vx_sat6_b1-vx_gal6_b1,\n",
    "            vy_sat6_b1-vy_gal6_b1, vz_sat6_b1-vz_gal6_b1)"
   ]
  },
  {
   "cell_type": "code",
   "execution_count": 8,
   "metadata": {
    "collapsed": true
   },
   "outputs": [],
   "source": [
    "def pericenter(x, y, z, vx, vy, vz):\n",
    "    r_gal = np.sqrt(x**2 + y**2 + z**2)\n",
    "    v_gal = np.sqrt(vx**2 + vy**2 + vz**2)\n",
    "    index = np.where(r_gal == min(r_gal))[0]\n",
    "    print(r_gal[index], v_gal[index], index*0.02)"
   ]
  },
  {
   "cell_type": "code",
   "execution_count": 9,
   "metadata": {
    "collapsed": false
   },
   "outputs": [
    {
     "name": "stdout",
     "output_type": "stream",
     "text": [
      "[ 48.87107097] [ 357.97423679] [ 2.2]\n"
     ]
    }
   ],
   "source": [
    "pericenter(x_sat-x_gal, y_sat-y_gal, z_sat-z_gal,\n",
    "          vx_sat-vx_gal, vy_sat-vy_gal, vz_sat-vz_gal)"
   ]
  },
  {
   "cell_type": "code",
   "execution_count": 10,
   "metadata": {
    "collapsed": false
   },
   "outputs": [
    {
     "name": "stdout",
     "output_type": "stream",
     "text": [
      "[ 46.38703739] [ 378.07150506] [ 2.16]\n"
     ]
    }
   ],
   "source": [
    "pericenter(x_sat6_b1-x_gal6_b1, y_sat6_b1-y_gal6_b1, z_sat6_b1-z_gal6_b1,\n",
    "          vx_sat6_b1-vx_gal6_b1, vy_sat6_b1-vy_gal6_b1, vz_sat6_b1-vz_gal6_b1)"
   ]
  },
  {
   "cell_type": "code",
   "execution_count": 11,
   "metadata": {
    "collapsed": false
   },
   "outputs": [
    {
     "data": {
      "text/plain": [
       "<matplotlib.colorbar.Colorbar at 0x7f89b2aa2550>"
      ]
     },
     "execution_count": 11,
     "metadata": {},
     "output_type": "execute_result"
    },
    {
     "data": {
      "image/png": "[encoded data removed]",
      "text/plain": [
       "<matplotlib.figure.Figure at 0x7f89b641bf60>"
      ]
     },
     "metadata": {},
     "output_type": "display_data"
    }
   ],
   "source": [
    "norm = matplotlib.colors.Normalize(vmin=0,vmax=2.26)\n",
    "c_m = matplotlib.cm.viridis\n",
    "s_m = matplotlib.cm.ScalarMappable(cmap=c_m, norm=norm)\n",
    "s_m.set_array([])\n",
    "\n",
    "for i in range(0, 114):\n",
    "    scatter(y_sat[i]-y_gal[i], z_sat[i]-z_gal[i], c=s_m.to_rgba(i*0.02)\n",
    "           , s=10)\n",
    "xlabel('y[kpc]')\n",
    "ylabel('z[kpc]')\n",
    "scatter(y_sat[113]-y_gal[113], z_sat[113]-z_gal[113], marker='*',label='Present')\n",
    "scatter(y_sat[110]-y_gal[110], z_sat[110]-z_gal[110], marker='^', label='Peri')\n",
    "legend()\n",
    "\n",
    "\n",
    "colorbar(s_m)"
   ]
  },
  {
   "cell_type": "code",
   "execution_count": 13,
   "metadata": {
    "collapsed": false
   },
   "outputs": [
    {
     "data": {
      "text/plain": [
       "<matplotlib.collections.PathCollection at 0x7f89b294f748>"
      ]
     },
     "execution_count": 13,
     "metadata": {},
     "output_type": "execute_result"
    },
    {
     "data": {
      "image/png": "[encoded data removed]",
      "text/plain": [
       "<matplotlib.figure.Figure at 0x7f89b29d66a0>"
      ]
     },
     "metadata": {},
     "output_type": "display_data"
    }
   ],
   "source": [
    "scatter(x_sat[:113]-x_gal[:113], z_sat[:113]-z_gal[:113],label='Present')\n"
   ]
  },
  {
   "cell_type": "code",
   "execution_count": 39,
   "metadata": {
    "collapsed": false
   },
   "outputs": [
    {
     "name": "stdout",
     "output_type": "stream",
     "text": [
      "[ 1.50254058  1.50206701  1.49974724  1.49895113  1.49753561  1.49643802\n",
      "  1.49537814  1.49392676  1.49267601  1.49187013  1.49035006  1.48928133\n",
      "  1.48772444  1.48686112  1.48593568  1.48436517  1.48306424  1.48201725\n",
      "  1.48039363  1.47910772  1.47797411  1.47687     1.47528339  1.47424937\n",
      "  1.47288592  1.47195287  1.47049893  1.46938682  1.46771769  1.46617673\n",
      "  1.46502335  1.46331631  1.46257943  1.46072167  1.45941911  1.45819544\n",
      "  1.45646326  1.45521102  1.45356151  1.45240905  1.45082188  1.44988062\n",
      "  1.44779458  1.44658653  1.44468395  1.44296066  1.44123463  1.43998789\n",
      "  1.43851967  1.43714108  1.43522041  1.433685    1.43145016  1.42941464\n",
      "  1.42812082  1.42637703  1.42474924  1.42306656  1.42103129  1.4191044\n",
      "  1.41704656  1.41489566  1.41282163  1.41091725  1.40862034  1.40664631\n",
      "  1.40419999  1.40204441  1.4000295   1.39764327  1.39514572  1.39268905\n",
      "  1.38980214  1.38767511  1.38410976  1.38078215  1.37753992  1.37419533\n",
      "  1.37107871  1.36787653  1.36356355  1.35924527  1.3549487   1.35049786\n",
      "  1.34591833  1.34082088  1.33552267  1.32922259  1.32336704  1.31608518\n",
      "  1.3086565   1.30089449  1.29116524  1.28096396  1.26897049  1.25626329\n",
      "  1.24047342  1.22204976  1.19979204  1.17368799  1.13305765  1.087236\n",
      "  1.02086651  0.91477166  0.74225501  0.39288128 -0.21648786 -0.83052589\n",
      " -1.16531811 -1.34904643 -1.46002625 -1.52850507 -1.57805475]\n"
     ]
    },
    {
     "data": {
      "image/png": "[encoded data removed]",
      "text/plain": [
       "<matplotlib.figure.Figure at 0x7f89afae68d0>"
      ]
     },
     "metadata": {},
     "output_type": "display_data"
    }
   ],
   "source": [
    "from astropy.coordinates import SkyCoord\n",
    "from astropy import units as u\n",
    "\n",
    "norm = matplotlib.colors.Normalize(vmin=min(R_gal6),vmax=max(R_gal6))\n",
    "c_m = matplotlib.cm.viridis\n",
    "s_m = matplotlib.cm.ScalarMappable(cmap=c_m, norm=norm)\n",
    "s_m.set_array([])\n",
    "\n",
    "\n",
    "c_gal = SkyCoord(x=(x_sat[:113]-x_gal[:113])*u.kpc,\n",
    "                 y=(y_sat[:113]-y_gal[:113])*u.kpc,\n",
    "                 z=(z_sat[:113]-z_gal[:113])*u.kpc, representation='cartesian',\n",
    "                 frame='galactocentric')\n",
    "\n",
    "c_gal.representation = 'spherical'\n",
    "\n",
    "\n",
    "## to degrees and range of l.\n",
    "\n",
    "l_degrees = c_gal.lon.wrap_at(180 * u.deg).radian\n",
    "#l_degrees = c_gal.l.radian\n",
    "b_degrees = c_gal.lat.radian\n",
    "fig = plt.figure(figsize=(8,4.2))\n",
    "ax = fig.add_subplot(111, projection=\"aitoff\")\n",
    "print(l_degrees)\n",
    "for i in range(0, 113):\n",
    "    ax.scatter(l_degrees[i], b_degrees[i], c=s_m.to_rgba(R_gal6[i]) , s=10)\n",
    "colorbar(s_m)\n",
    "\n",
    "ax.xaxis.set_ticks([-np.pi, -np.pi/2., 0, np.pi/2., np.pi])\n",
    "ax.xaxis.set_ticks([-np.pi, -3*np.pi/4., -np.pi/2., -np.pi/4.\\\n",
    "                    ,0, np.pi/4. ,np.pi/2., 3*np.pi/4., np.pi],\\\n",
    "                    minor=True)\n",
    "\n",
    "ax.yaxis.set_ticks([ -np.pi/2.1, 0, np.pi/2.1])\n",
    "\n",
    "ax.yaxis.set_ticks([ -np.pi/2.1, -np.pi/4., 0, np.pi/4.,\\\n",
    "                     np.pi/2.1], minor=True)\n",
    "\n",
    "ax.text(-np.pi/1.5, np.pi/6., '$5$', fontsize=15, color='k')\n",
    "ax.text(-np.pi/3., np.pi/6., '$6$', fontsize=15, color='k')\n",
    "ax.text(np.pi/3., np.pi/6., '$7$', fontsize=15, color='k')\n",
    "ax.text(np.pi/1.5, np.pi/6., '$8$', fontsize=15, color='k')\n",
    "ax.text(-np.pi/1.5, -np.pi/6., '$1$', fontsize=15, color='k')\n",
    "ax.text(-np.pi/3., -np.pi/6., '$2$', fontsize=15, color='k')\n",
    "ax.text(np.pi/3, -np.pi/6., '$3$', fontsize=15, color='k')\n",
    "ax.text(np.pi/1.5, -np.pi/6., '$4$', fontsize=15, color='k')\n",
    "#ax.yaxis.set_ticks([ -np.pi/2.1, 0, np.pi/2.1])\n",
    "#ax.yaxis.set_ticks([ -np.pi/2.1, 0, np.pi/2.1])\n",
    "#ax.yaxis.set_ticks([ -np.pi/2.1, 0, np.pi/2.1])\n",
    "ax.grid(which='major')\n",
    "savefig('../../../MW_anisotropy/figures/LMC_orbit_aitoff.png', bbox_inches='tight', dpi=150)\n",
    "savefig('../../../MW_anisotropy/figures/LMC_orbit_aitoff.pdf', bbox_inches='tight', dpi=150)"
   ]
  },
  {
   "cell_type": "code",
   "execution_count": null,
   "metadata": {
    "collapsed": true
   },
   "outputs": [],
   "source": []
  },
  {
   "cell_type": "code",
   "execution_count": 33,
   "metadata": {
    "collapsed": false
   },
   "outputs": [
    {
     "data": {
      "text/plain": [
       "<matplotlib.text.Text at 0x7fe1f8c40550>"
      ]
     },
     "execution_count": 33,
     "metadata": {},
     "output_type": "execute_result"
    },
    {
     "data": {
      "image/png": "[encoded data removed]",
      "text/plain": [
       "<matplotlib.figure.Figure at 0x7fe1f8efc048>"
      ]
     },
     "metadata": {},
     "output_type": "display_data"
    }
   ],
   "source": [
    "norm = matplotlib.colors.Normalize(vmin=0,vmax=3)\n",
    "c_m = matplotlib.cm.viridis\n",
    "s_m = matplotlib.cm.ScalarMappable(cmap=c_m, norm=norm)\n",
    "s_m.set_array([])\n",
    "\n",
    "\n",
    "for i in range(0, 110):\n",
    "    scatter(y_sat6_b1[i]-y_gal6_b1[i], z_sat6_b1[i]-z_gal6_b1[i], c=s_m.to_rgba(i*0.02)\n",
    "            , s=10)\n",
    "for i in range(0, 113):\n",
    "\n",
    "    scatter(y_sat[i]-y_gal[i], z_sat[i]-z_gal[i], c=s_m.to_rgba(i*0.02)\n",
    "           , s=10)\n",
    "xlabel('y[kpc]', fontsize=18)\n",
    "ylabel('z[kpc]', fontsize=18)\n",
    "colorbar(s_m)\n",
    "text(280, 154, '[Gyrs]')"
   ]
  },
  {
   "cell_type": "code",
   "execution_count": null,
   "metadata": {
    "collapsed": true
   },
   "outputs": [],
   "source": []
  },
  {
   "cell_type": "code",
   "execution_count": 7,
   "metadata": {
    "collapsed": false
   },
   "outputs": [
    {
     "name": "stdout",
     "output_type": "stream",
     "text": [
      "Dr =  [ 6.086807] [-2.208346] [ 2.535124] [ 6.95362245]\n",
      "Dv =  [-16.727458] [ 19.73563] [-40.317551] [ 47.90415286]\n"
     ]
    },
    {
     "data": {
      "text/plain": [
       "(array([ 2.34]),\n",
       " array([-7.086807]),\n",
       " array([-38.791654]),\n",
       " array([-30.535124]),\n",
       " array([-40.272542]),\n",
       " array([-245.73563]),\n",
       " array([ 261.317551]))"
      ]
     },
     "execution_count": 7,
     "metadata": {},
     "output_type": "execute_result"
    }
   ],
   "source": [
    "orbit6_b09 = reading_Nbody('LMC6_40Mb09_orbit.txt')\n",
    "R_gal6_b09 = orbit6_b09[0]\n",
    "x_sat6_b09 = orbit6_b09[1]\n",
    "y_sat6_b09 = orbit6_b09[2]\n",
    "z_sat6_b09 = orbit6_b09[3]\n",
    "x_gal6_b09 = orbit6_b09[4]\n",
    "y_gal6_b09 = orbit6_b09[5]\n",
    "z_gal6_b09 = orbit6_b09[6]\n",
    "Vgal6_b09 = orbit6_b09[7]\n",
    "vx_sat6_b09 = orbit6_b09[8]\n",
    "vy_sat6_b09 = orbit6_b09[9]\n",
    "vz_sat6_b09 = orbit6_b09[10]\n",
    "vx_gal6_b09 = orbit6_b09[11]\n",
    "vy_gal6_b09 = orbit6_b09[12]\n",
    "vz_gal6_b09 = orbit6_b09[13]\n",
    "best_values(x_sat6_b09-x_gal6_b09, y_sat6_b09-y_gal6_b09, z_sat6_b09-z_gal6_b09, vx_sat6_b09-vx_gal6_b09,\n",
    "            vy_sat6_b09-vy_gal6_b09, vz_sat6_b09-vz_gal6_b09)"
   ]
  },
  {
   "cell_type": "code",
   "execution_count": 8,
   "metadata": {
    "collapsed": false
   },
   "outputs": [
    {
     "data": {
      "text/plain": [
       "[<matplotlib.lines.Line2D at 0x7f19740d2b00>]"
      ]
     },
     "execution_count": 8,
     "metadata": {},
     "output_type": "execute_result"
    },
    {
     "data": {
      "image/png": "[encoded data removed]",
      "text/plain": [
       "<matplotlib.figure.Figure at 0x7f19740f1320>"
      ]
     },
     "metadata": {},
     "output_type": "display_data"
    }
   ],
   "source": [
    "plot(R_gal6)\n",
    "plot(R_gal6_b09)\n",
    "plot(R_gal6_b1)"
   ]
  },
  {
   "cell_type": "markdown",
   "metadata": {},
   "source": [
    "## LMC5"
   ]
  },
  {
   "cell_type": "code",
   "execution_count": 9,
   "metadata": {
    "collapsed": false
   },
   "outputs": [
    {
     "name": "stdout",
     "output_type": "stream",
     "text": [
      "Dr =  [-1.305432] [-0.93092] [ 1.911477] [ 2.49489661]\n",
      "Dv =  [ 16.343265] [ 21.0018] [-2.988734] [ 26.77891792]\n"
     ]
    },
    {
     "data": {
      "text/plain": [
       "(array([ 2.24]),\n",
       " array([ 0.305432]),\n",
       " array([-40.06908]),\n",
       " array([-29.911477]),\n",
       " array([-73.343265]),\n",
       " array([-247.0018]),\n",
       " array([ 223.988734]))"
      ]
     },
     "execution_count": 9,
     "metadata": {},
     "output_type": "execute_result"
    }
   ],
   "source": [
    "R_gal5, x_sat, y_sat, z_sat, x_gal, y_gal, z_gal, Vgal, vx_sat, vy_sat, vz_sat, vx_gal, vy_gal, vz_gal = reading_Nbody('LMC5_40Mb0_orbit.txt')\n",
    "best_values(x_sat-x_gal, y_sat-y_gal, z_sat-z_gal, vx_sat-vx_gal, vy_sat-vy_gal, vz_sat-vz_gal)"
   ]
  },
  {
   "cell_type": "code",
   "execution_count": 10,
   "metadata": {
    "collapsed": false
   },
   "outputs": [
    {
     "name": "stdout",
     "output_type": "stream",
     "text": [
      "Dr =  [ 0.359211] [-2.231368] [-0.398055] [ 2.29488202]\n",
      "Dv =  [ 25.261712] [ 30.972354] [-20.454015] [ 44.89774532]\n"
     ]
    },
    {
     "data": {
      "text/plain": [
       "(array([ 2.14]),\n",
       " array([-1.359211]),\n",
       " array([-38.768632]),\n",
       " array([-27.601945]),\n",
       " array([-82.261712]),\n",
       " array([-256.972354]),\n",
       " array([ 241.454015]))"
      ]
     },
     "execution_count": 10,
     "metadata": {},
     "output_type": "execute_result"
    }
   ],
   "source": [
    "orbit_b1 = reading_Nbody('LMC5_40Mb1_ic20_orbit.txt')\n",
    "R_gal5_b1 = orbit_b1[0]\n",
    "x_sat_b1 = orbit_b1[1]\n",
    "y_sat_b1 = orbit_b1[2]\n",
    "z_sat_b1 = orbit_b1[3]\n",
    "x_gal_b1 = orbit_b1[4]\n",
    "y_gal_b1 = orbit_b1[5]\n",
    "z_gal_b1 = orbit_b1[6]\n",
    "Vgal_b1 = orbit_b1[7]\n",
    "vx_sat_b1 = orbit_b1[8]\n",
    "vy_sat_b1 = orbit_b1[9]\n",
    "vz_sat_b1 = orbit_b1[10]\n",
    "vx_gal_b1 = orbit_b1[11]\n",
    "vy_gal_b1 = orbit_b1[12]\n",
    "vz_gal_b1 = orbit_b1[13]\n",
    "best_values(x_sat_b1-x_gal_b1, y_sat_b1-y_gal_b1, z_sat_b1-z_gal_b1, vx_sat_b1-vx_gal_b1,\n",
    "            vy_sat_b1-vy_gal_b1, vz_sat_b1-vz_gal_b1)"
   ]
  },
  {
   "cell_type": "code",
   "execution_count": 11,
   "metadata": {
    "collapsed": false
   },
   "outputs": [
    {
     "data": {
      "text/plain": [
       "[<matplotlib.lines.Line2D at 0x7f19740a3160>]"
      ]
     },
     "execution_count": 11,
     "metadata": {},
     "output_type": "execute_result"
    },
    {
     "data": {
      "image/png": "[encoded data removed]",
      "text/plain": [
       "<matplotlib.figure.Figure at 0x7f19740dda58>"
      ]
     },
     "metadata": {},
     "output_type": "display_data"
    }
   ],
   "source": [
    "plot(R_gal5_b1)"
   ]
  },
  {
   "cell_type": "code",
   "execution_count": 12,
   "metadata": {
    "collapsed": false
   },
   "outputs": [
    {
     "name": "stdout",
     "output_type": "stream",
     "text": [
      "Dr =  [ 0.042667] [-0.193831] [ 2.253626] [ 2.26234858]\n",
      "Dv =  [ 16.943432] [ 20.045383] [-2.502844] [ 26.36591541]\n"
     ]
    },
    {
     "data": {
      "text/plain": [
       "(array([ 2.22]),\n",
       " array([-1.042667]),\n",
       " array([-40.806169]),\n",
       " array([-30.253626]),\n",
       " array([-73.943432]),\n",
       " array([-246.045383]),\n",
       " array([ 223.502844]))"
      ]
     },
     "execution_count": 12,
     "metadata": {},
     "output_type": "execute_result"
    }
   ],
   "source": [
    "R_gal5, x_sat, y_sat, z_sat, x_gal, y_gal, z_gal, Vgal, vx_sat, vy_sat, vz_sat, vx_gal, vy_gal, vz_gal = reading_Nbody('LMC5_40Mb0_ic11_orbit.txt')\n",
    "best_values(x_sat-x_gal, y_sat-y_gal, z_sat-z_gal, vx_sat-vx_gal, vy_sat-vy_gal, vz_sat-vz_gal)"
   ]
  },
  {
   "cell_type": "code",
   "execution_count": 15,
   "metadata": {
    "collapsed": false
   },
   "outputs": [
    {
     "data": {
      "text/plain": [
       "<matplotlib.collections.PathCollection at 0x7f196b4bacc0>"
      ]
     },
     "execution_count": 15,
     "metadata": {},
     "output_type": "execute_result"
    },
    {
     "data": {
      "image/png": "[encoded data removed]",
      "text/plain": [
       "<matplotlib.figure.Figure at 0x7f197403ef60>"
      ]
     },
     "metadata": {},
     "output_type": "display_data"
    }
   ],
   "source": [
    "plot(np.linspace(0, 3, 151), R_gal5)\n",
    "plot(np.linspace(0, 3, 151), R_gal5_b09, ls='--')\n",
    "plot(np.linspace(0, 3, 151), R_gal5_b1)\n",
    "\n",
    "\n",
    "#plot(t5_2, R_gal5_2)\n",
    "\n",
    "axvline(2.32)\n",
    "plt.scatter(2.14, 49.65, s=250, marker='*', c='green')\n"
   ]
  },
  {
   "cell_type": "code",
   "execution_count": 16,
   "metadata": {
    "collapsed": false
   },
   "outputs": [
    {
     "name": "stdout",
     "output_type": "stream",
     "text": [
      "Dr =  [ 6.488924] [-2.940117] [ 0.116387] [ 7.12488376]\n",
      "Dv =  [-22.764839] [ 11.436834] [-47.33374] [ 53.75427433]\n"
     ]
    },
    {
     "data": {
      "text/plain": [
       "(array([ 2.28]),\n",
       " array([-7.488924]),\n",
       " array([-38.059883]),\n",
       " array([-28.116387]),\n",
       " array([-34.235161]),\n",
       " array([-237.436834]),\n",
       " array([ 268.33374]))"
      ]
     },
     "execution_count": 16,
     "metadata": {},
     "output_type": "execute_result"
    }
   ],
   "source": [
    "orbit5_b09 = reading_Nbody('LMC5_40Mb09_new_orbit.txt')\n",
    "R_gal5_b09 = orbit5_b09[0]\n",
    "x_sat5_b09 = orbit5_b09[1]\n",
    "y_sat5_b09 = orbit5_b09[2]\n",
    "z_sat5_b09 = orbit5_b09[3]\n",
    "x_gal5_b09 = orbit5_b09[4]\n",
    "y_gal5_b09 = orbit5_b09[5]\n",
    "z_gal5_b09 = orbit5_b09[6]\n",
    "Vgal5_b09 = orbit5_b09[7]\n",
    "vx_sat5_b09 = orbit5_b09[8]\n",
    "vy_sat5_b09 = orbit5_b09[9]\n",
    "vz_sat5_b09 = orbit5_b09[10]\n",
    "vx_gal5_b09 = orbit5_b09[11]\n",
    "vy_gal5_b09 = orbit5_b09[12]\n",
    "vz_gal5_b09 = orbit5_b09[13]\n",
    "best_values(x_sat5_b09-x_gal5_b09, y_sat5_b09-y_gal5_b09, z_sat5_b09-z_gal5_b09, vx_sat5_b09-vx_gal5_b09,\n",
    "            vy_sat5_b09-vy_gal5_b09, vz_sat5_b09-vz_gal5_b09)"
   ]
  },
  {
   "cell_type": "code",
   "execution_count": null,
   "metadata": {
    "collapsed": true
   },
   "outputs": [],
   "source": []
  },
  {
   "cell_type": "markdown",
   "metadata": {},
   "source": [
    "## LMC4"
   ]
  },
  {
   "cell_type": "code",
   "execution_count": 17,
   "metadata": {
    "collapsed": false
   },
   "outputs": [
    {
     "name": "stdout",
     "output_type": "stream",
     "text": [
      "Dr =  [-2.292964] [-3.654977] [ 0.639226] [ 4.36178297]\n",
      "Dv =  [ 34.784986] [ 53.936385] [-2.998759] [ 64.25045862]\n"
     ]
    },
    {
     "data": {
      "text/plain": [
       "(array([ 2.3]),\n",
       " array([ 1.292964]),\n",
       " array([-37.345023]),\n",
       " array([-28.639226]),\n",
       " array([-91.784986]),\n",
       " array([-279.936385]),\n",
       " array([ 223.998759]))"
      ]
     },
     "execution_count": 17,
     "metadata": {},
     "output_type": "execute_result"
    }
   ],
   "source": [
    "R_gal4, x_sat, y_sat, z_sat, x_gal, y_gal, z_gal, Vgal, vx_sat, vy_sat, vz_sat, vx_gal,\\\n",
    "vy_gal, vz_gal = reading_Nbody('LMC4_40Mb0_orbit.txt')\n",
    "best_values(x_sat-x_gal, y_sat-y_gal, z_sat-z_gal, vx_sat-vx_gal, vy_sat-vy_gal, vz_sat-vz_gal)"
   ]
  },
  {
   "cell_type": "code",
   "execution_count": 18,
   "metadata": {
    "collapsed": false
   },
   "outputs": [
    {
     "name": "stdout",
     "output_type": "stream",
     "text": [
      "Dr =  [-1.220231] [-1.126895] [ 2.380497] [ 2.9026922]\n",
      "Dv =  [ 28.3149] [ 42.558582] [ 0.867357] [ 51.12454178]\n"
     ]
    },
    {
     "data": {
      "text/plain": [
       "(array([ 2.3]),\n",
       " array([ 0.220231]),\n",
       " array([-39.873105]),\n",
       " array([-30.380497]),\n",
       " array([-85.3149]),\n",
       " array([-268.558582]),\n",
       " array([ 220.132643]))"
      ]
     },
     "execution_count": 18,
     "metadata": {},
     "output_type": "execute_result"
    }
   ],
   "source": [
    "R_gal4, x_sat, y_sat, z_sat, x_gal, y_gal, z_gal, Vgal, vx_sat, vy_sat, vz_sat, vx_gal,\\\n",
    "vy_gal, vz_gal = reading_Nbody('LMC4_40Mb0_ic11_orbit.txt')\n",
    "best_values(x_sat-x_gal, y_sat-y_gal, z_sat-z_gal, vx_sat-vx_gal, vy_sat-vy_gal, vz_sat-vz_gal)"
   ]
  },
  {
   "cell_type": "code",
   "execution_count": 19,
   "metadata": {
    "collapsed": false
   },
   "outputs": [
    {
     "data": {
      "text/plain": [
       "<matplotlib.lines.Line2D at 0x7f197403d780>"
      ]
     },
     "execution_count": 19,
     "metadata": {},
     "output_type": "execute_result"
    },
    {
     "data": {
      "image/png": "[encoded data removed]",
      "text/plain": [
       "<matplotlib.figure.Figure at 0x7f197403d8d0>"
      ]
     },
     "metadata": {},
     "output_type": "display_data"
    }
   ],
   "source": [
    "plot(np.linspace(0, 3, 151), R_gal4)\n",
    "axvline(2.3)"
   ]
  },
  {
   "cell_type": "code",
   "execution_count": 20,
   "metadata": {
    "collapsed": false
   },
   "outputs": [
    {
     "name": "stdout",
     "output_type": "stream",
     "text": [
      "Dr =  [-1.526892] [-2.303024] [ 1.116379] [ 2.98020482]\n",
      "Dv =  [ 38.95963] [ 49.878229] [-15.360691] [ 65.1278844]\n"
     ]
    },
    {
     "data": {
      "text/plain": [
       "(array([ 2.26]),\n",
       " array([ 0.526892]),\n",
       " array([-38.696976]),\n",
       " array([-29.116379]),\n",
       " array([-95.95963]),\n",
       " array([-275.878229]),\n",
       " array([ 236.360691]))"
      ]
     },
     "execution_count": 20,
     "metadata": {},
     "output_type": "execute_result"
    }
   ],
   "source": [
    "orbit4_b1 = reading_Nbody('LMC4_40Mb1_ic20_orbit.txt')\n",
    "R_gal4_b1 = orbit4_b1[0]\n",
    "x_sat4_b1 = orbit4_b1[1]\n",
    "y_sat4_b1 = orbit4_b1[2]\n",
    "z_sat4_b1 = orbit4_b1[3]\n",
    "x_gal4_b1 = orbit4_b1[4]\n",
    "y_gal4_b1 = orbit4_b1[5]\n",
    "z_gal4_b1 = orbit4_b1[6]\n",
    "Vgal4_b1 = orbit4_b1[7]\n",
    "vx_sat4_b1 = orbit4_b1[8]\n",
    "vy_sat4_b1 = orbit4_b1[9]\n",
    "vz_sat4_b1 = orbit4_b1[10]\n",
    "vx_gal4_b1 = orbit4_b1[11]\n",
    "vy_gal4_b1 = orbit4_b1[12]\n",
    "vz_gal4_b1 = orbit4_b1[13]\n",
    "best_values(x_sat4_b1-x_gal4_b1, y_sat4_b1-y_gal4_b1, z_sat4_b1-z_gal4_b1, vx_sat4_b1-vx_gal4_b1,\n",
    "            vy_sat4_b1-vy_gal4_b1, vz_sat4_b1-vz_gal4_b1)"
   ]
  },
  {
   "cell_type": "code",
   "execution_count": 21,
   "metadata": {
    "collapsed": false
   },
   "outputs": [
    {
     "name": "stdout",
     "output_type": "stream",
     "text": [
      "Dr =  [ 5.046571] [-4.312303] [-1.67661] [ 6.84652153]\n",
      "Dv =  [ 0.245269] [ 53.319727] [-40.595608] [ 67.01534774]\n"
     ]
    },
    {
     "data": {
      "text/plain": [
       "(array([ 2.16]),\n",
       " array([-6.046571]),\n",
       " array([-36.687697]),\n",
       " array([-26.32339]),\n",
       " array([-57.245269]),\n",
       " array([-279.319727]),\n",
       " array([ 261.595608]))"
      ]
     },
     "execution_count": 21,
     "metadata": {},
     "output_type": "execute_result"
    }
   ],
   "source": [
    "orbit4_b09 = reading_Nbody('LMC4_40Mb09_orbit.txt')\n",
    "R_gal4_b09 = orbit4_b09[0]\n",
    "x_sat4_b09 = orbit4_b09[1]\n",
    "y_sat4_b09 = orbit4_b09[2]\n",
    "z_sat4_b09 = orbit4_b09[3]\n",
    "x_gal4_b09 = orbit4_b09[4]\n",
    "y_gal4_b09 = orbit4_b09[5]\n",
    "z_gal4_b09 = orbit4_b09[6]\n",
    "Vgal4_b09 = orbit4_b09[7]\n",
    "vx_sat4_b09 = orbit4_b09[8]\n",
    "vy_sat4_b09 = orbit4_b09[9]\n",
    "vz_sat4_b09 = orbit4_b09[10]\n",
    "vx_gal4_b09 = orbit4_b09[11]\n",
    "vy_gal4_b09 = orbit4_b09[12]\n",
    "vz_gal4_b09 = orbit4_b09[13]\n",
    "best_values(x_sat4_b09-x_gal4_b09, y_sat4_b09-y_gal4_b09, z_sat4_b09-z_gal4_b09, vx_sat4_b09-vx_gal4_b09,\n",
    "            vy_sat4_b09-vy_gal4_b09, vz_sat4_b09-vz_gal4_b09)"
   ]
  },
  {
   "cell_type": "markdown",
   "metadata": {},
   "source": [
    "|Simulation| ICs | \n",
    "|--------|---------|\n",
    "| LMC3_H10 |  | \n",
    "| LMC4_H0 | r=(20.392142 266.90138 82.252445), v=(7.370204 -32.65387 7.370204) | \n",
    "| LMC4_H1 | r=(15.938147 184.318269 43.330524), v=(10.949636 -22.197442 -99.102962) | \n",
    "| LMC4_H2 | r=(15.255384 191.783586 54.76852), v=(11.616064 -11.796171 -94.946403) | \n",
    "| LMC4_H3 | r=(14.537944 198.811104 66.078902), v=(12.088886 -2.755792 -90.558497)  | \n",
    "| LMC4_H4 | r=(13.810617 205.552718 77.212577), v=(12.40013 5.042759 -86.069407) | \n",
    "| LMC5_H1 | r=(8.314183 211.882583 122.726527), v=(14.090038 35.727729 -71.808439)  | \n",
    "| LMC6_H1 | r=(11.584929 247.791118 129.901859), v=(11.910111 11.210542 -77.135969)  | \n"
   ]
  },
  {
   "cell_type": "markdown",
   "metadata": {},
   "source": [
    "## LMC3 "
   ]
  },
  {
   "cell_type": "code",
   "execution_count": 22,
   "metadata": {
    "collapsed": false
   },
   "outputs": [
    {
     "name": "stdout",
     "output_type": "stream",
     "text": [
      "Dr =  [-1.810667] [ 0.021541] [ 1.743997] [ 2.51406136]\n",
      "Dv =  [ 15.725371] [ 46.326207] [ 3.65861] [ 49.05904784]\n"
     ]
    },
    {
     "data": {
      "text/plain": [
       "(array([ 1.86]),\n",
       " array([ 0.810667]),\n",
       " array([-41.021541]),\n",
       " array([-29.743997]),\n",
       " array([-72.725371]),\n",
       " array([-272.326207]),\n",
       " array([ 217.34139]))"
      ]
     },
     "execution_count": 22,
     "metadata": {},
     "output_type": "execute_result"
    }
   ],
   "source": [
    "R_gal3,  x_sat, y_sat, z_sat, x_gal, y_gal, z_gal, Vgal, vx_sat, vy_sat, vz_sat, vx_gal, vy_gal, vz_gal = reading_Nbody('LMC3_40Mb0_orbit.txt')\n",
    "best_values(x_sat-x_gal, y_sat-y_gal, z_sat-z_gal, vx_sat-vx_gal, vy_sat-vy_gal, vz_sat-vz_gal)"
   ]
  },
  {
   "cell_type": "code",
   "execution_count": 23,
   "metadata": {
    "collapsed": false
   },
   "outputs": [
    {
     "name": "stdout",
     "output_type": "stream",
     "text": [
      "Dr =  [-0.76477] [ 2.331094] [ 2.74644] [ 3.68263561]\n",
      "Dv =  [ 21.504231] [ 35.904563] [ 4.898669] [ 42.13747208]\n"
     ]
    },
    {
     "data": {
      "text/plain": [
       "(array([ 1.86]),\n",
       " array([-0.23523]),\n",
       " array([-43.331094]),\n",
       " array([-30.74644]),\n",
       " array([-78.504231]),\n",
       " array([-261.904563]),\n",
       " array([ 216.101331]))"
      ]
     },
     "execution_count": 23,
     "metadata": {},
     "output_type": "execute_result"
    }
   ],
   "source": [
    "R_gal3,  x_sat, y_sat, z_sat, x_gal, y_gal, z_gal, Vgal, vx_sat, vy_sat, vz_sat, vx_gal, vy_gal, vz_gal = reading_Nbody('LMC3_40Mb0_ic11_orbit.txt')\n",
    "best_values(x_sat-x_gal, y_sat-y_gal, z_sat-z_gal, vx_sat-vx_gal, vy_sat-vy_gal, vz_sat-vz_gal)"
   ]
  },
  {
   "cell_type": "code",
   "execution_count": 24,
   "metadata": {
    "collapsed": false
   },
   "outputs": [
    {
     "data": {
      "text/plain": [
       "49.044417623211714"
      ]
     },
     "execution_count": 24,
     "metadata": {},
     "output_type": "execute_result"
    }
   ],
   "source": [
    "(15.7**2 + 46.32**2 + 3.65**2)**0.5"
   ]
  },
  {
   "cell_type": "code",
   "execution_count": 25,
   "metadata": {
    "collapsed": false
   },
   "outputs": [
    {
     "data": {
      "text/plain": [
       "<matplotlib.lines.Line2D at 0x7f196b46b438>"
      ]
     },
     "execution_count": 25,
     "metadata": {},
     "output_type": "execute_result"
    },
    {
     "data": {
      "image/png": "[encoded data removed]",
      "text/plain": [
       "<matplotlib.figure.Figure at 0x7f196b46b128>"
      ]
     },
     "metadata": {},
     "output_type": "display_data"
    }
   ],
   "source": [
    "plot(np.linspace(0, 3, 151), R_gal3)\n",
    "#plot(t3_2, R_gal3_2)\n",
    "\n",
    "axvline(1.9)"
   ]
  },
  {
   "cell_type": "code",
   "execution_count": 26,
   "metadata": {
    "collapsed": false
   },
   "outputs": [
    {
     "name": "stdout",
     "output_type": "stream",
     "text": [
      "Dr =  [-0.918272] [ 1.183414] [ 1.062192] [ 1.83628538]\n",
      "Dv =  [ 31.677488] [ 40.891472] [-13.230846] [ 53.39130092]\n"
     ]
    },
    {
     "data": {
      "text/plain": [
       "(array([ 1.82]),\n",
       " array([-0.081728]),\n",
       " array([-42.183414]),\n",
       " array([-29.062192]),\n",
       " array([-88.677488]),\n",
       " array([-266.891472]),\n",
       " array([ 234.230846]))"
      ]
     },
     "execution_count": 26,
     "metadata": {},
     "output_type": "execute_result"
    }
   ],
   "source": [
    "orbit3_b1 = reading_Nbody('LMC3_40Mb1_ic20_new_orbit.txt')\n",
    "R_gal3_b1 = orbit3_b1[0]\n",
    "x_sat3_b1 = orbit3_b1[1]\n",
    "y_sat3_b1 = orbit3_b1[2]\n",
    "z_sat3_b1 = orbit3_b1[3]\n",
    "x_gal3_b1 = orbit3_b1[4]\n",
    "y_gal3_b1 = orbit3_b1[5]\n",
    "z_gal3_b1 = orbit3_b1[6]\n",
    "Vgal3_b1 = orbit3_b1[7]\n",
    "vx_sat3_b1 = orbit3_b1[8]\n",
    "vy_sat3_b1 = orbit3_b1[9]\n",
    "vz_sat3_b1 = orbit3_b1[10]\n",
    "vx_gal3_b1 = orbit3_b1[11]\n",
    "vy_gal3_b1 = orbit3_b1[12]\n",
    "vz_gal3_b1 = orbit3_b1[13]\n",
    "best_values(x_sat3_b1-x_gal3_b1, y_sat3_b1-y_gal3_b1, z_sat3_b1-z_gal3_b1, vx_sat3_b1-vx_gal3_b1,\n",
    "            vy_sat3_b1-vy_gal3_b1, vz_sat3_b1-vz_gal3_b1)"
   ]
  },
  {
   "cell_type": "code",
   "execution_count": 27,
   "metadata": {
    "collapsed": false
   },
   "outputs": [
    {
     "name": "stdout",
     "output_type": "stream",
     "text": [
      "Dr =  [ 0.154607] [-3.571613] [-5.682336] [ 6.71336467]\n",
      "Dv =  [ 19.723178] [ 61.628154] [-56.069581] [ 85.6202723]\n"
     ]
    },
    {
     "data": {
      "text/plain": [
       "(array([ 1.82]),\n",
       " array([-1.154607]),\n",
       " array([-37.428387]),\n",
       " array([-22.317664]),\n",
       " array([-76.723178]),\n",
       " array([-287.628154]),\n",
       " array([ 277.069581]))"
      ]
     },
     "execution_count": 27,
     "metadata": {},
     "output_type": "execute_result"
    }
   ],
   "source": [
    "orbit3_b09 = reading_Nbody('LMC3_40Mb09_ic20_new_orbit.txt')\n",
    "R_gal3_b09 = orbit3_b09[0]\n",
    "x_sat3_b09 = orbit3_b09[1]\n",
    "y_sat3_b09 = orbit3_b09[2]\n",
    "z_sat3_b09 = orbit3_b09[3]\n",
    "x_gal3_b09 = orbit3_b09[4]\n",
    "y_gal3_b09 = orbit3_b09[5]\n",
    "z_gal3_b09 = orbit3_b09[6]\n",
    "Vgal3_b09 = orbit3_b09[7]\n",
    "vx_sat3_b09 = orbit3_b09[8]\n",
    "vy_sat3_b09 = orbit3_b09[9]\n",
    "vz_sat3_b09 = orbit3_b09[10]\n",
    "vx_gal3_b09 = orbit3_b09[11]\n",
    "vy_gal3_b09 = orbit3_b09[12]\n",
    "vz_gal3_b09 = orbit3_b09[13]\n",
    "best_values(x_sat3_b09-x_gal3_b09, y_sat3_b09-y_gal3_b09, z_sat3_b09-z_gal3_b09, vx_sat3_b09-vx_gal3_b09,\n",
    "            vy_sat3_b09-vy_gal3_b09, vz_sat3_b09-vz_gal3_b09)"
   ]
  },
  {
   "cell_type": "code",
   "execution_count": 28,
   "metadata": {
    "collapsed": false
   },
   "outputs": [
    {
     "name": "stdout",
     "output_type": "stream",
     "text": [
      "Dr =  [ 5.784192] [-7.20116] [-6.398463] [ 11.23627657]\n",
      "Dv =  [-3.874672] [ 54.596754] [-59.18285] [ 80.61283002]\n"
     ]
    },
    {
     "data": {
      "text/plain": [
       "(array([ 1.82]),\n",
       " array([-6.784192]),\n",
       " array([-33.79884]),\n",
       " array([-21.601537]),\n",
       " array([-53.125328]),\n",
       " array([-280.596754]),\n",
       " array([ 280.18285]))"
      ]
     },
     "execution_count": 28,
     "metadata": {},
     "output_type": "execute_result"
    }
   ],
   "source": [
    "orbit3_b09 = reading_Nbody('LMC3_40Mb09_ic15_new_orbit.txt')\n",
    "R_gal3_b09 = orbit3_b09[0]\n",
    "x_sat3_b09 = orbit3_b09[1]\n",
    "y_sat3_b09 = orbit3_b09[2]\n",
    "z_sat3_b09 = orbit3_b09[3]\n",
    "x_gal3_b09 = orbit3_b09[4]\n",
    "y_gal3_b09 = orbit3_b09[5]\n",
    "z_gal3_b09 = orbit3_b09[6]\n",
    "Vgal3_b09 = orbit3_b09[7]\n",
    "vx_sat3_b09 = orbit3_b09[8]\n",
    "vy_sat3_b09 = orbit3_b09[9]\n",
    "vz_sat3_b09 = orbit3_b09[10]\n",
    "vx_gal3_b09 = orbit3_b09[11]\n",
    "vy_gal3_b09 = orbit3_b09[12]\n",
    "vz_gal3_b09 = orbit3_b09[13]\n",
    "best_values(x_sat3_b09-x_gal3_b09, y_sat3_b09-y_gal3_b09, z_sat3_b09-z_gal3_b09, vx_sat3_b09-vx_gal3_b09,\n",
    "            vy_sat3_b09-vy_gal3_b09, vz_sat3_b09-vz_gal3_b09)"
   ]
  },
  {
   "cell_type": "code",
   "execution_count": null,
   "metadata": {
    "collapsed": false
   },
   "outputs": [],
   "source": [
    "figure(figsize=(6,4.5))\n",
    "\n",
    "\n",
    "plot(np.linspace(0, 3, 151)-1.86, R_gal3, label=r'$8 \\times 10^{10} M_{\\odot}$')\n",
    "plot(np.linspace(0, 3, 151)-2.32, R_gal4, label=r'$10 \\times 10^{10} M_{\\odot}$')\n",
    "plot(np.linspace(0, 3, 151)-2.24, R_gal5, label=r'$18 \\times 10^{10} M_{\\odot}$')\n",
    "plot(np.linspace(0, 3, 151)-2.3, R_gal6, label=r'$25 \\times 10^{10} M_{\\odot}$')\n",
    "\n",
    "xlim(-2.2, 0.3)\n",
    "axhline(278, ls='--', c='k', alpha=0.5)\n",
    "text(-0.5, 290, '$\\mathrm{R_{vir}}$', fontsize=18)\n",
    "\n",
    "legend(fontsize=15)\n",
    "xlabel('Look\\ back\\ time\\ [Gyrs]', fontsize=18)\n",
    "ylabel('Galactocentric\\ distance\\ [kpc]', fontsize=18)\n",
    "\n",
    "#plot(np.linspace(0, 3, 151)-1.82, R_gal3_b09, label=r'$8 \\times 10^{10} M_{\\odot}$', ls='--', c='k', lw=2.5)\n",
    "plot(np.linspace(0, 3, 151)-1.82, R_gal3_b1, label=r'$8 \\times 10^{10} M_{\\odot}$', ls='--', c='#1f77b4')\n",
    "#plot(np.linspace(0, 3, 151)-2.26, R_gal4_b09, label=r'$18 \\times 10^{10} M_{\\odot}$', ls=':', c='k', lw=2.5)\n",
    "plot(np.linspace(0, 3, 151)-2.26, R_gal4_b1, label=r'$10 \\times 10^{10} M_{\\odot}$', ls='--', c='orange')\n",
    "#plot(np.linspace(0, 3, 151)-2.14, R_gal5_b09, label=r'$18 \\times 10^{10} M_{\\odot}$', c='b', lw=1)\n",
    "plot(np.linspace(0, 3, 151)-2.14, R_gal5_b1, label=r'$18 \\times 10^{10} M_{\\odot}$', ls='--', c='#2ca02c')\n",
    "plot(np.linspace(0, 3, 151)-2.14, R_gal6_b1, label=r'$25 \\times 10^{10} M_{\\odot}$', ls='--', c='#d62728')\n",
    "\n",
    "scatter(0, 49.65, s=250, marker='*', c='orange')\n",
    "\n",
    "\n",
    "\n",
    "savefig('../../../MW_anisotropy/figures/LMC_orbits.pdf', bbox_inches='tight', dpi=300)\n",
    "savefig('../../../MW_anisotropy/figures/LMC_orbits.png', bbox_inches='tight', dpi=300)\n"
   ]
  },
  {
   "cell_type": "code",
   "execution_count": 48,
   "metadata": {
    "collapsed": false
   },
   "outputs": [
    {
     "data": {
      "text/plain": [
       "<matplotlib.text.Text at 0x7f196dd3c240>"
      ]
     },
     "execution_count": 48,
     "metadata": {},
     "output_type": "execute_result"
    },
    {
     "data": {
      "image/png": "[encoded data removed]",
      "text/plain": [
       "<matplotlib.figure.Figure at 0x7f1969804470>"
      ]
     },
     "metadata": {},
     "output_type": "display_data"
    }
   ],
   "source": [
    "figure(figsize=(7,5))\n",
    "\n",
    "\n",
    "#plot(np.linspace(0, 3, 151)-1.82, R_gal3_b09, label=r'$8 \\times 10^{10} M_{\\odot}$', ls='--', c='k', lw=2.5)\n",
    "plot(np.linspace(0, 3, 151)-1.82, R_gal3_b1, label=r'$8 \\times 10^{10} M_{\\odot}$', ls='-.', c='k', lw=2.5)\n",
    "#plot(np.linspace(0, 3, 151)-2.26, R_gal4_b09, label=r'$18 \\times 10^{10} M_{\\odot}$', ls=':', c='k', lw=2.5)\n",
    "plot(np.linspace(0, 3, 151)-2.26, R_gal4_b1, label=r'$10 \\times 10^{10} M_{\\odot}$', c='k', lw=2.5)\n",
    "#plot(np.linspace(0, 3, 151)-2.14, R_gal5_b09, label=r'$18 \\times 10^{10} M_{\\odot}$', c='b', lw=1)\n",
    "plot(np.linspace(0, 3, 151)-2.14, R_gal5_b1, label=r'$18 \\times 10^{10} M_{\\odot}$', c='k', lw=2.5)\n",
    "plot(np.linspace(0, 3, 151)-2.14, R_gal6_b1, label=r'$25 \\times 10^{10} M_{\\odot}$', c='k', lw=2.5)\n",
    "\n",
    "xlim(-2.2, 0.3)\n",
    "axhline(278, ls='--', c='k', alpha=0.5)\n",
    "text(-0.5, 290, '$R_{vir}$', fontsize=18)\n",
    "\n",
    "plt.scatter(0, 49.65, s=250, marker='*', c='green')\n",
    "legend(fontsize=15)\n",
    "xlabel('Look\\ back\\ time\\ [Gyrs]', fontsize=18)\n",
    "ylabel('Galactocentric\\ distance\\ [kpc]', fontsize=18)\n"
   ]
  },
  {
   "cell_type": "code",
   "execution_count": 20,
   "metadata": {
    "collapsed": false
   },
   "outputs": [
    {
     "name": "stdout",
     "output_type": "stream",
     "text": [
      "-0.340324706044 0.0993320421771 -3.02808076611 -0.193182045483\n"
     ]
    }
   ],
   "source": [
    "## Peris  r_peri = 48.2 \\pm 2.5  Salem 2015.\n",
    "\n",
    "print(min(R_gal6)-48.2, min(R_gal5)-48.2, min(R_gal4)-48.2, min(R_gal3)-48.2)"
   ]
  },
  {
   "cell_type": "code",
   "execution_count": null,
   "metadata": {
    "collapsed": true
   },
   "outputs": [],
   "source": []
  }
 ],
 "metadata": {
  "kernelspec": {
   "display_name": "Python 3",
   "language": "python",
   "name": "python3"
  },
  "language_info": {
   "codemirror_mode": {
    "name": "ipython",
    "version": 3
   },
   "file_extension": ".py",
   "mimetype": "text/x-python",
   "name": "python",
   "nbconvert_exporter": "python",
   "pygments_lexer": "ipython3",
   "version": "3.4.3"
  }
 },
 "nbformat": 4,
 "nbformat_minor": 1
}
