{
 "cells": [
  {
   "cell_type": "code",
   "execution_count": 1,
   "metadata": {
    "collapsed": false
   },
   "outputs": [
    {
     "name": "stdout",
     "output_type": "stream",
     "text": [
      "Populating the interactive namespace from numpy and matplotlib\n"
     ]
    }
   ],
   "source": [
    "%pylab inline\n",
    "font = {'size':13, 'family':'serif'}\n",
    "matplotlib.rc('font', **font)"
   ]
  },
  {
   "cell_type": "code",
   "execution_count": 34,
   "metadata": {
    "collapsed": false
   },
   "outputs": [],
   "source": [
    "#!python ../CM/orbit_cm.py MW1LMC4a1 0 51 LMCMCa1_orbit\n",
    "#data/LMCMW/MW1LMC4/a0"
   ]
  },
  {
   "cell_type": "code",
   "execution_count": 36,
   "metadata": {
    "collapsed": false
   },
   "outputs": [],
   "source": [
    "Nbody1 = loadtxt('../CM/LMCMCa1_orbit.txt')\n",
    "Nbody05 = loadtxt('../CM/LMCMCa05_orbit.txt')\n",
    "A1_host = loadtxt('../../../orbits/data/LMC_1E11_1E12_free_a1_host.txt')\n",
    "A1_sat = loadtxt('../../../orbits/data/LMC_1E11_1E12_free_a1_sat.txt')\n",
    "A05_host = loadtxt('../../../orbits/data/LMC_1E11_1E12_free_a05_host.txt')\n",
    "A05_sat = loadtxt('../../../orbits/data/LMC_1E11_1E12_free_a05_sat.txt')"
   ]
  },
  {
   "cell_type": "code",
   "execution_count": 37,
   "metadata": {
    "collapsed": false
   },
   "outputs": [],
   "source": [
    "# Making Nbody and Analytic times equal\n",
    "\n",
    "t1 = A1_host[:,0] + 1.2 \n",
    "t05 = A05_host[:,0] + 1.2\n",
    "\n",
    "# Defining galactocentric distances and velocities\n",
    "x1 = A1_host[:,1] - A1_sat[:,1]\n",
    "y1 = A1_host[:,2] - A1_sat[:,2]\n",
    "z1 = A1_host[:,3] - A1_sat[:,3]\n",
    "\n",
    "vx1 = A1_host[:,4] - A1_sat[:,4]\n",
    "vy1 = A1_host[:,5] - A1_sat[:,5]\n",
    "vz1 = A1_host[:,6] - A1_sat[:,6]\n",
    "\n",
    "x05 =  A05_host[:,1] - A05_sat[:,1]\n",
    "y05 =  A05_host[:,2] - A05_sat[:,2]\n",
    "z05 =  A05_host[:,3] - A05_sat[:,3]\n",
    "\n",
    "vx05 =  A05_host[:,4] - A05_sat[:,4]\n",
    "vy05 =  A05_host[:,5] - A05_sat[:,5]\n",
    "vz05 =  A05_host[:,6] - A05_sat[:,6]"
   ]
  },
  {
   "cell_type": "code",
   "execution_count": 4,
   "metadata": {
    "collapsed": true
   },
   "outputs": [],
   "source": [
    "Rgal1 = np.sqrt(x1**2 + y1**2 + z1**2)\n",
    "Rgal05 = np.sqrt(x05**2 + y05**2 + z05**2)\n",
    "Vgal1 = np.sqrt(vx1**2 + vy1**2 + vz1**2)\n",
    "Vgal05 = np.sqrt(vx05**2 + vy05**2 + vz05**2)"
   ]
  },
  {
   "cell_type": "code",
   "execution_count": 38,
   "metadata": {
    "collapsed": false
   },
   "outputs": [],
   "source": [
    "NB_t1 = Nbody1[:,0]\n",
    "NB_R1 = Nbody1[:,1]\n",
    "Xlmc1 = Nbody1[:,2]\n",
    "Ylmc1 = Nbody1[:,3]\n",
    "Zlmc1 = Nbody1[:,4]\n",
    "Xmw1 = Nbody1[:,5]\n",
    "Ymw1 = Nbody1[:,6]\n",
    "Zmw1 = Nbody1[:,7]\n",
    "NB_V1 = Nbody1[:,8]\n",
    "vXlmc1 = Nbody1[:,9]\n",
    "vYlmc1 = Nbody1[:,10]\n",
    "vZlmc1 = Nbody1[:,11]\n",
    "vXmw1 = Nbody1[:,12]\n",
    "vYmw1 = Nbody1[:,13]\n",
    "vZmw1 = Nbody1[:,14]\n",
    "\n",
    "\n",
    "NB_t05 = Nbody05[:,0]\n",
    "NB_R05 = Nbody05[:,1]\n",
    "Xlmc05 = Nbody05[:,2]\n",
    "Ylmc05 = Nbody05[:,3]\n",
    "Zlmc05 = Nbody05[:,4]\n",
    "Xmw05 = Nbody05[:,5]\n",
    "Ymw05 = Nbody05[:,6]\n",
    "Zmw05 = Nbody05[:,7]\n",
    "NB_V05 = Nbody05[:,8]\n",
    "vXlmc05 = Nbody05[:,9]\n",
    "vYlmc05 = Nbody05[:,10]\n",
    "vZlmc05 = Nbody05[:,11]\n",
    "vXmw05 = Nbody05[:,12]\n",
    "vYmw05 = Nbody05[:,13]\n",
    "vZmw05 = Nbody05[:,14]"
   ]
  },
  {
   "cell_type": "code",
   "execution_count": 39,
   "metadata": {
    "collapsed": false
   },
   "outputs": [
    {
     "data": {
      "text/plain": [
       "[<matplotlib.lines.Line2D at 0x7f62c16c2890>]"
      ]
     },
     "execution_count": 39,
     "metadata": {},
     "output_type": "execute_result"
    },
    {
     "data": {
      "image/png": "[encoded data removed]",
      "text/plain": [
       "<matplotlib.figure.Figure at 0x7f62c148cf10>"
      ]
     },
     "metadata": {},
     "output_type": "display_data"
    }
   ],
   "source": [
    "plot(t05, Rgal1, lw=2)\n",
    "plot(t05, Rgal05, lw=2)\n",
    "plot(NB_t1, NB_R1, lw=2, ls='--')\n",
    "plot(NB_t05, NB_R05, lw=2, ls='--')\n",
    "\n",
    "#xlim(0, 2)\n",
    "#ylim(0, 400)"
   ]
  },
  {
   "cell_type": "code",
   "execution_count": 40,
   "metadata": {
    "collapsed": false
   },
   "outputs": [
    {
     "name": "stdout",
     "output_type": "stream",
     "text": [
      "1283 1435\n"
     ]
    }
   ],
   "source": [
    "R2vir1 = where(Rgal1 >= 280)[0]\n",
    "R2vir05 = where(Rgal05 >= 280)[0]\n",
    "IC1 = R2vir1[0]\n",
    "IC05 = R2vir05[0]\n",
    "#print Nbody_t[index[0]]\n",
    "print IC1, IC05"
   ]
  },
  {
   "cell_type": "code",
   "execution_count": 42,
   "metadata": {
    "collapsed": false
   },
   "outputs": [
    {
     "name": "stdout",
     "output_type": "stream",
     "text": [
      "With full df:\n",
      "-43.490378 -261.472044 90.572333\n",
      "20.21568 177.004835 5.972404\n",
      "\n",
      "With soften df:\n",
      "-41.975472 -266.550019 75.05848\n",
      "14.204868 144.829729 21.979781\n"
     ]
    }
   ],
   "source": [
    "# Run with this ICs\n",
    "print 'With full df:'\n",
    "print x1[IC1], y1[IC1], z1[IC1]\n",
    "print vx1[IC1], vy1[IC1], vz1[IC1]\n",
    "print \n",
    "print 'With soften df:'\n",
    "print x05[IC05], y05[IC05], z05[IC05]\n",
    "print vx05[IC05], vy05[IC05], vz05[IC05]"
   ]
  },
  {
   "cell_type": "code",
   "execution_count": 9,
   "metadata": {
    "collapsed": false
   },
   "outputs": [
    {
     "data": {
      "text/plain": [
       "(0, 2)"
      ]
     },
     "execution_count": 9,
     "metadata": {},
     "output_type": "execute_result"
    },
    {
     "data": {
      "image/png": "[encoded data removed]",
      "text/plain": [
       "<matplotlib.figure.Figure at 0x7f62c1947650>"
      ]
     },
     "metadata": {},
     "output_type": "display_data"
    }
   ],
   "source": [
    "plot(t1, Vgal1)\n",
    "plot(t05, Vgal05)\n",
    "plot(NB_t, NB_V)\n",
    "xlim(0,2)\n"
   ]
  },
  {
   "cell_type": "code",
   "execution_count": 45,
   "metadata": {
    "collapsed": true
   },
   "outputs": [],
   "source": [
    "peri1 = where(NB_V1==max(NB_V1))\n",
    "peri05 = where(NB_V05==max(NB_V05))"
   ]
  },
  {
   "cell_type": "code",
   "execution_count": 44,
   "metadata": {
    "collapsed": false
   },
   "outputs": [
    {
     "name": "stdout",
     "output_type": "stream",
     "text": [
      "[-12.623502] [ 7.852999] [ 56.578214]\n",
      "[ 61.752459] [ 275.179073] [-141.089084]\n"
     ]
    }
   ],
   "source": [
    "print 'Galactocentric Distances of the Nbody Sim at Peri'\n",
    "print Xlmc1[peri1]-Xmw1[peri1], Ylmc1[peri1]-Ymw1[peri1], Zlmc1[peri1]-Zmw1[peri1]\n",
    "print 'Galactocentric Velocities of the Nbody Sim at Peri'\n",
    "print vXlmc1[peri1]-vXmw1[peri1], vYlmc1[peri1]-vYmw1[peri1], vZlmc1[peri1]-vZmw1[peri1]"
   ]
  },
  {
   "cell_type": "code",
   "execution_count": 46,
   "metadata": {
    "collapsed": false
   },
   "outputs": [
    {
     "name": "stdout",
     "output_type": "stream",
     "text": [
      "Galactocentric Distances of the Nbody Sim at Peri\n",
      "[-11.390059] [ 55.878871] [ 20.430381]\n",
      "Galactocentric Velocities of the Nbody Sim at Peri\n",
      "[ 62.619023] [ 193.722516] [-203.457072]\n"
     ]
    }
   ],
   "source": [
    "print 'Galactocentric Distances of the Nbody Sim at Peri'\n",
    "print Xlmc05[peri05]-Xmw1[peri05], Ylmc1[peri05]-Ymw1[peri05], Zlmc1[peri05]-Zmw1[peri05]\n",
    "print 'Galactocentric Velocities of the Nbody Sim at Peri'\n",
    "print vXlmc05[peri05]-vXmw1[peri05], vYlmc1[peri05]-vYmw1[peri05], vZlmc1[peri05]-vZmw1[peri05]"
   ]
  },
  {
   "cell_type": "code",
   "execution_count": 49,
   "metadata": {
    "collapsed": false
   },
   "outputs": [
    {
     "name": "stdout",
     "output_type": "stream",
     "text": [
      "Galactocentric Distances of the LMC at Peri\n",
      "1.0 41.0 28.0\n",
      "57.0 226.0 -221.0\n"
     ]
    }
   ],
   "source": [
    "print 'Galactocentric Distances of the LMC at Peri'\n",
    "print x1[0], y1[0], z1[0]\n",
    "print vx1[0], vy1[0], vz1[0]"
   ]
  }
 ],
 "metadata": {
  "kernelspec": {
   "display_name": "Python 2",
   "language": "python",
   "name": "python2"
  },
  "language_info": {
   "codemirror_mode": {
    "name": "ipython",
    "version": 2
   },
   "file_extension": ".py",
   "mimetype": "text/x-python",
   "name": "python",
   "nbconvert_exporter": "python",
   "pygments_lexer": "ipython2",
   "version": "2.7.6"
  }
 },
 "nbformat": 4,
 "nbformat_minor": 0
}
