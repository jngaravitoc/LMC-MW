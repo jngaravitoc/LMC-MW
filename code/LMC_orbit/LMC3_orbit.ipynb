{
 "cells": [
  {
   "cell_type": "code",
   "execution_count": 1,
   "metadata": {},
   "outputs": [
    {
     "name": "stdout",
     "output_type": "stream",
     "text": [
      "Populating the interactive namespace from numpy and matplotlib\n"
     ]
    }
   ],
   "source": [
    "%pylab inline\n",
    "import matplotlib as mpl\n",
    "from pygadgetreader import *\n",
    "from mpl_toolkits.mplot3d import Axes3D\n",
    "\n",
    "font = {'size':16, 'family':'serif'}\n",
    "matplotlib.rc('font', **font)"
   ]
  },
  {
   "cell_type": "code",
   "execution_count": 2,
   "metadata": {
    "collapsed": true
   },
   "outputs": [],
   "source": [
    "# Function that reads the data from the Analytic integration\n",
    "#Galactocentic distances and velocities\n",
    "def reading_data(snap_name):\n",
    "    host = loadtxt('../../../orbits/data/lmc/'+ snap_name +'_host.txt')\n",
    "    sat = loadtxt('../../../orbits/data/lmc/'+ snap_name +'_sat.txt')\n",
    "    t = host[:,0] \n",
    "    # Defining galactocentric distances and velocities\n",
    "    x = sat[:,1] - host[:,1] \n",
    "    y = sat[:,2] - host[:,2] \n",
    "    z = sat[:,3] - host[:,3] \n",
    "\n",
    "    vx = sat[:,4] - host[:,4] \n",
    "    vy = sat[:,5] - host[:,5] \n",
    "    vz = sat[:,6] - host[:,6]        \n",
    "\n",
    "    Rgal = np.sqrt(x**2.0 + y**2.0 + z**2.0)\n",
    "    Vgal = np.sqrt(vx**2.0 + vy**2.0 + vz**2.0)\n",
    "    \n",
    "    return t, x, y, z, vx, vy, vz, Rgal, Vgal\n",
    "\n",
    "# Host coordinates and velocities\n",
    "def data_host(snap_name):\n",
    "    host = loadtxt('../../../orbits/data/lmc/'+ snap_name +'_host.txt')\n",
    "    return host[:,1], host[:,2], host[:,3], host[:,4], host[:,5], host[:,6]\n",
    "\n",
    "# Satellite coordinates and velocities\n",
    "def data_sat(snap_name):\n",
    "    sat = loadtxt('../../../orbits/data/lmc/'+ snap_name +'_sat.txt')\n",
    "    return sat[:,1], sat[:,2], sat[:,3], sat[:,4], sat[:,5], sat[:,6]\n",
    "\n",
    "#ICs\n",
    "def ICs(Rgal, cut, x, y, z, vx, vy, vz, t):\n",
    "    Rcut = np.where(Rgal>=cut)[0]\n",
    "    return Rgal[Rcut[0]], x[Rcut[0]], y[Rcut[0]], z[Rcut[0]], vx[Rcut[0]], vy[Rcut[0]], vz[Rcut[0]], t[Rcut[0]]\n",
    "\n",
    "#Function that reads the N-body sumulation orbit\n",
    "def reading_Nbody(snap_name):\n",
    "    data = np.loadtxt('orbits/' + snap_name)\n",
    "    #time = data[:,0]\n",
    "    #Rgal = data[:,1]\n",
    "    x_sat= data[:,6]\n",
    "    y_sat = data[:,7]\n",
    "    z_sat = data[:,8]\n",
    "    x_gal = data[:,0]\n",
    "    y_gal = data[:,1]\n",
    "    z_gal = data[:,2]\n",
    "    #Vgal = data[:,8]\n",
    "    vx_sat = data[:,9]\n",
    "    vy_sat = data[:,10]\n",
    "    vz_sat = data[:,11]\n",
    "    vx_gal = data[:,3]\n",
    "    vy_gal = data[:,4]\n",
    "    vz_gal = data[:,5]\n",
    "    Rgal= np.sqrt((x_sat-x_gal)**2 + (y_sat-y_gal)**2 + (z_sat-z_gal)**2)\n",
    "    Vgal= np.sqrt((vx_sat-vx_gal)**2 + (vy_sat-vy_gal)**2 + (vz_sat-vz_gal)**2)\n",
    "\n",
    "    return Rgal, x_sat, y_sat, z_sat, x_gal, y_gal, z_gal, Vgal, vx_sat, vy_sat, vz_sat, vx_gal, vy_gal, vz_gal\n",
    "\n",
    "    \n",
    "def best_values(x, y, z, vx, vy, vz):\n",
    "    \"\"\"\n",
    "    Computes the closes value of the N-body orbit to the observed present day LMC positions\n",
    "    and velocities.\n",
    "    \n",
    "    \"\"\"\n",
    "    x_obs = -1\n",
    "    y_obs = -41\n",
    "    z_obs = -28\n",
    "    vx_obs = -57\n",
    "    vy_obs = -226\n",
    "    vz_obs = 221\n",
    "    Robs = np.sqrt((x_obs-x)**2.0 + (y_obs-y)**2.0 + (z_obs-z)**2.0)\n",
    "    index = np.where(Robs == min(Robs))[0]\n",
    "    \n",
    "    sigma_vx = 13\n",
    "    sigma_vy = 15\n",
    "    sigma_vz = 19\n",
    "    \n",
    "    dx = x_obs - x[index]\n",
    "    dy = y_obs - y[index]\n",
    "    dz = z_obs - z[index]\n",
    "    \n",
    "    dvx = vx_obs - vx[index]\n",
    "    dvy = vy_obs - vy[index]\n",
    "    dvz = vz_obs - vz[index]\n",
    "    t = np.linspace(0, 3, 151)\n",
    "\n",
    "    print('Dr = ', dx, dy, dz, (dx**2 + dy**2 + dz**2)**0.5)\n",
    "    print('Dv = ', dvx, dvy, dvz, (dvx**2 + dvy**2 + dvz**2)**0.5)\n",
    "    return t[index], x[index], y[index], z[index], vx[index], vy[index], vz[index]"
   ]
  },
  {
   "cell_type": "markdown",
   "metadata": {},
   "source": [
    "\n",
    "## Beta=0\n",
    "\n",
    "|$ Model$ | $change1$ | $change 2$ | $new\\ x(kpc)$ | $new\\ y (kpc)$| $new\\ z (kpc)$ | $new v_x (km/s)$| $new v_y (km/s)$| $new v_z (km/s)$|\n",
    "|--------|---------|---------|--------|-------|-----|-------|---------|-------|\n",
    "|Obs | - | - | -1 | -41 | -28 | $-57 \\pm 13$| $-226 \\pm 15 $ | $221 \\pm 19$|\n",
    "|Analytic | - | - | -2.79 | -54.06 | -22.95 | -62.76 | -233.00 | 255.62 |\n",
    "|H1 | y+5.0 | - | 0.26 | -43.54 | -34.21 | -62.32 | -265.05 | 205.12 |\n",
    "|H2 | y+10 | - | -0.44 | -48.01 | -32.47 | -61.11 | -252.61 | 211.5 |\n",
    "|H3 | y+5.0 | z-5.0 | -0.28 | -47.06 | -32.79 | -60.76 | -252.74 | 212.5 |\n",
    "|H4 | y+10 | z-5.0 | -0.301 | -46.25 | -35.55 | -59.88 | -254.99 | 208.24 |\n",
    "|H5 | y+2 | - | -0.289 | -45.0 | -31.89 | -63.47 | -260.92 | 210.29 |\n",
    "|H6 | y+2 | z-3.0 | -0.09 | -44.054 | -33.56 | -62.33 | -262.14 | 207.65 |\n",
    "|H7 | y-3 | - | -0.8 | -45.5 | -29.47 | -64.82 | -259.04 | 212.76 |\n",
    "|H8 | x-4 | z-3.0 | 0.072 | -44.39 | -32.15 | -55.17 | -262.317 | 210.23 |\n",
    "|H9 | y+5 | vy+5 | 0.77 | -41.225 | -37.324  | -59.824 | -267.406 | 201.0724 |\n",
    "|H10 | y+5 | vz+5 |  -0.21| -41.55 | -28.02  | -68.43  |-269.38  | 217.868 |\n",
    "|H11 | vy+5 |  |-1.02  | -47.37 | -30.33 | -61.14 | -250.55 |215.89  |\n",
    "|H12 | y-3 | z+4 |0.03  | -41.34 | -31.75 | -66.55 |-273.87  | 204.58 |\n",
    "|H13 | y-3 | z-3 | -0.4 | -44.65 | -31.07 | -63.8 | -260 | 211.56 |\n",
    "|H14| z-5 | |0.415 |-42.58 | -34.57| -62.07| -264.92| 205.69|\n",
    "|H15| vz+10 | | -0.99 | -39.63 | -20.99| -76.30| -273.72| 228.9 |\n",
    "|H16| y-3 | vy+8 / vz+10 | -0.57 | -37.49 |-23.53 | -72.73| -276.20| 228.189|\n",
    "|H17| y-3 | vy+8 |-1.05  | -46.6 | -30.52| -60.55| -250.48|216.39|\n",
    "|H18| vz-5 |  |-0.71  | -50.43 | -36.7| -59.35| -248.96| 200|\n",
    "|H19| y-5 | | -0.72 | -44.73 |-29.43 |-65.93 |-258.512 |214.05 |\n",
    "|H20| y-5 |vy+8 | | | | | | |\n",
    "|H21| y-10 |vy+8 | | | | | | |\n",
    "|H22| y-8 | vy+5| | || || |"
   ]
  },
  {
   "cell_type": "markdown",
   "metadata": {
    "collapsed": true
   },
   "source": [
    "## Beta=-0.5-0.2 a\n",
    "\n",
    "\n",
    "|$ Model$ | $change1$ | $change 2$ | $new\\ x(kpc)$ | $new\\ y (kpc)$| $new\\ z (kpc)$ | $new v_x (km/s)$| $new v_y (km/s)$| $new v_z (km/s)$| $\\Delta_r$ | $\\Delta_v$ |\n",
    "|--------|---------|---------|--------|-------|-----|-------|---------|-------|\n",
    "|Obs | - | - | -1 | -41 | -28 | $-57 \\pm 13$| $-226 \\pm 15 $ | $221 \\pm 19$| | | \n",
    "|Initial | - | - | 24.3 | 277 | 58 | 4.3 | -58 | -77 | | | \n",
    "|lmc5/ic2 | y+2 | - | -0.77 | 2.14 | 1.07 | 27.11 | 40.178 | -16.11 |2.51 |51 | \n",
    "|lmc5/ic3 | y-1 | - | -0.06 | 3.38 | -1.3 | 31.94 | 34.12 | -17.47 | 3.62| 49.9|\n",
    "|IC2 | y-2 | - | -0.9 | 0.27| 1.03 | 32.9 | 43.22 | -10.85 |1.44 | 55 |\n",
    "|IC3 | y-3 | - | -0.14 | 2.36 | -1.32 | 33.46 | 37.62 | -18.22 | 2.71| 53.54 |\n",
    "|ic4 | ic3 vy+1 | - | - | - | - | - | - | - | | |\n",
    "|ic5 | ic3 vy-1 | - | - | - | - | - | - | - | | | \n",
    "\n"
   ]
  },
  {
   "cell_type": "code",
   "execution_count": 11,
   "metadata": {},
   "outputs": [
    {
     "name": "stdout",
     "output_type": "stream",
     "text": [
      "Dr =  [-0.918272] [ 1.183414] [ 1.062192] [ 1.83628538]\n",
      "Dv =  [ 31.677488] [ 40.891472] [-13.230846] [ 53.39130092]\n"
     ]
    },
    {
     "data": {
      "text/plain": [
       "(array([ 1.82]),\n",
       " array([-0.081728]),\n",
       " array([-42.183414]),\n",
       " array([-29.062192]),\n",
       " array([-88.677488]),\n",
       " array([-266.891472]),\n",
       " array([ 234.230846]))"
      ]
     },
     "execution_count": 11,
     "metadata": {},
     "output_type": "execute_result"
    }
   ],
   "source": [
    "R_gal5_ics34, x_sat_ics34, y_sat_ics34, z_sat_ics34, x_gal_ics34, y_gal_ics34, z_gal_ics34, Vgal_ics34, vx_sat_ics34, vy_sat_ics34, vz_sat_ics34, vx_gal_ics34, vy_gal_ics34, vz_gal_ics34 = reading_Nbody('LMC5/LMC3_40Mb1_ic20_new_orbit.txt')\n",
    "best_values(x_sat_ics34-x_gal_ics34, y_sat_ics34-y_gal_ics34, z_sat_ics34-z_gal_ics34, vx_sat_ics34-vx_gal_ics34, vy_sat_ics34-vy_gal_ics34, vz_sat_ics34-vz_gal_ics34)"
   ]
  },
  {
   "cell_type": "code",
   "execution_count": 12,
   "metadata": {},
   "outputs": [
    {
     "name": "stdout",
     "output_type": "stream",
     "text": [
      "Dr =  [-0.775265] [ 2.1432] [ 1.071362] [ 2.51836427]\n",
      "Dv =  [ 27.114286] [ 40.178706] [-16.112099] [ 51.07947391]\n"
     ]
    },
    {
     "data": {
      "text/plain": [
       "(array([ 1.84]),\n",
       " array([-0.224735]),\n",
       " array([-43.1432]),\n",
       " array([-29.071362]),\n",
       " array([-84.114286]),\n",
       " array([-266.178706]),\n",
       " array([ 237.112099]))"
      ]
     },
     "execution_count": 12,
     "metadata": {},
     "output_type": "execute_result"
    }
   ],
   "source": [
    "R_gal5_ics34, x_sat_ics34, y_sat_ics34, z_sat_ics34, x_gal_ics34, y_gal_ics34, z_gal_ics34, Vgal_ics34, vx_sat_ics34, vy_sat_ics34, vz_sat_ics34, vx_gal_ics34, vy_gal_ics34, vz_gal_ics34 = reading_Nbody('LMC5/LMC3_40Mb1_ic20_new_orbit2.txt')\n",
    "best_values(x_sat_ics34-x_gal_ics34, y_sat_ics34-y_gal_ics34, z_sat_ics34-z_gal_ics34, vx_sat_ics34-vx_gal_ics34, vy_sat_ics34-vy_gal_ics34, vz_sat_ics34-vz_gal_ics34)"
   ]
  },
  {
   "cell_type": "code",
   "execution_count": 13,
   "metadata": {},
   "outputs": [
    {
     "name": "stdout",
     "output_type": "stream",
     "text": [
      "Dr =  [-0.066799] [ 3.38029] [-1.304294] [ 3.6238109]\n",
      "Dv =  [ 31.944165] [ 34.123634] [-17.477698] [ 49.90312618]\n"
     ]
    },
    {
     "data": {
      "text/plain": [
       "(array([ 1.82]),\n",
       " array([-0.933201]),\n",
       " array([-44.38029]),\n",
       " array([-26.695706]),\n",
       " array([-88.944165]),\n",
       " array([-260.123634]),\n",
       " array([ 238.477698]))"
      ]
     },
     "execution_count": 13,
     "metadata": {},
     "output_type": "execute_result"
    }
   ],
   "source": [
    "R_gal5_ics35, x_sat_ics34, y_sat_ics34, z_sat_ics34, x_gal_ics34, y_gal_ics34, z_gal_ics34, Vgal_ics34, vx_sat_ics34, vy_sat_ics34, vz_sat_ics34, vx_gal_ics34, vy_gal_ics34, vz_gal_ics34 = reading_Nbody('LMC5/LMC3_40Mb1_ic20_new_orbit3.txt')\n",
    "best_values(x_sat_ics34-x_gal_ics34, y_sat_ics34-y_gal_ics34, z_sat_ics34-z_gal_ics34, vx_sat_ics34-vx_gal_ics34, vy_sat_ics34-vy_gal_ics34, vz_sat_ics34-vz_gal_ics34)"
   ]
  },
  {
   "cell_type": "code",
   "execution_count": 14,
   "metadata": {},
   "outputs": [
    {
     "name": "stdout",
     "output_type": "stream",
     "text": [
      "Dr =  [-0.972915] [ 0.275122] [ 1.030586] [ 1.44373239]\n",
      "Dv =  [ 32.986974] [ 43.222757] [-10.855719] [ 55.4454129]\n"
     ]
    },
    {
     "data": {
      "text/plain": [
       "(array([ 1.8]),\n",
       " array([-0.027085]),\n",
       " array([-41.275122]),\n",
       " array([-29.030586]),\n",
       " array([-89.986974]),\n",
       " array([-269.222757]),\n",
       " array([ 231.855719]))"
      ]
     },
     "execution_count": 14,
     "metadata": {},
     "output_type": "execute_result"
    }
   ],
   "source": [
    "R_gal5_ics35, x_sat_ics34, y_sat_ics34, z_sat_ics34, x_gal_ics34, y_gal_ics34, z_gal_ics34, Vgal_ics34, vx_sat_ics34, vy_sat_ics34, vz_sat_ics34, vx_gal_ics34, vy_gal_ics34, vz_gal_ics34 = reading_Nbody('LMC3/LMC3_40Mb1_ic20_new_orbit2.txt')\n",
    "best_values(x_sat_ics34-x_gal_ics34, y_sat_ics34-y_gal_ics34, z_sat_ics34-z_gal_ics34, vx_sat_ics34-vx_gal_ics34, vy_sat_ics34-vy_gal_ics34, vz_sat_ics34-vz_gal_ics34)"
   ]
  },
  {
   "cell_type": "code",
   "execution_count": 15,
   "metadata": {},
   "outputs": [
    {
     "name": "stdout",
     "output_type": "stream",
     "text": [
      "Dr =  [-0.147326] [ 2.36794] [-1.321001] [ 2.71549046]\n",
      "Dv =  [ 33.460045] [ 37.62947] [-18.220866] [ 53.54952457]\n"
     ]
    },
    {
     "data": {
      "text/plain": [
       "(array([ 1.8]),\n",
       " array([-0.852674]),\n",
       " array([-43.36794]),\n",
       " array([-26.678999]),\n",
       " array([-90.460045]),\n",
       " array([-263.62947]),\n",
       " array([ 239.220866]))"
      ]
     },
     "execution_count": 15,
     "metadata": {},
     "output_type": "execute_result"
    }
   ],
   "source": [
    "R_gal5_ics35, x_sat_ics34, y_sat_ics34, z_sat_ics34, x_gal_ics34, y_gal_ics34, z_gal_ics34, Vgal_ics34, vx_sat_ics34, vy_sat_ics34, vz_sat_ics34, vx_gal_ics34, vy_gal_ics34, vz_gal_ics34 = reading_Nbody('LMC3/LMC3_40Mb1_ic20_new_orbit3.txt')\n",
    "best_values(x_sat_ics34-x_gal_ics34, y_sat_ics34-y_gal_ics34, z_sat_ics34-z_gal_ics34, vx_sat_ics34-vx_gal_ics34, vy_sat_ics34-vy_gal_ics34, vz_sat_ics34-vz_gal_ics34)"
   ]
  },
  {
   "cell_type": "code",
   "execution_count": 6,
   "metadata": {},
   "outputs": [
    {
     "name": "stdout",
     "output_type": "stream",
     "text": [
      "Dr =  [-0.882607] [ 1.036669] [ 0.993304] [ 1.68532803]\n",
      "Dv =  [ 34.209144] [ 40.662927] [-15.819917] [ 55.44374572]\n"
     ]
    },
    {
     "data": {
      "text/plain": [
       "(array([ 1.82]),\n",
       " array([-0.117393]),\n",
       " array([-42.036669]),\n",
       " array([-28.993304]),\n",
       " array([-91.209144]),\n",
       " array([-266.662927]),\n",
       " array([ 236.819917]))"
      ]
     },
     "execution_count": 6,
     "metadata": {},
     "output_type": "execute_result"
    }
   ],
   "source": [
    "R_gal5_ics35, x_sat_ics34, y_sat_ics34, z_sat_ics34, x_gal_ics34, y_gal_ics34, z_gal_ics34, Vgal_ics34, vx_sat_ics34, vy_sat_ics34, vz_sat_ics34, vx_gal_ics34, vy_gal_ics34, vz_gal_ics34 = reading_Nbody('LMC3/LMC3_40Mb1_ic20_new_orbit4.txt')\n",
    "best_values(x_sat_ics34-x_gal_ics34, y_sat_ics34-y_gal_ics34, z_sat_ics34-z_gal_ics34, vx_sat_ics34-vx_gal_ics34, vy_sat_ics34-vy_gal_ics34, vz_sat_ics34-vz_gal_ics34)"
   ]
  },
  {
   "cell_type": "code",
   "execution_count": 7,
   "metadata": {},
   "outputs": [
    {
     "name": "stdout",
     "output_type": "stream",
     "text": [
      "Dr =  [-1.055707] [ 0.381241] [ 1.10928] [ 1.57808875]\n",
      "Dv =  [ 35.360393] [ 46.883698] [-12.75703] [ 60.09309732]\n"
     ]
    },
    {
     "data": {
      "text/plain": [
       "(array([ 1.8]),\n",
       " array([ 0.055707]),\n",
       " array([-41.381241]),\n",
       " array([-29.10928]),\n",
       " array([-92.360393]),\n",
       " array([-272.883698]),\n",
       " array([ 233.75703]))"
      ]
     },
     "execution_count": 7,
     "metadata": {},
     "output_type": "execute_result"
    }
   ],
   "source": [
    "R_gal5_ics35, x_sat_ics34, y_sat_ics34, z_sat_ics34, x_gal_ics34, y_gal_ics34, z_gal_ics34, Vgal_ics34, vx_sat_ics34, vy_sat_ics34, vz_sat_ics34, vx_gal_ics34, vy_gal_ics34, vz_gal_ics34 = reading_Nbody('LMC3/LMC3_40Mb1_ic20_new_orbit5.txt')\n",
    "best_values(x_sat_ics34-x_gal_ics34, y_sat_ics34-y_gal_ics34, z_sat_ics34-z_gal_ics34, vx_sat_ics34-vx_gal_ics34, vy_sat_ics34-vy_gal_ics34, vz_sat_ics34-vz_gal_ics34)"
   ]
  },
  {
   "cell_type": "code",
   "execution_count": 9,
   "metadata": {},
   "outputs": [
    {
     "data": {
      "text/plain": [
       "[<matplotlib.lines.Line2D at 0x7fa590f84780>]"
      ]
     },
     "execution_count": 9,
     "metadata": {},
     "output_type": "execute_result"
    },
    {
     "data": {
      "image/png": "[encoded data removed]",
      "text/plain": [
       "<matplotlib.figure.Figure at 0x7fa590f84048>"
      ]
     },
     "metadata": {},
     "output_type": "display_data"
    }
   ],
   "source": [
    "plot(R_gal5_ics34)\n",
    "plot(R_gal5_ics35)"
   ]
  },
  {
   "cell_type": "code",
   "execution_count": null,
   "metadata": {
    "collapsed": true
   },
   "outputs": [],
   "source": []
  }
 ],
 "metadata": {
  "kernelspec": {
   "display_name": "Python 3",
   "language": "python",
   "name": "python3"
  },
  "language_info": {
   "codemirror_mode": {
    "name": "ipython",
    "version": 3
   },
   "file_extension": ".py",
   "mimetype": "text/x-python",
   "name": "python",
   "nbconvert_exporter": "python",
   "pygments_lexer": "ipython3",
   "version": "3.5.2"
  }
 },
 "nbformat": 4,
 "nbformat_minor": 1
}
