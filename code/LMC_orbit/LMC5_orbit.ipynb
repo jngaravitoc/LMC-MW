{
 "cells": [
  {
   "cell_type": "code",
   "execution_count": 1,
   "metadata": {
    "collapsed": false
   },
   "outputs": [
    {
     "name": "stderr",
     "output_type": "stream",
     "text": [
      "/usr/local/lib/python3.4/dist-packages/matplotlib/__init__.py:841: UserWarning: Found matplotlib configuration in ~/.matplotlib/. To conform with the XDG base directory standard, this configuration location has been deprecated on Linux, and the new location is now /home/ngaravito/.config/matplotlib/. Please move your configuration there to ensure that matplotlib will continue to find it in the future.\n",
      "  _get_xdg_config_dir())\n"
     ]
    },
    {
     "name": "stdout",
     "output_type": "stream",
     "text": [
      "Populating the interactive namespace from numpy and matplotlib\n"
     ]
    }
   ],
   "source": [
    "%pylab inline\n",
    "import matplotlib as mpl\n",
    "from pygadgetreader import *\n",
    "from mpl_toolkits.mplot3d import Axes3D\n",
    "import soda\n"
   ]
  },
  {
   "cell_type": "code",
   "execution_count": 2,
   "metadata": {
    "collapsed": true
   },
   "outputs": [],
   "source": [
    "font = {'size':18, 'family':'serif'}\n",
    "matplotlib.rc('font', **font)"
   ]
  },
  {
   "cell_type": "code",
   "execution_count": 3,
   "metadata": {
    "collapsed": true
   },
   "outputs": [],
   "source": [
    "# Function that reads the data from the Analytic integration\n",
    "#Galactocentic distances and velocities\n",
    "def reading_data(snap_name):\n",
    "    host = loadtxt('../../../orbits/data/lmc/'+ snap_name +'_host.txt')\n",
    "    sat = loadtxt('../../../orbits/data/lmc/'+ snap_name +'_sat.txt')\n",
    "    t = host[:,0] \n",
    "    # Defining galactocentric distances and velocities\n",
    "    x = sat[:,1] - host[:,1] \n",
    "    y = sat[:,2] - host[:,2] \n",
    "    z = sat[:,3] - host[:,3] \n",
    "\n",
    "    vx = sat[:,4] - host[:,4] \n",
    "    vy = sat[:,5] - host[:,5] \n",
    "    vz = sat[:,6] - host[:,6]        \n",
    "\n",
    "    Rgal = np.sqrt(x**2.0 + y**2.0 + z**2.0)\n",
    "    Vgal = np.sqrt(vx**2.0 + vy**2.0 + vz**2.0)\n",
    "    \n",
    "    return t, x, y, z, vx, vy, vz, Rgal, Vgal\n",
    "\n",
    "# Host coordinates and velocities\n",
    "def data_host(snap_name):\n",
    "    host = loadtxt('../../../orbits/data/lmc/'+ snap_name +'_host.txt')\n",
    "    return host[:,1], host[:,2], host[:,3], host[:,4], host[:,5], host[:,6]\n",
    "\n",
    "# Satellite coordinates and velocities\n",
    "def data_sat(snap_name):\n",
    "    sat = loadtxt('../../../orbits/data/lmc/'+ snap_name +'_sat.txt')\n",
    "    return sat[:,1], sat[:,2], sat[:,3], sat[:,4], sat[:,5], sat[:,6]\n",
    "\n",
    "#ICs\n",
    "def ICs(Rgal, cut, x, y, z, vx, vy, vz, t):\n",
    "    Rcut = np.where(Rgal>=cut)[0]\n",
    "    return Rgal[Rcut[0]], x[Rcut[0]], y[Rcut[0]], z[Rcut[0]], vx[Rcut[0]], vy[Rcut[0]], vz[Rcut[0]], t[Rcut[0]]\n",
    "\n",
    "#Function that reads the N-body sumulation orbit\n",
    "def reading_Nbody(snap_name):\n",
    "    data = np.loadtxt('orbits/' + snap_name)\n",
    "    #time = data[:,0]\n",
    "    #Rgal = data[:,1]\n",
    "    x_sat= data[:,6]\n",
    "    y_sat = data[:,7]\n",
    "    z_sat = data[:,8]\n",
    "    x_gal = data[:,0]\n",
    "    y_gal = data[:,1]\n",
    "    z_gal = data[:,2]\n",
    "    #Vgal = data[:,8]\n",
    "    vx_sat = data[:,9]\n",
    "    vy_sat = data[:,10]\n",
    "    vz_sat = data[:,11]\n",
    "    vx_gal = data[:,3]\n",
    "    vy_gal = data[:,4]\n",
    "    vz_gal = data[:,5]\n",
    "    Rgal= np.sqrt((x_sat-x_gal)**2 + (y_sat-y_gal)**2 + (z_sat-z_gal)**2)\n",
    "    Vgal= np.sqrt((vx_sat-vx_gal)**2 + (vy_sat-vy_gal)**2 + (vz_sat-vz_gal)**2)\n",
    "\n",
    "    return Rgal, x_sat, y_sat, z_sat, x_gal, y_gal, z_gal, Vgal, vx_sat, vy_sat, vz_sat, vx_gal, vy_gal, vz_gal\n",
    "\n",
    "    \n",
    "def best_values(x, y, z, vx, vy, vz):\n",
    "    \"\"\"\n",
    "    Computes the closes value of the N-body orbit to the observed present day LMC positions\n",
    "    and velocities.\n",
    "    \n",
    "    \"\"\"\n",
    "    x_obs = -1\n",
    "    y_obs = -41\n",
    "    z_obs = -28\n",
    "    vx_obs = -57\n",
    "    vy_obs = -226\n",
    "    vz_obs = 221\n",
    "    Robs = np.sqrt((x_obs-x)**2.0 + (y_obs-y)**2.0 + (z_obs-z)**2.0)\n",
    "    index = np.where(Robs == min(Robs))[0]\n",
    "    \n",
    "    sigma_vx = 13\n",
    "    sigma_vy = 15\n",
    "    sigma_vz = 19\n",
    "    \n",
    "    dx = x_obs - x[index]\n",
    "    dy = y_obs - y[index]\n",
    "    dz = z_obs - z[index]\n",
    "    \n",
    "    dvx = vx_obs - vx[index]\n",
    "    dvy = vy_obs - vy[index]\n",
    "    dvz = vz_obs - vz[index]\n",
    "    t = np.linspace(0, 3, 151)\n",
    "\n",
    "    print('Dr = ', dx, dy, dz, (dx**2 + dy**2 + dz**2)**0.5)\n",
    "    print('Dv = ', dvx, dvy, dvz, (dvx**2 + dvy**2 + dvz**2)**0.5)\n",
    "    return t[index], x[index], y[index], z[index], vx[index], vy[index], vz[index]"
   ]
  },
  {
   "cell_type": "code",
   "execution_count": 4,
   "metadata": {
    "collapsed": true
   },
   "outputs": [],
   "source": [
    "#"
   ]
  },
  {
   "cell_type": "code",
   "execution_count": 5,
   "metadata": {
    "collapsed": false
   },
   "outputs": [
    {
     "ename": "FileNotFoundError",
     "evalue": "[Errno 2] No such file or directory: '../../../orbits/data/lmc/lmc5_MWHern1_host.txt'",
     "output_type": "error",
     "traceback": [
      "\u001b[0;31m---------------------------------------------------------------------------\u001b[0m",
      "\u001b[0;31mFileNotFoundError\u001b[0m                         Traceback (most recent call last)",
      "\u001b[0;32m<ipython-input-5-524b31b887e9>\u001b[0m in \u001b[0;36m<module>\u001b[0;34m()\u001b[0m\n\u001b[0;32m----> 1\u001b[0;31m \u001b[0mtgal1\u001b[0m\u001b[0;34m,\u001b[0m \u001b[0mxgal1\u001b[0m\u001b[0;34m,\u001b[0m \u001b[0mygal1\u001b[0m\u001b[0;34m,\u001b[0m \u001b[0mzgal1\u001b[0m\u001b[0;34m,\u001b[0m \u001b[0mvxgal1\u001b[0m\u001b[0;34m,\u001b[0m \u001b[0mvygal1\u001b[0m\u001b[0;34m,\u001b[0m \u001b[0mvzgal1\u001b[0m\u001b[0;34m,\u001b[0m \u001b[0mRgal1\u001b[0m\u001b[0;34m,\u001b[0m \u001b[0mVgal1\u001b[0m \u001b[0;34m=\u001b[0m \u001b[0mreading_data\u001b[0m\u001b[0;34m(\u001b[0m\u001b[0;34m'lmc5_MWHern1'\u001b[0m\u001b[0;34m)\u001b[0m\u001b[0;34m\u001b[0m\u001b[0m\n\u001b[0m\u001b[1;32m      2\u001b[0m \u001b[0mtNB\u001b[0m\u001b[0;34m,\u001b[0m \u001b[0mRgalNB\u001b[0m\u001b[0;34m,\u001b[0m \u001b[0mxsatNB\u001b[0m\u001b[0;34m,\u001b[0m \u001b[0mysatNB\u001b[0m\u001b[0;34m,\u001b[0m \u001b[0mzsatNB\u001b[0m\u001b[0;34m,\u001b[0m \u001b[0mxgalNB\u001b[0m\u001b[0;34m,\u001b[0m \u001b[0mygalNB\u001b[0m\u001b[0;34m,\u001b[0m \u001b[0mzgalNB\u001b[0m\u001b[0;34m,\u001b[0m \u001b[0mvgalNB\u001b[0m\u001b[0;34m,\u001b[0m \u001b[0mvxsatNB\u001b[0m\u001b[0;34m,\u001b[0m\u001b[0mvysatNB\u001b[0m\u001b[0;34m,\u001b[0m \u001b[0mvzsatNB\u001b[0m\u001b[0;34m,\u001b[0m \u001b[0mvxgalNB\u001b[0m\u001b[0;34m,\u001b[0m \u001b[0mvygalNB\u001b[0m\u001b[0;34m,\u001b[0m \u001b[0mvzgalNB\u001b[0m \u001b[0;34m=\u001b[0m \u001b[0mreading_Nbody\u001b[0m\u001b[0;34m(\u001b[0m\u001b[0;34m'LMC5_H0.txt'\u001b[0m\u001b[0;34m)\u001b[0m\u001b[0;34m\u001b[0m\u001b[0m\n",
      "\u001b[0;32m<ipython-input-3-9fbac065c4f2>\u001b[0m in \u001b[0;36mreading_data\u001b[0;34m(snap_name)\u001b[0m\n\u001b[1;32m      2\u001b[0m \u001b[0;31m#Galactocentic distances and velocities\u001b[0m\u001b[0;34m\u001b[0m\u001b[0;34m\u001b[0m\u001b[0m\n\u001b[1;32m      3\u001b[0m \u001b[0;32mdef\u001b[0m \u001b[0mreading_data\u001b[0m\u001b[0;34m(\u001b[0m\u001b[0msnap_name\u001b[0m\u001b[0;34m)\u001b[0m\u001b[0;34m:\u001b[0m\u001b[0;34m\u001b[0m\u001b[0m\n\u001b[0;32m----> 4\u001b[0;31m     \u001b[0mhost\u001b[0m \u001b[0;34m=\u001b[0m \u001b[0mloadtxt\u001b[0m\u001b[0;34m(\u001b[0m\u001b[0;34m'../../../orbits/data/lmc/'\u001b[0m\u001b[0;34m+\u001b[0m \u001b[0msnap_name\u001b[0m \u001b[0;34m+\u001b[0m\u001b[0;34m'_host.txt'\u001b[0m\u001b[0;34m)\u001b[0m\u001b[0;34m\u001b[0m\u001b[0m\n\u001b[0m\u001b[1;32m      5\u001b[0m     \u001b[0msat\u001b[0m \u001b[0;34m=\u001b[0m \u001b[0mloadtxt\u001b[0m\u001b[0;34m(\u001b[0m\u001b[0;34m'../../../orbits/data/lmc/'\u001b[0m\u001b[0;34m+\u001b[0m \u001b[0msnap_name\u001b[0m \u001b[0;34m+\u001b[0m\u001b[0;34m'_sat.txt'\u001b[0m\u001b[0;34m)\u001b[0m\u001b[0;34m\u001b[0m\u001b[0m\n\u001b[1;32m      6\u001b[0m     \u001b[0mt\u001b[0m \u001b[0;34m=\u001b[0m \u001b[0mhost\u001b[0m\u001b[0;34m[\u001b[0m\u001b[0;34m:\u001b[0m\u001b[0;34m,\u001b[0m\u001b[0;36m0\u001b[0m\u001b[0;34m]\u001b[0m\u001b[0;34m\u001b[0m\u001b[0m\n",
      "\u001b[0;32m~/.local/lib/python3.5/site-packages/numpy/lib/npyio.py\u001b[0m in \u001b[0;36mloadtxt\u001b[0;34m(fname, dtype, comments, delimiter, converters, skiprows, usecols, unpack, ndmin)\u001b[0m\n\u001b[1;32m    896\u001b[0m                 \u001b[0mfh\u001b[0m \u001b[0;34m=\u001b[0m \u001b[0miter\u001b[0m\u001b[0;34m(\u001b[0m\u001b[0mopen\u001b[0m\u001b[0;34m(\u001b[0m\u001b[0mfname\u001b[0m\u001b[0;34m,\u001b[0m \u001b[0;34m'U'\u001b[0m\u001b[0;34m)\u001b[0m\u001b[0;34m)\u001b[0m\u001b[0;34m\u001b[0m\u001b[0m\n\u001b[1;32m    897\u001b[0m             \u001b[0;32melse\u001b[0m\u001b[0;34m:\u001b[0m\u001b[0;34m\u001b[0m\u001b[0m\n\u001b[0;32m--> 898\u001b[0;31m                 \u001b[0mfh\u001b[0m \u001b[0;34m=\u001b[0m \u001b[0miter\u001b[0m\u001b[0;34m(\u001b[0m\u001b[0mopen\u001b[0m\u001b[0;34m(\u001b[0m\u001b[0mfname\u001b[0m\u001b[0;34m)\u001b[0m\u001b[0;34m)\u001b[0m\u001b[0;34m\u001b[0m\u001b[0m\n\u001b[0m\u001b[1;32m    899\u001b[0m         \u001b[0;32melse\u001b[0m\u001b[0;34m:\u001b[0m\u001b[0;34m\u001b[0m\u001b[0m\n\u001b[1;32m    900\u001b[0m             \u001b[0mfh\u001b[0m \u001b[0;34m=\u001b[0m \u001b[0miter\u001b[0m\u001b[0;34m(\u001b[0m\u001b[0mfname\u001b[0m\u001b[0;34m)\u001b[0m\u001b[0;34m\u001b[0m\u001b[0m\n",
      "\u001b[0;31mFileNotFoundError\u001b[0m: [Errno 2] No such file or directory: '../../../orbits/data/lmc/lmc5_MWHern1_host.txt'"
     ]
    }
   ],
   "source": [
    "tgal1, xgal1, ygal1, zgal1, vxgal1, vygal1, vzgal1, Rgal1, Vgal1 = reading_data('lmc5_MWHern1')\n",
    "tNB, RgalNB, xsatNB, ysatNB, zsatNB, xgalNB, ygalNB, zgalNB, vgalNB, vxsatNB,\\\n",
    "vysatNB, vzsatNB, vxgalNB, vygalNB, vzgalNB = reading_Nbody('LMC5_H0.txt')"
   ]
  },
  {
   "cell_type": "code",
   "execution_count": null,
   "metadata": {
    "collapsed": true
   },
   "outputs": [],
   "source": [
    "ric1, xic1, yic1, zic1, vxic1, vyic1, vzic1, tic1 = ICs(Rgal1, 280, xgal1, ygal1, zgal1, vxgal1, vygal1, vzgal1, tgal1)"
   ]
  },
  {
   "cell_type": "code",
   "execution_count": null,
   "metadata": {
    "collapsed": true
   },
   "outputs": [],
   "source": [
    "RgNB = np.sqrt((xgalNB-xsatNB)**2.0 + (ygalNB - ysatNB)**2.0 + (zgalNB-zsatNB)**2.0)"
   ]
  },
  {
   "cell_type": "code",
   "execution_count": null,
   "metadata": {
    "collapsed": true
   },
   "outputs": [],
   "source": [
    "plot(tgal1, Rgal1, lw=2, label='Orbit Integration')\n",
    "plot(tNB+tic1, RgNB, lw=2, label='N-body')\n",
    "legend(fontsize=15)"
   ]
  },
  {
   "cell_type": "code",
   "execution_count": null,
   "metadata": {
    "collapsed": true
   },
   "outputs": [],
   "source": [
    "print 'ICs for analytic iteration to match the Nbody orbit with differentd dfs:'\n",
    "print 'x:', xsatNB[0]-xgalNB[0]\n",
    "print 'y:', ysatNB[0]-ygalNB[0]\n",
    "print 'z:', zsatNB[0]-zgalNB[0]\n",
    "\n",
    "print 'vx:', vxsatNB[0]-vxgalNB[0]\n",
    "print 'vy:', vysatNB[0]-vygalNB[0]\n",
    "print 'vz:', vzsatNB[0]-vzgalNB[0]"
   ]
  },
  {
   "cell_type": "code",
   "execution_count": null,
   "metadata": {
    "collapsed": true
   },
   "outputs": [],
   "source": [
    "print tNB[-1]"
   ]
  },
  {
   "cell_type": "code",
   "execution_count": null,
   "metadata": {
    "collapsed": true
   },
   "outputs": [],
   "source": [
    "tgal05, xgal05, ygal05, zgal05, vxgal05, vygal05, vzgal05, Rgal05, Vgal05 = reading_data('lmc5_MWpmdf05')\n",
    "tgal06, xgal06, ygal06, zgal06, vxgal06, vygal06, vzgal06, Rgal06, Vgal06 = reading_data('lmc5_MWpmdf06')\n",
    "tgal07, xgal07, ygal07, zgal07, vxgal07, vygal07, vzgal07, Rgal07, Vgal07 = reading_data('lmc5_MWpmdf07')\n",
    "#tgal15, xgal15, ygal15, zgal15, vxgal15, vygal15, vzgal15, Rgal15, Vgal15 = reading_data('lmc6_MWpmdf15')\n",
    "#tgal18, xgal18, ygal18, zgal18, vxgal18, vygal18, vzgal18, Rgal18, Vgal18 = reading_data('lmc6_MWpmdf18')\n",
    "#tgal20, xgal20, ygal20, zgal20, vxgal20, vygal20, vzgal20, Rgal20, Vgal20 = reading_data('lmc6_MWpmdf20')\n"
   ]
  },
  {
   "cell_type": "code",
   "execution_count": null,
   "metadata": {
    "collapsed": true
   },
   "outputs": [],
   "source": [
    "figure(figsize=(8, 6))\n",
    "plot(tNB, RgNB, lw=2 )\n",
    "plot(tgal05, Rgal05)\n",
    "plot(tgal06, Rgal06)\n",
    "plot(tgal07, Rgal07)\n",
    "#plot(tgal15, Rgal15)\n",
    "#plot(tgal18, Rgal18)\n",
    "#plot(tgal20, Rgal20)\n",
    "#xlim(0.0, 1.4)\n",
    "ylim(0, 300)"
   ]
  },
  {
   "cell_type": "code",
   "execution_count": null,
   "metadata": {
    "collapsed": true
   },
   "outputs": [],
   "source": [
    "tgal05b, xgal05b, ygal05b, zgal05b, vxgal05b, vygal05b, vzgal05b, Rgal05b, Vgal05b = reading_data('lmc5_MWpmdf05b')\n",
    "tgal06b, xgal06b, ygal06b, zgal06b, vxgal06b, vygal06b, vzgal06b, Rgal06b, Vgal06b = reading_data('lmc5_MWpmdf06b')\n",
    "tgal07b, xgal07b, ygal07b, zgal07b, vxgal07b, vygal07b, vzgal07b, Rgal07b, Vgal07b = reading_data('lmc5_MWpmdf07b')"
   ]
  },
  {
   "cell_type": "code",
   "execution_count": null,
   "metadata": {
    "collapsed": true
   },
   "outputs": [],
   "source": [
    "plot(tgal05b, Rgal05b, lw=2)\n",
    "plot(tgal06b, Rgal06b, lw=2)\n",
    "plot(tgal07b, Rgal07b, lw=2)"
   ]
  },
  {
   "cell_type": "code",
   "execution_count": null,
   "metadata": {
    "collapsed": true
   },
   "outputs": [],
   "source": [
    "ric05, xic05, yic05, zic05, vxic05, vyic05, vzic05, tic05 = ICs(Rgal05b, 245,  xgal05b, ygal05b, zgal05b, vxgal05b, vygal05b, vzgal05b, tgal05b)\n",
    "ric06, xic06, yic06, zic06, vxic06, vyic06, vzic06, tic06 = ICs(Rgal06b, 280,  xgal06b, ygal06b, zgal06b, vxgal06b, vygal06b, vzgal06b, tgal06b)\n",
    "ric07, xic07, yic07, zic07, vxic07, vyic07, vzic07, tic07 = ICs(Rgal07b, 300,  xgal07b, ygal07b, zgal07b, vxgal07b, vygal07b, vzgal07b, tgal07b)"
   ]
  },
  {
   "cell_type": "code",
   "execution_count": null,
   "metadata": {
    "collapsed": true
   },
   "outputs": [],
   "source": [
    "print xic05, yic05, zic05, vxic05, vyic05, vzic05\n",
    "print xic06, yic06, zic06, vxic06, vyic06, vzic06\n",
    "print xic07, yic07, zic07, vxic07, vyic07, vzic07"
   ]
  },
  {
   "cell_type": "code",
   "execution_count": 27,
   "metadata": {
    "collapsed": true
   },
   "outputs": [],
   "source": [
    "# Final Results from Nbody from aboce ICs\n",
    "tNB1, RgalNB1, xsatNB1, ysatNB1, zsatNB1, xgalNB1, ygalNB1, zgalNB1, vgalNB1, vxsatNB1,\\\n",
    "vysatNB1, vzsatNB1, vxgalNB1, vygalNB1, vzgalNB1 = reading_Nbody('LMC5_H1.txt')\n",
    "\n",
    "tNB2, RgalNB2, xsatNB2, ysatNB2, zsatNB2, xgalNB2, ygalNB2, zgalNB2, vgalNB2, vxsatNB2,\\\n",
    "vysatNB2, vzsatNB2, vxgalNB2, vygalNB2, vzgalNB2 = reading_Nbody('LMC5_H3.txt')\n",
    "\n",
    "#tNB3, RgalNB3, xsatNB3, ysatNB3, zsatNB3, xgalNB3, ygalNB3, zgalNB3, vgalNB3, vxsatNB3,\\\n",
    "#vysatNB3, vzsatNB3, vxgalNB3, vygalNB3, vzgalNB3 = reading_Nbody('LMC5_H3.txt')"
   ]
  },
  {
   "cell_type": "code",
   "execution_count": 28,
   "metadata": {
    "collapsed": false
   },
   "outputs": [
    {
     "data": {
      "text/plain": [
       "<matplotlib.legend.Legend at 0x7f98c10bea50>"
      ]
     },
     "execution_count": 28,
     "metadata": {},
     "output_type": "execute_result"
    },
    {
     "data": {
      "image/png": "[encoded data removed]",
      "text/plain": [
       "<matplotlib.figure.Figure at 0x7f98c10f7750>"
      ]
     },
     "metadata": {},
     "output_type": "display_data"
    }
   ],
   "source": [
    "#plot(tgal05b, Rgal05b, lw=2, label='Analytic')\n",
    "plot(tNB1, RgalNB1, lw=2, label='N-Body')\n",
    "plot(tNB2, RgalNB2, lw=2, label='N-Body')\n",
    "legend()"
   ]
  },
  {
   "cell_type": "code",
   "execution_count": 29,
   "metadata": {
    "collapsed": true
   },
   "outputs": [],
   "source": [
    "XNB1 =  xsatNB1 - xgalNB1\n",
    "YNB1 =  ysatNB1 - ygalNB1\n",
    "ZNB1 =  zsatNB1 - zgalNB1\n",
    "vxNB1 = vxsatNB1 - vxgalNB1\n",
    "vyNB1 = vysatNB1 - vygalNB1\n",
    "vzNB1 = vzsatNB1 - vzgalNB1\n",
    "\n",
    "\n",
    "XNB2 =  xsatNB2 - xgalNB2\n",
    "YNB2 =  ysatNB2 - ygalNB2\n",
    "ZNB2 =  zsatNB2 - zgalNB2\n",
    "vxNB2 = vxsatNB2 - vxgalNB2\n",
    "vyNB2 = vysatNB2 - vygalNB2\n",
    "vzNB2 = vzsatNB2 - vzgalNB2"
   ]
  },
  {
   "cell_type": "code",
   "execution_count": 30,
   "metadata": {
    "collapsed": false
   },
   "outputs": [
    {
     "name": "stdout",
     "output_type": "stream",
     "text": [
      "obs: -1 -41 -28 -57 -226 221\n"
     ]
    },
    {
     "data": {
      "text/plain": [
       "(array([-0.793826]),\n",
       " array([-43.966995]),\n",
       " array([-28.284428]),\n",
       " array([-62.349816]),\n",
       " array([-239.110822]),\n",
       " array([ 225.077729]))"
      ]
     },
     "execution_count": 30,
     "metadata": {},
     "output_type": "execute_result"
    }
   ],
   "source": [
    "best_values(XNB1, YNB1, ZNB1, vxNB1, vyNB1, vzNB1)\n"
   ]
  },
  {
   "cell_type": "code",
   "execution_count": 31,
   "metadata": {
    "collapsed": false
   },
   "outputs": [
    {
     "name": "stdout",
     "output_type": "stream",
     "text": [
      "obs: -1 -41 -28 -57 -226 221\n"
     ]
    },
    {
     "data": {
      "text/plain": [
       "(array([ 0.003023]),\n",
       " array([-40.724015]),\n",
       " array([-31.106848]),\n",
       " array([-67.262523]),\n",
       " array([-264.987876]),\n",
       " array([ 221.025256]))"
      ]
     },
     "execution_count": 31,
     "metadata": {},
     "output_type": "execute_result"
    }
   ],
   "source": [
    "best_values(XNB2, YNB2, ZNB2, vxNB2, vyNB2, vzNB2)"
   ]
  },
  {
   "cell_type": "code",
   "execution_count": 28,
   "metadata": {
    "collapsed": false
   },
   "outputs": [
    {
     "name": "stdout",
     "output_type": "stream",
     "text": [
      "[119]\n"
     ]
    }
   ],
   "source": [
    "snap_nuumber = np.where(YNB == -44.966176)[0]\n",
    "print snap_nuumber"
   ]
  },
  {
   "cell_type": "code",
   "execution_count": 6,
   "metadata": {
    "collapsed": false
   },
   "outputs": [
    {
     "name": "stdout",
     "output_type": "stream",
     "text": [
      "Dr =  [-1.305432] [-0.93092] [ 1.911477] [ 2.49489661]\n",
      "Dv =  [ 16.343265] [ 21.0018] [-2.988734] [ 26.77891792]\n"
     ]
    },
    {
     "data": {
      "text/plain": [
       "(array([ 2.24]),\n",
       " array([ 0.305432]),\n",
       " array([-40.06908]),\n",
       " array([-29.911477]),\n",
       " array([-73.343265]),\n",
       " array([-247.0018]),\n",
       " array([ 223.988734]))"
      ]
     },
     "execution_count": 6,
     "metadata": {},
     "output_type": "execute_result"
    }
   ],
   "source": [
    "R_gal5, x_sat, y_sat, z_sat, x_gal, y_gal, z_gal, Vgal, vx_sat, vy_sat, vz_sat, vx_gal, vy_gal, vz_gal = reading_Nbody('LMC5_40Mb0_orbit.txt')\n",
    "best_values(x_sat-x_gal, y_sat-y_gal, z_sat-z_gal, vx_sat-vx_gal, vy_sat-vy_gal, vz_sat-vz_gal)"
   ]
  },
  {
   "cell_type": "code",
   "execution_count": 8,
   "metadata": {
    "collapsed": true
   },
   "outputs": [],
   "source": [
    "sat_pos = np.array([-1, -41, -28])\n",
    "sat_vel = np.array([-57, -226, 221])\n",
    "pos_host = np.array([0,0,0])\n",
    "vel_host = np.array([0,0,0])\n",
    "host_model = ['NFW', 1.2E12, 261, 9.86]\n",
    "disk_params = [6.5E10, 3.5, 0.53]\n",
    "bulge_params = [1E10, 0.7]\n",
    "alpha = [0, 0.2]\n",
    "time = 3\n",
    "d_t = 0.001\n",
    "\n",
    "# From Gomez et al 2015\n",
    "sat_mass = 1.8E11\n",
    "sat_rs = 20\n",
    "sat_model = ['hernquist', sat_mass, sat_rs]\n",
    "\n",
    "\n"
   ]
  },
  {
   "cell_type": "code",
   "execution_count": 63,
   "metadata": {
    "collapsed": false
   },
   "outputs": [
    {
     "name": "stdout",
     "output_type": "stream",
     "text": [
      "Host:  0.0 0.0 0.0\n",
      "Satellite 1 : -1.0 -41.0 -28.0\n"
     ]
    }
   ],
   "source": [
    "t, xyz_sat, vxyz_sat, xyz_host, vxyz_host = soda.leapfrog.integrate_sat(time, pos_host, vel_host, \n",
    "                                                                        host_model, disk_params, \n",
    "                                                                        bulge_params, alpha=alpha,\n",
    "                                                                        dt=d_t, satellite_model=sat_model,\n",
    "                                                                        pos_sat=sat_pos, vel_sat=sat_vel)"
   ]
  },
  {
   "cell_type": "code",
   "execution_count": null,
   "metadata": {
    "collapsed": true
   },
   "outputs": [],
   "source": [
    "def galactocentric(xyz_sat, vxyz_sat, xyz_host, vxyz_host):\n",
    "    xyz_sat[:,0] -= xyz_host[:,0]\n",
    "    xyz_sat[:,1] -= xyz_host[:,1]\n",
    "    xyz_sat[:,2] -= xyz_host[:,2]\n",
    "        \n",
    "    vxyz_sat[:,0] -= vxyz_host[:,0]\n",
    "    vxyz_sat[:,1] -= vxyz_host[:,1]\n",
    "    vxyz_sat[:,2] -= vxyz_host[:,2]\n",
    "    Rgal = np.sqrt(xyz_sat[:,0]**2 + xyz_sat[:,1]**2 + xyz_sat[:,2]**2)\n",
    "    return xyz_sat, vxyz_sat, Rgal"
   ]
  },
  {
   "cell_type": "code",
   "execution_count": 65,
   "metadata": {
    "collapsed": true
   },
   "outputs": [],
   "source": [
    "pos, vel , Rgal = galactocentric(xyz_sat, vxyz_sat, xyz_host, vxyz_host)"
   ]
  },
  {
   "cell_type": "code",
   "execution_count": 66,
   "metadata": {
    "collapsed": false
   },
   "outputs": [
    {
     "data": {
      "text/plain": [
       "<matplotlib.legend.Legend at 0x7f8b0d442978>"
      ]
     },
     "execution_count": 66,
     "metadata": {},
     "output_type": "execute_result"
    },
    {
     "data": {
      "image/png": "[encoded data removed]",
      "text/plain": [
       "<matplotlib.figure.Figure at 0x7f8b0d4a4390>"
      ]
     },
     "metadata": {},
     "output_type": "display_data"
    }
   ],
   "source": [
    "t5 = np.linspace(0, 3, len(R_gal5))\n",
    "\n",
    "\n",
    "plot(t5-2.24, R_gal5, label='N-body')\n",
    "plot(t, Rgal, label='analytic')\n",
    "legend()"
   ]
  },
  {
   "cell_type": "code",
   "execution_count": 25,
   "metadata": {
    "collapsed": false
   },
   "outputs": [
    {
     "name": "stdout",
     "output_type": "stream",
     "text": [
      "[  49.65883607   49.59531732   49.53185516 ...,  320.89257413  320.92876057\n",
      "  320.96743802]\n"
     ]
    }
   ],
   "source": [
    "print(Rgal)"
   ]
  },
  {
   "cell_type": "code",
   "execution_count": 38,
   "metadata": {
    "collapsed": false
   },
   "outputs": [
    {
     "name": "stdout",
     "output_type": "stream",
     "text": [
      "-1.73217413137 261.616668141 242.575755871 19.343453586 37.6178113257 -102.140630192\n"
     ]
    }
   ],
   "source": [
    "print(xyz_sat[-1,0] - xyz_host[-1,0] , xyz_sat[-1,1] - xyz_host[-1,1], xyz_sat[-1,2] - xyz_host[-1,2],\n",
    "      vxyz_sat[-1,0]-vxyz_host[-1,0], vxyz_sat[-1,1]-vxyz_host[-1,1], vxyz_sat[-1,2]-vxyz_host[-1,2])"
   ]
  },
  {
   "cell_type": "code",
   "execution_count": 26,
   "metadata": {
    "collapsed": false
   },
   "outputs": [
    {
     "data": {
      "text/plain": [
       "151"
      ]
     },
     "execution_count": 26,
     "metadata": {},
     "output_type": "execute_result"
    }
   ],
   "source": [
    "len(R_gal5)"
   ]
  },
  {
   "cell_type": "markdown",
   "metadata": {},
   "source": [
    "### ICs1\n",
    "| MW ICs | LMC ICs| ICs $\\vec{r}, \\vec{v}$ | ICs snap_name |\n",
    "| : ------- :| :--------: |:-------: |:-------: |\n",
    "|[-0.07] [ 1.16] [-0.79] [ 1.41] |[ 27.34] [ 53.83] [-32.32] [ 68.48] | r=(-1.73217413137 261.616668141 242.575755871), v= (19.343453586 37.6178113257 -102.140630192) | ICs1_MW2_11_LMC5_lr | \n",
    "|MW2_1M_halo_bd_vir_011 | LMC5_450K_010 | r=(11.584929 247.791118 129.901859), v=(11.910111 11.210542 -77.135969) | ICs2+MW2_11_LMC5_lr | \n",
    "| [0.26] [ 3.74] [-0.75] [ 3.82] |  [ 14.24] [ 49.75] [-36.33] [ 63.23]| r=(11.584929 247.791118 129.901859), v=(11.910111 15.210542 -77.135969) | ICs3+MW2_11_LMC5_lr | \n",
    "|[ 0.22] [ 1.10] [-3.70] [ 3.87] | [ 15.56] [ 39.96] [-29.99] [ 52.34] | r=(11.584929 247.791118 129.901859), v=(11.910111 6.210542 -77.135969) | ICs4+MW2_11_LMC5_lr | \n",
    "| [-0.64] [ 2.26] [ 3.54] [ 4.25] |  [ 9.56] [ 45.30] [-27.61] [ 53.91] | r=(11.584929 247.791118 129.901859), v=(11.910111 20.0542 -77.135969) | ICs5+MW2_11_LMC5_lr | \n",
    "| [-0.88] [ 3.43] [ 4.95] [ 6.09] | [ 15.56] [ 39.96] [-29.99] [ 52.34] | r=(11.584929 247.791118 129.901859), v=(11.910111 25.210542 -77.135969) | ICs6+MW2_11_LMC5_lr | \n",
    "| [-0.06] [ 4.41] [-0.20] [ 4.42] | [ 15.71] [ 44.83] [-36.32] [ 59.80] | r=(11.584929 257.791118 129.901859), v=(11.910111 11.210542 -77.135969) | ICs7+MW2_11_LMC5_lr | \n",
    "|[-0.61] [ 6.45] [ 1.08] [ 6.57] | [ 17.92] [ 33.44] [-39.47] [ 54.75] | r=(11.584929 267.791118 129.901859), v=(11.910111 11.210542 -77.135969) | ICs8+MW2_11_LMC5_lr | \n",
    "|[-0.21] [ 6.19] [ 3.79] [ 7.27] |[ 13.82] [ 38.89] [-28.56] [ 50.20] | r=(11.584929 247.791118 129.901859), v=(11.910111 20.0542 -80.135969) | ICs9+MW2_11_LMC5_lr | \n",
    "|[-0.81] [-2.12] [ 2.17] [ 3.14] | [ 23.57] [ 60.97] [-31.19] [ 72.43] | r=(11.584929 247.791118 129.901859), v=(11.910111 20.0542 -73.135969) | ICs10+MW2_11_LMC5_lr | \n",
    "|[-0.51] [ 2.80] [ 5.53] [ 6.22] | [ 18.11] [ 60.17] [-23.34] [ 67.04] | r=(11.584929 243.791118 129.901859), v=(11.910111 20.0542 -80.135969) | ICs11+MW2_11_LMC5_lr | \n",
    "|[-0.27] [ 7.41] [ 3.65] [ 8.27] |[ 7.8148] [ 31.42] [-32.43] [ 45.83] | r=(11.584929 250.791118 129.901859), v=(11.910111 20.0542 -80.135969) | ICs12+MW2_11_LMC5_lr | \n",
    "\n",
    "\n",
    "\n",
    "\n"
   ]
  },
  {
   "cell_type": "code",
   "execution_count": 39,
   "metadata": {
    "collapsed": false
   },
   "outputs": [
    {
     "name": "stdout",
     "output_type": "stream",
     "text": [
      "Password: "
     ]
    }
   ],
   "source": [
    "!scp jngaravitoc@sftp.hpc.arizona.edu:/rsgrps/gbeslastudents/nicolas/LMCMW/simulations/LMCMW/orbits/LMC5_1M_b0_orbit_test_ics1.txt orbits/LMC5/"
   ]
  },
  {
   "cell_type": "code",
   "execution_count": 4,
   "metadata": {
    "collapsed": false
   },
   "outputs": [
    {
     "name": "stdout",
     "output_type": "stream",
     "text": [
      "Dr =  [-0.07769] [ 1.168036] [-0.796749] [ 1.41603418]\n",
      "Dv =  [ 27.344978] [ 53.833565] [-32.322102] [ 68.48736248]\n"
     ]
    },
    {
     "data": {
      "text/plain": [
       "(array([ 2.12]),\n",
       " array([-0.92231]),\n",
       " array([-42.168036]),\n",
       " array([-27.203251]),\n",
       " array([-84.344978]),\n",
       " array([-279.833565]),\n",
       " array([ 253.322102]))"
      ]
     },
     "execution_count": 4,
     "metadata": {},
     "output_type": "execute_result"
    }
   ],
   "source": [
    "R_gal5_ics1, x_sat_ics1, y_sat_ics1, z_sat_ics1, x_gal_ics1, y_gal_ics1, z_gal_ics1, Vgal_ics1, vx_sat_ics1, vy_sat_ics1, vz_sat_ics1, vx_gal_ics1, vy_gal_ics1, vz_gal_ics1 = reading_Nbody('LMC5/LMC5_1M_b0_orbit_test_ics2.txt')\n",
    "best_values(x_sat_ics1-x_gal_ics1, y_sat_ics1-y_gal_ics1, z_sat_ics1-z_gal_ics1, vx_sat_ics1-vx_gal_ics1, vy_sat_ics1-vy_gal_ics1, vz_sat_ics1-vz_gal_ics1)"
   ]
  },
  {
   "cell_type": "code",
   "execution_count": 5,
   "metadata": {
    "collapsed": false
   },
   "outputs": [
    {
     "data": {
      "text/plain": [
       "[<matplotlib.lines.Line2D at 0x7f5d2b109ef0>]"
      ]
     },
     "execution_count": 5,
     "metadata": {},
     "output_type": "execute_result"
    },
    {
     "data": {
      "image/png": "[encoded data removed]",
      "text/plain": [
       "<matplotlib.figure.Figure at 0x7f5d2b0b2438>"
      ]
     },
     "metadata": {},
     "output_type": "display_data"
    }
   ],
   "source": [
    "plot(linspace(0, 3, 151), R_gal5_ics1)\n",
    "#plot(t+2.24, Rgal)"
   ]
  },
  {
   "cell_type": "code",
   "execution_count": 9,
   "metadata": {
    "collapsed": true
   },
   "outputs": [],
   "source": [
    "sat_pos = np.array([-0.9, -42.16, -27.2])\n",
    "sat_vel = np.array([-84.34,-279.83, 253.32])\n",
    "alpha = [0, 0.25]\n",
    "host_model = ['NFW', 1.2E12, 279, 20]\n",
    "disk_params = [5.78E10, 3.5, 0.53]\n",
    "bulge_params = [1.4E10, 0.7]"
   ]
  },
  {
   "cell_type": "code",
   "execution_count": 10,
   "metadata": {
    "collapsed": false
   },
   "outputs": [
    {
     "name": "stdout",
     "output_type": "stream",
     "text": [
      "Host:  0.0 0.0 0.0\n",
      "Satellite 1 : -0.9 -42.16 -27.2\n"
     ]
    }
   ],
   "source": [
    "t2, xyz_sat2, vxyz_sat2, xyz_host2, vxyz_host2 = soda.leapfrog.integrate_sat(time, pos_host, vel_host, \n",
    "                                                                        host_model, disk_params, \n",
    "                                                                        bulge_params, alpha=alpha,\n",
    "                                                                        dt=d_t, satellite_model=sat_model,\n",
    "                                                                        pos_sat=sat_pos, vel_sat=sat_vel)"
   ]
  },
  {
   "cell_type": "code",
   "execution_count": 16,
   "metadata": {
    "collapsed": true
   },
   "outputs": [],
   "source": [
    "pos2, vel2 , Rgal2 = galactocentric(xyz_sat2, vxyz_sat2, xyz_host2, vxyz_host2)"
   ]
  },
  {
   "cell_type": "code",
   "execution_count": 17,
   "metadata": {
    "collapsed": false
   },
   "outputs": [
    {
     "data": {
      "text/plain": [
       "[<matplotlib.lines.Line2D at 0x7f5d2b138be0>]"
      ]
     },
     "execution_count": 17,
     "metadata": {},
     "output_type": "execute_result"
    },
    {
     "data": {
      "image/png": "[encoded data removed]",
      "text/plain": [
       "<matplotlib.figure.Figure at 0x7f5d2b138c18>"
      ]
     },
     "metadata": {},
     "output_type": "display_data"
    }
   ],
   "source": [
    "plot(linspace(0, 3, 151), R_gal5_ics1)\n",
    "plot(t2+2.12, Rgal2)"
   ]
  },
  {
   "cell_type": "code",
   "execution_count": 18,
   "metadata": {
    "collapsed": false
   },
   "outputs": [
    {
     "name": "stdout",
     "output_type": "stream",
     "text": [
      "Dr =  [ 0.267967] [ 3.740566] [-0.757456] [ 3.82588289]\n",
      "Dv =  [ 14.248485] [ 49.755523] [-36.339995] [ 63.23943888]\n"
     ]
    },
    {
     "data": {
      "text/plain": [
       "(array([ 2.18]),\n",
       " array([-1.267967]),\n",
       " array([-44.740566]),\n",
       " array([-27.242544]),\n",
       " array([-71.248485]),\n",
       " array([-275.755523]),\n",
       " array([ 257.339995]))"
      ]
     },
     "execution_count": 18,
     "metadata": {},
     "output_type": "execute_result"
    }
   ],
   "source": [
    "R_gal5_ics3, x_sat_ics3, y_sat_ics3, z_sat_ics3, x_gal_ics3, y_gal_ics3, z_gal_ics3, Vgal_ics3, vx_sat_ics3, vy_sat_ics3, vz_sat_ics3, vx_gal_ics3, vy_gal_ics3, vz_gal_ics3 = reading_Nbody('LMC5/LMC5_1M_b0_orbit_test_ics3.txt')\n",
    "best_values(x_sat_ics3-x_gal_ics3, y_sat_ics3-y_gal_ics3, z_sat_ics3-z_gal_ics3, vx_sat_ics3-vx_gal_ics3, vy_sat_ics3-vy_gal_ics3, vz_sat_ics3-vz_gal_ics3)"
   ]
  },
  {
   "cell_type": "code",
   "execution_count": 19,
   "metadata": {
    "collapsed": false
   },
   "outputs": [
    {
     "name": "stdout",
     "output_type": "stream",
     "text": [
      "Dr =  [ 0.227848] [ 1.104634] [-3.704776] [ 3.87266009]\n",
      "Dv =  [ 29.461645] [ 61.60533] [-31.12065] [ 75.04465382]\n"
     ]
    },
    {
     "data": {
      "text/plain": [
       "(array([ 2.06]),\n",
       " array([-1.227848]),\n",
       " array([-42.104634]),\n",
       " array([-24.295224]),\n",
       " array([-86.461645]),\n",
       " array([-287.60533]),\n",
       " array([ 252.12065]))"
      ]
     },
     "execution_count": 19,
     "metadata": {},
     "output_type": "execute_result"
    }
   ],
   "source": [
    "R_gal5_ics4, x_sat_ics4, y_sat_ics4, z_sat_ics4, x_gal_ics4, y_gal_ics4, z_gal_ics4, Vgal_ics4, vx_sat_ics4, vy_sat_ics4, vz_sat_ics4, vx_gal_ics4, vy_gal_ics4, vz_gal_ics4 = reading_Nbody('LMC5/LMC5_1M_b0_orbit_test_ics4.txt')\n",
    "best_values(x_sat_ics4-x_gal_ics4, y_sat_ics4-y_gal_ics4, z_sat_ics4-z_gal_ics4, vx_sat_ics4-vx_gal_ics4, vy_sat_ics4-vy_gal_ics4, vz_sat_ics4-vz_gal_ics4)"
   ]
  },
  {
   "cell_type": "code",
   "execution_count": 15,
   "metadata": {
    "collapsed": false
   },
   "outputs": [
    {
     "name": "stdout",
     "output_type": "stream",
     "text": [
      "Dr =  [-0.647917] [ 2.262252] [ 3.540113] [ 4.25087998]\n",
      "Dv =  [ 9.564503] [ 45.308811] [-27.613392] [ 53.91537341]\n"
     ]
    },
    {
     "data": {
      "text/plain": [
       "(array([ 2.24]),\n",
       " array([-0.352083]),\n",
       " array([-43.262252]),\n",
       " array([-31.540113]),\n",
       " array([-66.564503]),\n",
       " array([-271.308811]),\n",
       " array([ 248.613392]))"
      ]
     },
     "execution_count": 15,
     "metadata": {},
     "output_type": "execute_result"
    }
   ],
   "source": [
    "R_gal5_ics5, x_sat_ics5, y_sat_ics5, z_sat_ics5, x_gal_ics5, y_gal_ics5, z_gal_ics5, Vgal_ics5, vx_sat_ics5, vy_sat_ics5, vz_sat_ics5, vx_gal_ics5, vy_gal_ics5, vz_gal_ics5 = reading_Nbody('LMC5/LMC5_1M_b0_orbit_test_ics5.txt')\n",
    "best_values(x_sat_ics5-x_gal_ics5, y_sat_ics5-y_gal_ics5, z_sat_ics5-z_gal_ics5, vx_sat_ics5-vx_gal_ics5, vy_sat_ics5-vy_gal_ics5, vz_sat_ics5-vz_gal_ics5)"
   ]
  },
  {
   "cell_type": "code",
   "execution_count": 14,
   "metadata": {
    "collapsed": false
   },
   "outputs": [
    {
     "name": "stdout",
     "output_type": "stream",
     "text": [
      "Dr =  [-0.882836] [ 3.438208] [ 4.956001] [ 6.09611512]\n",
      "Dv =  [ 15.565408] [ 39.968485] [-29.998239] [ 52.34172392]\n"
     ]
    },
    {
     "data": {
      "text/plain": [
       "(array([ 2.32]),\n",
       " array([-0.117164]),\n",
       " array([-44.438208]),\n",
       " array([-32.956001]),\n",
       " array([-72.565408]),\n",
       " array([-265.968485]),\n",
       " array([ 250.998239]))"
      ]
     },
     "execution_count": 14,
     "metadata": {},
     "output_type": "execute_result"
    }
   ],
   "source": [
    "R_gal5_ics6, x_sat_ics6, y_sat_ics6, z_sat_ics6, x_gal_ics6, y_gal_ics6, z_gal_ics6, Vgal_ics6, vx_sat_ics6, vy_sat_ics6, vz_sat_ics6, vx_gal_ics6, vy_gal_ics6, vz_gal_ics6 = reading_Nbody('LMC5/LMC5_1M_b0_orbit_test_ics6.txt')\n",
    "best_values(x_sat_ics6-x_gal_ics6, y_sat_ics6-y_gal_ics6, z_sat_ics6-z_gal_ics6, vx_sat_ics6-vx_gal_ics6, vy_sat_ics6-vy_gal_ics6, vz_sat_ics6-vz_gal_ics6)\n"
   ]
  },
  {
   "cell_type": "code",
   "execution_count": 12,
   "metadata": {
    "collapsed": false
   },
   "outputs": [
    {
     "name": "stdout",
     "output_type": "stream",
     "text": [
      "Dr =  [-0.065667] [ 4.418492] [-0.20415] [ 4.42369313]\n",
      "Dv =  [ 15.717753] [ 44.830864] [-36.322736] [ 59.80129829]\n"
     ]
    },
    {
     "data": {
      "text/plain": [
       "(array([ 2.24]),\n",
       " array([-0.934333]),\n",
       " array([-45.418492]),\n",
       " array([-27.79585]),\n",
       " array([-72.717753]),\n",
       " array([-270.830864]),\n",
       " array([ 257.322736]))"
      ]
     },
     "execution_count": 12,
     "metadata": {},
     "output_type": "execute_result"
    }
   ],
   "source": [
    "R_gal5_ics7, x_sat_ics7, y_sat_ics7, z_sat_ics7, x_gal_ics7, y_gal_ics7, z_gal_ics7, Vgal_ics7, vx_sat_ics7, vy_sat_ics7, vz_sat_ics7, vx_gal_ics7, vy_gal_ics7, vz_gal_ics7 = reading_Nbody('LMC5/LMC5_1M_b0_orbit_test_ics7.txt')\n",
    "best_values(x_sat_ics7-x_gal_ics7, y_sat_ics7-y_gal_ics7, z_sat_ics7-z_gal_ics7, vx_sat_ics7-vx_gal_ics7, vy_sat_ics7-vy_gal_ics7, vz_sat_ics7-vz_gal_ics7)"
   ]
  },
  {
   "cell_type": "code",
   "execution_count": 11,
   "metadata": {
    "collapsed": false
   },
   "outputs": [
    {
     "name": "stdout",
     "output_type": "stream",
     "text": [
      "Dr =  [-0.611215] [ 6.454872] [ 1.089281] [ 6.57460945]\n",
      "Dv =  [ 17.925894] [ 33.441661] [-39.478327] [ 54.75601034]\n"
     ]
    },
    {
     "data": {
      "text/plain": [
       "(array([ 2.36]),\n",
       " array([-0.388785]),\n",
       " array([-47.454872]),\n",
       " array([-29.089281]),\n",
       " array([-74.925894]),\n",
       " array([-259.441661]),\n",
       " array([ 260.478327]))"
      ]
     },
     "execution_count": 11,
     "metadata": {},
     "output_type": "execute_result"
    }
   ],
   "source": [
    "R_gal5_ics8, x_sat_ics8, y_sat_ics8, z_sat_ics8, x_gal_ics8, y_gal_ics8, z_gal_ics8, Vgal_ics8, vx_sat_ics8, vy_sat_ics8, vz_sat_ics8, vx_gal_ics8, vy_gal_ics8, vz_gal_ics8 = reading_Nbody('LMC5/LMC5_1M_b0_orbit_test_ics8.txt')\n",
    "best_values(x_sat_ics8-x_gal_ics8, y_sat_ics8-y_gal_ics8, z_sat_ics8-z_gal_ics8, vx_sat_ics8-vx_gal_ics8, vy_sat_ics8-vy_gal_ics8, vz_sat_ics8-vz_gal_ics8)"
   ]
  },
  {
   "cell_type": "code",
   "execution_count": 9,
   "metadata": {
    "collapsed": false
   },
   "outputs": [
    {
     "name": "stdout",
     "output_type": "stream",
     "text": [
      "Dr =  [-0.210454] [ 6.199258] [ 3.793031] [ 7.27063785]\n",
      "Dv =  [ 13.822082] [ 38.899221] [-28.567352] [ 50.20251931]\n"
     ]
    },
    {
     "data": {
      "text/plain": [
       "(array([ 2.26]),\n",
       " array([-0.789546]),\n",
       " array([-47.199258]),\n",
       " array([-31.793031]),\n",
       " array([-70.822082]),\n",
       " array([-264.899221]),\n",
       " array([ 249.567352]))"
      ]
     },
     "execution_count": 9,
     "metadata": {},
     "output_type": "execute_result"
    }
   ],
   "source": [
    "R_gal5_ics9, x_sat_ics9, y_sat_ics9, z_sat_ics9, x_gal_ics9, y_gal_ics9, z_gal_ics9, Vgal_ics9, vx_sat_ics9, vy_sat_ics9, vz_sat_ics9, vx_gal_ics9, vy_gal_ics9, vz_gal_ics9 = reading_Nbody('LMC5/LMC5_1M_b0_orbit_test_ics9.txt')\n",
    "best_values(x_sat_ics9-x_gal_ics9, y_sat_ics9-y_gal_ics9, z_sat_ics9-z_gal_ics9, vx_sat_ics9-vx_gal_ics9, vy_sat_ics9-vy_gal_ics9, vz_sat_ics9-vz_gal_ics9)"
   ]
  },
  {
   "cell_type": "code",
   "execution_count": 8,
   "metadata": {
    "collapsed": false
   },
   "outputs": [
    {
     "name": "stdout",
     "output_type": "stream",
     "text": [
      "Dr =  [-0.819074] [-2.125335] [ 2.171038] [ 3.14663901]\n",
      "Dv =  [ 23.577475] [ 60.979463] [-31.190624] [ 72.43788553]\n"
     ]
    },
    {
     "data": {
      "text/plain": [
       "(array([ 2.22]),\n",
       " array([-0.180926]),\n",
       " array([-38.874665]),\n",
       " array([-30.171038]),\n",
       " array([-80.577475]),\n",
       " array([-286.979463]),\n",
       " array([ 252.190624]))"
      ]
     },
     "execution_count": 8,
     "metadata": {},
     "output_type": "execute_result"
    }
   ],
   "source": [
    "R_gal5_ics10, x_sat_ics10, y_sat_ics10, z_sat_ics10, x_gal_ics10, y_gal_ics10, z_gal_ics10, Vgal_ics10, vx_sat_ics10, vy_sat_ics10, vz_sat_ics10, vx_gal_ics10, vy_gal_ics10, vz_gal_ics10 = reading_Nbody('LMC5/LMC5_1M_b0_orbit_test_ics10.txt')\n",
    "best_values(x_sat_ics10-x_gal_ics10, y_sat_ics10-y_gal_ics10, z_sat_ics10-z_gal_ics10, vx_sat_ics10-vx_gal_ics10, vy_sat_ics10-vy_gal_ics10, vz_sat_ics10-vz_gal_ics10)"
   ]
  },
  {
   "cell_type": "code",
   "execution_count": 17,
   "metadata": {
    "collapsed": false
   },
   "outputs": [
    {
     "name": "stdout",
     "output_type": "stream",
     "text": [
      "Dr =  [-0.511515] [ 2.806153] [ 5.532053] [ 6.22412666]\n",
      "Dv =  [ 18.119465] [ 60.178832] [-23.346801] [ 67.04386586]\n"
     ]
    },
    {
     "data": {
      "text/plain": [
       "(array([ 2.2]),\n",
       " array([-0.488485]),\n",
       " array([-43.806153]),\n",
       " array([-33.532053]),\n",
       " array([-75.119465]),\n",
       " array([-286.178832]),\n",
       " array([ 244.346801]))"
      ]
     },
     "execution_count": 17,
     "metadata": {},
     "output_type": "execute_result"
    }
   ],
   "source": [
    "R_gal5_ics11, x_sat_ics11, y_sat_ics11, z_sat_ics11, x_gal_ics11, y_gal_ics11, z_gal_ics11, Vgal_ics11, vx_sat_ics11, vy_sat_ics11, vz_sat_ics11, vx_gal_ics11, vy_gal_ics11, vz_gal_ics11 = reading_Nbody('LMC5/LMC5_1M_b0_orbit_test_ics11.txt')\n",
    "best_values(x_sat_ics11-x_gal_ics11, y_sat_ics11-y_gal_ics11, z_sat_ics11-z_gal_ics11, vx_sat_ics11-vx_gal_ics11, vy_sat_ics11-vy_gal_ics11, vz_sat_ics11-vz_gal_ics11)"
   ]
  },
  {
   "cell_type": "code",
   "execution_count": 6,
   "metadata": {
    "collapsed": false
   },
   "outputs": [
    {
     "name": "stdout",
     "output_type": "stream",
     "text": [
      "Dr =  [-0.277719] [ 7.415732] [ 3.654336] [ 8.27190308]\n",
      "Dv =  [ 7.8148] [ 31.423539] [-32.433501] [ 45.83057811]\n"
     ]
    },
    {
     "data": {
      "text/plain": [
       "(array([ 2.3]),\n",
       " array([-0.722281]),\n",
       " array([-48.415732]),\n",
       " array([-31.654336]),\n",
       " array([-64.8148]),\n",
       " array([-257.423539]),\n",
       " array([ 253.433501]))"
      ]
     },
     "execution_count": 6,
     "metadata": {},
     "output_type": "execute_result"
    }
   ],
   "source": [
    "R_gal5_ics12, x_sat_ics12, y_sat_ics12, z_sat_ics12, x_gal_ics12, y_gal_ics12, z_gal_ics12, Vgal_ics12, vx_sat_ics12, vy_sat_ics12, vz_sat_ics12, vx_gal_ics12, vy_gal_ics12, vz_gal_ics12 = reading_Nbody('LMC5/LMC5_1M_b0_orbit_test_ics12.txt')\n",
    "best_values(x_sat_ics12-x_gal_ics12, y_sat_ics12-y_gal_ics12, z_sat_ics12-z_gal_ics12, vx_sat_ics12-vx_gal_ics12, vy_sat_ics12-vy_gal_ics12, vz_sat_ics12-vz_gal_ics12)"
   ]
  },
  {
   "cell_type": "code",
   "execution_count": 19,
   "metadata": {
    "collapsed": false
   },
   "outputs": [
    {
     "name": "stdout",
     "output_type": "stream",
     "text": [
      "Dr =  [-0.162459] [ 4.875889] [ 3.251333] [ 5.86275129]\n",
      "Dv =  [ 20.128347] [ 42.256141] [-29.71711] [ 55.44220804]\n"
     ]
    },
    {
     "data": {
      "text/plain": [
       "(array([ 2.22]),\n",
       " array([-0.837541]),\n",
       " array([-45.875889]),\n",
       " array([-31.251333]),\n",
       " array([-77.128347]),\n",
       " array([-268.256141]),\n",
       " array([ 250.71711]))"
      ]
     },
     "execution_count": 19,
     "metadata": {},
     "output_type": "execute_result"
    }
   ],
   "source": [
    "R_gal5_ics13, x_sat_ics13, y_sat_ics13, z_sat_ics13, x_gal_ics13, y_gal_ics13, z_gal_ics13, Vgal_ics13, vx_sat_ics13, vy_sat_ics13, vz_sat_ics13, vx_gal_ics13, vy_gal_ics13, vz_gal_ics13 = reading_Nbody('LMC5/LMC5_1M_b0_orbit_test_ics13.txt')\n",
    "best_values(x_sat_ics13-x_gal_ics13, y_sat_ics13-y_gal_ics13, z_sat_ics13-z_gal_ics13, vx_sat_ics13-vx_gal_ics13, vy_sat_ics13-vy_gal_ics13, vz_sat_ics13-vz_gal_ics13)"
   ]
  },
  {
   "cell_type": "code",
   "execution_count": 20,
   "metadata": {
    "collapsed": false
   },
   "outputs": [
    {
     "name": "stdout",
     "output_type": "stream",
     "text": [
      "Dr =  [-0.89187] [ 0.824978] [ 3.643792] [ 3.84099478]\n",
      "Dv =  [ 19.956305] [ 61.387849] [-21.169724] [ 67.93290313]\n"
     ]
    },
    {
     "data": {
      "text/plain": [
       "(array([ 2.14]),\n",
       " array([-0.10813]),\n",
       " array([-41.824978]),\n",
       " array([-31.643792]),\n",
       " array([-76.956305]),\n",
       " array([-287.387849]),\n",
       " array([ 242.169724]))"
      ]
     },
     "execution_count": 20,
     "metadata": {},
     "output_type": "execute_result"
    }
   ],
   "source": [
    "R_gal5_ics14, x_sat_ics14, y_sat_ics14, z_sat_ics14, x_gal_ics14, y_gal_ics14, z_gal_ics14, Vgal_ics14, vx_sat_ics14, vy_sat_ics14, vz_sat_ics14, vx_gal_ics14, vy_gal_ics14, vz_gal_ics14 = reading_Nbody('LMC5/LMC5_1M_b0_orbit_test_ics14.txt')\n",
    "best_values(x_sat_ics14-x_gal_ics14, y_sat_ics14-y_gal_ics14, z_sat_ics14-z_gal_ics14, vx_sat_ics14-vx_gal_ics14, vy_sat_ics14-vy_gal_ics14, vz_sat_ics14-vz_gal_ics14)"
   ]
  },
  {
   "cell_type": "code",
   "execution_count": 21,
   "metadata": {
    "collapsed": false,
    "scrolled": false
   },
   "outputs": [
    {
     "data": {
      "text/plain": [
       "<matplotlib.lines.Line2D at 0x7f4eebf6fa90>"
      ]
     },
     "execution_count": 21,
     "metadata": {},
     "output_type": "execute_result"
    },
    {
     "data": {
      "image/png": "[encoded data removed]",
      "text/plain": [
       "<matplotlib.figure.Figure at 0x7f4ef11d0908>"
      ]
     },
     "metadata": {},
     "output_type": "display_data"
    }
   ],
   "source": [
    "figure(figsize=(8,6.5))\n",
    "time = linspace(0, 3, 151)\n",
    "title(r'$\\Delta_{r, 2 \\sigma}= 5 kpc , \\Delta_{v, 2\\sigma}= 48\\ km/s$')\n",
    "plot(time, R_gal5_ics5, label='$\\Delta r = 4.25, \\Delta v = 53.9$')\n",
    "plot(time, R_gal5_ics6, label='$\\Delta r = 6.09, \\Delta v = 52.3$')\n",
    "plot(time, R_gal5_ics7, label='$\\Delta r = 4.42, \\Delta v = 59.8$')\n",
    "plot(time, R_gal5_ics8, label='$\\Delta r = 6.57, \\Delta v = 54.7$')\n",
    "plot(time, R_gal5_ics9, label='$\\Delta r = 7.27, \\Delta v = 50.2$')\n",
    "plot(time, R_gal5_ics10, label='$\\Delta r = 3.14, \\Delta v = 72.4$')\n",
    "plot(time, R_gal5_ics11, label='$\\Delta r = 6.22, \\Delta v = 67.0$')\n",
    "plot(time, R_gal5_ics13, label='$\\Delta r = 6.22, \\Delta v = 67.0$')\n",
    "plot(time, R_gal5_ics14, label='$\\Delta r = 6.22, \\Delta v = 67.0$')\n",
    "\n",
    "xlabel('$t(Gyrs)$', fontsize=25)\n",
    "ylabel('$R_{gal}(kpc)$', fontsize=25)\n",
    "legend()\n",
    "\n",
    "axhline(278)"
   ]
  },
  {
   "cell_type": "code",
   "execution_count": null,
   "metadata": {
    "collapsed": true
   },
   "outputs": [],
   "source": []
  }
 ],
 "metadata": {
  "kernelspec": {
   "display_name": "Python 3",
   "language": "python",
   "name": "python3"
  },
  "language_info": {
   "codemirror_mode": {
    "name": "ipython",
    "version": 3
   },
   "file_extension": ".py",
   "mimetype": "text/x-python",
   "name": "python",
   "nbconvert_exporter": "python",
   "pygments_lexer": "ipython3",
   "version": "3.4.3"
  }
 },
 "nbformat": 4,
 "nbformat_minor": 1
}
