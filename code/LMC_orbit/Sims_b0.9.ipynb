{
 "cells": [
  {
   "cell_type": "code",
   "execution_count": 15,
   "metadata": {
    "collapsed": false
   },
   "outputs": [
    {
     "name": "stdout",
     "output_type": "stream",
     "text": [
      "Populating the interactive namespace from numpy and matplotlib\n"
     ]
    }
   ],
   "source": [
    "%pylab inline\n",
    "import soda"
   ]
  },
  {
   "cell_type": "code",
   "execution_count": 4,
   "metadata": {
    "collapsed": true
   },
   "outputs": [],
   "source": [
    "#Function that reads the N-body simulation orbit\n",
    "def reading_Nbody(snap_name):\n",
    "    data = np.loadtxt('orbits/' + snap_name)\n",
    "    #time = data[:,0]\n",
    "    #Rgal = data[:,1]\n",
    "    x_sat= data[:,6]\n",
    "    y_sat = data[:,7]\n",
    "    z_sat = data[:,8]\n",
    "    x_gal = data[:,0]\n",
    "    y_gal = data[:,1]\n",
    "    z_gal = data[:,2]\n",
    "    #Vgal = data[:,8]\n",
    "    vx_sat = data[:,9]\n",
    "    vy_sat = data[:,10]\n",
    "    vz_sat = data[:,11]\n",
    "    vx_gal = data[:,3]\n",
    "    vy_gal = data[:,4]\n",
    "    vz_gal = data[:,5]\n",
    "    Rgal= np.sqrt((x_sat-x_gal)**2 + (y_sat-y_gal)**2 + (z_sat-z_gal)**2)\n",
    "    Vgal= np.sqrt((vx_sat-vx_gal)**2 + (vy_sat-vy_gal)**2 + (vz_sat-vz_gal)**2)\n",
    "\n",
    "    return Rgal, x_sat, y_sat, z_sat, x_gal, y_gal, z_gal, Vgal, vx_sat, vy_sat, vz_sat, vx_gal, vy_gal, vz_gal\n",
    "\n",
    "def best_values(x, y, z, vx, vy, vz):\n",
    "    \"\"\"\n",
    "    Computes the closes value of the N-body orbit to the observed present day LMC positions\n",
    "    and velocities.\n",
    "    \n",
    "    \"\"\"\n",
    "    x_obs = -1\n",
    "    y_obs = -41\n",
    "    z_obs = -28\n",
    "    vx_obs = -57\n",
    "    vy_obs = -226\n",
    "    vz_obs = 221\n",
    "    Robs = np.sqrt((x_obs-x)**2.0 + (y_obs-y)**2.0 + (z_obs-z)**2.0)\n",
    "    index = np.where(Robs == min(Robs))[0]\n",
    "    \n",
    "    sigma_vx = 13\n",
    "    sigma_vy = 15\n",
    "    sigma_vz = 19\n",
    "    \n",
    "    dx = x_obs - x[index]\n",
    "    dy = y_obs - y[index]\n",
    "    dz = z_obs - z[index]\n",
    "    \n",
    "    dvx = vx_obs - vx[index]\n",
    "    dvy = vy_obs - vy[index]\n",
    "    dvz = vz_obs - vz[index]\n",
    "    t = np.linspace(0, 3, 151)\n",
    "\n",
    "    print('Dr = ', dx, dy, dz, (dx**2 + dy**2 + dz**2)**0.5)\n",
    "    print('Dv = ', dvx, dvy, dvz, (dvx**2 + dvy**2 + dvz**2)**0.5)\n",
    "    return t[index], x[index], y[index], z[index], vx[index], vy[index], vz[index]\n",
    "    "
   ]
  },
  {
   "cell_type": "code",
   "execution_count": 276,
   "metadata": {
    "collapsed": false
   },
   "outputs": [
    {
     "name": "stdout",
     "output_type": "stream",
     "text": [
      "Dr =  [ 6.717579] [-8.853206] [-11.136107] [ 15.73270489]\n",
      "Dv =  [-20.960753] [ 47.709306] [-85.729504] [ 100.32486681]\n"
     ]
    },
    {
     "data": {
      "text/plain": [
       "(array([ 2.22]),\n",
       " array([-7.717579]),\n",
       " array([-32.146794]),\n",
       " array([-16.863893]),\n",
       " array([-36.039247]),\n",
       " array([-273.709306]),\n",
       " array([ 306.729504]))"
      ]
     },
     "execution_count": 276,
     "metadata": {},
     "output_type": "execute_result"
    }
   ],
   "source": [
    "orbit6_b09 = reading_Nbody('LMC6_40Mb09_orbit.txt')\n",
    "R_gal6_b09 = orbit6_b09[0]\n",
    "x_sat6_b09 = orbit6_b09[1]\n",
    "y_sat6_b09 = orbit6_b09[2]\n",
    "z_sat6_b09 = orbit6_b09[3]\n",
    "x_gal6_b09 = orbit6_b09[4]\n",
    "y_gal6_b09 = orbit6_b09[5]\n",
    "z_gal6_b09 = orbit6_b09[6]\n",
    "Vgal6_b09 = orbit6_b09[7]\n",
    "vx_sat6_b09 = orbit6_b09[8]\n",
    "vy_sat6_b09 = orbit6_b09[9]\n",
    "vz_sat6_b09 = orbit6_b09[10]\n",
    "vx_gal6_b09 = orbit6_b09[11]\n",
    "vy_gal6_b09 = orbit6_b09[12]\n",
    "vz_gal6_b09 = orbit6_b09[13]\n",
    "best_values(x_sat6_b09-x_gal6_b09, y_sat6_b09-y_gal6_b09, z_sat6_b09-z_gal6_b09, vx_sat6_b09-vx_gal6_b09,\n",
    "            vy_sat6_b09-vy_gal6_b09, vz_sat6_b09-vz_gal6_b09)"
   ]
  },
  {
   "cell_type": "code",
   "execution_count": 277,
   "metadata": {
    "collapsed": false
   },
   "outputs": [
    {
     "data": {
      "text/plain": [
       "[<matplotlib.lines.Line2D at 0x7fee0a666f60>]"
      ]
     },
     "execution_count": 277,
     "metadata": {},
     "output_type": "execute_result"
    },
    {
     "data": {
      "image/png": "[encoded data removed]",
      "text/plain": [
       "<matplotlib.figure.Figure at 0x7fee0abb8b00>"
      ]
     },
     "metadata": {},
     "output_type": "display_data"
    }
   ],
   "source": [
    "plot(R_gal6_b09)"
   ]
  },
  {
   "cell_type": "code",
   "execution_count": 9,
   "metadata": {
    "collapsed": false
   },
   "outputs": [
    {
     "name": "stdout",
     "output_type": "stream",
     "text": [
      "Dr =  [ 0.643318] [-11.86839] [-11.641382] [ 16.6371366]\n",
      "Dv =  [ 7.348068] [ 55.97946] [-105.529057] [ 119.68323156]\n"
     ]
    },
    {
     "data": {
      "text/plain": [
       "(array([ 2.14]),\n",
       " array([-1.643318]),\n",
       " array([-29.13161]),\n",
       " array([-16.358618]),\n",
       " array([-64.348068]),\n",
       " array([-281.97946]),\n",
       " array([ 326.529057]))"
      ]
     },
     "execution_count": 9,
     "metadata": {},
     "output_type": "execute_result"
    }
   ],
   "source": [
    "orbit5_b09 = reading_Nbody('LMC5_40Mb09_new_orbit.txt')\n",
    "R_gal5_b09 = orbit5_b09[0]\n",
    "x_sat5_b09 = orbit5_b09[1]\n",
    "y_sat5_b09 = orbit5_b09[2]\n",
    "z_sat5_b09 = orbit5_b09[3]\n",
    "x_gal5_b09 = orbit5_b09[4]\n",
    "y_gal5_b09 = orbit5_b09[5]\n",
    "z_gal5_b09 = orbit5_b09[6]\n",
    "Vgal5_b09 = orbit5_b09[7]\n",
    "vx_sat5_b09 = orbit5_b09[8]\n",
    "vy_sat5_b09 = orbit5_b09[9]\n",
    "vz_sat5_b09 = orbit5_b09[10]\n",
    "vx_gal5_b09 = orbit5_b09[11]\n",
    "vy_gal5_b09 = orbit5_b09[12]\n",
    "vz_gal5_b09 = orbit5_b09[13]\n",
    "best_values(x_sat5_b09-x_gal5_b09, y_sat5_b09-y_gal5_b09, z_sat5_b09-z_gal5_b09, vx_sat5_b09-vx_gal5_b09,\n",
    "            vy_sat5_b09-vy_gal5_b09, vz_sat5_b09-vz_gal5_b09)"
   ]
  },
  {
   "cell_type": "code",
   "execution_count": 11,
   "metadata": {
    "collapsed": false
   },
   "outputs": [
    {
     "name": "stdout",
     "output_type": "stream",
     "text": [
      "Dr =  [ 1.298168] [-8.639978] [-11.232532] [ 14.23039828]\n",
      "Dv =  [ 18.369159] [ 65.437547] [-91.090085] [ 113.6525501]\n"
     ]
    },
    {
     "data": {
      "text/plain": [
       "(array([ 2.26]),\n",
       " array([-2.298168]),\n",
       " array([-32.360022]),\n",
       " array([-16.767468]),\n",
       " array([-75.369159]),\n",
       " array([-291.437547]),\n",
       " array([ 312.090085]))"
      ]
     },
     "execution_count": 11,
     "metadata": {},
     "output_type": "execute_result"
    }
   ],
   "source": [
    "orbit4_b09 = reading_Nbody('LMC4_40Mb09_orbit.txt')\n",
    "R_gal4_b09 = orbit4_b09[0]\n",
    "x_sat4_b09 = orbit4_b09[1]\n",
    "y_sat4_b09 = orbit4_b09[2]\n",
    "z_sat4_b09 = orbit4_b09[3]\n",
    "x_gal4_b09 = orbit4_b09[4]\n",
    "y_gal4_b09 = orbit4_b09[5]\n",
    "z_gal4_b09 = orbit4_b09[6]\n",
    "Vgal4_b09 = orbit4_b09[7]\n",
    "vx_sat4_b09 = orbit4_b09[8]\n",
    "vy_sat4_b09 = orbit4_b09[9]\n",
    "vz_sat4_b09 = orbit4_b09[10]\n",
    "vx_gal4_b09 = orbit4_b09[11]\n",
    "vy_gal4_b09 = orbit4_b09[12]\n",
    "vz_gal4_b09 = orbit4_b09[13]\n",
    "best_values(x_sat4_b09-x_gal4_b09, y_sat4_b09-y_gal4_b09, z_sat4_b09-z_gal4_b09, vx_sat4_b09-vx_gal4_b09,\n",
    "            vy_sat4_b09-vy_gal4_b09, vz_sat4_b09-vz_gal4_b09)"
   ]
  },
  {
   "cell_type": "code",
   "execution_count": 13,
   "metadata": {
    "collapsed": false
   },
   "outputs": [
    {
     "name": "stdout",
     "output_type": "stream",
     "text": [
      "Dr =  [ 0.154607] [-3.571613] [-5.682336] [ 6.71336467]\n",
      "Dv =  [ 19.723178] [ 61.628154] [-56.069581] [ 85.6202723]\n"
     ]
    },
    {
     "data": {
      "text/plain": [
       "(array([ 1.82]),\n",
       " array([-1.154607]),\n",
       " array([-37.428387]),\n",
       " array([-22.317664]),\n",
       " array([-76.723178]),\n",
       " array([-287.628154]),\n",
       " array([ 277.069581]))"
      ]
     },
     "execution_count": 13,
     "metadata": {},
     "output_type": "execute_result"
    }
   ],
   "source": [
    "orbit3_b09 = reading_Nbody('LMC3_40Mb09_ic20_new_orbit.txt')\n",
    "R_gal3_b09 = orbit3_b09[0]\n",
    "x_sat3_b09 = orbit3_b09[1]\n",
    "y_sat3_b09 = orbit3_b09[2]\n",
    "z_sat3_b09 = orbit3_b09[3]\n",
    "x_gal3_b09 = orbit3_b09[4]\n",
    "y_gal3_b09 = orbit3_b09[5]\n",
    "z_gal3_b09 = orbit3_b09[6]\n",
    "Vgal3_b09 = orbit3_b09[7]\n",
    "vx_sat3_b09 = orbit3_b09[8]\n",
    "vy_sat3_b09 = orbit3_b09[9]\n",
    "vz_sat3_b09 = orbit3_b09[10]\n",
    "vx_gal3_b09 = orbit3_b09[11]\n",
    "vy_gal3_b09 = orbit3_b09[12]\n",
    "vz_gal3_b09 = orbit3_b09[13]\n",
    "best_values(x_sat3_b09-x_gal3_b09, y_sat3_b09-y_gal3_b09, z_sat3_b09-z_gal3_b09, vx_sat3_b09-vx_gal3_b09,\n",
    "            vy_sat3_b09-vy_gal3_b09, vz_sat3_b09-vz_gal3_b09)"
   ]
  },
  {
   "cell_type": "code",
   "execution_count": 84,
   "metadata": {
    "collapsed": false
   },
   "outputs": [
    {
     "data": {
      "text/plain": [
       "[<matplotlib.lines.Line2D at 0x7fee0b09dd30>]"
      ]
     },
     "execution_count": 84,
     "metadata": {},
     "output_type": "execute_result"
    },
    {
     "data": {
      "image/png": "[encoded data removed]",
      "text/plain": [
       "<matplotlib.figure.Figure at 0x7fee0b178f98>"
      ]
     },
     "metadata": {},
     "output_type": "display_data"
    }
   ],
   "source": [
    "plot(R_gal5_b09)\n",
    "plot(R_gal4_b09)\n",
    "plot(R_gal3_b09)"
   ]
  },
  {
   "cell_type": "code",
   "execution_count": 267,
   "metadata": {
    "collapsed": true
   },
   "outputs": [],
   "source": [
    "sat_pos = np.array([-1.6, -29, -10])\n",
    "sat_vel = np.array([-64, -281, 326])\n",
    "pos_host = np.array([0,0,0])\n",
    "vel_host = np.array([0,0,0])\n",
    "host_model = ['NFW', 1.2E12, 279, 18]\n",
    "disk_params = [5.78E10, 3.5, 0.53]\n",
    "bulge_params = [1.4E10, 0.7]\n",
    "alpha = [0, 0.005]\n",
    "time = 3\n",
    "d_t = 0.001"
   ]
  },
  {
   "cell_type": "code",
   "execution_count": 268,
   "metadata": {
    "collapsed": true
   },
   "outputs": [],
   "source": [
    "sat_mass = [8E10, 1E11, 1.8E11, 2.5E11]\n",
    "sat_rs = [14, 15, 20, 22.5]\n",
    "LMC3 = ['hernquist', sat_mass[0], sat_rs[0]]\n",
    "LMC4 = ['hernquist', sat_mass[1], sat_rs[1]]\n",
    "LMC5 = ['hernquist', sat_mass[2], sat_rs[2]]\n",
    "LMC6 = ['hernquist', sat_mass[3], sat_rs[3]]"
   ]
  },
  {
   "cell_type": "code",
   "execution_count": 269,
   "metadata": {
    "collapsed": false
   },
   "outputs": [
    {
     "name": "stdout",
     "output_type": "stream",
     "text": [
      "Host:  0.0 0.0 0.0\n",
      "Satellite 1 : -1.6 -29.0 -10.0\n"
     ]
    }
   ],
   "source": [
    "orbit = soda.leapfrog.integrate_sat(time, pos_host, vel_host, host_model, disk_params, \n",
    "                                    bulge_params, alpha=alpha, dt=d_t, direction=1, \n",
    "                                    satellite_model = LMC5, pos_sat=sat_pos, vel_sat=sat_vel)"
   ]
  },
  {
   "cell_type": "code",
   "execution_count": 270,
   "metadata": {
    "collapsed": true
   },
   "outputs": [],
   "source": [
    "t = orbit[0]\n",
    "xyz_sat = orbit[1]\n",
    "vxyz_sat = orbit[2]\n",
    "xyz_host = orbit[3]\n",
    "vxyz_host = orbit[4]"
   ]
  },
  {
   "cell_type": "code",
   "execution_count": 271,
   "metadata": {
    "collapsed": false
   },
   "outputs": [
    {
     "data": {
      "text/plain": [
       "[<matplotlib.lines.Line2D at 0x7fee188bb2e8>]"
      ]
     },
     "execution_count": 271,
     "metadata": {},
     "output_type": "execute_result"
    },
    {
     "data": {
      "image/png": "[encoded data removed]",
      "text/plain": [
       "<matplotlib.figure.Figure at 0x7fee0af9c4e0>"
      ]
     },
     "metadata": {},
     "output_type": "display_data"
    }
   ],
   "source": [
    "plot(t, np.sqrt((xyz_sat[:,0]-xyz_host[:,0])**2.0+(xyz_sat[:,1]-xyz_host[:,1])**2.0\n",
    "                    +(xyz_sat[:,2]-xyz_host[:,2])**2.0), lw=2.0)\n",
    "\n",
    "#plot(np.linspace(0, 3, 151)-1.82, R_gal3_b09)\n",
    "#plot(np.linspace(0, 3, 151)-2.26, R_gal4_b09)\n",
    "plot(np.linspace(0, 3, 151)-2.14, R_gal5_b09)\n",
    "\n",
    "#ylim(0, 700)"
   ]
  },
  {
   "cell_type": "code",
   "execution_count": 272,
   "metadata": {
    "collapsed": true
   },
   "outputs": [],
   "source": [
    "sat_pos = np.array([-1, -41, -28])\n",
    "sat_vel = np.array([-57, -226, 221])\n",
    "alpha = [0, 0.02]\n"
   ]
  },
  {
   "cell_type": "code",
   "execution_count": 273,
   "metadata": {
    "collapsed": false
   },
   "outputs": [
    {
     "name": "stdout",
     "output_type": "stream",
     "text": [
      "Host:  0.0 0.0 0.0\n",
      "Satellite 1 : -1.0 -41.0 -28.0\n"
     ]
    }
   ],
   "source": [
    "orbit = soda.leapfrog.integrate_sat(time, pos_host, vel_host, host_model, disk_params, \n",
    "                                    bulge_params, alpha=alpha, dt=d_t, direction=1, \n",
    "                                    satellite_model = LMC5, pos_sat=sat_pos, vel_sat=sat_vel)"
   ]
  },
  {
   "cell_type": "code",
   "execution_count": 274,
   "metadata": {
    "collapsed": false
   },
   "outputs": [
    {
     "data": {
      "text/plain": [
       "[<matplotlib.lines.Line2D at 0x7fee0af2fc18>]"
      ]
     },
     "execution_count": 274,
     "metadata": {},
     "output_type": "execute_result"
    },
    {
     "data": {
      "image/png": "[encoded data removed]",
      "text/plain": [
       "<matplotlib.figure.Figure at 0x7fee0aa9fc50>"
      ]
     },
     "metadata": {},
     "output_type": "display_data"
    }
   ],
   "source": [
    "plot(t, np.sqrt((xyz_sat[:,0]-xyz_host[:,0])**2.0+(xyz_sat[:,1]-xyz_host[:,1])**2.0\n",
    "                    +(xyz_sat[:,2]-xyz_host[:,2])**2.0), lw=2.0)"
   ]
  },
  {
   "cell_type": "code",
   "execution_count": null,
   "metadata": {
    "collapsed": true
   },
   "outputs": [],
   "source": []
  }
 ],
 "metadata": {
  "kernelspec": {
   "display_name": "Python 3",
   "language": "python",
   "name": "python3"
  },
  "language_info": {
   "codemirror_mode": {
    "name": "ipython",
    "version": 3
   },
   "file_extension": ".py",
   "mimetype": "text/x-python",
   "name": "python",
   "nbconvert_exporter": "python",
   "pygments_lexer": "ipython3",
   "version": "3.4.3"
  }
 },
 "nbformat": 4,
 "nbformat_minor": 0
}
