{
 "cells": [
  {
   "cell_type": "code",
   "execution_count": 1,
   "metadata": {},
   "outputs": [
    {
     "name": "stdout",
     "output_type": "stream",
     "text": [
      "Populating the interactive namespace from numpy and matplotlib\n"
     ]
    }
   ],
   "source": [
    "%pylab inline\n",
    "import matplotlib as mpl\n",
    "from pygadgetreader import *\n",
    "from mpl_toolkits.mplot3d import Axes3D\n",
    "import soda"
   ]
  },
  {
   "cell_type": "code",
   "execution_count": 2,
   "metadata": {
    "collapsed": true
   },
   "outputs": [],
   "source": [
    "font = {'size':16, 'family':'serif'}\n",
    "matplotlib.rc('font', **font)"
   ]
  },
  {
   "cell_type": "code",
   "execution_count": 3,
   "metadata": {
    "collapsed": true
   },
   "outputs": [],
   "source": [
    "# Function that reads the data from the Analytic integration\n",
    "#Galactocentic distances and velocities\n",
    "def reading_data(snap_name):\n",
    "    host = loadtxt('../../../orbits/data/lmc/'+ snap_name +'_host.txt')\n",
    "    sat = loadtxt('../../../orbits/data/lmc/'+ snap_name +'_sat.txt')\n",
    "    t = host[:,0] \n",
    "    # Defining galactocentric distances and velocities\n",
    "    x = sat[:,1] - host[:,1] \n",
    "    y = sat[:,2] - host[:,2] \n",
    "    z = sat[:,3] - host[:,3] \n",
    "\n",
    "    vx = sat[:,4] - host[:,4] \n",
    "    vy = sat[:,5] - host[:,5] \n",
    "    vz = sat[:,6] - host[:,6]        \n",
    "\n",
    "    Rgal = np.sqrt(x**2.0 + y**2.0 + z**2.0)\n",
    "    Vgal = np.sqrt(vx**2.0 + vy**2.0 + vz**2.0)\n",
    "    \n",
    "    return t, x, y, z, vx, vy, vz, Rgal, Vgal\n",
    "\n",
    "# Host coordinates and velocities\n",
    "def data_host(snap_name):\n",
    "    host = loadtxt('../../../orbits/data/lmc/'+ snap_name +'_host.txt')\n",
    "    return host[:,1], host[:,2], host[:,3], host[:,4], host[:,5], host[:,6]\n",
    "\n",
    "# Satellite coordinates and velocities\n",
    "def data_sat(snap_name):\n",
    "    sat = loadtxt('../../../orbits/data/lmc/'+ snap_name +'_sat.txt')\n",
    "    return sat[:,1], sat[:,2], sat[:,3], sat[:,4], sat[:,5], sat[:,6]\n",
    "\n",
    "#ICs\n",
    "def ICs(Rgal, cut, x, y, z, vx, vy, vz, t):\n",
    "    Rcut = np.where(Rgal>=cut)[0]\n",
    "    return Rgal[Rcut[0]], x[Rcut[0]], y[Rcut[0]], z[Rcut[0]], vx[Rcut[0]], vy[Rcut[0]], vz[Rcut[0]], t[Rcut[0]]\n",
    "\n",
    "#Function that reads the N-body sumulation orbit\n",
    "def reading_Nbody(snap_name):\n",
    "    data = np.loadtxt('orbits/' + snap_name)\n",
    "    #time = data[:,0]\n",
    "    #Rgal = data[:,1]\n",
    "    x_sat= data[:,6]\n",
    "    y_sat = data[:,7]\n",
    "    z_sat = data[:,8]\n",
    "    x_gal = data[:,0]\n",
    "    y_gal = data[:,1]\n",
    "    z_gal = data[:,2]\n",
    "    #Vgal = data[:,8]\n",
    "    vx_sat = data[:,9]\n",
    "    vy_sat = data[:,10]\n",
    "    vz_sat = data[:,11]\n",
    "    vx_gal = data[:,3]\n",
    "    vy_gal = data[:,4]\n",
    "    vz_gal = data[:,5]\n",
    "    Rgal= np.sqrt((x_sat-x_gal)**2 + (y_sat-y_gal)**2 + (z_sat-z_gal)**2)\n",
    "    Vgal= np.sqrt((vx_sat-vx_gal)**2 + (vy_sat-vy_gal)**2 + (vz_sat-vz_gal)**2)\n",
    "\n",
    "    return Rgal, x_sat, y_sat, z_sat, x_gal, y_gal, z_gal, Vgal, vx_sat, vy_sat, vz_sat, vx_gal, vy_gal, vz_gal\n",
    "\n",
    "def best_values(x, y, z, vx, vy, vz):\n",
    "    \"\"\"\n",
    "    Computes the closes value of the N-body orbit to the observed present day LMC positions\n",
    "    and velocities.\n",
    "    \n",
    "    \"\"\"\n",
    "    x_obs = -1\n",
    "    y_obs = -41\n",
    "    z_obs = -28\n",
    "    vx_obs = -57\n",
    "    vy_obs = -226\n",
    "    vz_obs = 221\n",
    "    Robs = np.sqrt((x_obs-x)**2.0 + (y_obs-y)**2.0 + (z_obs-z)**2.0)\n",
    "    index = np.where(Robs == min(Robs))[0]\n",
    "    \n",
    "    sigma_vx = 13\n",
    "    sigma_vy = 15\n",
    "    sigma_vz = 19\n",
    "    \n",
    "    dx = x_obs - x[index]\n",
    "    dy = y_obs - y[index]\n",
    "    dz = z_obs - z[index]\n",
    "    \n",
    "    dvx = vx_obs - vx[index]\n",
    "    dvy = vy_obs - vy[index]\n",
    "    dvz = vz_obs - vz[index]\n",
    "    t = np.linspace(0, 3, 151)\n",
    "\n",
    "    print('Dr = ', dx, dy, dz)\n",
    "    print('Dv = ', dvx, dvy, dvz)\n",
    "    \n",
    "    return t[index], x[index], y[index], z[index], vx[index], vy[index], vz[index]"
   ]
  },
  {
   "cell_type": "code",
   "execution_count": 4,
   "metadata": {
    "collapsed": true
   },
   "outputs": [],
   "source": [
    "def analytic_integration(a_soft, pos_sat, vel_sat):\n",
    "    MW_halo_mass= 1.3E12\n",
    "    a = 18.54\n",
    "    M_disk = 5.78E10\n",
    "    M_bulge = 1.41E10\n",
    "    CC = 15\n",
    "\n",
    "    sat_model = ['hernquist', 1E11, 12.7]\n",
    "\n",
    "    pos_host = np.array([0,0,0])\n",
    "    vel_host = np.array([0,0,0])\n",
    "    host_model = ['NFW', MW_halo_mass, 278, CC]\n",
    "    disk_params = [M_disk, 3.5, 0.68]\n",
    "    bulge_params = [M_bulge, 0.7]\n",
    "    alpha = [0, a_soft]\n",
    "    time = 5.0\n",
    "    #d_t = [0.1, 0.01, 0.001]\n",
    "    t_nb, sat_R_nb, sat_V_nb, host_R_nb, host_V_nb = soda.leapfrog.integrate_sat(3, pos_host, vel_host,\n",
    "                                                                  host_model, disk_params, bulge_params,\n",
    "                                                                  satellite_model=sat_model,\n",
    "                                                                  pos_sat=pos_sat, vel_sat=vel_sat,\n",
    "                                                                  direction=1,\n",
    "                                                                  dt=0.01,\n",
    "                                                                  alpha=alpha)\n",
    "    Rgal= np.sqrt((sat_R_nb[:,0]-host_R_nb[:,0])**2 + (sat_R_nb[:,1]-host_R_nb[:,1])**2 + \n",
    "                  (sat_R_nb[:,2]-host_R_nb[:,2])**2)\n",
    "\n",
    "    gal_posx = sat_R_nb[:,0]-host_R_nb[:,0]\n",
    "    gal_posy = sat_R_nb[:,1]-host_R_nb[:,1]\n",
    "    gal_posz = sat_R_nb[:,2]-host_R_nb[:,2]\n",
    "\n",
    "    gal_velx = sat_V_nb[:,0]-host_V_nb[:,0]\n",
    "    gal_vely = sat_V_nb[:,1]-host_V_nb[:,1]\n",
    "    gal_velz = sat_V_nb[:,2]-host_V_nb[:,2]\n",
    "    \n",
    "    return t_nb, Rgal, gal_posx, gal_posy, gal_posz, gal_velx, gal_vely, gal_velz"
   ]
  },
  {
   "cell_type": "code",
   "execution_count": 5,
   "metadata": {},
   "outputs": [
    {
     "name": "stdout",
     "output_type": "stream",
     "text": [
      "Host:  0.0 0.0 0.0\n",
      "Satellite 1 : -1.0 -41.0 -28.0\n"
     ]
    }
   ],
   "source": [
    "t_an1_06, Ran1_06, posx1_06, posy1_06, posz1_06, velx1_06, vely1_06, velz1_06 = analytic_integration(0.65, [-1, -41, -28],\n",
    "                                                                                                    [-57, -226, 221])"
   ]
  },
  {
   "cell_type": "code",
   "execution_count": 6,
   "metadata": {},
   "outputs": [
    {
     "name": "stdout",
     "output_type": "stream",
     "text": [
      "18.3573699437 261.068262242 90.4794353999\n",
      "10.7771160192 0.203445030833 -62.4039189092\n"
     ]
    },
    {
     "data": {
      "text/plain": [
       "<matplotlib.lines.Line2D at 0x7fb38539d4e0>"
      ]
     },
     "execution_count": 6,
     "metadata": {},
     "output_type": "execute_result"
    },
    {
     "data": {
      "image/png": "[encoded data removed]",
      "text/plain": [
       "<matplotlib.figure.Figure at 0x7fb3852ace48>"
      ]
     },
     "metadata": {},
     "output_type": "display_data"
    }
   ],
   "source": [
    "plot(t_an1_06, Ran1_06)\n",
    "scatter(t_an1_06[-70], Ran1_06[-70])\n",
    "print(posx1_06[-70], posy1_06[-70], posz1_06[-70])\n",
    "print(velx1_06[-70], vely1_06[-70], velz1_06[-70])\n",
    "\n",
    "axhline(278)"
   ]
  },
  {
   "cell_type": "code",
   "execution_count": 7,
   "metadata": {},
   "outputs": [
    {
     "name": "stdout",
     "output_type": "stream",
     "text": [
      "Host:  0.0 0.0 0.0\n",
      "Satellite 1 : -1.0 -41.0 -28.0\n"
     ]
    }
   ],
   "source": [
    "t_an1_07, Ran1_07, posx1_07, posy1_07, posz1_07, velx1_07, vely1_07, velz1_07 = analytic_integration(0.7, [-1, -41, -28],\n",
    "                                                                                                    [-57, -226, 221])"
   ]
  },
  {
   "cell_type": "code",
   "execution_count": 8,
   "metadata": {},
   "outputs": [
    {
     "name": "stdout",
     "output_type": "stream",
     "text": [
      "20.6720645735 269.332877423 83.4259186942\n",
      "9.21774319235 -15.2507126079 -66.8506441137\n"
     ]
    },
    {
     "data": {
      "text/plain": [
       "<matplotlib.lines.Line2D at 0x7fb3853be5f8>"
      ]
     },
     "execution_count": 8,
     "metadata": {},
     "output_type": "execute_result"
    },
    {
     "data": {
      "image/png": "[encoded data removed]",
      "text/plain": [
       "<matplotlib.figure.Figure at 0x7fb38539d860>"
      ]
     },
     "metadata": {},
     "output_type": "display_data"
    }
   ],
   "source": [
    "plot(t_an1_07, Ran1_07)\n",
    "scatter(t_an1_07[-80], Ran1_07[-80])\n",
    "print(posx1_07[-80], posy1_07[-80], posz1_07[-80])\n",
    "print(velx1_07[-80], vely1_07[-80], velz1_07[-80])\n",
    "\n",
    "axhline(278)\n"
   ]
  },
  {
   "cell_type": "code",
   "execution_count": 9,
   "metadata": {},
   "outputs": [
    {
     "name": "stdout",
     "output_type": "stream",
     "text": [
      "Host:  0.0 0.0 0.0\n",
      "Satellite 1 : -1.0 -41.0 -28.0\n"
     ]
    }
   ],
   "source": [
    "t_an1_08, Ran1_08, posx1_08, posy1_08, posz1_08, velx1_08, vely1_08, velz1_08 = analytic_integration(0.8, [-1, -41, -28],\n",
    "                                                                                                    [-57, -226, 221])"
   ]
  },
  {
   "cell_type": "code",
   "execution_count": 10,
   "metadata": {},
   "outputs": [
    {
     "name": "stdout",
     "output_type": "stream",
     "text": [
      "23.8551608033 282.36706546 75.3895608629\n",
      "6.85814520492 -35.78835839 -71.0930725397\n"
     ]
    },
    {
     "data": {
      "text/plain": [
       "<matplotlib.lines.Line2D at 0x7fb38532d208>"
      ]
     },
     "execution_count": 10,
     "metadata": {},
     "output_type": "execute_result"
    },
    {
     "data": {
      "image/png": "[encoded data removed]",
      "text/plain": [
       "<matplotlib.figure.Figure at 0x7fb385359fd0>"
      ]
     },
     "metadata": {},
     "output_type": "display_data"
    }
   ],
   "source": [
    "plot(t_an1_08, Ran1_08)\n",
    "scatter(t_an1_08[-90], Ran1_08[-90])\n",
    "print(posx1_08[-90], posy1_08[-90], posz1_08[-90])\n",
    "print(velx1_08[-90], vely1_08[-90], velz1_08[-90])\n",
    "\n",
    "axhline(278)\n"
   ]
  },
  {
   "cell_type": "code",
   "execution_count": 11,
   "metadata": {},
   "outputs": [
    {
     "name": "stdout",
     "output_type": "stream",
     "text": [
      "Host:  0.0 0.0 0.0\n",
      "Satellite 1 : -1.0 -41.0 -28.0\n"
     ]
    }
   ],
   "source": [
    "t_an1_09, Ran1_09, posx1_09, posy1_09, posz1_09, velx1_09, vely1_09, velz1_09 = analytic_integration(0.92, [-1, -41, -28],\n",
    "                                                                                                    [-57, -226, 221])"
   ]
  },
  {
   "cell_type": "code",
   "execution_count": 12,
   "metadata": {},
   "outputs": [
    {
     "name": "stdout",
     "output_type": "stream",
     "text": [
      "25.3685454902 307.999823746 88.4657138841\n",
      "6.04282626887 -36.9454356208 -68.8218537826\n"
     ]
    },
    {
     "data": {
      "text/plain": [
       "<matplotlib.lines.Line2D at 0x7fb3832185f8>"
      ]
     },
     "execution_count": 12,
     "metadata": {},
     "output_type": "execute_result"
    },
    {
     "data": {
      "image/png": "[encoded data removed]",
      "text/plain": [
       "<matplotlib.figure.Figure at 0x7fb385368908>"
      ]
     },
     "metadata": {},
     "output_type": "display_data"
    }
   ],
   "source": [
    "plot(t_an1_09, Ran1_09)\n",
    "scatter(t_an1_09[-70], Ran1_09[-70])\n",
    "print(posx1_09[-70], posy1_09[-70], posz1_09[-70])\n",
    "print(velx1_09[-70], vely1_09[-70], velz1_09[-70])\n",
    "\n",
    "axhline(278)"
   ]
  },
  {
   "cell_type": "code",
   "execution_count": 13,
   "metadata": {},
   "outputs": [
    {
     "name": "stdout",
     "output_type": "stream",
     "text": [
      "Dr =  [-0.321277] [-7.01545] [-7.846089]\n",
      "Dv =  [ 24.753413] [ 55.023039] [-31.07196]\n"
     ]
    },
    {
     "data": {
      "text/plain": [
       "(array([ 2.3]),\n",
       " array([-0.678723]),\n",
       " array([-33.98455]),\n",
       " array([-20.153911]),\n",
       " array([-81.753413]),\n",
       " array([-281.023039]),\n",
       " array([ 252.07196]))"
      ]
     },
     "execution_count": 13,
     "metadata": {},
     "output_type": "execute_result"
    }
   ],
   "source": [
    "RgalNB_065, x_sat, y_sat, z_sat, x_gal, y_gal, z_gal, Vgal, vx_sat, vy_sat, vz_sat, vx_gal,\\\n",
    "vy_gal, vz_gal = reading_Nbody('LMC4/LMC4_1Mb0_orbit_1_065.txt')\n",
    "best_values(x_sat-x_gal, y_sat-y_gal, z_sat-z_gal, vx_sat-vx_gal, vy_sat-vy_gal, vz_sat-vz_gal)"
   ]
  },
  {
   "cell_type": "code",
   "execution_count": 14,
   "metadata": {},
   "outputs": [
    {
     "data": {
      "text/plain": [
       "[<matplotlib.lines.Line2D at 0x7fb38317def0>]"
      ]
     },
     "execution_count": 14,
     "metadata": {},
     "output_type": "execute_result"
    },
    {
     "data": {
      "image/png": "[encoded data removed]",
      "text/plain": [
       "<matplotlib.figure.Figure at 0x7fb385288908>"
      ]
     },
     "metadata": {},
     "output_type": "display_data"
    }
   ],
   "source": [
    "plot(RgalNB_065)"
   ]
  },
  {
   "cell_type": "code",
   "execution_count": 15,
   "metadata": {},
   "outputs": [
    {
     "name": "stdout",
     "output_type": "stream",
     "text": [
      "Dr =  [-1.168921] [-8.363674] [-5.042807]\n",
      "Dv =  [ 21.113545] [ 64.58659] [-21.47868]\n"
     ]
    },
    {
     "data": {
      "text/plain": [
       "(array([ 2.18]),\n",
       " array([ 0.168921]),\n",
       " array([-32.636326]),\n",
       " array([-22.957193]),\n",
       " array([-78.113545]),\n",
       " array([-290.58659]),\n",
       " array([ 242.47868]))"
      ]
     },
     "execution_count": 15,
     "metadata": {},
     "output_type": "execute_result"
    }
   ],
   "source": [
    "RgalNB_07, x_sat, y_sat, z_sat, x_gal, y_gal, z_gal, Vgal, vx_sat, vy_sat, vz_sat, vx_gal,\\\n",
    "vy_gal, vz_gal = reading_Nbody('LMC4/LMC4_1Mb0_orbit_1_07.txt')\n",
    "best_values(x_sat-x_gal, y_sat-y_gal, z_sat-z_gal, vx_sat-vx_gal, vy_sat-vy_gal, vz_sat-vz_gal)"
   ]
  },
  {
   "cell_type": "code",
   "execution_count": 16,
   "metadata": {},
   "outputs": [
    {
     "data": {
      "text/plain": [
       "[<matplotlib.lines.Line2D at 0x7fb3831cb908>]"
      ]
     },
     "execution_count": 16,
     "metadata": {},
     "output_type": "execute_result"
    },
    {
     "data": {
      "image/png": "[encoded data removed]",
      "text/plain": [
       "<matplotlib.figure.Figure at 0x7fb3831cb4e0>"
      ]
     },
     "metadata": {},
     "output_type": "display_data"
    }
   ],
   "source": [
    "plot(linspace(0, 3, 151)-3, RgalNB_07)\n",
    "plot(t_an1_07, Ran1_07)\n"
   ]
  },
  {
   "cell_type": "code",
   "execution_count": 17,
   "metadata": {},
   "outputs": [
    {
     "name": "stdout",
     "output_type": "stream",
     "text": [
      "Dr =  [-0.692144] [-4.810501] [-4.145121]\n",
      "Dv =  [ 26.458482] [ 48.624078] [-17.159988]\n"
     ]
    },
    {
     "data": {
      "text/plain": [
       "(array([ 2.2]),\n",
       " array([-0.307856]),\n",
       " array([-36.189499]),\n",
       " array([-23.854879]),\n",
       " array([-83.458482]),\n",
       " array([-274.624078]),\n",
       " array([ 238.159988]))"
      ]
     },
     "execution_count": 17,
     "metadata": {},
     "output_type": "execute_result"
    }
   ],
   "source": [
    "RgalNB_08, x_sat, y_sat, z_sat, x_gal, y_gal, z_gal, Vgal, vx_sat, vy_sat, vz_sat, vx_gal,\\\n",
    "vy_gal, vz_gal = reading_Nbody('LMC4/LMC4_1Mb0_orbit_08.txt')\n",
    "best_values(x_sat-x_gal, y_sat-y_gal, z_sat-z_gal, vx_sat-vx_gal, vy_sat-vy_gal, vz_sat-vz_gal)"
   ]
  },
  {
   "cell_type": "code",
   "execution_count": 18,
   "metadata": {},
   "outputs": [
    {
     "name": "stdout",
     "output_type": "stream",
     "text": [
      "Dr =  [-0.110288] [-1.809123] [-4.814274]\n",
      "Dv =  [ 14.834004] [ 47.44703] [-26.511538]\n"
     ]
    },
    {
     "data": {
      "text/plain": [
       "(array([ 2.32]),\n",
       " array([-0.889712]),\n",
       " array([-39.190877]),\n",
       " array([-23.185726]),\n",
       " array([-71.834004]),\n",
       " array([-273.44703]),\n",
       " array([ 247.511538]))"
      ]
     },
     "execution_count": 18,
     "metadata": {},
     "output_type": "execute_result"
    }
   ],
   "source": [
    "RgalNB_09, x_sat, y_sat, z_sat, x_gal, y_gal, z_gal, Vgal, vx_sat, vy_sat, vz_sat, vx_gal,\\\n",
    "vy_gal, vz_gal = reading_Nbody('LMC4/LMC4_1Mb0_orbit_09.txt')\n",
    "best_values(x_sat-x_gal, y_sat-y_gal, z_sat-z_gal, vx_sat-vx_gal, vy_sat-vy_gal, vz_sat-vz_gal)"
   ]
  },
  {
   "cell_type": "code",
   "execution_count": 19,
   "metadata": {},
   "outputs": [
    {
     "name": "stdout",
     "output_type": "stream",
     "text": [
      "Dr =  [-0.021999] [-1.508951] [-4.997738]\n",
      "Dv =  [ 9.0106] [ 44.26081] [-23.86268]\n"
     ]
    },
    {
     "data": {
      "text/plain": [
       "(array([ 2.32]),\n",
       " array([-0.978001]),\n",
       " array([-39.491049]),\n",
       " array([-23.002262]),\n",
       " array([-66.0106]),\n",
       " array([-270.26081]),\n",
       " array([ 244.86268]))"
      ]
     },
     "execution_count": 19,
     "metadata": {},
     "output_type": "execute_result"
    }
   ],
   "source": [
    "RgalNB_092, x_sat, y_sat, z_sat, x_gal, y_gal, z_gal, Vgal, vx_sat, vy_sat, vz_sat, vx_gal,\\\n",
    "vy_gal, vz_gal = reading_Nbody('LMC4/LMC4_1Mb0_orbit_092.txt')\n",
    "best_values(x_sat-x_gal, y_sat-y_gal, z_sat-z_gal, vx_sat-vx_gal, vy_sat-vy_gal, vz_sat-vz_gal)"
   ]
  },
  {
   "cell_type": "code",
   "execution_count": 20,
   "metadata": {},
   "outputs": [
    {
     "name": "stdout",
     "output_type": "stream",
     "text": [
      "Dr =  [-0.133848] [-1.579271] [-4.682491]\n",
      "Dv =  [ 11.026272] [ 46.679513] [-25.738725]\n"
     ]
    },
    {
     "data": {
      "text/plain": [
       "(array([ 2.32]),\n",
       " array([-0.866152]),\n",
       " array([-39.420729]),\n",
       " array([-23.317509]),\n",
       " array([-68.026272]),\n",
       " array([-272.679513]),\n",
       " array([ 246.738725]))"
      ]
     },
     "execution_count": 20,
     "metadata": {},
     "output_type": "execute_result"
    }
   ],
   "source": [
    "RgalNB_2092, x_sat, y_sat, z_sat, x_gal, y_gal, z_gal, Vgal, vx_sat, vy_sat, vz_sat, vx_gal,\\\n",
    "vy_gal, vz_gal = reading_Nbody('LMC4/LMC4_1Mb0_orbit_2_092.txt')\n",
    "best_values(x_sat-x_gal, y_sat-y_gal, z_sat-z_gal, vx_sat-vx_gal, vy_sat-vy_gal, vz_sat-vz_gal)"
   ]
  },
  {
   "cell_type": "code",
   "execution_count": 21,
   "metadata": {},
   "outputs": [
    {
     "name": "stdout",
     "output_type": "stream",
     "text": [
      "Dr =  [-1.143719] [-5.659114] [-2.250573]\n",
      "Dv =  [ 28.668801] [ 55.798899] [-13.261389]\n"
     ]
    },
    {
     "data": {
      "text/plain": [
       "(array([ 2.28]),\n",
       " array([ 0.143719]),\n",
       " array([-35.340886]),\n",
       " array([-25.749427]),\n",
       " array([-85.668801]),\n",
       " array([-281.798899]),\n",
       " array([ 234.261389]))"
      ]
     },
     "execution_count": 21,
     "metadata": {},
     "output_type": "execute_result"
    }
   ],
   "source": [
    "RgalNB_3092, x_sat, y_sat, z_sat, x_gal, y_gal, z_gal, Vgal, vx_sat, vy_sat, vz_sat, vx_gal,\\\n",
    "vy_gal, vz_gal = reading_Nbody('LMC4/LMC4_1Mb0_orbit_3_092.txt')\n",
    "best_values(x_sat-x_gal, y_sat-y_gal, z_sat-z_gal, vx_sat-vx_gal, vy_sat-vy_gal, vz_sat-vz_gal)"
   ]
  },
  {
   "cell_type": "code",
   "execution_count": 22,
   "metadata": {},
   "outputs": [
    {
     "name": "stdout",
     "output_type": "stream",
     "text": [
      "Dr =  [-1.154123] [-5.601995] [-2.007403]\n",
      "Dv =  [ 23.079359] [ 59.29018] [-15.41244]\n"
     ]
    },
    {
     "data": {
      "text/plain": [
       "(array([ 2.28]),\n",
       " array([ 0.154123]),\n",
       " array([-35.398005]),\n",
       " array([-25.992597]),\n",
       " array([-80.079359]),\n",
       " array([-285.29018]),\n",
       " array([ 236.41244]))"
      ]
     },
     "execution_count": 22,
     "metadata": {},
     "output_type": "execute_result"
    }
   ],
   "source": [
    "RgalNB_4092, x_sat, y_sat, z_sat, x_gal, y_gal, z_gal, Vgal, vx_sat, vy_sat, vz_sat, vx_gal,\\\n",
    "vy_gal, vz_gal = reading_Nbody('LMC4/LMC4_1Mb0_orbit_4_092.txt')\n",
    "best_values(x_sat-x_gal, y_sat-y_gal, z_sat-z_gal, vx_sat-vx_gal, vy_sat-vy_gal, vz_sat-vz_gal)"
   ]
  },
  {
   "cell_type": "code",
   "execution_count": 23,
   "metadata": {},
   "outputs": [
    {
     "name": "stdout",
     "output_type": "stream",
     "text": [
      "Dr =  [ 0.103973] [-1.510017] [-5.248957]\n",
      "Dv =  [ 13.660049] [ 49.885619] [-26.091741]\n"
     ]
    },
    {
     "data": {
      "text/plain": [
       "(array([ 2.32]),\n",
       " array([-1.103973]),\n",
       " array([-39.489983]),\n",
       " array([-22.751043]),\n",
       " array([-70.660049]),\n",
       " array([-275.885619]),\n",
       " array([ 247.091741]))"
      ]
     },
     "execution_count": 23,
     "metadata": {},
     "output_type": "execute_result"
    }
   ],
   "source": [
    "RgalNB_5092, x_sat, y_sat, z_sat, x_gal, y_gal, z_gal, Vgal, vx_sat, vy_sat, vz_sat, vx_gal,\\\n",
    "vy_gal, vz_gal = reading_Nbody('LMC4/LMC4_1Mb0_orbit_5_092.txt')\n",
    "best_values(x_sat-x_gal, y_sat-y_gal, z_sat-z_gal, vx_sat-vx_gal, vy_sat-vy_gal, vz_sat-vz_gal)"
   ]
  },
  {
   "cell_type": "code",
   "execution_count": null,
   "metadata": {
    "collapsed": true
   },
   "outputs": [],
   "source": []
  },
  {
   "cell_type": "code",
   "execution_count": null,
   "metadata": {
    "collapsed": true
   },
   "outputs": [],
   "source": []
  },
  {
   "cell_type": "code",
   "execution_count": null,
   "metadata": {
    "collapsed": true
   },
   "outputs": [],
   "source": []
  }
 ],
 "metadata": {
  "kernelspec": {
   "display_name": "Python 3",
   "language": "python",
   "name": "python3"
  },
  "language_info": {
   "codemirror_mode": {
    "name": "ipython",
    "version": 3
   },
   "file_extension": ".py",
   "mimetype": "text/x-python",
   "name": "python",
   "nbconvert_exporter": "python",
   "pygments_lexer": "ipython3",
   "version": "3.5.2"
  }
 },
 "nbformat": 4,
 "nbformat_minor": 1
}
