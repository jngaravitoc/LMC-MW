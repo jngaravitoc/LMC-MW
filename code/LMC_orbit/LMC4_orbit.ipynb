{
 "cells": [
  {
   "cell_type": "code",
   "execution_count": 1,
   "metadata": {
    "collapsed": false
   },
   "outputs": [
    {
     "name": "stderr",
     "output_type": "stream",
     "text": [
      "/usr/local/lib/python3.4/dist-packages/matplotlib/__init__.py:841: UserWarning: Found matplotlib configuration in ~/.matplotlib/. To conform with the XDG base directory standard, this configuration location has been deprecated on Linux, and the new location is now /home/ngaravito/.config/matplotlib/. Please move your configuration there to ensure that matplotlib will continue to find it in the future.\n",
      "  _get_xdg_config_dir())\n"
     ]
    },
    {
     "name": "stdout",
     "output_type": "stream",
     "text": [
      "Populating the interactive namespace from numpy and matplotlib\n"
     ]
    }
   ],
   "source": [
    "%pylab inline\n",
    "import matplotlib as mpl\n",
    "from pygadgetreader import *\n",
    "from mpl_toolkits.mplot3d import Axes3D\n",
    "import soda"
   ]
  },
  {
   "cell_type": "code",
   "execution_count": 2,
   "metadata": {
    "collapsed": true
   },
   "outputs": [],
   "source": [
    "font = {'size':16, 'family':'serif'}\n",
    "matplotlib.rc('font', **font)"
   ]
  },
  {
   "cell_type": "code",
   "execution_count": 3,
   "metadata": {
    "collapsed": true
   },
   "outputs": [],
   "source": [
    "# First guess"
   ]
  },
  {
   "cell_type": "code",
   "execution_count": 88,
   "metadata": {
    "collapsed": false
   },
   "outputs": [],
   "source": [
    "MW_halo_mass= 1.5E12\n",
    "a = 18.54\n",
    "M_disk = 5.78E10\n",
    "M_bulge = 1.41E10\n",
    "CC = 15\n",
    "#host_model = ['NFW', MW_halo_mass, a, CC]\n",
    "#disk_params = [M_disk, 3.5, 0.68]\n",
    "#bulge_params = [M_bulge, 0.7]\n",
    "#alpha = [0,0]\n",
    "#d_t = 0.001\n",
    "#LMC_mod = ['hernquist', 1E11, 3]\n",
    "\n",
    "pos_host = np.array([0,0,0])\n",
    "vel_host = np.array([0,0,0])\n",
    "host_model = ['NFW', 1.2E12, 261, CC]\n",
    "disk_params = [M_disk, 3.5, 0.68]\n",
    "bulge_params = [M_bulge, 0.7]\n",
    "alpha = [0, 0.6]\n",
    "time = 5.0\n",
    "#d_t = [0.1, 0.01, 0.001]"
   ]
  },
  {
   "cell_type": "code",
   "execution_count": 89,
   "metadata": {
    "collapsed": false
   },
   "outputs": [
    {
     "name": "stdout",
     "output_type": "stream",
     "text": [
      "using the  LMC4\n",
      "Host:  0.0 0.0 0.0\n",
      "Satellite 1 : -1.0 -41.0 -28.0\n"
     ]
    }
   ],
   "source": [
    "t, sat_R, sat_V, host_R, host_V = soda.leapfrog.integrate_sat(3, pos_host, vel_host,\n",
    "                                                              host_model, disk_params, bulge_params,\n",
    "                                                              lmc_model='LMC4',\n",
    "                                                              direction=1,\n",
    "                                                              alpha=alpha,)"
   ]
  },
  {
   "cell_type": "code",
   "execution_count": 90,
   "metadata": {
    "collapsed": false
   },
   "outputs": [
    {
     "data": {
      "text/plain": [
       "<matplotlib.lines.Line2D at 0x7f9542c37b70>"
      ]
     },
     "execution_count": 90,
     "metadata": {},
     "output_type": "execute_result"
    },
    {
     "data": {
      "image/png": "[encoded data removed]",
      "text/plain": [
       "<matplotlib.figure.Figure at 0x7f9542d8ac18>"
      ]
     },
     "metadata": {},
     "output_type": "display_data"
    }
   ],
   "source": [
    "plot(t, np.sqrt((sat_R[:,0])**2 + (sat_R[:,1])**2 + (sat_R[:,2])**2))\n",
    "plot(t, np.sqrt((sat_R[:,0]-host_R[:,0])**2 + (sat_R[:,1]-host_R[:,1])**2 + (sat_R[:,2]-host_R[:,2])**2))\n",
    "plot(t, np.sqrt((host_R[:,0])**2 + (host_R[:,1])**2 + (host_R[:,2])**2))\n",
    "axhline(278)"
   ]
  },
  {
   "cell_type": "code",
   "execution_count": 71,
   "metadata": {
    "collapsed": true
   },
   "outputs": [],
   "source": [
    "# Function that reads the data from the Analytic integration\n",
    "#Galactocentic distances and velocities\n",
    "def reading_data(snap_name):\n",
    "    host = loadtxt('../../../orbits/data/lmc/'+ snap_name +'_host.txt')\n",
    "    sat = loadtxt('../../../orbits/data/lmc/'+ snap_name +'_sat.txt')\n",
    "    t = host[:,0] \n",
    "    # Defining galactocentric distances and velocities\n",
    "    x = sat[:,1] - host[:,1] \n",
    "    y = sat[:,2] - host[:,2] \n",
    "    z = sat[:,3] - host[:,3] \n",
    "\n",
    "    vx = sat[:,4] - host[:,4] \n",
    "    vy = sat[:,5] - host[:,5] \n",
    "    vz = sat[:,6] - host[:,6]        \n",
    "\n",
    "    Rgal = np.sqrt(x**2.0 + y**2.0 + z**2.0)\n",
    "    Vgal = np.sqrt(vx**2.0 + vy**2.0 + vz**2.0)\n",
    "    \n",
    "    return t, x, y, z, vx, vy, vz, Rgal, Vgal\n",
    "\n",
    "# Host coordinates and velocities\n",
    "def data_host(snap_name):\n",
    "    host = loadtxt('../../../orbits/data/lmc/'+ snap_name +'_host.txt')\n",
    "    return host[:,1], host[:,2], host[:,3], host[:,4], host[:,5], host[:,6]\n",
    "\n",
    "# Satellite coordinates and velocities\n",
    "def data_sat(snap_name):\n",
    "    sat = loadtxt('../../../orbits/data/lmc/'+ snap_name +'_sat.txt')\n",
    "    return sat[:,1], sat[:,2], sat[:,3], sat[:,4], sat[:,5], sat[:,6]\n",
    "\n",
    "#ICs\n",
    "def ICs(Rgal, cut, x, y, z, vx, vy, vz, t):\n",
    "    Rcut = np.where(Rgal>=cut)[0]\n",
    "    return Rgal[Rcut[0]], x[Rcut[0]], y[Rcut[0]], z[Rcut[0]], vx[Rcut[0]], vy[Rcut[0]], vz[Rcut[0]], t[Rcut[0]]\n",
    "\n",
    "#Function that reads the N-body sumulation orbit\n",
    "def reading_Nbody(snap_name):\n",
    "    data = np.loadtxt('orbits/' + snap_name)\n",
    "    time = data[:,0]\n",
    "    Rgal = data[:,1]\n",
    "    x_sat= data[:,2]\n",
    "    y_sat = data[:,3]\n",
    "    z_sat = data[:,4]\n",
    "    x_gal = data[:,5]\n",
    "    y_gal = data[:,6]\n",
    "    z_gal = data[:,7]\n",
    "    Vgal = data[:,8]\n",
    "    vx_sat = data[:,9]\n",
    "    vy_sat = data[:,10]\n",
    "    vz_sat = data[:,11]\n",
    "    vx_gal = data[:,12]\n",
    "    vy_gal = data[:,13]\n",
    "    vz_gal = data[:,14]\n",
    "    return time, Rgal, x_sat, y_sat, z_sat, x_gal, y_gal, z_gal, Vgal, vx_sat, vy_sat, vz_sat, vx_gal, vy_gal, vz_gal\n",
    "\n",
    "def best_values(t, x, y, z, vx, vy, vz):\n",
    "    \"\"\"\n",
    "    Computes the closes value of the N-body orbit to the observed present day LMC positions\n",
    "    and velocities.\n",
    "    \n",
    "    \"\"\"\n",
    "    x_obs = -1\n",
    "    y_obs = -41\n",
    "    z_obs = -28\n",
    "    vx_obs = -57\n",
    "    vy_obs = -226\n",
    "    vz_obs = 221\n",
    "    Robs = np.sqrt((x_obs-x)**2.0 + (y_obs-y)**2.0 + (z_obs-z)**2.0)\n",
    "    index = np.where(Robs == min(Robs))[0]\n",
    "    \n",
    "    sigma_vx = 13\n",
    "    sigma_vy = 15\n",
    "    sigma_vz = 19\n",
    "    \n",
    "    dx = x_obs - x[index]\n",
    "    dy = y_obs - y[index]\n",
    "    dz = z_obs - z[index]\n",
    "    \n",
    "    dvx = vx_obs - vx[index]\n",
    "    dvy = vy_obs - vy[index]\n",
    "    dvz = vz_obs - vz[index]\n",
    "    \n",
    "    print('Dr = ', dx, dy, dz)\n",
    "    print('Dv = ', dvx, dvy, dvz)\n",
    "    \n",
    "    return t[index], x[index], y[index], z[index], vx[index], vy[index], vz[index]"
   ]
  },
  {
   "cell_type": "code",
   "execution_count": 64,
   "metadata": {
    "collapsed": false
   },
   "outputs": [],
   "source": [
    "#tgal1, xgal1, ygal1, zgal1, vxgal1, vygal1, vzgal1, Rgal1, Vgal1 = reading_data('lmc4_MWHern1')\n",
    "tNB, RgalNB, xsatNB, ysatNB, zsatNB, xgalNB, ygalNB, zgalNB, vgalNB, vxsatNB, \\\n",
    "vysatNB, vzsatNB, vxgalNB, vygalNB, vzgalNB = reading_Nbody('LMC4_H0.txt')"
   ]
  },
  {
   "cell_type": "code",
   "execution_count": 65,
   "metadata": {
    "collapsed": false
   },
   "outputs": [],
   "source": [
    "ric1, xic1, yic1, zic1, vxic1, vyic1, vzic1, tic1 = ICs(Rgal1, 280, xgal1, ygal1, zgal1, vxgal1, vygal1, vzgal1, tgal1)"
   ]
  },
  {
   "cell_type": "code",
   "execution_count": 66,
   "metadata": {
    "collapsed": true
   },
   "outputs": [],
   "source": [
    "RgNB = np.sqrt((xgalNB-xsatNB)**2.0 + (ygalNB - ysatNB)**2.0 + (zgalNB-zsatNB)**2.0)"
   ]
  },
  {
   "cell_type": "code",
   "execution_count": 85,
   "metadata": {
    "collapsed": false
   },
   "outputs": [
    {
     "data": {
      "text/plain": [
       "<matplotlib.legend.Legend at 0x7f95434a5b00>"
      ]
     },
     "execution_count": 85,
     "metadata": {},
     "output_type": "execute_result"
    },
    {
     "data": {
      "image/png": "[encoded data removed]",
      "text/plain": [
       "<matplotlib.figure.Figure at 0x7f95434a5550>"
      ]
     },
     "metadata": {},
     "output_type": "display_data"
    }
   ],
   "source": [
    "plot(tNB, RgNB, lw=2, label='Orbit Integration')\n",
    "\n",
    "#plot(tNB+tic1, RgNB, lw=2, label='N-body')\n",
    "legend(fontsize=15)"
   ]
  },
  {
   "cell_type": "code",
   "execution_count": 68,
   "metadata": {
    "collapsed": false
   },
   "outputs": [
    {
     "name": "stdout",
     "output_type": "stream",
     "text": [
      "20.338115\n",
      "266.912184\n",
      "82.080739\n"
     ]
    }
   ],
   "source": [
    "print(xsatNB[0]-xgalNB[0])\n",
    "print(ysatNB[0]-ygalNB[0])\n",
    "print(zsatNB[0]-zgalNB[0])"
   ]
  },
  {
   "cell_type": "code",
   "execution_count": 72,
   "metadata": {
    "collapsed": false
   },
   "outputs": [
    {
     "name": "stdout",
     "output_type": "stream",
     "text": [
      "Dr =  [ 11.347663] [-15.422458] [-1.246124]\n",
      "Dv =  [ 91.788495] [-92.513942] [ 508.118996]\n"
     ]
    },
    {
     "data": {
      "text/plain": [
       "(array([ 2.08]),\n",
       " array([-12.347663]),\n",
       " array([-25.577542]),\n",
       " array([-26.753876]),\n",
       " array([-148.788495]),\n",
       " array([-133.486058]),\n",
       " array([-287.118996]))"
      ]
     },
     "execution_count": 72,
     "metadata": {},
     "output_type": "execute_result"
    }
   ],
   "source": [
    "best_values(tNB, xsatNB-xgalNB, ysatNB-ygalNB, zsatNB-zgalNB, vxsatNB-vxgalNB, vysatNB-vygalNB, \n",
    "            vzsatNB-vzgalNB)"
   ]
  },
  {
   "cell_type": "code",
   "execution_count": 91,
   "metadata": {
    "collapsed": false
   },
   "outputs": [
    {
     "name": "stdout",
     "output_type": "stream",
     "text": [
      "-22.170891\n",
      "-34.697616\n",
      "-45.878686\n",
      "-107.276768\n",
      "-97.023941\n",
      "-208.219453\n"
     ]
    }
   ],
   "source": [
    "print(xsatNB[-1]-xgalNB[-1])\n",
    "print(ysatNB[-1]-ygalNB[-1])\n",
    "print(zsatNB[-1]-zgalNB[-1])\n",
    "\n",
    "print(vxsatNB[-1]-vxgalNB[-1])\n",
    "print(vysatNB[-1]-vygalNB[-1])\n",
    "print(vzsatNB[-1]-vzgalNB[-1])"
   ]
  },
  {
   "cell_type": "code",
   "execution_count": 104,
   "metadata": {
    "collapsed": false
   },
   "outputs": [
    {
     "name": "stdout",
     "output_type": "stream",
     "text": [
      "Host:  0.0 0.0 0.0\n",
      "Satellite 1 : -22.17 -34.69 -45.87\n"
     ]
    }
   ],
   "source": [
    "MW_halo_mass= 1.5E12\n",
    "a = 18.54\n",
    "M_disk = 5.78E10\n",
    "M_bulge = 1.41E10\n",
    "CC = 15\n",
    "#host_model = ['NFW', MW_halo_mass, a, CC]\n",
    "#disk_params = [M_disk, 3.5, 0.68]\n",
    "#bulge_params = [M_bulge, 0.7]\n",
    "#alpha = [0,0]\n",
    "#d_t = 0.001\n",
    "#LMC_mod = ['hernquist', 1E11, 3]\n",
    "\n",
    "sat_model = ['hernquist', 1E11, 12.7]\n",
    "pos_sat = [-22.17, -34.69, -45.87]\n",
    "vel_sat = [-107.27, -97.02, -208.21]\n",
    "pos_host = np.array([0,0,0])\n",
    "vel_host = np.array([0,0,0])\n",
    "host_model = ['NFW', 1.2E12, 261, CC]\n",
    "disk_params = [M_disk, 3.5, 0.68]\n",
    "bulge_params = [M_bulge, 0.7]\n",
    "alpha = [0, 0.35]\n",
    "time = 5.0\n",
    "#d_t = [0.1, 0.01, 0.001]\n",
    "t_nb, sat_R_nb, sat_V_nb, host_R_nb, host_V_nb = soda.leapfrog.integrate_sat(3, pos_host, vel_host,\n",
    "                                                              host_model, disk_params, bulge_params,\n",
    "                                                              satellite_model=sat_model,\n",
    "                                                              pos_sat=pos_sat, vel_sat=vel_sat,\n",
    "                                                              direction=1,\n",
    "                                                              dt=0.0001,\n",
    "                                                              alpha=alpha)"
   ]
  },
  {
   "cell_type": "code",
   "execution_count": 105,
   "metadata": {
    "collapsed": false
   },
   "outputs": [
    {
     "data": {
      "text/plain": [
       "[<matplotlib.lines.Line2D at 0x7f9542885dd8>]"
      ]
     },
     "execution_count": 105,
     "metadata": {},
     "output_type": "execute_result"
    },
    {
     "data": {
      "image/png": "[encoded data removed]",
      "text/plain": [
       "<matplotlib.figure.Figure at 0x7f9542957080>"
      ]
     },
     "metadata": {},
     "output_type": "display_data"
    }
   ],
   "source": [
    "axhline(278, ls='--', c='k', alpha=0.5)\n",
    "plot(tNB, RgNB, lw=2, label='Orbit Integration')\n",
    "plot(t_nb+tNB[-1], np.sqrt((sat_R_nb[:,0]-host_R_nb[:,0])**2 + (sat_R_nb[:,1]-host_R_nb[:,1])**2 + \n",
    "                   (sat_R_nb[:,2]-host_R_nb[:,2])**2))\n"
   ]
  },
  {
   "cell_type": "code",
   "execution_count": 122,
   "metadata": {
    "collapsed": false
   },
   "outputs": [],
   "source": [
    "x_obs = -1\n",
    "y_obs = -41\n",
    "z_obs = -28\n",
    "vx_obs = -57\n",
    "vy_obs = -226\n",
    "vz_obs = 221\n",
    "\n",
    "pos_lmc = [x_obs, y_obs, z_obs]\n",
    "vel_lmc = [vx_obs, vy_obs, vz_obs]\n",
    "alpha = [0, 0.55]\n"
   ]
  },
  {
   "cell_type": "code",
   "execution_count": 123,
   "metadata": {
    "collapsed": false
   },
   "outputs": [
    {
     "name": "stdout",
     "output_type": "stream",
     "text": [
      "Host:  0.0 0.0 0.0\n",
      "Satellite 1 : -1.0 -41.0 -28.0\n"
     ]
    }
   ],
   "source": [
    "t_nb, sat_R_nb, sat_V_nb, host_R_nb, host_V_nb = soda.leapfrog.integrate_sat(3, pos_host, vel_host,\n",
    "                                                                             host_model, disk_params, \n",
    "                                                                             bulge_params,\n",
    "                                                                             satellite_model=sat_model,\n",
    "                                                                             pos_sat=pos_lmc, \n",
    "                                                                             vel_sat=vel_lmc,\n",
    "                                                                             direction=1,\n",
    "                                                                             dt=0.001,\n",
    "                                                                             alpha=alpha)"
   ]
  },
  {
   "cell_type": "code",
   "execution_count": 132,
   "metadata": {
    "collapsed": false
   },
   "outputs": [
    {
     "data": {
      "text/plain": [
       "<matplotlib.collections.PathCollection at 0x7f954240c7f0>"
      ]
     },
     "execution_count": 132,
     "metadata": {},
     "output_type": "execute_result"
    },
    {
     "data": {
      "image/png": "[encoded data removed]",
      "text/plain": [
       "<matplotlib.figure.Figure at 0x7f95424762b0>"
      ]
     },
     "metadata": {},
     "output_type": "display_data"
    }
   ],
   "source": [
    "plot(t_nb, np.sqrt((sat_R_nb[:,0]-host_R_nb[:,0])**2 + (sat_R_nb[:,1]-host_R_nb[:,1])**2 + \n",
    "    (sat_R_nb[:,2]-host_R_nb[:,2])**2))\n",
    "axhline(278, ls='--', c='k', alpha=0.5)\n",
    "scatter(t_nb[-600], np.sqrt((sat_R_nb[-100,0]-host_R_nb[-100,0])**2 + (sat_R_nb[-100,1]-host_R_nb[-100,1])**2 + \n",
    "    (sat_R_nb[-100,2]-host_R_nb[-100,2])**2))"
   ]
  },
  {
   "cell_type": "code",
   "execution_count": 133,
   "metadata": {
    "collapsed": false
   },
   "outputs": [
    {
     "name": "stdout",
     "output_type": "stream",
     "text": [
      "18.4362195862\n",
      "260.960849036\n",
      "91.3166729636\n",
      "10.3259046113\n",
      "4.4655159208\n",
      "-62.6836559714\n"
     ]
    }
   ],
   "source": [
    "print(sat_R_nb[-600,0]-host_R_nb[-600,0])\n",
    "print(sat_R_nb[-600,1]-host_R_nb[-600,1])\n",
    "print(sat_R_nb[-600,2]-host_R_nb[-600,2])\n",
    "\n",
    "print(sat_V_nb[-600,0]-host_V_nb[-600,0])\n",
    "print(sat_V_nb[-600,1]-host_V_nb[-600,1])\n",
    "print(sat_V_nb[-600,2]-host_V_nb[-600,2])\n"
   ]
  },
  {
   "cell_type": "code",
   "execution_count": null,
   "metadata": {
    "collapsed": true
   },
   "outputs": [],
   "source": []
  }
 ],
 "metadata": {
  "kernelspec": {
   "display_name": "Python 3",
   "language": "python",
   "name": "python3"
  },
  "language_info": {
   "codemirror_mode": {
    "name": "ipython",
    "version": 3
   },
   "file_extension": ".py",
   "mimetype": "text/x-python",
   "name": "python",
   "nbconvert_exporter": "python",
   "pygments_lexer": "ipython3",
   "version": "3.4.3"
  }
 },
 "nbformat": 4,
 "nbformat_minor": 0
}
