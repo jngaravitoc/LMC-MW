{
 "cells": [
  {
   "cell_type": "code",
   "execution_count": 170,
   "metadata": {
    "collapsed": false
   },
   "outputs": [
    {
     "name": "stdout",
     "output_type": "stream",
     "text": [
      "Populating the interactive namespace from numpy and matplotlib\n"
     ]
    }
   ],
   "source": [
    "%pylab inline\n",
    "font = {'size':16, 'family':'serif'}\n",
    "matplotlib.rc('font', **font)"
   ]
  },
  {
   "cell_type": "code",
   "execution_count": 171,
   "metadata": {
    "collapsed": false
   },
   "outputs": [],
   "source": [
    "Nbody1 = loadtxt('LMCMW-H6.txt')\n",
    "A1_host = loadtxt('../../../orbits/data/LMCMW_17H6_host.txt')\n",
    "A1_sat = loadtxt('../../../orbits/data/LMCMW_17H6_sat.txt')\n",
    "\n",
    "# Results from the Nbody\n",
    "NB_t1 = Nbody1[:,0] \n",
    "NB_R1 = Nbody1[:,1]\n",
    "Xlmc1 = Nbody1[:,2]\n",
    "Ylmc1 = Nbody1[:,3]\n",
    "Zlmc1 = Nbody1[:,4]\n",
    "Xmw1 = Nbody1[:,5]\n",
    "Ymw1 = Nbody1[:,6]\n",
    "Zmw1 = Nbody1[:,7]\n",
    "NB_V1 = Nbody1[:,8]\n",
    "vXlmc1 = Nbody1[:,9]\n",
    "vYlmc1 = Nbody1[:,10]\n",
    "vZlmc1 = Nbody1[:,11]\n",
    "vXmw1 = Nbody1[:,12]\n",
    "vYmw1 = Nbody1[:,13]\n",
    "vZmw1 = Nbody1[:,14]\n",
    "\n",
    "XNB = Xlmc1 - Xmw1\n",
    "YNB = Ylmc1 - Ymw1\n",
    "ZNB = Zlmc1 - Zmw1\n",
    "VXNB = vXlmc1 - vXmw1\n",
    "VYNB = vYlmc1 - vYmw1\n",
    "VZNB = vZlmc1 - vZmw1\n",
    "\n",
    "# Making Nbody and Analytic times equal\n",
    "t1 = A1_host[:,0] \n",
    "# Defining galactocentric distances and velocities\n",
    "x1 = A1_sat[:,1] - A1_host[:,1] \n",
    "y1 = A1_sat[:,2] - A1_host[:,2] \n",
    "z1 = A1_sat[:,3] - A1_host[:,3] \n",
    "\n",
    "vx1 = A1_sat[:,4] - A1_host[:,4] \n",
    "vy1 = A1_sat[:,5] - A1_host[:,5] \n",
    "vz1 = A1_sat[:,6] - A1_host[:,6] "
   ]
  },
  {
   "cell_type": "code",
   "execution_count": 172,
   "metadata": {
    "collapsed": false
   },
   "outputs": [
    {
     "name": "stdout",
     "output_type": "stream",
     "text": [
      "1.436735\n"
     ]
    }
   ],
   "source": [
    "print x1[0]"
   ]
  },
  {
   "cell_type": "code",
   "execution_count": 173,
   "metadata": {
    "collapsed": false
   },
   "outputs": [],
   "source": [
    "RLMC = np.sqrt((XNB - x1[0])**2 + (YNB - y1[0])**2 + (ZNB - z1[0])**2)\n",
    "VLMC = np.sqrt((VXNB - vx1[0])**2 + (VYNB - vy1[0])**2 + (VZNB - vz1[0])**2)\n",
    "peri1 = where(RLMC == min(RLMC))"
   ]
  },
  {
   "cell_type": "code",
   "execution_count": 174,
   "metadata": {
    "collapsed": false
   },
   "outputs": [
    {
     "name": "stdout",
     "output_type": "stream",
     "text": [
      "[ 1.436735] [-40.775523] [-24.053635]\n",
      "[-43.74222] [-223.394928] [ 212.133295]\n",
      "[ 1.22]\n"
     ]
    }
   ],
   "source": [
    "print Xlmc1[peri1]-Xmw1[peri1], Ylmc1[peri1]-Ymw1[peri1], Zlmc1[peri1]-Zmw1[peri1]\n",
    "print vXlmc1[peri1]-vXmw1[peri1], vYlmc1[peri1]-vYmw1[peri1], vZlmc1[peri1]-vZmw1[peri1]\n",
    "print NB_t1[peri1]"
   ]
  },
  {
   "cell_type": "code",
   "execution_count": 175,
   "metadata": {
    "collapsed": false
   },
   "outputs": [],
   "source": [
    "Rgal1 = np.sqrt(x1**2 + y1**2 + z1**2)\n",
    "Vgal1 = np.sqrt(vx1**2 + vy1**2 + vz1**2)\n",
    "\n",
    "R2vir1 = where(Rgal1 >= 280)[0]\n",
    "IC1 = R2vir1[0]\n",
    "dt = t1[IC1]\n",
    "t1 = t1 - dt"
   ]
  },
  {
   "cell_type": "code",
   "execution_count": 176,
   "metadata": {
    "collapsed": false
   },
   "outputs": [
    {
     "data": {
      "text/plain": [
       "(0, 400)"
      ]
     },
     "execution_count": 176,
     "metadata": {},
     "output_type": "execute_result"
    },
    {
     "data": {
      "image/png": "[encoded data removed]",
      "text/plain": [
       "<matplotlib.figure.Figure at 0x7f411b0db690>"
      ]
     },
     "metadata": {},
     "output_type": "display_data"
    }
   ],
   "source": [
    "figure(figsize=(7, 5))\n",
    "plot(t1, Rgal1, lw=2)\n",
    "plot(NB_t1, NB_R1, lw=2, ls='--')\n",
    "plot(NB_t1, np.sqrt(Xmw1**2 + Ymw1**2 + Zmw1**2), lw=2, ls='-.')\n",
    "plt.ylabel('Distance(kpc)')\n",
    "plt.xlabel('Time(Gyrs)')\n",
    "scatter(NB_t1[peri1], NB_R1[peri1])\n",
    "#xlim(0, 2)\n",
    "ylim(0, 400)"
   ]
  },
  {
   "cell_type": "code",
   "execution_count": 177,
   "metadata": {
    "collapsed": false
   },
   "outputs": [
    {
     "name": "stdout",
     "output_type": "stream",
     "text": [
      "197.546798 201.063097222\n"
     ]
    },
    {
     "data": {
      "text/plain": [
       "<matplotlib.collections.PathCollection at 0x7f411af1fbd0>"
      ]
     },
     "execution_count": 177,
     "metadata": {},
     "output_type": "execute_result"
    },
    {
     "data": {
      "image/png": "[encoded data removed]",
      "text/plain": [
       "<matplotlib.figure.Figure at 0x7f411bc21d50>"
      ]
     },
     "metadata": {},
     "output_type": "display_data"
    }
   ],
   "source": [
    "plot(t1, Vgal1)\n",
    "plot(NB_t1, NB_V1)\n",
    "xlim(-0.5,2)\n",
    "ylim(150, 350)\n",
    "print NB_V1[0], Vgal1[IC1]\n",
    "scatter(0, Vgal1[IC1])\n",
    "scatter(0, NB_V1[0])\n",
    "\n",
    "scatter(NB_t1[peri1], NB_V1[peri1])"
   ]
  },
  {
   "cell_type": "code",
   "execution_count": 178,
   "metadata": {
    "collapsed": false
   },
   "outputs": [],
   "source": [
    "index = where((NB_t1>1.28)&(NB_t1<1.9))\n",
    "index = index[0]"
   ]
  },
  {
   "cell_type": "code",
   "execution_count": 80,
   "metadata": {
    "collapsed": false
   },
   "outputs": [
    {
     "name": "stdout",
     "output_type": "stream",
     "text": [
      "1.3\n",
      "5.634133\n",
      "-47.00867\n",
      "-15.729231\n",
      "-36.566574\n",
      "-185.011288\n",
      "203.275705\n"
     ]
    }
   ],
   "source": [
    "print NB_t1[index[0]]\n",
    "print Xlmc1[index[0]]\n",
    "print Ylmc1[index[0]]\n",
    "print Zlmc1[index[0]]\n",
    "print vXlmc1[index[0]]\n",
    "print vYlmc1[index[0]]\n",
    "print vZlmc1[index[0]]"
   ]
  },
  {
   "cell_type": "code",
   "execution_count": 14,
   "metadata": {
    "collapsed": false
   },
   "outputs": [
    {
     "name": "stdout",
     "output_type": "stream",
     "text": [
      "7.388114\n",
      "10.053042\n",
      "-9.027439\n",
      "3.168615\n",
      "2.007527\n",
      "-10.140338\n"
     ]
    }
   ],
   "source": [
    "print Xmw1[index[0]]\n",
    "print Ymw1[index[0]]\n",
    "print Zmw1[index[0]]\n",
    "print vXmw1[index[0]]\n",
    "print vYmw1[index[0]]\n",
    "print vZmw1[index[0]]"
   ]
  },
  {
   "cell_type": "code",
   "execution_count": null,
   "metadata": {
    "collapsed": true
   },
   "outputs": [],
   "source": []
  },
  {
   "cell_type": "code",
   "execution_count": null,
   "metadata": {
    "collapsed": true
   },
   "outputs": [],
   "source": []
  }
 ],
 "metadata": {
  "kernelspec": {
   "display_name": "Python 2",
   "language": "python",
   "name": "python2"
  },
  "language_info": {
   "codemirror_mode": {
    "name": "ipython",
    "version": 2
   },
   "file_extension": ".py",
   "mimetype": "text/x-python",
   "name": "python",
   "nbconvert_exporter": "python",
   "pygments_lexer": "ipython2",
   "version": "2.7.6"
  }
 },
 "nbformat": 4,
 "nbformat_minor": 0
}
