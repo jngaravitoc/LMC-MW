{
 "cells": [
  {
   "cell_type": "code",
   "execution_count": 1,
   "metadata": {
    "collapsed": false
   },
   "outputs": [
    {
     "name": "stdout",
     "output_type": "stream",
     "text": [
      "Populating the interactive namespace from numpy and matplotlib\n"
     ]
    },
    {
     "name": "stderr",
     "output_type": "stream",
     "text": [
      "/usr/local/lib/python2.7/dist-packages/IPython/kernel/__init__.py:13: ShimWarning: The `IPython.kernel` package has been deprecated. You should import from ipykernel or jupyter_client instead.\n",
      "  \"You should import from ipykernel or jupyter_client instead.\", ShimWarning)\n"
     ]
    }
   ],
   "source": [
    "%pylab inline\n",
    "from astropy import units\n",
    "from astropy import constants"
   ]
  },
  {
   "cell_type": "code",
   "execution_count": 2,
   "metadata": {
    "collapsed": false
   },
   "outputs": [],
   "source": [
    "from profiles import *"
   ]
  },
  {
   "cell_type": "code",
   "execution_count": 11,
   "metadata": {
    "collapsed": false
   },
   "outputs": [
    {
     "name": "stdout",
     "output_type": "stream",
     "text": [
      "   Name   = Gravitational constant\n",
      "  Value  = 6.67384e-11\n",
      "  Error  = 8e-15\n",
      "  Units  = m3 / (kg s2)\n",
      "  Reference = CODATA 2010\n"
     ]
    }
   ],
   "source": [
    "G = constants.G\n",
    "H = 67.8 * units.km / units.s / units.Mpc\n",
    "print G"
   ]
  },
  {
   "cell_type": "code",
   "execution_count": 20,
   "metadata": {
    "collapsed": true
   },
   "outputs": [],
   "source": [
    "vc_NFW?\n",
    "Rvir = 261 * units.kpc\n",
    "Mvir = 1E12 * units.Msun"
   ]
  },
  {
   "cell_type": "code",
   "execution_count": 21,
   "metadata": {
    "collapsed": false
   },
   "outputs": [],
   "source": [
    "vc = vc_NFW(261/26.47, 261, 0, 0, 1E12)"
   ]
  },
  {
   "cell_type": "code",
   "execution_count": 24,
   "metadata": {
    "collapsed": false
   },
   "outputs": [
    {
     "name": "stdout",
     "output_type": "stream",
     "text": [
      " 128.353442223 km / s 128.386889681 km / s\n"
     ]
    }
   ],
   "source": [
    "vc1 = np.sqrt( ( G * Mvir )/ Rvir)\n",
    "\n",
    "print vc, vc1.to(units.km / units.s)"
   ]
  },
  {
   "cell_type": "code",
   "execution_count": 30,
   "metadata": {
    "collapsed": false
   },
   "outputs": [
    {
     "name": "stdout",
     "output_type": "stream",
     "text": [
      "97.2\n"
     ]
    }
   ],
   "source": [
    "f = 360 * 0.27\n",
    "print f"
   ]
  },
  {
   "cell_type": "code",
   "execution_count": 35,
   "metadata": {
    "collapsed": true
   },
   "outputs": [],
   "source": [
    "M = vc**3 / (np.sqrt(48.6) * G * H)"
   ]
  },
  {
   "cell_type": "code",
   "execution_count": 36,
   "metadata": {
    "collapsed": false
   },
   "outputs": [
    {
     "name": "stdout",
     "output_type": "stream",
     "text": [
      "1.03990309166e+12 solMass\n"
     ]
    }
   ],
   "source": [
    "print M.to(units.Msun)"
   ]
  },
  {
   "cell_type": "code",
   "execution_count": 42,
   "metadata": {
    "collapsed": true
   },
   "outputs": [],
   "source": [
    "R = vc / (np.sqrt(48.6) * H)"
   ]
  },
  {
   "cell_type": "code",
   "execution_count": 43,
   "metadata": {
    "collapsed": false
   },
   "outputs": [
    {
     "data": {
      "text/latex": [
       "$271.55618 \\; \\mathrm{kpc}$"
      ],
      "text/plain": [
       "<Quantity 271.556180573134 kpc>"
      ]
     },
     "execution_count": 43,
     "metadata": {},
     "output_type": "execute_result"
    }
   ],
   "source": [
    "R.to(units.kpc)"
   ]
  },
  {
   "cell_type": "code",
   "execution_count": 65,
   "metadata": {
    "collapsed": true
   },
   "outputs": [],
   "source": [
    "v_chervin = 162.9 * units.km / units.s"
   ]
  },
  {
   "cell_type": "code",
   "execution_count": 241,
   "metadata": {
    "collapsed": false
   },
   "outputs": [
    {
     "name": "stdout",
     "output_type": "stream",
     "text": [
      "1.48201191852e+12 solMass\n"
     ]
    }
   ],
   "source": [
    "M = v_chervin**3 / (10 * G * H)\n",
    "M =  M.to(units.Msun)\n",
    "print M"
   ]
  },
  {
   "cell_type": "code",
   "execution_count": 242,
   "metadata": {
    "collapsed": false
   },
   "outputs": [
    {
     "name": "stdout",
     "output_type": "stream",
     "text": [
      "240.265486726 kpc\n"
     ]
    }
   ],
   "source": [
    "R = v_chervin / (10*H)\n",
    "print R.to(units.kpc)"
   ]
  },
  {
   "cell_type": "code",
   "execution_count": 243,
   "metadata": {
    "collapsed": false
   },
   "outputs": [
    {
     "data": {
      "text/latex": [
       "$1 \\times 10^{12} \\; \\mathrm{M_{\\odot}}$"
      ],
      "text/plain": [
       "<Quantity 1000000000000.0 solMass>"
      ]
     },
     "execution_count": 243,
     "metadata": {},
     "output_type": "execute_result"
    }
   ],
   "source": [
    "Mvir"
   ]
  },
  {
   "cell_type": "code",
   "execution_count": 244,
   "metadata": {
    "collapsed": true
   },
   "outputs": [],
   "source": [
    "IC = loadtxt('../ICs/MW_models/MW1/rotcurve.txt', skiprows=1)"
   ]
  },
  {
   "cell_type": "code",
   "execution_count": 245,
   "metadata": {
    "collapsed": false
   },
   "outputs": [
    {
     "data": {
      "text/plain": [
       "[<matplotlib.lines.Line2D at 0x7fa4ec20b310>]"
      ]
     },
     "execution_count": 245,
     "metadata": {},
     "output_type": "execute_result"
    },
    {
     "data": {
      "image/png": "[encoded data removed]",
      "text/plain": [
       "<matplotlib.figure.Figure at 0x7fa4ec181750>"
      ]
     },
     "metadata": {},
     "output_type": "display_data"
    }
   ],
   "source": [
    "plot(IC[:,0], IC[:,1])\n",
    "plot(IC[:,0], IC[:,2])\n",
    "plot(IC[:,0], IC[:,3])\n",
    "plot(IC[:,0], IC[:,4])"
   ]
  },
  {
   "cell_type": "code",
   "execution_count": 246,
   "metadata": {
    "collapsed": true
   },
   "outputs": [],
   "source": [
    "x = linspace(0, 170)"
   ]
  },
  {
   "cell_type": "code",
   "execution_count": 271,
   "metadata": {
    "collapsed": false
   },
   "outputs": [
    {
     "name": "stdout",
     "output_type": "stream",
     "text": [
      "1.48201191852e+12 solMass 9.25e+11\n"
     ]
    }
   ],
   "source": [
    "#M = 1.46E12 \n",
    "Md = M * 0.065\n",
    "Mb = M * 0.01\n",
    "Mh = M - Md - Mb\n",
    "A = 2.00 * 24.2\n",
    "A_approx = 41.41\n",
    "vc_halo = vc_hernquist(A_approx, x, 0, 0, Mh.value)\n",
    "Mnfw = 1E12-(1E12*0.065 + 1E12*0.01)\n",
    "vc_N = vc_NFW(10, x, 0, 0, Mh.value / 1.46)\n",
    "#vc_disk = vc_mn?\n",
    "print M, Mnfw"
   ]
  },
  {
   "cell_type": "code",
   "execution_count": 272,
   "metadata": {
    "collapsed": false
   },
   "outputs": [
    {
     "data": {
      "text/plain": [
       "[<matplotlib.lines.Line2D at 0x7fa4eb77d1d0>]"
      ]
     },
     "execution_count": 272,
     "metadata": {},
     "output_type": "execute_result"
    },
    {
     "data": {
      "image/png": "[encoded data removed]",
      "text/plain": [
       "<matplotlib.figure.Figure at 0x7fa4eb857890>"
      ]
     },
     "metadata": {},
     "output_type": "display_data"
    }
   ],
   "source": [
    "plot(x,  vc_halo)\n",
    "plot(IC[:,0], IC[:,2])\n",
    "plot(x, vc_N)"
   ]
  },
  {
   "cell_type": "code",
   "execution_count": 250,
   "metadata": {
    "collapsed": false
   },
   "outputs": [],
   "source": [
    "vc_bulge = vc_hernquist(A * 0.025, x, 0, 0, Mb.value)"
   ]
  },
  {
   "cell_type": "code",
   "execution_count": 251,
   "metadata": {
    "collapsed": false
   },
   "outputs": [
    {
     "data": {
      "text/plain": [
       "[<matplotlib.lines.Line2D at 0x7fa4ec2a8a10>]"
      ]
     },
     "execution_count": 251,
     "metadata": {},
     "output_type": "execute_result"
    },
    {
     "data": {
      "image/png": "[encoded data removed]",
      "text/plain": [
       "<matplotlib.figure.Figure at 0x7fa4ecd84d50>"
      ]
     },
     "metadata": {},
     "output_type": "display_data"
    }
   ],
   "source": [
    "plot(IC[:,0], IC[:,4])\n",
    "plot(x, vc_bulge)"
   ]
  },
  {
   "cell_type": "markdown",
   "metadata": {},
   "source": [
    "## LMC1 rotation curves "
   ]
  },
  {
   "cell_type": "code",
   "execution_count": 53,
   "metadata": {
    "collapsed": false
   },
   "outputs": [],
   "source": [
    "#data_n = loadtxt('../data/ICs/LMC/curve1_n.txt', skiprows=1)\n",
    "data_n = loadtxt('rotcurve.txt', skiprows=1)"
   ]
  },
  {
   "cell_type": "code",
   "execution_count": 48,
   "metadata": {
    "collapsed": true
   },
   "outputs": [],
   "source": [
    "x = linspace(0, 60, 100)\n",
    "vc_1 = vc_hernquist(8, x, 0, 0, 3E10)\n",
    "vc_2 = vc_hernquist(11, x, 0, 0, 5E10)\n",
    "vc_3 = vc_hernquist(14, x, 0, 0, 8E10)\n",
    "vc_4 = vc_hernquist(15, x, 0, 0, 1E11)\n",
    "vc_5 = vc_hernquist(20, x, 0, 0, 1.8E11)\n",
    "vc_6 = vc_hernquist(22.5, x, 0, 0, 2.5E11)"
   ]
  },
  {
   "cell_type": "code",
   "execution_count": 54,
   "metadata": {
    "collapsed": false,
    "scrolled": true
   },
   "outputs": [
    {
     "data": {
      "text/plain": [
       "[<matplotlib.lines.Line2D at 0x7fa3e0104690>]"
      ]
     },
     "execution_count": 54,
     "metadata": {},
     "output_type": "execute_result"
    },
    {
     "data": {
      "image/png": "[encoded data removed]",
      "text/plain": [
       "<matplotlib.figure.Figure at 0x7fa3e01ba050>"
      ]
     },
     "metadata": {},
     "output_type": "display_data"
    }
   ],
   "source": [
    "figure(figsize=(7, 5))\n",
    "#plot(data_c[:,0], data_c[:,1])\n",
    "plot(data_n[:,0], data_n[:,1])\n",
    "\n",
    "# ---------------- Theoretical -----------------------\n",
    "plot(x, vc_1, c='k', lw=1)\n",
    "plot(x, vc_2, c='k', lw=1.5)\n",
    "plot(x, vc_3, c='k', lw=2)\n",
    "plot(x, vc_4, c='k' ,lw=2.5)\n",
    "plot(x, vc_5, c='k', lw=3)\n",
    "plot(x, vc_6, c='k', lw=3.5)"
   ]
  },
  {
   "cell_type": "code",
   "execution_count": 46,
   "metadata": {
    "collapsed": true
   },
   "outputs": [],
   "source": [
    "vc_hernquist?"
   ]
  },
  {
   "cell_type": "code",
   "execution_count": null,
   "metadata": {
    "collapsed": true
   },
   "outputs": [],
   "source": []
  }
 ],
 "metadata": {
  "kernelspec": {
   "display_name": "Python 2",
   "language": "python",
   "name": "python2"
  },
  "language_info": {
   "codemirror_mode": {
    "name": "ipython",
    "version": 2
   },
   "file_extension": ".py",
   "mimetype": "text/x-python",
   "name": "python",
   "nbconvert_exporter": "python",
   "pygments_lexer": "ipython2",
   "version": "2.7.6"
  }
 },
 "nbformat": 4,
 "nbformat_minor": 0
}
