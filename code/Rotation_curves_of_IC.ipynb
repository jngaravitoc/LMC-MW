{
 "cells": [
  {
   "cell_type": "code",
   "execution_count": 3,
   "metadata": {
    "collapsed": false
   },
   "outputs": [
    {
     "name": "stdout",
     "output_type": "stream",
     "text": [
      "Populating the interactive namespace from numpy and matplotlib\n"
     ]
    }
   ],
   "source": [
    "%pylab inline\n",
    "from astropy import units\n",
    "from astropy import constants"
   ]
  },
  {
   "cell_type": "code",
   "execution_count": 2,
   "metadata": {
    "collapsed": false
   },
   "outputs": [],
   "source": [
    "from profiles import *"
   ]
  },
  {
   "cell_type": "code",
   "execution_count": 14,
   "metadata": {
    "collapsed": false
   },
   "outputs": [
    {
     "name": "stdout",
     "output_type": "stream",
     "text": [
      " 4.51835939627e-39 kpc3 / (s2 solMass) 67.8 km / (Mpc s)\n"
     ]
    }
   ],
   "source": [
    "#G = constants.G\n",
    "H = 67.8 * units.km / units.s / units.Mpc\n",
    "print G, H"
   ]
  },
  {
   "cell_type": "code",
   "execution_count": 5,
   "metadata": {
    "collapsed": true
   },
   "outputs": [],
   "source": [
    "vc_NFW?\n",
    "Rvir = 261 * units.kpc\n",
    "Mvir = 1E12 * units.Msun"
   ]
  },
  {
   "cell_type": "code",
   "execution_count": 6,
   "metadata": {
    "collapsed": false
   },
   "outputs": [],
   "source": [
    "vc = vc_NFW(261/26.47, 261, 0, 0, 1E12)"
   ]
  },
  {
   "cell_type": "code",
   "execution_count": 7,
   "metadata": {
    "collapsed": false
   },
   "outputs": [
    {
     "name": "stdout",
     "output_type": "stream",
     "text": [
      "128.353442223 km / s 128.386889681 km / s\n"
     ]
    }
   ],
   "source": [
    "vc1 = np.sqrt( ( G * Mvir )/ Rvir)\n",
    "\n",
    "print vc, vc1.to(units.km / units.s)"
   ]
  },
  {
   "cell_type": "code",
   "execution_count": 8,
   "metadata": {
    "collapsed": false
   },
   "outputs": [
    {
     "name": "stdout",
     "output_type": "stream",
     "text": [
      "97.2\n"
     ]
    }
   ],
   "source": [
    "f = 360 * 0.27\n",
    "print f"
   ]
  },
  {
   "cell_type": "code",
   "execution_count": 9,
   "metadata": {
    "collapsed": false
   },
   "outputs": [],
   "source": [
    "M = vc**3 / (np.sqrt(48.6) * G * H)"
   ]
  },
  {
   "cell_type": "code",
   "execution_count": 10,
   "metadata": {
    "collapsed": false
   },
   "outputs": [
    {
     "name": "stdout",
     "output_type": "stream",
     "text": [
      "1.03990309166e+12 solMass\n"
     ]
    }
   ],
   "source": [
    "print M.to(units.Msun)"
   ]
  },
  {
   "cell_type": "code",
   "execution_count": 11,
   "metadata": {
    "collapsed": false
   },
   "outputs": [],
   "source": [
    "R = vc / (np.sqrt(48.6) * H)"
   ]
  },
  {
   "cell_type": "code",
   "execution_count": 12,
   "metadata": {
    "collapsed": false
   },
   "outputs": [
    {
     "data": {
      "text/latex": [
       "$271.55618 \\; \\mathrm{kpc}$"
      ],
      "text/plain": [
       "<Quantity 271.556180573134 kpc>"
      ]
     },
     "execution_count": 12,
     "metadata": {},
     "output_type": "execute_result"
    }
   ],
   "source": [
    "R.to(units.kpc)"
   ]
  },
  {
   "cell_type": "code",
   "execution_count": 13,
   "metadata": {
    "collapsed": true
   },
   "outputs": [],
   "source": [
    "v_chervin = 162.9 * units.km / units.s"
   ]
  },
  {
   "cell_type": "code",
   "execution_count": 14,
   "metadata": {
    "collapsed": false
   },
   "outputs": [
    {
     "name": "stdout",
     "output_type": "stream",
     "text": [
      "1.48201191852e+12 solMass\n"
     ]
    }
   ],
   "source": [
    "M = v_chervin**3 / (10 * G * H)\n",
    "M =  M.to(units.Msun)\n",
    "print M"
   ]
  },
  {
   "cell_type": "code",
   "execution_count": 15,
   "metadata": {
    "collapsed": false
   },
   "outputs": [
    {
     "name": "stdout",
     "output_type": "stream",
     "text": [
      "240.265486726 kpc\n"
     ]
    }
   ],
   "source": [
    "R = v_chervin / (10*H)\n",
    "print R.to(units.kpc)"
   ]
  },
  {
   "cell_type": "code",
   "execution_count": 16,
   "metadata": {
    "collapsed": false
   },
   "outputs": [
    {
     "data": {
      "text/latex": [
       "$1 \\times 10^{12} \\; \\mathrm{M_{\\odot}}$"
      ],
      "text/plain": [
       "<Quantity 1000000000000.0 solMass>"
      ]
     },
     "execution_count": 16,
     "metadata": {},
     "output_type": "execute_result"
    }
   ],
   "source": [
    "Mvir"
   ]
  },
  {
   "cell_type": "code",
   "execution_count": 18,
   "metadata": {
    "collapsed": false
   },
   "outputs": [
    {
     "data": {
      "text/plain": [
       "[<matplotlib.lines.Line2D at 0x7fa6c36bc590>]"
      ]
     },
     "execution_count": 18,
     "metadata": {},
     "output_type": "execute_result"
    },
    {
     "data": {
      "image/png": "[encoded data removed]",
      "text/plain": [
       "<matplotlib.figure.Figure at 0x7fa6da590650>"
      ]
     },
     "metadata": {},
     "output_type": "display_data"
    }
   ],
   "source": [
    "plot(IC[:,0], IC[:,1])\n",
    "plot(IC[:,0], IC[:,2])\n",
    "plot(IC[:,0], IC[:,3])\n",
    "plot(IC[:,0], IC[:,4])"
   ]
  },
  {
   "cell_type": "code",
   "execution_count": 132,
   "metadata": {
    "collapsed": false,
    "scrolled": true
   },
   "outputs": [],
   "source": [
    "#IC_chervin = loadtxt('../data/ICs/MW/1E12/chervin.txt', skiprows=1)\n",
    "IC_hack = loadtxt('../../ICs/GalIC-hack/MW/rotcurve.txt', skiprows=1)"
   ]
  },
  {
   "cell_type": "code",
   "execution_count": 133,
   "metadata": {
    "collapsed": true
   },
   "outputs": [],
   "source": [
    "x = linspace(0, 170)"
   ]
  },
  {
   "cell_type": "code",
   "execution_count": 134,
   "metadata": {
    "collapsed": false,
    "scrolled": true
   },
   "outputs": [
    {
     "name": "stdout",
     "output_type": "stream",
     "text": [
      "1.02642500361e+12 solMass\n",
      "37.1534395154\n",
      "26.6111257143\n"
     ]
    }
   ],
   "source": [
    "#M = 1.46E12 \n",
    "#Md = M * 0.065\n",
    "#Mb = M * 0.01\n",
    "#Mh = M - Md - Mb\n",
    "Mh = 1.46632143373E12 * units.Msun\n",
    "print Mh * 0.70\n",
    "#Mh = 1.02E12 * units.Msun\n",
    "#A = 2.00 * 24.2\n",
    "A_approx = 53.0763421649\n",
    "print A_approx * 0.7\n",
    "vc_halo = vc_hernquist(A_approx * 0.7, x, 0, 0, Mh.value * 0.7)\n",
    "#Mnfw = 1E12-(1E12*0.065 + 1E12*0.01)\n",
    "#vc_N = vc_NFW(10, x, 0, 0, Mh.value / 1.46)\n",
    "#vc_disk = vc_mn?\n",
    "#print M, Mnfw\n",
    "print 18.627788/0.7"
   ]
  },
  {
   "cell_type": "code",
   "execution_count": 135,
   "metadata": {
    "collapsed": false,
    "scrolled": true
   },
   "outputs": [
    {
     "data": {
      "image/png": "[encoded data removed]",
      "text/plain": [
       "<matplotlib.figure.Figure at 0x7f53d0024510>"
      ]
     },
     "metadata": {},
     "output_type": "display_data"
    }
   ],
   "source": [
    "plot(x,  vc_halo, label='Analytic')\n",
    "#plot(IC_chervin[:,0], IC_chervin[:,2], label='GalIC')\n",
    "#plot(x, vc_N)\n",
    "plot(IC_hack[:,0], IC_hack[:,2], label='GalIC-hack')\n",
    "legend(loc='best')\n",
    "savefig('halo_MW.png', bbox_inches='tight')"
   ]
  },
  {
   "cell_type": "code",
   "execution_count": 22,
   "metadata": {
    "collapsed": false
   },
   "outputs": [],
   "source": [
    "vc_bulge = vc_hernquist(A * 0.025, x, 0, 0, Mb.value)"
   ]
  },
  {
   "cell_type": "code",
   "execution_count": 23,
   "metadata": {
    "collapsed": false
   },
   "outputs": [
    {
     "data": {
      "text/plain": [
       "[<matplotlib.lines.Line2D at 0x7fa6c34ea5d0>]"
      ]
     },
     "execution_count": 23,
     "metadata": {},
     "output_type": "execute_result"
    },
    {
     "data": {
      "image/png": "[encoded data removed]",
      "text/plain": [
       "<matplotlib.figure.Figure at 0x7fa6c371af10>"
      ]
     },
     "metadata": {},
     "output_type": "display_data"
    }
   ],
   "source": [
    "plot(IC[:,0], IC[:,4])\n",
    "plot(x, vc_bulge)"
   ]
  },
  {
   "cell_type": "markdown",
   "metadata": {},
   "source": [
    "## LMC1 rotation curves "
   ]
  },
  {
   "cell_type": "code",
   "execution_count": 156,
   "metadata": {
    "collapsed": false
   },
   "outputs": [],
   "source": [
    "#data_n = loadtxt('../data/ICs/LMC/curve1_n.txt', skiprows=1)\n",
    "data_n = loadtxt('../../ICs/GalIC-hack/B/rotcurve.txt' , skiprows=1)"
   ]
  },
  {
   "cell_type": "code",
   "execution_count": 169,
   "metadata": {
    "collapsed": true
   },
   "outputs": [],
   "source": [
    "x = linspace(0, 80, 100)\n",
    "h = 0.7\n",
    "vc_1 = vc_hernquist(8, x, 0, 0, 3E10)\n",
    "vc_2 = vc_hernquist(11, x, 0, 0, 5E10)\n",
    "vc_3 = vc_hernquist(14, x, 0, 0, 8E10)\n",
    "vc_4 = vc_hernquist(15, x, 0, 0, 1E11)\n",
    "vc_5 = vc_hernquist(20, x, 0, 0, 1.8E11)\n",
    "vc_6 = vc_hernquist(22.5, x, 0, 0, 2.5E11)"
   ]
  },
  {
   "cell_type": "code",
   "execution_count": 171,
   "metadata": {
    "collapsed": false,
    "scrolled": true
   },
   "outputs": [
    {
     "data": {
      "text/plain": [
       "[<matplotlib.lines.Line2D at 0x7f53cf25a810>]"
      ]
     },
     "execution_count": 171,
     "metadata": {},
     "output_type": "execute_result"
    },
    {
     "data": {
      "image/png": "[encoded data removed]",
      "text/plain": [
       "<matplotlib.figure.Figure at 0x7f53cf340710>"
      ]
     },
     "metadata": {},
     "output_type": "display_data"
    }
   ],
   "source": [
    "figure(figsize=(7, 5))\n",
    "#plot(data_c[:,0], data_c[:,1])\n",
    "plot(data_n[:,0]/h, data_n[:,1], lw=1)\n",
    "\n",
    "# ---------------- Theoretical -----------------------\n",
    "plot(x, vc_1, c='k', lw=1)\n",
    "plot(x, vc_2, c='k', lw=1.5)\n",
    "plot(x, vc_3, c='k', lw=2)\n",
    "plot(x, vc_4, c='k' ,lw=2.5)\n",
    "plot(x, vc_5, c='k', lw=3)\n",
    "plot(x, vc_6, c='k', lw=3.5)"
   ]
  },
  {
   "cell_type": "code",
   "execution_count": 172,
   "metadata": {
    "collapsed": false
   },
   "outputs": [
    {
     "data": {
      "text/plain": [
       "42857142857.14286"
      ]
     },
     "execution_count": 172,
     "metadata": {},
     "output_type": "execute_result"
    }
   ],
   "source": [
    "3E10/0.7"
   ]
  },
  {
   "cell_type": "markdown",
   "metadata": {
    "collapsed": true
   },
   "source": [
    "$M_{vir} \\& R_{vir}$"
   ]
  },
  {
   "cell_type": "code",
   "execution_count": 88,
   "metadata": {
    "collapsed": true
   },
   "outputs": [],
   "source": [
    "h = 0.7\n",
    "Delta_vir = 360\n",
    "Omega_m = 0.27\n",
    "\n",
    "def method1(Mvir):\n",
    "    Rvir = 206 / h * units.kpc * (Delta_vir * Omega_m / 97.2)**(-1.0/3.0) * (Mvir * h / (1E12 * units.Msun) )**(1.0/3.0)\n",
    "    return Rvir.to(units.kpc)\n",
    "\n",
    "def method2(Mvir):\n",
    "    Rvir = (2*G / (H*0.7)**2)**(1/3.0) * (Mvir / (Delta_vir * Omega_m))**(1/3.0)\n",
    "    return Rvir.to(units.kpc)"
   ]
  },
  {
   "cell_type": "code",
   "execution_count": 89,
   "metadata": {
    "collapsed": false
   },
   "outputs": [],
   "source": [
    "Mvir = 1E12 * units.Msun"
   ]
  },
  {
   "cell_type": "code",
   "execution_count": 90,
   "metadata": {
    "collapsed": false
   },
   "outputs": [
    {
     "name": "stdout",
     "output_type": "stream",
     "text": [
      "method 1  261.29746337 kpc\n",
      "method 2  262.391566682 kpc\n"
     ]
    }
   ],
   "source": [
    "print 'method 1 ', method1(Mvir)\n",
    "print 'method 2 ', method2(Mvir)"
   ]
  },
  {
   "cell_type": "code",
   "execution_count": 131,
   "metadata": {
    "collapsed": false
   },
   "outputs": [
    {
     "data": {
      "text/plain": [
       "[<matplotlib.lines.Line2D at 0x7f53d04b6810>]"
      ]
     },
     "execution_count": 131,
     "metadata": {},
     "output_type": "execute_result"
    },
    {
     "data": {
      "image/png": "[encoded data removed]",
      "text/plain": [
       "<matplotlib.figure.Figure at 0x7f53d00ec250>"
      ]
     },
     "metadata": {},
     "output_type": "display_data"
    }
   ],
   "source": [
    "MM = linspace(1E12, 2E12, 100) * units.Msun\n",
    "plot(MM, method1(MM)*1.0045)\n",
    "plot(MM, method2(MM))"
   ]
  },
  {
   "cell_type": "code",
   "execution_count": null,
   "metadata": {
    "collapsed": true
   },
   "outputs": [],
   "source": []
  },
  {
   "cell_type": "code",
   "execution_count": 91,
   "metadata": {
    "collapsed": false
   },
   "outputs": [
    {
     "data": {
      "text/latex": [
       "$144.21153 \\; \\mathrm{\\frac{km}{s}}$"
      ],
      "text/plain": [
       "<Quantity 144.2115290857826 km / s>"
      ]
     },
     "execution_count": 91,
     "metadata": {},
     "output_type": "execute_result"
    }
   ],
   "source": [
    "((G*Mvir*H * sqrt(48.6))**(1/3.0)).to(units.km/units.s)"
   ]
  },
  {
   "cell_type": "code",
   "execution_count": 49,
   "metadata": {
    "collapsed": true
   },
   "outputs": [],
   "source": [
    " H = 3.2407789E-18  / units.s "
   ]
  },
  {
   "cell_type": "code",
   "execution_count": 82,
   "metadata": {
    "collapsed": false
   },
   "outputs": [
    {
     "data": {
      "text/latex": [
       "$144.21153 \\; \\mathrm{\\frac{km}{s}}$"
      ],
      "text/plain": [
       "<Quantity 144.2115290857826 km / s>"
      ]
     },
     "execution_count": 82,
     "metadata": {},
     "output_type": "execute_result"
    }
   ],
   "source": [
    "((G*Mvir*H * sqrt(48.6))**(1/3.0)).to(units.km/units.s)"
   ]
  },
  {
   "cell_type": "code",
   "execution_count": 57,
   "metadata": {
    "collapsed": true
   },
   "outputs": [],
   "source": [
    "V = 128.04 * units.km / units.s\n",
    "Mvir_deduced  = V**3 / (sqrt(48.6) * G * H) \n",
    "Rvir_deduced = V / (6.97 * H *0.7)"
   ]
  },
  {
   "cell_type": "code",
   "execution_count": 58,
   "metadata": {
    "collapsed": false
   },
   "outputs": [
    {
     "name": "stdout",
     "output_type": "stream",
     "text": [
      "6.9990170459e+11 solMass\n",
      "262.430857527 kpc\n"
     ]
    }
   ],
   "source": [
    "print Mvir_deduced.to(units.Msun)\n",
    "print Rvir_deduced.to(units.kpc)"
   ]
  },
  {
   "cell_type": "code",
   "execution_count": 59,
   "metadata": {
    "collapsed": false
   },
   "outputs": [
    {
     "data": {
      "text/plain": [
       "145.71428571428572"
      ]
     },
     "execution_count": 59,
     "metadata": {},
     "output_type": "execute_result"
    }
   ],
   "source": [
    "102/0.7"
   ]
  },
  {
   "cell_type": "code",
   "execution_count": null,
   "metadata": {
    "collapsed": true
   },
   "outputs": [],
   "source": []
  }
 ],
 "metadata": {
  "kernelspec": {
   "display_name": "Python 2",
   "language": "python",
   "name": "python2"
  },
  "language_info": {
   "codemirror_mode": {
    "name": "ipython",
    "version": 2
   },
   "file_extension": ".py",
   "mimetype": "text/x-python",
   "name": "python",
   "nbconvert_exporter": "python",
   "pygments_lexer": "ipython2",
   "version": "2.7.6"
  }
 },
 "nbformat": 4,
 "nbformat_minor": 0
}
