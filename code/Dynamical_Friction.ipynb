{
 "cells": [
  {
   "cell_type": "code",
   "execution_count": 1,
   "metadata": {
    "collapsed": false
   },
   "outputs": [
    {
     "name": "stdout",
     "output_type": "stream",
     "text": [
      "Populating the interactive namespace from numpy and matplotlib\n"
     ]
    },
    {
     "name": "stderr",
     "output_type": "stream",
     "text": [
      "/usr/local/lib/python2.7/dist-packages/IPython/kernel/__init__.py:13: ShimWarning: The `IPython.kernel` package has been deprecated. You should import from ipykernel or jupyter_client instead.\n",
      "  \"You should import from ipykernel or jupyter_client instead.\", ShimWarning)\n"
     ]
    }
   ],
   "source": [
    "%pylab inline\n",
    "from astropy import units\n",
    "import astropy as apy\n",
    "from profiles import *\n",
    "from math import erf\n",
    "from cosmotools import *"
   ]
  },
  {
   "cell_type": "code",
   "execution_count": 2,
   "metadata": {
    "collapsed": false
   },
   "outputs": [
    {
     "name": "stdout",
     "output_type": "stream",
     "text": [
      "1.56823998312\n",
      "4481226.61354 solMass / kpc3\n",
      "260.15450448 kpc\n",
      "261.24380107 kpc\n"
     ]
    }
   ],
   "source": [
    "print dens_NFW(11, 10, 0, 0, 1E12)\n",
    "print rvir2(1E12, 0)\n",
    "print rvir(1E12, 0)"
   ]
  },
  {
   "cell_type": "code",
   "execution_count": 2,
   "metadata": {
    "collapsed": false
   },
   "outputs": [
    {
     "name": "stdout",
     "output_type": "stream",
     "text": [
      "153.351428061 km / s\n",
      "156.834371006 kpc / Gyr\n"
     ]
    }
   ],
   "source": [
    "v_i = vc_NFW(11, 10, 0, 0, 1E12)\n",
    "print v_i\n",
    "print v_i.to(units.kpc/units.Gyr)"
   ]
  },
  {
   "cell_type": "code",
   "execution_count": 4,
   "metadata": {
    "collapsed": false
   },
   "outputs": [],
   "source": [
    "def coulomb_log(r):\n",
    "    bmax = r # position of test particle at a time t\n",
    "    k = 1.42 * units.kpc # kpc\n",
    "    bmin = 1.4 * k # k is the softening length if the LMC were modeled using a plummer progile . See Besla07\n",
    "    L = bmax / bmin\n",
    "    return np.log(L)\n",
    "\n",
    "def sigma(c, r, M_halo):\n",
    "    M_halo = M_halo * units.Msun\n",
    "    Rvir = rvir(M_halo.value, 0) \n",
    "    vvir = np.sqrt( G * M_halo / Rvir) \n",
    "    g = log(1+c) - (c /(1+c))\n",
    "    vmax = np.sqrt(0.216 * vvir**2 * c / g)\n",
    "    rs = Rvir / c\n",
    "    x = r / rs\n",
    "    sigma = vmax * 1.4393 * x **(0.354) / (1 + 1.1756*x**0.725)\n",
    "    sigma = sigma.to(units.kpc / units.Gyr)\n",
    "    return sigma\n",
    "\n",
    "sigma(11, 10 * units.kpc, 1E12)\n",
    "\n",
    "def dynamical_friction_sis(x, y, z, vx, vy, vz, M_sat):\n",
    "    # Coordinates\n",
    "    x = x * units.kpc\n",
    "    y = y * units.kpc\n",
    "    z = z * units.kpc\n",
    "    r = np.sqrt(x**2 + y**2 + z**2)\n",
    "    # Velocities\n",
    "    vx = vx * units.kpc / units.Gyr\n",
    "    vy = vy * units.kpc / units.Gyr\n",
    "    vz = vz * units.kpc / units.Gyr\n",
    "    v = np.sqrt(vx**2 + vy**2 + vz**2)\n",
    "    # Density of the NFW at a given r\n",
    "    rho = dens_NFW(11, x.value, y.value, z.value, 1E12) # a, r, v  ****\n",
    "    # Mass of the satellite\n",
    "    M_sat = M_sat * units.Msun\n",
    "    # Computing the dyanmical friction\n",
    "    factor = 4 * np.pi * G**2\n",
    "    Coulomb = 3# coulomb_log(r)\n",
    "    s = sigma(11, r, 1E12) #       ****\n",
    "    X = v / ( np.sqrt(2) * s ) \n",
    "    # Main equation\n",
    "    a_dfx = factor * M_sat * rho * Coulomb / v**3 * (  erf(X) - 2*X/(np.sqrt(np.pi) * np.exp(-X**2))  ) * vx\n",
    "    a_dfy = factor * M_sat * rho * Coulomb / v**3 * (  erf(X) - 2*X/(np.sqrt(np.pi) * np.exp(-X**2))  ) * vy\n",
    "    a_dfz = factor * M_sat * rho * Coulomb / v**3 * (  erf(X) - 2*X/(np.sqrt(np.pi) * np.exp(-X**2))  ) * vz\n",
    "    # Transforming to the right units\n",
    "    a_dfx = a_dfx.to(units.kpc / units.Gyr**2)\n",
    "    a_dfy = a_dfy.to(units.kpc / units.Gyr**2)\n",
    "    a_dfz = a_dfz.to(units.kpc / units.Gyr**2)\n",
    "    tt = factor * M_sat * rho * Coulomb \n",
    "    print tt.to(units.kpc**3/units.Gyr**4)\n",
    "    print rho\n",
    "    #print erf(X) - 2*X/(np.sqrt(np.pi) * np.exp(-X**2))\n",
    "    #print vy/v**3\n",
    "    return a_dfx.value, a_dfy.value, a_dfz.value\n"
   ]
  },
  {
   "cell_type": "code",
   "execution_count": 4,
   "metadata": {
    "collapsed": false
   },
   "outputs": [
    {
     "name": "stderr",
     "output_type": "stream",
     "text": [
      "/usr/local/lib/python2.7/dist-packages/ipykernel/__main__.py:6: RuntimeWarning: divide by zero encountered in log\n"
     ]
    },
    {
     "data": {
      "text/plain": [
       "<matplotlib.text.Text at 0x7f574aca2f10>"
      ]
     },
     "execution_count": 4,
     "metadata": {},
     "output_type": "execute_result"
    },
    {
     "data": {
      "image/png": "[encoded data removed]",
      "text/plain": [
       "<matplotlib.figure.Figure at 0x7f574abc4810>"
      ]
     },
     "metadata": {},
     "output_type": "display_data"
    }
   ],
   "source": [
    "r = linspace(0, 60, 100) * units.kpc\n",
    "plot(r, coulomb_log(r))\n",
    "title(\"$\\Lambda$\", fontsize=25)"
   ]
  },
  {
   "cell_type": "code",
   "execution_count": 5,
   "metadata": {
    "collapsed": false
   },
   "outputs": [
    {
     "name": "stdout",
     "output_type": "stream",
     "text": [
      "46.3913944742 kpc / Gyr\n"
     ]
    }
   ],
   "source": [
    "print sigma(11, r, 1E12)[1]\n",
    "#plot(r, sigma(11, r, 1E12)[0])\n",
    "#xlabel(\"$r(Kpc)$\", fontsize=25)\n",
    "#ylabel(\"$\\sigma(Kpc/Gyr)$\", fontsize=25)"
   ]
  },
  {
   "cell_type": "code",
   "execution_count": 6,
   "metadata": {
    "collapsed": false
   },
   "outputs": [
    {
     "name": "stdout",
     "output_type": "stream",
     "text": [
      "337654249.609 kpc3 / Gyr4\n",
      "4423476.13206 solMass / kpc3\n",
      "(-0.0, -101433.16583119385, -0.0)\n"
     ]
    }
   ],
   "source": [
    "print dynamical_friction_sis(10, 0, 0, 0, 153.35, 0, 1E11)\n",
    "#print dens_NFW(11, 40, 0, 0, 1E12)  "
   ]
  },
  {
   "cell_type": "code",
   "execution_count": 193,
   "metadata": {
    "collapsed": true
   },
   "outputs": [],
   "source": [
    "def acceleration(x, y, z, vx, vy, vz):\n",
    "    #M_bulge = 1E10\n",
    "    #M_disk = 5.5E10\n",
    "    M_halo = 1E12\n",
    "    M_sat = 1E11\n",
    "    #asis = a_sis(10, x, y, z, 200)\n",
    "    #adisk = a_mn(6.5, 0.6, x, y, z, M_disk)\n",
    "    ahalo = a_NFW(11.0, x, y, z, M_halo)\n",
    "    #print abulge, adisk, ahalo\n",
    "    ax = ahalo[0] #+ adisk[0] + ahalo[0]\n",
    "    ay = ahalo[1] #+ adisk[1] + ahalo[1]\n",
    "    az = ahalo[2] #+ adisk[2] + ahalo[2]\n",
    "    ax = ax.to(units.kpc/units.Gyr**2)  \n",
    "    ay = ay.to(units.kpc/units.Gyr**2) \n",
    "    az = az.to(units.kpc/units.Gyr**2) \n",
    "    a_dfx, a_dfy, a_dfz = dynamical_friction_sis(x, y, z, vx, vy, vz, M_sat)\n",
    "    Ax = ax.value + a_dfx\n",
    "    Ay = ay.value + a_dfy\n",
    "    Az = az.value + a_dfz\n",
    "    return Ax, Ay, Az"
   ]
  },
  {
   "cell_type": "code",
   "execution_count": 194,
   "metadata": {
    "collapsed": false
   },
   "outputs": [
    {
     "data": {
      "text/plain": [
       "(-2459.7019928968857, -80387.45833776054, -0.0)"
      ]
     },
     "execution_count": 194,
     "metadata": {},
     "output_type": "execute_result"
    }
   ],
   "source": [
    "acceleration(10, 0, 0, 0, 150, 0)"
   ]
  },
  {
   "cell_type": "code",
   "execution_count": 195,
   "metadata": {
    "collapsed": true
   },
   "outputs": [],
   "source": [
    "def leapfrog(n_points, h, x_ic, y_ic, z_ic, vx_ic, vy_ic, vz_ic):\n",
    "\n",
    "        #n_points = 3000\n",
    "        #h = 0.001\n",
    "        # Creating the arrays to collect the data in each step of the integration\n",
    "        # the imput units should be in Kpc and Gyrs!\n",
    "\n",
    "        t = np.zeros(n_points)\n",
    "        x = np.zeros(n_points)\n",
    "        y = np.zeros(n_points)\n",
    "        z = np.zeros(n_points)\n",
    "\n",
    "        vx = np.zeros(n_points)\n",
    "        vy = np.zeros(n_points)\n",
    "        vz = np.zeros(n_points)\n",
    "\n",
    "\n",
    "        ax = np.zeros(n_points)\n",
    "        ay = np.zeros(n_points)\n",
    "        az = np.zeros(n_points)\n",
    "\n",
    "        t[0] = 0\n",
    "\n",
    "        # This initial conditions come form MW.py, the units are Kpc and Gyr\n",
    "        x[0] = x_ic\n",
    "        y[0] = y_ic\n",
    "        z[0] = z_ic\n",
    "\n",
    "\n",
    "        vx[0] = vx_ic\n",
    "        vy[0] = vy_ic\n",
    "        vz[0] = vz_ic\n",
    "\n",
    "        ax[0] = acceleration(x[0], y[0], z[0], vx[0], vy[0], vz[0])[0]\n",
    "        ay[0] = acceleration(x[0], y[0], z[0], vx[0], vy[0], vz[0])[1]\n",
    "        az[0] = acceleration(x[0], y[0], z[0], vx[0], vy[0], vz[0])[2]\n",
    "\n",
    "        # one half step \n",
    "\n",
    "        t[1] = t[0] + h\n",
    "        x[1] = x[0] + h * vx[0]\n",
    "        y[1] = y[0] + h * vy[0]\n",
    "        z[1] = z[0] + h * vz[0]\n",
    "\n",
    "        vx[1] = vx[0] + h*acceleration(x[0], y[0], z[0], vx[0], vy[0], vz[0])[0]\n",
    "        vy[1] = vy[0] + h*acceleration(x[0], y[0], z[0], vx[0], vy[0], vz[0])[1]\n",
    "        vz[1] = vz[0] + h*acceleration(x[0], y[0], z[0], vx[0], vy[0], vz[0])[2]\n",
    "\n",
    "        ax[1] = acceleration(x[1],y[1], z[1], vx[1], vy[1], vz[1])[0]\n",
    "        ay[1] = acceleration(x[1],y[1], z[1], vx[1], vy[1], vz[1])[1]\n",
    "        az[1] = acceleration(x[1],y[1], z[1], vx[1], vy[1], vz[1])[2]\n",
    "\n",
    "        # iterate over all the steps!\n",
    "\n",
    "        for i in range(2,n_points):\n",
    "            t[i] = t[i-1] + h\n",
    "\n",
    "            x[i] = x[i-2] + 2 * h * vx[i-1]\n",
    "            y[i] = y[i-2] + 2 * h * vy[i-1]\n",
    "            z[i] = z[i-2] + 2 * h * vz[i-1]\n",
    "\n",
    "            vx[i] = vx[i-2] + 2 * h * acceleration(x[i-1], y[i-1], z[i-1], vx[i-1], vy[i-1], vz[i-1])[0]\n",
    "            vy[i] = vy[i-2] + 2 * h * acceleration(x[i-1], y[i-1], z[i-1], vx[i-1], vy[i-1], vz[i-1])[1]\n",
    "            vz[i] = vz[i-2] + 2 * h * acceleration(x[i-1], y[i-1], z[i-1], vx[i-1], vy[i-1], vz[i-1])[2]\n",
    "        \n",
    "        return x, y, z, t, ax, ay, az "
   ]
  },
  {
   "cell_type": "code",
   "execution_count": 201,
   "metadata": {
    "collapsed": false
   },
   "outputs": [],
   "source": [
    "X, Y, Z, t, ax, ay, az = leapfrog(100, 0.001, 10, 0, 0, 0, 156.834371006, 0)"
   ]
  },
  {
   "cell_type": "code",
   "execution_count": 202,
   "metadata": {
    "collapsed": false
   },
   "outputs": [
    {
     "data": {
      "text/plain": [
       "[<matplotlib.lines.Line2D at 0x7f5356e0fe10>]"
      ]
     },
     "execution_count": 202,
     "metadata": {},
     "output_type": "execute_result"
    },
    {
     "data": {
      "image/png": "[encoded data removed]",
      "text/plain": [
       "<matplotlib.figure.Figure at 0x7f5356efe4d0>"
      ]
     },
     "metadata": {},
     "output_type": "display_data"
    }
   ],
   "source": [
    "figure(figsize=(7, 7))\n",
    "\n",
    "plot(X, Y)\n",
    "#xlim(-15, 15)\n",
    "#ylim(-15, 15)"
   ]
  },
  {
   "cell_type": "code",
   "execution_count": 198,
   "metadata": {
    "collapsed": false
   },
   "outputs": [
    {
     "data": {
      "text/plain": [
       "[<matplotlib.lines.Line2D at 0x7f5356dcf450>]"
      ]
     },
     "execution_count": 198,
     "metadata": {},
     "output_type": "execute_result"
    },
    {
     "data": {
      "image/png": "[encoded data removed]",
      "text/plain": [
       "<matplotlib.figure.Figure at 0x7f5356f4f810>"
      ]
     },
     "metadata": {},
     "output_type": "display_data"
    }
   ],
   "source": [
    "plot(t, np.sqrt(X**2+Y**2+Z**2))"
   ]
  },
  {
   "cell_type": "code",
   "execution_count": 199,
   "metadata": {
    "collapsed": false
   },
   "outputs": [
    {
     "name": "stdout",
     "output_type": "stream",
     "text": [
      "[ 0.    0.01  0.02  0.03  0.04  0.05  0.06  0.07  0.08  0.09  0.1   0.11\n",
      "  0.12  0.13  0.14  0.15  0.16  0.17  0.18  0.19  0.2   0.21  0.22  0.23\n",
      "  0.24  0.25  0.26  0.27  0.28  0.29  0.3   0.31  0.32  0.33  0.34  0.35\n",
      "  0.36  0.37  0.38  0.39  0.4   0.41  0.42  0.43  0.44  0.45  0.46  0.47\n",
      "  0.48  0.49  0.5   0.51  0.52  0.53  0.54  0.55  0.56  0.57  0.58  0.59\n",
      "  0.6   0.61  0.62  0.63  0.64  0.65  0.66  0.67  0.68  0.69  0.7   0.71\n",
      "  0.72  0.73  0.74  0.75  0.76  0.77  0.78  0.79  0.8   0.81  0.82  0.83\n",
      "  0.84  0.85  0.86  0.87  0.88  0.89  0.9   0.91  0.92  0.93  0.94  0.95\n",
      "  0.96  0.97  0.98  0.99  1.    1.01  1.02  1.03  1.04  1.05  1.06  1.07\n",
      "  1.08  1.09  1.1   1.11  1.12  1.13  1.14  1.15  1.16  1.17  1.18  1.19\n",
      "  1.2   1.21  1.22  1.23  1.24  1.25  1.26  1.27  1.28  1.29  1.3   1.31\n",
      "  1.32  1.33  1.34  1.35  1.36  1.37  1.38  1.39  1.4   1.41  1.42  1.43\n",
      "  1.44  1.45  1.46  1.47  1.48  1.49  1.5   1.51  1.52  1.53  1.54  1.55\n",
      "  1.56  1.57  1.58  1.59  1.6   1.61  1.62  1.63  1.64  1.65  1.66  1.67\n",
      "  1.68  1.69  1.7   1.71  1.72  1.73  1.74  1.75  1.76  1.77  1.78  1.79\n",
      "  1.8   1.81  1.82  1.83  1.84  1.85  1.86  1.87  1.88  1.89  1.9   1.91\n",
      "  1.92  1.93  1.94  1.95  1.96  1.97  1.98  1.99]\n"
     ]
    }
   ],
   "source": [
    "print t"
   ]
  },
  {
   "cell_type": "code",
   "execution_count": 178,
   "metadata": {
    "collapsed": false
   },
   "outputs": [
    {
     "name": "stdout",
     "output_type": "stream",
     "text": [
      "[-2459.7019929  -2418.01023777     0.             0.             0.             0.\n",
      "     0.             0.             0.             0.             0.             0.\n",
      "     0.             0.             0.             0.             0.             0.\n",
      "     0.             0.             0.             0.             0.             0.\n",
      "     0.             0.             0.             0.             0.             0.\n",
      "     0.             0.             0.             0.             0.             0.\n",
      "     0.             0.             0.             0.             0.             0.\n",
      "     0.             0.             0.             0.             0.             0.\n",
      "     0.             0.             0.             0.             0.             0.\n",
      "     0.             0.             0.             0.             0.             0.\n",
      "     0.             0.             0.             0.             0.             0.\n",
      "     0.             0.             0.             0.             0.             0.\n",
      "     0.             0.             0.             0.             0.             0.\n",
      "     0.             0.             0.             0.             0.             0.\n",
      "     0.             0.             0.             0.             0.             0.\n",
      "     0.             0.             0.             0.             0.             0.\n",
      "     0.             0.             0.             0.             0.             0.\n",
      "     0.             0.             0.             0.             0.             0.\n",
      "     0.             0.             0.             0.             0.             0.\n",
      "     0.             0.             0.             0.             0.             0.\n",
      "     0.             0.             0.             0.             0.             0.\n",
      "     0.             0.             0.             0.             0.             0.\n",
      "     0.             0.             0.             0.             0.             0.\n",
      "     0.             0.             0.             0.             0.             0.\n",
      "     0.             0.             0.             0.             0.             0.\n",
      "     0.             0.             0.             0.             0.             0.\n",
      "     0.             0.             0.             0.             0.             0.\n",
      "     0.             0.             0.             0.             0.             0.\n",
      "     0.             0.             0.             0.             0.             0.\n",
      "     0.             0.             0.             0.             0.             0.\n",
      "     0.             0.             0.             0.             0.             0.\n",
      "     0.             0.             0.             0.             0.             0.\n",
      "     0.             0.             0.             0.             0.             0.\n",
      "     0.             0.        ] [  -0.         -379.22711473    0.            0.            0.            0.\n",
      "    0.            0.            0.            0.            0.            0.\n",
      "    0.            0.            0.            0.            0.            0.\n",
      "    0.            0.            0.            0.            0.            0.\n",
      "    0.            0.            0.            0.            0.            0.\n",
      "    0.            0.            0.            0.            0.            0.\n",
      "    0.            0.            0.            0.            0.            0.\n",
      "    0.            0.            0.            0.            0.            0.\n",
      "    0.            0.            0.            0.            0.            0.\n",
      "    0.            0.            0.            0.            0.            0.\n",
      "    0.            0.            0.            0.            0.            0.\n",
      "    0.            0.            0.            0.            0.            0.\n",
      "    0.            0.            0.            0.            0.            0.\n",
      "    0.            0.            0.            0.            0.            0.\n",
      "    0.            0.            0.            0.            0.            0.\n",
      "    0.            0.            0.            0.            0.            0.\n",
      "    0.            0.            0.            0.            0.            0.\n",
      "    0.            0.            0.            0.            0.            0.\n",
      "    0.            0.            0.            0.            0.            0.\n",
      "    0.            0.            0.            0.            0.            0.\n",
      "    0.            0.            0.            0.            0.            0.\n",
      "    0.            0.            0.            0.            0.            0.\n",
      "    0.            0.            0.            0.            0.            0.\n",
      "    0.            0.            0.            0.            0.            0.\n",
      "    0.            0.            0.            0.            0.            0.\n",
      "    0.            0.            0.            0.            0.            0.\n",
      "    0.            0.            0.            0.            0.            0.\n",
      "    0.            0.            0.            0.            0.            0.\n",
      "    0.            0.            0.            0.            0.            0.\n",
      "    0.            0.            0.            0.            0.            0.\n",
      "    0.            0.            0.            0.            0.            0.\n",
      "    0.            0.            0.            0.            0.            0.\n",
      "    0.            0.            0.            0.            0.            0.\n",
      "    0.            0.        ] [-0. -0.  0.  0.  0.  0.  0.  0.  0.  0.  0.  0.  0.  0.  0.  0.  0.  0.\n",
      "  0.  0.  0.  0.  0.  0.  0.  0.  0.  0.  0.  0.  0.  0.  0.  0.  0.  0.\n",
      "  0.  0.  0.  0.  0.  0.  0.  0.  0.  0.  0.  0.  0.  0.  0.  0.  0.  0.\n",
      "  0.  0.  0.  0.  0.  0.  0.  0.  0.  0.  0.  0.  0.  0.  0.  0.  0.  0.\n",
      "  0.  0.  0.  0.  0.  0.  0.  0.  0.  0.  0.  0.  0.  0.  0.  0.  0.  0.\n",
      "  0.  0.  0.  0.  0.  0.  0.  0.  0.  0.  0.  0.  0.  0.  0.  0.  0.  0.\n",
      "  0.  0.  0.  0.  0.  0.  0.  0.  0.  0.  0.  0.  0.  0.  0.  0.  0.  0.\n",
      "  0.  0.  0.  0.  0.  0.  0.  0.  0.  0.  0.  0.  0.  0.  0.  0.  0.  0.\n",
      "  0.  0.  0.  0.  0.  0.  0.  0.  0.  0.  0.  0.  0.  0.  0.  0.  0.  0.\n",
      "  0.  0.  0.  0.  0.  0.  0.  0.  0.  0.  0.  0.  0.  0.  0.  0.  0.  0.\n",
      "  0.  0.  0.  0.  0.  0.  0.  0.  0.  0.  0.  0.  0.  0.  0.  0.  0.  0.\n",
      "  0.  0.]\n"
     ]
    }
   ],
   "source": [
    "print ax, ay, az"
   ]
  },
  {
   "cell_type": "code",
   "execution_count": null,
   "metadata": {
    "collapsed": true
   },
   "outputs": [],
   "source": []
  }
 ],
 "metadata": {
  "kernelspec": {
   "display_name": "Python 2",
   "language": "python",
   "name": "python2"
  },
  "language_info": {
   "codemirror_mode": {
    "name": "ipython",
    "version": 2
   },
   "file_extension": ".py",
   "mimetype": "text/x-python",
   "name": "python",
   "nbconvert_exporter": "python",
   "pygments_lexer": "ipython2",
   "version": "2.7.6"
  }
 },
 "nbformat": 4,
 "nbformat_minor": 0
}
