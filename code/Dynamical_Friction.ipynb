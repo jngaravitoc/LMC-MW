{
 "cells": [
  {
   "cell_type": "code",
   "execution_count": 293,
   "metadata": {
    "collapsed": false
   },
   "outputs": [
    {
     "name": "stdout",
     "output_type": "stream",
     "text": [
      "Populating the interactive namespace from numpy and matplotlib\n"
     ]
    }
   ],
   "source": [
    "%pylab inline\n",
    "from astropy import units\n",
    "import astropy as apy\n",
    "from profiles import *\n",
    "from math import erf\n",
    "from cosmotools import *"
   ]
  },
  {
   "cell_type": "code",
   "execution_count": 294,
   "metadata": {
    "collapsed": false
   },
   "outputs": [
    {
     "name": "stdout",
     "output_type": "stream",
     "text": [
      "4481226.61354 solMass / kpc3\n"
     ]
    }
   ],
   "source": [
    "print dens_NFW(11, 10, 0, 0, 1E12)"
   ]
  },
  {
   "cell_type": "code",
   "execution_count": 295,
   "metadata": {
    "collapsed": false
   },
   "outputs": [
    {
     "name": "stdout",
     "output_type": "stream",
     "text": [
      "122.948984829 km / s\n",
      "125.741422466 kpc / Gyr\n"
     ]
    }
   ],
   "source": [
    "v_i = vc_NFW(11, 10, 0, 0, 1E12)\n",
    "print v_i\n",
    "print v_i.to(units.kpc/units.Gyr)"
   ]
  },
  {
   "cell_type": "code",
   "execution_count": 299,
   "metadata": {
    "collapsed": false
   },
   "outputs": [],
   "source": [
    "def coulomb_log(r):\n",
    "    bmax = r # position of test particle at a time t\n",
    "    k = 1.42 * units.kpc # kpc\n",
    "    bmin = 1.4 * k # k is the softening length if the LMC were modeled using a plummer progile . See Besla07\n",
    "    L = bmax / bmin\n",
    "    return np.log(L)\n",
    "\n",
    "def sigma(c, r, M_halo):\n",
    "    M_halo = M_halo * units.Msun\n",
    "    Rvir = rvir2(M_halo.value, 0)  # Halo mass, Z\n",
    "    vvir = np.sqrt( G * M_halo / Rvir) \n",
    "    g = log(1+c) - (c /(1+c))\n",
    "    vmax = np.sqrt(0.216 * vvir**2 * c / g)\n",
    "    rs = Rvir / c\n",
    "    x = r / rs\n",
    "    sigma = vmax * 1.4393 * x **(0.354) / (1 + 1.1756*x**0.725)\n",
    "    sigma = sigma.to(units.kpc / units.Gyr)\n",
    "    return sigma\n",
    "\n",
    "sigma(11, 10 * units.kpc, 1E12)\n",
    "\n",
    "def dynamical_friction_sis(x, y, z, vx, vy, vz, M_sat, M_halo):\n",
    "    # Coordinates\n",
    "    x = x * units.kpc\n",
    "    y = y * units.kpc\n",
    "    z = z * units.kpc\n",
    "    r = np.sqrt(x**2 + y**2 + z**2)\n",
    "    # Velocities\n",
    "    vx = vx * units.kpc / units.Gyr\n",
    "    vy = vy * units.kpc / units.Gyr\n",
    "    vz = vz * units.kpc / units.Gyr\n",
    "    v = np.sqrt(vx**2 + vy**2 + vz**2)\n",
    "    # Density of the NFW at a given r\n",
    "    rho = dens_NFW(11, x.value, y.value, z.value, M_halo) # a, r, v  ****\n",
    "    # Mass of the satellite\n",
    "    M_sat = M_sat * units.Msun\n",
    "    # Computing the dyanmical friction\n",
    "    G = constants.G\n",
    "    G = G.to(units.kpc**3 / units.Msun / units.Gyr**2)\n",
    "    factor = - 4 * np.pi * G**2\n",
    "    Coulomb = 3# coulomb_log(r)\n",
    "    s = sigma(11, r, 1E12) #       ****\n",
    "    X = v / ( np.sqrt(2) * s ) \n",
    "    #print v, s, X\n",
    "    # Main equation\n",
    "    a_dfx = (factor * M_sat * rho * Coulomb  * (  erf(X) - 2.0*X/(np.sqrt(np.pi)) * np.exp(-X**2.0)  ) * vx) / v**3.0\n",
    "    a_dfy = (factor * M_sat * rho * Coulomb  * (  erf(X) - 2.0*X/(np.sqrt(np.pi)) * np.exp(-X**2.0)  ) * vy) / v**3.0\n",
    "    a_dfz = (factor * M_sat * rho * Coulomb  * (  erf(X) - 2.0*X/(np.sqrt(np.pi)) * np.exp(-X**2.0)  ) * vz) / v**3.0 \n",
    "    # Transforming to the right units\n",
    "    a_dfx = a_dfx.to(units.kpc / units.Gyr**2) \n",
    "    a_dfy = a_dfy.to(units.kpc / units.Gyr**2)\n",
    "    a_dfz = a_dfz.to(units.kpc / units.Gyr**2)\n",
    "    tt = factor * M_sat * rho * Coulomb \n",
    "    #print tt.to(units.kpc**3/units.Gyr**4)\n",
    "    #print rho\n",
    "    #print erf(X) - 2*X/(np.sqrt(np.pi) * np.exp(-X**2))\n",
    "    #print vy/v**3.0 \n",
    "    return a_dfx.value, a_dfy.value, a_dfz.value\n"
   ]
  },
  {
   "cell_type": "code",
   "execution_count": 303,
   "metadata": {
    "collapsed": false
   },
   "outputs": [
    {
     "name": "stdout",
     "output_type": "stream",
     "text": [
      "(-0.0, -9596.949916670286, -0.0)\n"
     ]
    }
   ],
   "source": [
    "print dynamical_friction_sis(10, 0, 0, 0, 153.35, 0, 1E11, 1E12)\n",
    "#print dens_NFW(11, 40, 0, 0, 1E12)  "
   ]
  },
  {
   "cell_type": "code",
   "execution_count": 300,
   "metadata": {
    "collapsed": true
   },
   "outputs": [],
   "source": [
    "def acceleration(x, y, z, vx, vy, vz):\n",
    "    #M_bulge = 1E10\n",
    "    #M_disk = 5.5E10\n",
    "    M_halo = 1E12\n",
    "    M_sat = 1E11\n",
    "    #asis = a_sis(10, x, y, z, 200)\n",
    "    #adisk = a_mn(6.5, 0.6, x, y, z, M_disk)\n",
    "    ahalo = a_NFW(11.0, x, y, z, M_halo)\n",
    "    \n",
    "    ax = ahalo[0] #+ adisk[0] + ahalo[0]\n",
    "    ay = ahalo[1] #+ adisk[1] + ahalo[1]\n",
    "    az = ahalo[2] #+ adisk[2] + ahalo[2]\n",
    "    ax = ax.to(units.kpc/units.Gyr**2)  \n",
    "    ay = ay.to(units.kpc/units.Gyr**2) \n",
    "    az = az.to(units.kpc/units.Gyr**2) \n",
    "    a_dfx, a_dfy, a_dfz = dynamical_friction_sis(x, y, z, vx, vy, vz, M_sat, M_halo)\n",
    "    Ax = ax.value + a_dfx \n",
    "    Ay = ay.value + a_dfy \n",
    "    Az = az.value + a_dfz \n",
    "    return Ax, Ay, Az"
   ]
  },
  {
   "cell_type": "code",
   "execution_count": 302,
   "metadata": {
    "collapsed": false
   },
   "outputs": [
    {
     "name": "stdout",
     "output_type": "stream",
     "text": [
      "(-1581.0905323692525, -9596.949916670286, -0.0)\n"
     ]
    }
   ],
   "source": [
    "acdf = acceleration(10, 0, 0, 0, 153.35, 0)\n",
    "print acdf"
   ]
  },
  {
   "cell_type": "code",
   "execution_count": 289,
   "metadata": {
    "collapsed": true
   },
   "outputs": [],
   "source": [
    "def leapfrog(n_points, h, x_ic, y_ic, z_ic, vx_ic, vy_ic, vz_ic):\n",
    "\n",
    "        #n_points = 3000\n",
    "        #h = 0.001\n",
    "        # Creating the arrays to collect the data in each step of the integration\n",
    "        # the imput units should be in Kpc and Gyrs!\n",
    "\n",
    "        t = np.zeros(n_points)\n",
    "        x = np.zeros(n_points)\n",
    "        y = np.zeros(n_points)\n",
    "        z = np.zeros(n_points)\n",
    "\n",
    "        vx = np.zeros(n_points)\n",
    "        vy = np.zeros(n_points)\n",
    "        vz = np.zeros(n_points)\n",
    "\n",
    "\n",
    "        ax = np.zeros(n_points)\n",
    "        ay = np.zeros(n_points)\n",
    "        az = np.zeros(n_points)\n",
    "\n",
    "        t[0] = 0\n",
    "\n",
    "        # This initial conditions come form MW.py, the units are Kpc and Gyr\n",
    "        x[0] = x_ic\n",
    "        y[0] = y_ic\n",
    "        z[0] = z_ic\n",
    "\n",
    "\n",
    "        vx[0] = vx_ic\n",
    "        vy[0] = vy_ic\n",
    "        vz[0] = vz_ic\n",
    "\n",
    "        ax[0] = acceleration(x[0], y[0], z[0], vx[0], vy[0], vz[0])[0]\n",
    "        ay[0] = acceleration(x[0], y[0], z[0], vx[0], vy[0], vz[0])[1]\n",
    "        az[0] = acceleration(x[0], y[0], z[0], vx[0], vy[0], vz[0])[2]\n",
    "\n",
    "        # one half step \n",
    "\n",
    "        t[1] = t[0] + h\n",
    "        x[1] = x[0] + h * vx[0]\n",
    "        y[1] = y[0] + h * vy[0]\n",
    "        z[1] = z[0] + h * vz[0]\n",
    "\n",
    "        vx[1] = vx[0] + h * ax[0]\n",
    "        vy[1] = vy[0] + h * ay[0]\n",
    "        vz[1] = vz[0] + h * az[0]\n",
    "\n",
    "        ax[1] = acceleration(x[1],y[1], z[1], vx[1], vy[1], vz[1])[0]\n",
    "        ay[1] = acceleration(x[1],y[1], z[1], vx[1], vy[1], vz[1])[1]\n",
    "        az[1] = acceleration(x[1],y[1], z[1], vx[1], vy[1], vz[1])[2]\n",
    "\n",
    "        # iterate over all the steps!\n",
    "\n",
    "        for i in range(2,n_points):\n",
    "            t[i] = t[i-1] + h\n",
    "\n",
    "            x[i] = x[i-2] + 2 * h * vx[i-1]\n",
    "            y[i] = y[i-2] + 2 * h * vy[i-1]\n",
    "            z[i] = z[i-2] + 2 * h * vz[i-1]\n",
    "\n",
    "            vx[i] = vx[i-2] + 2 * h * acceleration(x[i-1], y[i-1], z[i-1], vx[i-1], vy[i-1], vz[i-1])[0]\n",
    "            vy[i] = vy[i-2] + 2 * h * acceleration(x[i-1], y[i-1], z[i-1], vx[i-1], vy[i-1], vz[i-1])[1]\n",
    "            vz[i] = vz[i-2] + 2 * h * acceleration(x[i-1], y[i-1], z[i-1], vx[i-1], vy[i-1], vz[i-1])[2]\n",
    "        \n",
    "        return x, y, z, t, ax, ay, az "
   ]
  },
  {
   "cell_type": "code",
   "execution_count": null,
   "metadata": {
    "collapsed": false
   },
   "outputs": [],
   "source": [
    "X, Y, Z, t, ax, ay, az = leapfrog(600, 0.01, 10, 0, 0, 0, 153.35, 0)"
   ]
  },
  {
   "cell_type": "code",
   "execution_count": null,
   "metadata": {
    "collapsed": false
   },
   "outputs": [],
   "source": [
    "figure(figsize=(7, 7))\n",
    "plot(X, Y)"
   ]
  },
  {
   "cell_type": "code",
   "execution_count": 249,
   "metadata": {
    "collapsed": false
   },
   "outputs": [
    {
     "data": {
      "text/plain": [
       "[<matplotlib.lines.Line2D at 0x7f72c142b390>]"
      ]
     },
     "execution_count": 249,
     "metadata": {},
     "output_type": "execute_result"
    },
    {
     "data": {
      "image/png": "[encoded data removed]",
      "text/plain": [
       "<matplotlib.figure.Figure at 0x7f72c14e3c90>"
      ]
     },
     "metadata": {},
     "output_type": "display_data"
    }
   ],
   "source": [
    "figure(figsize=(7, 7))\n",
    "\n",
    "plot(X, Y)\n",
    "#xlim(9.5, 10.4)\n",
    "#ylim(-25, 10)"
   ]
  },
  {
   "cell_type": "code",
   "execution_count": 228,
   "metadata": {
    "collapsed": false
   },
   "outputs": [
    {
     "data": {
      "text/plain": [
       "[<matplotlib.lines.Line2D at 0x7f72c35594d0>]"
      ]
     },
     "execution_count": 228,
     "metadata": {},
     "output_type": "execute_result"
    },
    {
     "data": {
      "image/png": "[encoded data removed]",
      "text/plain": [
       "<matplotlib.figure.Figure at 0x7f72c36a9f10>"
      ]
     },
     "metadata": {},
     "output_type": "display_data"
    }
   ],
   "source": [
    "plot(t, np.sqrt(X**2+Y**2+Z**2))"
   ]
  },
  {
   "cell_type": "code",
   "execution_count": null,
   "metadata": {
    "collapsed": true
   },
   "outputs": [],
   "source": []
  }
 ],
 "metadata": {
  "kernelspec": {
   "display_name": "Python 2",
   "language": "python",
   "name": "python2"
  },
  "language_info": {
   "codemirror_mode": {
    "name": "ipython",
    "version": 2
   },
   "file_extension": ".py",
   "mimetype": "text/x-python",
   "name": "python",
   "nbconvert_exporter": "python",
   "pygments_lexer": "ipython2",
   "version": "2.7.6"
  }
 },
 "nbformat": 4,
 "nbformat_minor": 0
}
