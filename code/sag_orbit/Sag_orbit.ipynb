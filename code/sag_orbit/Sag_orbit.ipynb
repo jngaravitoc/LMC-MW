{
 "cells": [
  {
   "cell_type": "code",
   "execution_count": 15,
   "metadata": {
    "collapsed": false
   },
   "outputs": [
    {
     "name": "stdout",
     "output_type": "stream",
     "text": [
      "Populating the interactive namespace from numpy and matplotlib\n"
     ]
    }
   ],
   "source": [
    "%pylab inline\n",
    "from astropy import units"
   ]
  },
  {
   "cell_type": "code",
   "execution_count": 2,
   "metadata": {
    "collapsed": false
   },
   "outputs": [],
   "source": [
    "sag_free = np.loadtxt(\"sgr_orbit_free.dat\")\n",
    "sag_fixed = np.loadtxt(\"sgr_orbit_fixed.dat\")"
   ]
  },
  {
   "cell_type": "code",
   "execution_count": 3,
   "metadata": {
    "collapsed": true
   },
   "outputs": [],
   "source": [
    "x_free_sag = sag_free[:,1]\n",
    "y_free_sag = sag_free[:,2]\n",
    "z_free_sag = sag_free[:,3]\n",
    "vx_free_sag = sag_free[:,7]\n",
    "vy_free_sag = sag_free[:,8]\n",
    "vz_free_sag = sag_free[:,9]"
   ]
  },
  {
   "cell_type": "code",
   "execution_count": 4,
   "metadata": {
    "collapsed": true
   },
   "outputs": [],
   "source": [
    "x_free_mw = sag_free[:,4]\n",
    "y_free_mw = sag_free[:,5]\n",
    "z_free_mw = sag_free[:,6]\n",
    "vx_free_mw = sag_free[:,10]\n",
    "vy_free_mw = sag_free[:,11]\n",
    "vz_free_mw = sag_free[:,12]"
   ]
  },
  {
   "cell_type": "code",
   "execution_count": 5,
   "metadata": {
    "collapsed": true
   },
   "outputs": [],
   "source": [
    "R_free = np.sqrt((x_free_sag - x_free_mw)**2  + (y_free_sag - y_free_mw)**2 + (z_free_sag - z_free_mw)**2 )\n",
    "t = sag_free[:,0]"
   ]
  },
  {
   "cell_type": "code",
   "execution_count": 6,
   "metadata": {
    "collapsed": false
   },
   "outputs": [
    {
     "data": {
      "text/plain": [
       "[<matplotlib.lines.Line2D at 0x7f0c97982050>]"
      ]
     },
     "execution_count": 6,
     "metadata": {},
     "output_type": "execute_result"
    },
    {
     "data": {
      "image/png": "[encoded data removed]",
      "text/plain": [
       "<matplotlib.figure.Figure at 0x7f0c98843310>"
      ]
     },
     "metadata": {},
     "output_type": "display_data"
    }
   ],
   "source": [
    "plot(t, R_free)"
   ]
  },
  {
   "cell_type": "code",
   "execution_count": 7,
   "metadata": {
    "collapsed": false
   },
   "outputs": [
    {
     "name": "stdout",
     "output_type": "stream",
     "text": [
      "260.995618387\n",
      "-116.277757788 0.0 233.662568378\n",
      "-25.6448883132 0.0 -68.488979185\n"
     ]
    }
   ],
   "source": [
    "print R_free[2153]\n",
    "index_free = 2153\n",
    "print x_free_sag[index_free] - x_free_mw[index_free], y_free_sag[index_free] -y_free_mw[index_free], z_free_sag[index_free] - z_free_mw[index_free]\n",
    "print vx_free_sag[index_free] - vx_free_mw[index_free], vy_free_sag[index_free] -vy_free_mw[index_free], vz_free_sag[index_free] - vz_free_mw[index_free]"
   ]
  },
  {
   "cell_type": "code",
   "execution_count": 8,
   "metadata": {
    "collapsed": false
   },
   "outputs": [],
   "source": [
    "Vx_gal_free = (vx_free_sag[index_free] - vx_free_mw[index_free])*units.kpc/units.Gyr\n",
    "Vy_gal_free = (vy_free_sag[index_free] - vy_free_mw[index_free])*units.kpc/units.Gyr\n",
    "Vz_gal_free = (vz_free_sag[index_free] - vz_free_mw[index_free])*units.kpc/units.Gyr"
   ]
  },
  {
   "cell_type": "code",
   "execution_count": 9,
   "metadata": {
    "collapsed": false
   },
   "outputs": [
    {
     "name": "stdout",
     "output_type": "stream",
     "text": [
      "-25.0753723183 km / s\n",
      "0.0 km / s\n",
      "-66.9679911174 km / s\n",
      "-2.153\n"
     ]
    }
   ],
   "source": [
    "print Vx_gal_free.to(units.km/units.s)\n",
    "print Vy_gal_free.to(units.km/units.s)\n",
    "print Vz_gal_free.to(units.km/units.s)\n",
    "print t[index_free]"
   ]
  },
  {
   "cell_type": "code",
   "execution_count": 16,
   "metadata": {
    "collapsed": false
   },
   "outputs": [
    {
     "data": {
      "text/plain": [
       "(-117.42621564, 0.0, 170.73873386099999)"
      ]
     },
     "execution_count": 16,
     "metadata": {},
     "output_type": "execute_result"
    }
   ],
   "source": [
    "x_free_sag[index_free] , y_free_sag[index_free], z_free_sag[index_free]"
   ]
  },
  {
   "cell_type": "code",
   "execution_count": 20,
   "metadata": {
    "collapsed": false
   },
   "outputs": [
    {
     "name": "stdout",
     "output_type": "stream",
     "text": [
      "-12.7710023641 km / s\n",
      "0.0 km / s\n",
      "-37.9478998318 km / s\n",
      "12.3043699542 km / s\n",
      "0.0 km / s\n",
      "29.0200912856 km / s\n"
     ]
    }
   ],
   "source": [
    "vx_free = vx_free_sag[index_free]*units.kpc/units.Gyr\n",
    "vy_free = vy_free_sag[index_free]*units.kpc/units.Gyr \n",
    "vz_free = vz_free_sag[index_free]*units.kpc/units.Gyr \n",
    "\n",
    "vx_free_mww = vx_free_mw[index_free]*units.kpc/units.Gyr\n",
    "vy_free_mww = vy_free_mw[index_free]*units.kpc/units.Gyr \n",
    "vz_free_mww = vz_free_mw[index_free]*units.kpc/units.Gyr \n",
    "print vx_free.to(units.km/units.s)\n",
    "print vy_free.to(units.km/units.s)\n",
    "print vz_free.to(units.km/units.s)\n",
    "print vx_free_mww.to(units.km/units.s)\n",
    "print vy_free_mww.to(units.km/units.s)\n",
    "print vz_free_mww.to(units.km/units.s)"
   ]
  },
  {
   "cell_type": "code",
   "execution_count": 19,
   "metadata": {
    "collapsed": false
   },
   "outputs": [
    {
     "data": {
      "text/plain": [
       "(-1.1484578518999999, 0.0, -62.923834517300001)"
      ]
     },
     "execution_count": 19,
     "metadata": {},
     "output_type": "execute_result"
    }
   ],
   "source": [
    "x_free_mw[index_free] , y_free_mw[index_free], z_free_mw[index_free]"
   ]
  },
  {
   "cell_type": "code",
   "execution_count": 10,
   "metadata": {
    "collapsed": false
   },
   "outputs": [],
   "source": [
    "#sag_fixed = np.loadtxt(\"sgr_fixed.dat\")\n",
    "x_fixed_sag = sag_fixed[:,1]\n",
    "y_fixed_sag = sag_fixed[:,2]\n",
    "z_fixed_sag = sag_fixed[:,3]\n",
    "vx_fixed_sag = sag_fixed[:,7]\n",
    "vy_fixed_sag = sag_fixed[:,8]\n",
    "vz_fixed_sag = sag_fixed[:,9]"
   ]
  },
  {
   "cell_type": "code",
   "execution_count": 11,
   "metadata": {
    "collapsed": false
   },
   "outputs": [],
   "source": [
    "R_fix = np.sqrt(x_fixed_sag**2 + y_fixed_sag**2 + z_fixed_sag**2)\n",
    "t_fix = sag_fixed[:,0]"
   ]
  },
  {
   "cell_type": "code",
   "execution_count": 46,
   "metadata": {
    "collapsed": false
   },
   "outputs": [
    {
     "data": {
      "text/plain": [
       "[<matplotlib.lines.Line2D at 0x7fa5b98a0a50>]"
      ]
     },
     "execution_count": 46,
     "metadata": {},
     "output_type": "execute_result"
    },
    {
     "data": {
      "image/png": "[encoded data removed]",
      "text/plain": [
       "<matplotlib.figure.Figure at 0x7fa5b9b77f10>"
      ]
     },
     "metadata": {},
     "output_type": "display_data"
    }
   ],
   "source": [
    "plot(t_fix, R_fix)"
   ]
  },
  {
   "cell_type": "code",
   "execution_count": 62,
   "metadata": {
    "collapsed": false
   },
   "outputs": [
    {
     "name": "stdout",
     "output_type": "stream",
     "text": [
      "261.002781693\n",
      "-152.990377528 0.0 211.462517802\n",
      "-1.987\n"
     ]
    }
   ],
   "source": [
    "print R_fix[1987]\n",
    "index_fix = 1987\n",
    "print x_fixed_sag[index_fix], y_fixed_sag[index_fix], z_fixed_sag[index_fix]\n",
    "print t_fix[index_fix]"
   ]
  },
  {
   "cell_type": "code",
   "execution_count": 63,
   "metadata": {
    "collapsed": false
   },
   "outputs": [
    {
     "name": "stdout",
     "output_type": "stream",
     "text": [
      "7.42028779448 km / s 0.0 km / s -99.9322197215 km / s\n"
     ]
    }
   ],
   "source": [
    "VXf = vx_fixed_sag[index_fix] * units.kpc / units.Gyr\n",
    "VYf = vy_fixed_sag[index_fix] * units.kpc / units.Gyr\n",
    "VZf = vz_fixed_sag[index_fix] * units.kpc / units.Gyr\n",
    "\n",
    "print VXf.to(units.km/units.s), VYf.to(units.km/units.s), VZf.to(units.km/units.s)"
   ]
  },
  {
   "cell_type": "markdown",
   "metadata": {},
   "source": [
    "# Forward integration"
   ]
  },
  {
   "cell_type": "code",
   "execution_count": 52,
   "metadata": {
    "collapsed": true
   },
   "outputs": [],
   "source": [
    "data_ffhr = np.loadtxt('sgr_ffhr.dat')\n",
    "data_fhr = np.loadtxt('sgr_fhr.dat')"
   ]
  },
  {
   "cell_type": "code",
   "execution_count": 75,
   "metadata": {
    "collapsed": false
   },
   "outputs": [],
   "source": [
    "t_ffhr = data_ffhr[:,0]\n",
    "x_ffhr = data_ffhr[:,1]\n",
    "y_ffhr = data_ffhr[:,2]\n",
    "z_ffhr = data_ffhr[:,3]\n",
    "vx_ffhr = data_ffhr[:,7]\n",
    "vy_ffhr = data_ffhr[:,8]\n",
    "vz_ffhr = data_ffhr[:,9]\n",
    "R = np.sqrt(x_ffhr**2 + y_ffhr**2 + z_ffhr**2)"
   ]
  },
  {
   "cell_type": "code",
   "execution_count": 61,
   "metadata": {
    "collapsed": false
   },
   "outputs": [
    {
     "data": {
      "image/png": "[encoded data removed]",
      "text/plain": [
       "<matplotlib.figure.Figure at 0x7fa92c5b5390>"
      ]
     },
     "metadata": {},
     "output_type": "display_data"
    }
   ],
   "source": [
    "plot(t_ffhr,R )\n",
    "index = where(R == min(R))"
   ]
  },
  {
   "cell_type": "code",
   "execution_count": 76,
   "metadata": {
    "collapsed": false
   },
   "outputs": [
    {
     "name": "stdout",
     "output_type": "stream",
     "text": [
      "[ 0.00159835] [ 0.] [-0.05754649]\n",
      "[-917.01749781] [ 0.] [-174.59653839]\n",
      "[ 1.5863]\n"
     ]
    }
   ],
   "source": [
    "print x_ffhr[index],y_ffhr[index], z_ffhr[index]\n",
    "print vx_ffhr[index],vy_ffhr[index], vz_ffhr[index]\n",
    "\n",
    "print t_ffhr[index]"
   ]
  },
  {
   "cell_type": "code",
   "execution_count": 65,
   "metadata": {
    "collapsed": true
   },
   "outputs": [],
   "source": [
    "t_fhr = data_fhr[:,0]\n",
    "x_fhr = data_fhr[:,1]\n",
    "y_fhr = data_fhr[:,2]\n",
    "z_fhr = data_fhr[:,3]\n",
    "x_fhr_mw = data_fhr[:,4]\n",
    "y_fhr_mw = data_fhr[:,5]\n",
    "z_fhr_mw = data_fhr[:,6]\n",
    "vx_fhr = data_fhr[:,7]\n",
    "vy_fhr = data_fhr[:,8]\n",
    "vz_fhr = data_fhr[:,9]\n",
    "vx_fhr_mw = data_fhr[:,10]\n",
    "vy_fhr_mw = data_fhr[:,11]\n",
    "vz_fhr_mw = data_fhr[:,12]\n",
    "R2 = np.sqrt((x_fhr - x_fhr_mw)**2 + (y_fhr - y_fhr_mw)**2 + (z_fhr-z_fhr_mw)**2)"
   ]
  },
  {
   "cell_type": "code",
   "execution_count": 67,
   "metadata": {
    "collapsed": false
   },
   "outputs": [
    {
     "data": {
      "text/plain": [
       "[<matplotlib.lines.Line2D at 0x7fa9292bba10>]"
      ]
     },
     "execution_count": 67,
     "metadata": {},
     "output_type": "execute_result"
    },
    {
     "data": {
      "image/png": "[encoded data removed]",
      "text/plain": [
       "<matplotlib.figure.Figure at 0x7fa92c4f59d0>"
      ]
     },
     "metadata": {},
     "output_type": "display_data"
    }
   ],
   "source": [
    "plot(t_fhr, R2)"
   ]
  },
  {
   "cell_type": "code",
   "execution_count": 73,
   "metadata": {
    "collapsed": false
   },
   "outputs": [
    {
     "name": "stdout",
     "output_type": "stream",
     "text": [
      "[ 0.0081059] [ 0.] [-0.04705065]\n",
      "[ 1.39728]\n",
      "[-965.33635641] [ 0.] [-198.65609808]\n"
     ]
    }
   ],
   "source": [
    "index2 = where(R2 == min(R2))\n",
    "print x_fhr[index2] - x_fhr_mw[index2],  y_fhr[index2] - y_fhr_mw[index2], z_fhr[index2]-z_fhr_mw[index2]\n",
    "print t_fhr[index2]\n",
    "print vx_fhr[index2] - vx_fhr_mw[index2],  vy_fhr[index2] - vy_fhr_mw[index2], vz_fhr[index2]-vz_fhr_mw[index2]"
   ]
  },
  {
   "cell_type": "code",
   "execution_count": null,
   "metadata": {
    "collapsed": true
   },
   "outputs": [],
   "source": []
  }
 ],
 "metadata": {
  "kernelspec": {
   "display_name": "Python 2",
   "language": "python",
   "name": "python2"
  },
  "language_info": {
   "codemirror_mode": {
    "name": "ipython",
    "version": 2
   },
   "file_extension": ".py",
   "mimetype": "text/x-python",
   "name": "python",
   "nbconvert_exporter": "python",
   "pygments_lexer": "ipython2",
   "version": "2.7.6"
  }
 },
 "nbformat": 4,
 "nbformat_minor": 0
}
