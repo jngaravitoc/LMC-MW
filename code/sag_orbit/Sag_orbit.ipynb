{
 "cells": [
  {
   "cell_type": "code",
   "execution_count": 1,
   "metadata": {
    "collapsed": false
   },
   "outputs": [
    {
     "name": "stderr",
     "output_type": "stream",
     "text": [
      "/usr/lib/pymodules/python2.7/matplotlib/__init__.py:758: UserWarning: Found matplotlib configuration in ~/.matplotlib/. To conform with the XDG base directory standard, this configuration location has been deprecated on Linux, and the new location is now '/home/ngaravito/.config'/matplotlib/. Please move your configuration there to ensure that matplotlib will continue to find it in the future.\n",
      "  _get_xdg_config_dir())\n",
      "/usr/local/lib/python2.7/dist-packages/IPython/kernel/__init__.py:13: ShimWarning: The `IPython.kernel` package has been deprecated. You should import from ipykernel or jupyter_client instead.\n",
      "  \"You should import from ipykernel or jupyter_client instead.\", ShimWarning)\n"
     ]
    },
    {
     "name": "stdout",
     "output_type": "stream",
     "text": [
      "Populating the interactive namespace from numpy and matplotlib\n"
     ]
    }
   ],
   "source": [
    "%pylab inline\n",
    "from astropy import units"
   ]
  },
  {
   "cell_type": "code",
   "execution_count": 2,
   "metadata": {
    "collapsed": false
   },
   "outputs": [],
   "source": [
    "sag_free = np.loadtxt(\"sgr_free.dat\")\n",
    "sag_fixed = np.loadtxt(\"sgr_fixed.dat\")"
   ]
  },
  {
   "cell_type": "code",
   "execution_count": 8,
   "metadata": {
    "collapsed": true
   },
   "outputs": [],
   "source": [
    "x_free_sag = sag_free[:,1]\n",
    "y_free_sag = sag_free[:,2]\n",
    "z_free_sag = sag_free[:,3]\n",
    "vx_free_sag = sag_free[:,7]\n",
    "vy_free_sag = sag_free[:,8]\n",
    "vz_free_sag = sag_free[:,9]"
   ]
  },
  {
   "cell_type": "code",
   "execution_count": 9,
   "metadata": {
    "collapsed": true
   },
   "outputs": [],
   "source": [
    "x_free_mw = sag_free[:,4]\n",
    "y_free_mw = sag_free[:,5]\n",
    "z_free_mw = sag_free[:,6]\n",
    "vx_free_mw = sag_free[:,10]\n",
    "vy_free_mw = sag_free[:,11]\n",
    "vz_free_mw = sag_free[:,12]"
   ]
  },
  {
   "cell_type": "code",
   "execution_count": 10,
   "metadata": {
    "collapsed": true
   },
   "outputs": [],
   "source": [
    "R_free = np.sqrt((x_free_sag - x_free_mw)**2  + (y_free_sag - y_free_mw)**2 + (z_free_sag - z_free_mw)**2 )\n",
    "t = sag_free[:,0]"
   ]
  },
  {
   "cell_type": "code",
   "execution_count": 11,
   "metadata": {
    "collapsed": false
   },
   "outputs": [
    {
     "data": {
      "text/plain": [
       "[<matplotlib.lines.Line2D at 0x7fa92d4bfb10>]"
      ]
     },
     "execution_count": 11,
     "metadata": {},
     "output_type": "execute_result"
    },
    {
     "data": {
      "image/png": "[encoded data removed]",
      "text/plain": [
       "<matplotlib.figure.Figure at 0x7fa92d49be90>"
      ]
     },
     "metadata": {},
     "output_type": "display_data"
    }
   ],
   "source": [
    "plot(t, R_free)"
   ]
  },
  {
   "cell_type": "code",
   "execution_count": 19,
   "metadata": {
    "collapsed": false
   },
   "outputs": [
    {
     "name": "stdout",
     "output_type": "stream",
     "text": [
      "261.010119687\n",
      "-128.342668262 0.0 227.276136193\n",
      "-2.194252416 0.0 -107.421266789\n"
     ]
    }
   ],
   "source": [
    "print R_free[2162]\n",
    "print x_free_sag[2162] - x_free_mw[2162], y_free_sag[2162] -y_free_mw[2162], z_free_sag[2162] - z_free_mw[2162]\n",
    "print vx_free_sag[2162] - vx_free_mw[2162], vy_free_sag[2162] -vy_free_mw[2162], vz_free_sag[2162] - vz_free_mw[2162]"
   ]
  },
  {
   "cell_type": "code",
   "execution_count": 17,
   "metadata": {
    "collapsed": true
   },
   "outputs": [],
   "source": [
    "Vx_gal_free = (vx_free_sag[2162] - vx_free_mw[2162])*units.kpc/units.Gyr\n",
    "Vy_gal_free = (vy_free_sag[2162] -vy_free_mw[2162])*units.kpc/units.Gyr\n",
    "Vz_gal_free = (vz_free_sag[2162] - vz_free_mw[2162])*units.kpc/units.Gyr"
   ]
  },
  {
   "cell_type": "code",
   "execution_count": 50,
   "metadata": {
    "collapsed": false
   },
   "outputs": [
    {
     "name": "stdout",
     "output_type": "stream",
     "text": [
      "-2.14552294475 km / s\n",
      "0.0 km / s\n",
      "-105.035679109 km / s\n",
      "-2.162\n"
     ]
    }
   ],
   "source": [
    "print Vx_gal_free.to(units.km/units.s)\n",
    "print Vy_gal_free.to(units.km/units.s)\n",
    "print Vz_gal_free.to(units.km/units.s)\n",
    "print t[2162]"
   ]
  },
  {
   "cell_type": "code",
   "execution_count": 22,
   "metadata": {
    "collapsed": true
   },
   "outputs": [],
   "source": [
    "sag_fixed = np.loadtxt(\"sgr_fixed.dat\")\n",
    "x_fixed_sag = sag_fixed[:,1]\n",
    "y_fixed_sag = sag_fixed[:,2]\n",
    "z_fixed_sag = sag_fixed[:,3]\n",
    "vx_fixed_sag = sag_fixed[:,7]\n",
    "vy_fixed_sag = sag_fixed[:,8]\n",
    "vz_fixed_sag = sag_fixed[:,9]"
   ]
  },
  {
   "cell_type": "code",
   "execution_count": 27,
   "metadata": {
    "collapsed": false
   },
   "outputs": [],
   "source": [
    "R_fix = np.sqrt(x_fixed_sag**2 + y_fixed_sag**2 + z_fixed_sag**2)\n",
    "t_fix = sag_fixed[:,0]"
   ]
  },
  {
   "cell_type": "code",
   "execution_count": 29,
   "metadata": {
    "collapsed": false
   },
   "outputs": [
    {
     "data": {
      "text/plain": [
       "[<matplotlib.lines.Line2D at 0x7fa92c7cb090>]"
      ]
     },
     "execution_count": 29,
     "metadata": {},
     "output_type": "execute_result"
    },
    {
     "data": {
      "image/png": "[encoded data removed]",
      "text/plain": [
       "<matplotlib.figure.Figure at 0x7fa92c85dd10>"
      ]
     },
     "metadata": {},
     "output_type": "display_data"
    }
   ],
   "source": [
    "plot(t_fix, R_fix)"
   ]
  },
  {
   "cell_type": "code",
   "execution_count": 49,
   "metadata": {
    "collapsed": false
   },
   "outputs": [
    {
     "name": "stdout",
     "output_type": "stream",
     "text": [
      "260.995513772\n",
      "-184.09647077 0.0 185.005804393\n",
      "-2.157\n"
     ]
    }
   ],
   "source": [
    "print R_fix[2157]\n",
    "print x_fixed_sag[2157], y_fixed_sag[2157], z_fixed_sag[2157]\n",
    "print t_fix[2157]"
   ]
  },
  {
   "cell_type": "code",
   "execution_count": 48,
   "metadata": {
    "collapsed": false
   },
   "outputs": [
    {
     "name": "stdout",
     "output_type": "stream",
     "text": [
      "35.5009784677 km / s 0.0 km / s -115.893228692 km / s\n"
     ]
    }
   ],
   "source": [
    "VXf = vx_fixed_sag[2157] * units.kpc / units.Gyr\n",
    "VYf = vy_fixed_sag[2157] * units.kpc / units.Gyr\n",
    "VZf = vz_fixed_sag[2157] * units.kpc / units.Gyr\n",
    "\n",
    "print VXf.to(units.km/units.s), VYf.to(units.km/units.s), VZf.to(units.km/units.s)"
   ]
  },
  {
   "cell_type": "markdown",
   "metadata": {},
   "source": [
    "# Forward integration"
   ]
  },
  {
   "cell_type": "code",
   "execution_count": 52,
   "metadata": {
    "collapsed": true
   },
   "outputs": [],
   "source": [
    "data_ffhr = np.loadtxt('sgr_ffhr.dat')\n",
    "data_fhr = np.loadtxt('sgr_fhr.dat')"
   ]
  },
  {
   "cell_type": "code",
   "execution_count": 75,
   "metadata": {
    "collapsed": false
   },
   "outputs": [],
   "source": [
    "t_ffhr = data_ffhr[:,0]\n",
    "x_ffhr = data_ffhr[:,1]\n",
    "y_ffhr = data_ffhr[:,2]\n",
    "z_ffhr = data_ffhr[:,3]\n",
    "vx_ffhr = data_ffhr[:,7]\n",
    "vy_ffhr = data_ffhr[:,8]\n",
    "vz_ffhr = data_ffhr[:,9]\n",
    "R = np.sqrt(x_ffhr**2 + y_ffhr**2 + z_ffhr**2)"
   ]
  },
  {
   "cell_type": "code",
   "execution_count": 61,
   "metadata": {
    "collapsed": false
   },
   "outputs": [
    {
     "data": {
      "image/png": "[encoded data removed]",
      "text/plain": [
       "<matplotlib.figure.Figure at 0x7fa92c5b5390>"
      ]
     },
     "metadata": {},
     "output_type": "display_data"
    }
   ],
   "source": [
    "plot(t_ffhr,R )\n",
    "index = where(R == min(R))"
   ]
  },
  {
   "cell_type": "code",
   "execution_count": 76,
   "metadata": {
    "collapsed": false
   },
   "outputs": [
    {
     "name": "stdout",
     "output_type": "stream",
     "text": [
      "[ 0.00159835] [ 0.] [-0.05754649]\n",
      "[-917.01749781] [ 0.] [-174.59653839]\n",
      "[ 1.5863]\n"
     ]
    }
   ],
   "source": [
    "print x_ffhr[index],y_ffhr[index], z_ffhr[index]\n",
    "print vx_ffhr[index],vy_ffhr[index], vz_ffhr[index]\n",
    "\n",
    "print t_ffhr[index]"
   ]
  },
  {
   "cell_type": "code",
   "execution_count": 65,
   "metadata": {
    "collapsed": true
   },
   "outputs": [],
   "source": [
    "t_fhr = data_fhr[:,0]\n",
    "x_fhr = data_fhr[:,1]\n",
    "y_fhr = data_fhr[:,2]\n",
    "z_fhr = data_fhr[:,3]\n",
    "x_fhr_mw = data_fhr[:,4]\n",
    "y_fhr_mw = data_fhr[:,5]\n",
    "z_fhr_mw = data_fhr[:,6]\n",
    "vx_fhr = data_fhr[:,7]\n",
    "vy_fhr = data_fhr[:,8]\n",
    "vz_fhr = data_fhr[:,9]\n",
    "vx_fhr_mw = data_fhr[:,10]\n",
    "vy_fhr_mw = data_fhr[:,11]\n",
    "vz_fhr_mw = data_fhr[:,12]\n",
    "R2 = np.sqrt((x_fhr - x_fhr_mw)**2 + (y_fhr - y_fhr_mw)**2 + (z_fhr-z_fhr_mw)**2)"
   ]
  },
  {
   "cell_type": "code",
   "execution_count": 67,
   "metadata": {
    "collapsed": false
   },
   "outputs": [
    {
     "data": {
      "text/plain": [
       "[<matplotlib.lines.Line2D at 0x7fa9292bba10>]"
      ]
     },
     "execution_count": 67,
     "metadata": {},
     "output_type": "execute_result"
    },
    {
     "data": {
      "image/png": "[encoded data removed]",
      "text/plain": [
       "<matplotlib.figure.Figure at 0x7fa92c4f59d0>"
      ]
     },
     "metadata": {},
     "output_type": "display_data"
    }
   ],
   "source": [
    "plot(t_fhr, R2)"
   ]
  },
  {
   "cell_type": "code",
   "execution_count": 73,
   "metadata": {
    "collapsed": false
   },
   "outputs": [
    {
     "name": "stdout",
     "output_type": "stream",
     "text": [
      "[ 0.0081059] [ 0.] [-0.04705065]\n",
      "[ 1.39728]\n",
      "[-965.33635641] [ 0.] [-198.65609808]\n"
     ]
    }
   ],
   "source": [
    "index2 = where(R2 == min(R2))\n",
    "print x_fhr[index2] - x_fhr_mw[index2],  y_fhr[index2] - y_fhr_mw[index2], z_fhr[index2]-z_fhr_mw[index2]\n",
    "print t_fhr[index2]\n",
    "print vx_fhr[index2] - vx_fhr_mw[index2],  vy_fhr[index2] - vy_fhr_mw[index2], vz_fhr[index2]-vz_fhr_mw[index2]"
   ]
  },
  {
   "cell_type": "code",
   "execution_count": null,
   "metadata": {
    "collapsed": true
   },
   "outputs": [],
   "source": []
  }
 ],
 "metadata": {
  "kernelspec": {
   "display_name": "Python 2",
   "language": "python",
   "name": "python2"
  },
  "language_info": {
   "codemirror_mode": {
    "name": "ipython",
    "version": 2
   },
   "file_extension": ".py",
   "mimetype": "text/x-python",
   "name": "python",
   "nbconvert_exporter": "python",
   "pygments_lexer": "ipython2",
   "version": "2.7.6"
  }
 },
 "nbformat": 4,
 "nbformat_minor": 0
}
