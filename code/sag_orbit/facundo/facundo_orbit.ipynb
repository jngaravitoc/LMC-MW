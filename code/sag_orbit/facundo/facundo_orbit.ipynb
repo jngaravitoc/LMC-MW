{
 "cells": [
  {
   "cell_type": "code",
   "execution_count": 1,
   "metadata": {
    "collapsed": false
   },
   "outputs": [
    {
     "name": "stdout",
     "output_type": "stream",
     "text": [
      "Populating the interactive namespace from numpy and matplotlib\n"
     ]
    }
   ],
   "source": [
    "%pylab inline\n",
    "import os.path\n",
    "from subprocess import call\n",
    "\n",
    "font = {'size':13, 'family':'serif'}\n",
    "matplotlib.rc('font', **font)"
   ]
  },
  {
   "cell_type": "code",
   "execution_count": 3,
   "metadata": {
    "collapsed": false
   },
   "outputs": [],
   "source": [
    "MW = loadtxt('MW_orb.dat')\n",
    "Sag = loadtxt('Sgr_orb.dat')"
   ]
  },
  {
   "cell_type": "code",
   "execution_count": 5,
   "metadata": {
    "collapsed": true
   },
   "outputs": [],
   "source": [
    "sag_ndf_a1_mw = loadtxt('../../../../orbits/data/sag_heavy_free_ndf_a1_host.txt')\n",
    "sag_ndf_a1 = loadtxt('../../../../orbits/data/sag_heavy_free_ndf_a1_sat.txt')\n",
    "\n",
    "t_an = sag_ndf_a1[:,0]\n",
    "x_an_mw = sag_ndf_a1_mw[:,1]\n",
    "y_an_mw = sag_ndf_a1_mw[:,2]\n",
    "z_an_mw = sag_ndf_a1_mw[:,3]\n",
    "vx_an_mw = sag_ndf_a1_mw[:,4]\n",
    "vy_an_mw = sag_ndf_a1_mw[:,5]\n",
    "vz_an_mw = sag_ndf_a1_mw[:,6]\n",
    "\n",
    "x_an = sag_ndf_a1[:,1]\n",
    "y_an = sag_ndf_a1[:,2]\n",
    "z_an = sag_ndf_a1[:,3]\n",
    "vx_an = sag_ndf_a1[:,4]\n",
    "vy_an = sag_ndf_a1[:,5]\n",
    "vz_an = sag_ndf_a1[:,6]"
   ]
  },
  {
   "cell_type": "code",
   "execution_count": 23,
   "metadata": {
    "collapsed": true
   },
   "outputs": [],
   "source": [
    "sag_ndf_a05_mw = loadtxt('../../../../orbits/data/sag_heavy_free_ndf_a1_host.txt')\n",
    "sag_ndf_a05 = loadtxt('../../../../orbits/data/sag_heavy_free_ndf_a1_sat.txt')\n",
    "\n",
    "t_an2 = sag_ndf_a05[:,0]\n",
    "x_an_mw2 = sag_ndf_a05_mw[:,1]\n",
    "y_an_mw2 = sag_ndf_a05_mw[:,2]\n",
    "z_an_mw2 = sag_ndf_a05_mw[:,3]\n",
    "vx_an_mw2 = sag_ndf_a05_mw[:,4]\n",
    "vy_an_mw2 = sag_ndf_a05_mw[:,5]\n",
    "vz_an_mw2 = sag_ndf_a05_mw[:,6]\n",
    "\n",
    "x_an2 = sag_ndf_a05[:,1]\n",
    "y_an2 = sag_ndf_a05[:,2]\n",
    "z_an2 = sag_ndf_a05[:,3]\n",
    "vx_an2 = sag_ndf_a05[:,4]\n",
    "vy_an2 = sag_ndf_a05[:,5]\n",
    "vz_an2 = sag_ndf_a05[:,6]"
   ]
  },
  {
   "cell_type": "code",
   "execution_count": 6,
   "metadata": {
    "collapsed": true
   },
   "outputs": [],
   "source": [
    "rgal_an = np.sqrt((x_an - x_an_mw)**2 + (y_an - y_an_mw)**2 + (z_an - z_an_mw)**2)"
   ]
  },
  {
   "cell_type": "code",
   "execution_count": 24,
   "metadata": {
    "collapsed": true
   },
   "outputs": [],
   "source": [
    "rgal_an05 = np.sqrt((x_an2 - x_an_mw2)**2 + (y_an2 - y_an_mw2)**2 + (z_an2 - z_an_mw2)**2)"
   ]
  },
  {
   "cell_type": "code",
   "execution_count": 12,
   "metadata": {
    "collapsed": false
   },
   "outputs": [],
   "source": [
    "# form N-body\n",
    "\n",
    "t1 = MW[:,-1]\n",
    "\n",
    "xMW = MW[:,0]\n",
    "yMW = MW[:,1]\n",
    "zMW = MW[:,2]\n",
    "\n",
    "xSag = Sag[:,0]\n",
    "ySag = Sag[:,1]\n",
    "zSag = Sag[:,2]\n",
    "\n",
    "vxMW = MW[:,3]\n",
    "vyMW = MW[:,4]\n",
    "vzMW = MW[:,5]\n",
    "\n",
    "vxSag = Sag[:,3]\n",
    "vySag = Sag[:,4]\n",
    "vzSag = Sag[:,5]"
   ]
  },
  {
   "cell_type": "code",
   "execution_count": 20,
   "metadata": {
    "collapsed": false
   },
   "outputs": [
    {
     "name": "stdout",
     "output_type": "stream",
     "text": [
      "2.4\n"
     ]
    }
   ],
   "source": [
    "print t1[-1]"
   ]
  },
  {
   "cell_type": "code",
   "execution_count": null,
   "metadata": {
    "collapsed": false
   },
   "outputs": [],
   "source": [
    "# From orbit integration:\n",
    "orbit1 = loadtxt(\"orbit_alpha0.400000.dat\")\n",
    "orbit2 = loadtxt(\"orbit_alpha0.411111.dat\")\n",
    "orbit3 = loadtxt(\"orbit_alpha0.422222.dat\")\n",
    "orbit4 = loadtxt(\"orbit_alpha0.433333.dat\")\n",
    "orbit5 = loadtxt(\"orbit_alpha0.444444.dat\")\n",
    "orbit6 = loadtxt(\"orbit_alpha0.455556.dat\")\n",
    "orbit7 = loadtxt(\"orbit_alpha0.466667.dat\")\n",
    "orbit8 = loadtxt(\"orbit_alpha0.477778.dat\")\n",
    "orbit9 = loadtxt(\"orbit_alpha0.488889.dat\")\n",
    "orbit10 = loadtxt(\"orbit_alpha0.500000.dat\")"
   ]
  },
  {
   "cell_type": "code",
   "execution_count": 8,
   "metadata": {
    "collapsed": false
   },
   "outputs": [],
   "source": [
    "t = orbit1[:,0]\n",
    "x_sag1 = orbit1[:,1]\n",
    "y_sag1 = orbit1[:,2]\n",
    "z_sag1 = orbit1[:,3]\n",
    "x_mw1 = orbit1[:,4]\n",
    "y_mw1 = orbit1[:,5]\n",
    "z_mw1 = orbit1[:,6]\n",
    "\n",
    "vx_sag1 = orbit1[:,7]\n",
    "vy_sag1 = orbit1[:,8]\n",
    "vz_sag1 = orbit1[:,9]\n",
    "vx_mw1 = orbit1[:,10]\n",
    "vy_mw1 = orbit1[:,11]\n",
    "vz_mw1 = orbit1[:,12]\n",
    "\n",
    "x_sag2 = orbit2[:,1]\n",
    "y_sag2 = orbit2[:,2]\n",
    "z_sag2 = orbit2[:,3]\n",
    "x_mw2 = orbit2[:,4]\n",
    "y_mw2 = orbit2[:,5]\n",
    "z_mw2 = orbit2[:,6]\n",
    "\n",
    "vx_sag2 = orbit2[:,7]\n",
    "vy_sag2 = orbit2[:,8]\n",
    "vz_sag2 = orbit2[:,9]\n",
    "vx_mw2 = orbit2[:,10]\n",
    "vy_mw2 = orbit2[:,11]\n",
    "vz_mw2 = orbit2[:,12]\n",
    "\n",
    "x_sag3 = orbit3[:,1]\n",
    "y_sag3 = orbit3[:,2]\n",
    "z_sag3 = orbit3[:,3]\n",
    "x_mw3 = orbit3[:,4]\n",
    "y_mw3 = orbit3[:,5]\n",
    "z_mw3 = orbit3[:,6]\n",
    "\n",
    "vx_sag3 = orbit3[:,7]\n",
    "vy_sag3 = orbit3[:,8]\n",
    "vz_sag3 = orbit3[:,9]\n",
    "vx_mw3 = orbit3[:,10]\n",
    "vy_mw3 = orbit3[:,11]\n",
    "vz_mw3 = orbit3[:,12]\n",
    "\n",
    "x_sag4 = orbit4[:,1]\n",
    "y_sag4 = orbit4[:,2]\n",
    "z_sag4 = orbit4[:,3]\n",
    "x_mw4 = orbit4[:,4]\n",
    "y_mw4 = orbit4[:,5]\n",
    "z_mw4 = orbit4[:,6]\n",
    "\n",
    "vx_sag4 = orbit4[:,7]\n",
    "vy_sag4 = orbit4[:,8]\n",
    "vz_sag4 = orbit4[:,9]\n",
    "vx_mw4 = orbit4[:,10]\n",
    "vy_mw4 = orbit4[:,11]\n",
    "vz_mw4 = orbit4[:,12]\n",
    "\n",
    "x_sag5 = orbit5[:,1]\n",
    "y_sag5 = orbit5[:,2]\n",
    "z_sag5 = orbit5[:,3]\n",
    "x_mw5 = orbit5[:,4]\n",
    "y_mw5 = orbit5[:,5]\n",
    "z_mw5 = orbit5[:,6]\n",
    "\n",
    "vx_sag5 = orbit5[:,7]\n",
    "vy_sag5 = orbit5[:,8]\n",
    "vz_sag5 = orbit5[:,9]\n",
    "vx_mw5 = orbit5[:,10]\n",
    "vy_mw5 = orbit5[:,11]\n",
    "vz_mw5 = orbit5[:,12]\n",
    "\n",
    "\n",
    "x_sag6 = orbit6[:,1]\n",
    "y_sag6 = orbit6[:,2]\n",
    "z_sag6 = orbit6[:,3]\n",
    "x_mw6 = orbit6[:,4]\n",
    "y_mw6 = orbit6[:,5]\n",
    "z_mw6 = orbit6[:,6]\n",
    "\n",
    "vx_sag6 = orbit6[:,7]\n",
    "vy_sag6 = orbit6[:,8]\n",
    "vz_sag6 = orbit6[:,9]\n",
    "vx_mw6 = orbit6[:,10]\n",
    "vy_mw6 = orbit6[:,11]\n",
    "vz_mw6 = orbit6[:,12]\n",
    "\n",
    "\n",
    "x_sag7 = orbit7[:,1]\n",
    "y_sag7 = orbit7[:,2]\n",
    "z_sag7 = orbit7[:,3]\n",
    "x_mw7 = orbit7[:,4]\n",
    "y_mw7 = orbit7[:,5]\n",
    "z_mw7 = orbit7[:,6]\n",
    "\n",
    "vx_sag7 = orbit7[:,7]\n",
    "vy_sag7 = orbit7[:,8]\n",
    "vz_sag7 = orbit7[:,9]\n",
    "vx_mw7 = orbit7[:,10]\n",
    "vy_mw7 = orbit7[:,11]\n",
    "vz_mw7 = orbit7[:,12]\n",
    "\n",
    "x_sag8 = orbit8[:,1]\n",
    "y_sag8 = orbit8[:,2]\n",
    "z_sag8 = orbit8[:,3]\n",
    "x_mw8 = orbit8[:,4]\n",
    "y_mw8 = orbit8[:,5]\n",
    "z_mw8 = orbit8[:,6]\n",
    "\n",
    "vx_sag8 = orbit8[:,7]\n",
    "vy_sag8 = orbit8[:,8]\n",
    "vz_sag8 = orbit8[:,9]\n",
    "vx_mw8 = orbit8[:,10]\n",
    "vy_mw8 = orbit8[:,11]\n",
    "vz_mw8 = orbit8[:,12]\n",
    "\n",
    "\n",
    "x_sag9 = orbit9[:,1]\n",
    "y_sag9 = orbit9[:,2]\n",
    "z_sag9 = orbit9[:,3]\n",
    "x_mw9 = orbit9[:,4]\n",
    "y_mw9 = orbit9[:,5]\n",
    "z_mw9 = orbit9[:,6]\n",
    "\n",
    "vx_sag9 = orbit9[:,7]\n",
    "vy_sag9 = orbit9[:,8]\n",
    "vz_sag9 = orbit9[:,9]\n",
    "vx_mw9 = orbit9[:,10]\n",
    "vy_mw9 = orbit9[:,11]\n",
    "vz_mw9 = orbit9[:,12]\n",
    "\n",
    "x_sag10 = orbit1[:,1]\n",
    "y_sag10 = orbit1[:,2]\n",
    "z_sag10 = orbit1[:,3]\n",
    "x_mw10 = orbit1[:,4]\n",
    "y_mw10 = orbit1[:,5]\n",
    "z_mw10 = orbit1[:,6]\n",
    "\n",
    "vx_sag10 = orbit10[:,7]\n",
    "vy_sag10 = orbit10[:,8]\n",
    "vz_sag10 = orbit10[:,9]\n",
    "vx_mw10 = orbit10[:,10]\n",
    "vy_mw10 = orbit10[:,11]\n",
    "vz_mw10 = orbit10[:,12]\n",
    "\n"
   ]
  },
  {
   "cell_type": "code",
   "execution_count": 14,
   "metadata": {
    "collapsed": false
   },
   "outputs": [],
   "source": [
    "\"\"\"\n",
    "R1 = np.sqrt((x_sag1 - x_mw1)**2 + (y_sag1 - y_mw1)**2 + (z_sag1 - z_mw1)**2)\n",
    "V1 = np.sqrt((vx_sag1 - vx_mw1)**2 + (vy_sag1 - vy_mw1)**2 + (vz_sag1 - vz_mw1)**2)\n",
    "\n",
    "R2 = np.sqrt((x_sag2 - x_mw2)**2 + (y_sag2 - y_mw2)**2 + (z_sag2 - z_mw2)**2)\n",
    "V2 = np.sqrt((vx_sag2 - vx_mw2)**2 + (vy_sag2 - vy_mw2)**2 + (vz_sag2 - vz_mw2)**2)\n",
    "\n",
    "R3 = np.sqrt((x_sag3 - x_mw3)**2 + (y_sag3 - y_mw3)**2 + (z_sag3 - z_mw3)**2)\n",
    "V3 = np.sqrt((vx_sag3 - vx_mw3)**2 + (vy_sag3 - vy_mw3)**2 + (vz_sag3 - vz_mw3)**2)\n",
    "\n",
    "R4 = np.sqrt((x_sag4 - x_mw4)**2 + (y_sag4 - y_mw4)**2 + (z_sag4 - z_mw4)**2)\n",
    "V4 = np.sqrt((vx_sag4 - vx_mw4)**2 + (vy_sag4 - vy_mw4)**2 + (vz_sag4 - vz_mw4)**2)\n",
    "\n",
    "R5 = np.sqrt((x_sag5 - x_mw5)**2 + (y_sag5 - y_mw5)**2 + (z_sag5 - z_mw5)**2)\n",
    "V5 = np.sqrt((vx_sag5 - vx_mw5)**2 + (vy_sag5 - vy_mw5)**2 + (vz_sag5 - vz_mw5)**2)\n",
    "\n",
    "R6 = np.sqrt((x_sag6 - x_mw6)**2 + (y_sag6 - y_mw6)**2 + (z_sag6 - z_mw6)**2)\n",
    "V6 = np.sqrt((vx_sag6 - vx_mw6)**2 + (vy_sag6 - vy_mw6)**2 + (vz_sag6 - vz_mw6)**2)\n",
    "\n",
    "R7 = np.sqrt((x_sag7 - x_mw7)**2 + (y_sag7 - y_mw7)**2 + (z_sag7 - z_mw7)**2)\n",
    "V7 = np.sqrt((vx_sag7 - vx_mw7)**2 + (vy_sag7 - vy_mw7)**2 + (vz_sag7 - vz_mw7)**2)\n",
    "\n",
    "R8 = np.sqrt((x_sag8 - x_mw8)**2 + (y_sag8 - y_mw8)**2 + (z_sag8 - z_mw8)**2)\n",
    "V8 = np.sqrt((vx_sag8 - vx_mw8)**2 + (vy_sag8 - vy_mw8)**2 + (vz_sag8 - vz_mw8)**2)\n",
    "\n",
    "R9 = np.sqrt((x_sag9 - x_mw9)**2 + (y_sag9 - y_mw9)**2 + (z_sag9 - z_mw9)**2)\n",
    "V9 = np.sqrt((vx_sag9 - vx_mw9)**2 + (vy_sag9 - vy_mw9)**2 + (vz_sag9 - vz_mw9)**2)\n",
    "\n",
    "R10 = np.sqrt((x_sag10 - x_mw10)**2 + (y_sag10 - y_mw10)**2 + (z_sag10 - z_mw10)**2)\n",
    "V10 = np.sqrt((vx_sag10 - vx_mw10)**2 + (vy_sag10 - vy_mw10)**2 + (vz_sag10 - vz_mw10)**2)\n",
    "\"\"\"\n",
    "\n",
    "R_nbody = np.sqrt((xSag - xMW)**2 + (ySag - yMW)**2 + (zSag - zMW)**2)\n",
    "vR_nbody = np.sqrt((vxSag - vxMW)**2 + (vySag - vyMW)**2 + (vzSag - vzMW)**2)"
   ]
  },
  {
   "cell_type": "code",
   "execution_count": 26,
   "metadata": {
    "collapsed": false
   },
   "outputs": [
    {
     "data": {
      "image/png": "[encoded data removed]",
      "text/plain": [
       "<matplotlib.figure.Figure at 0x7fc49e11f710>"
      ]
     },
     "metadata": {},
     "output_type": "display_data"
    }
   ],
   "source": [
    "figure(figsize=(8, 6))\n",
    "#plot(t, R1, label=r'$\\alpha = 0.4$', lw=0.6)\n",
    "#plot(t, R2, label=r'$\\alpha = 0.411$', lw=0.6)\n",
    "#plot(t, R3, label=r'$\\alpha = 0.422$', lw=0.6)\n",
    "#plot(t, R4, label=r'$\\alpha = 0.433$', lw=0.6)\n",
    "#plot(t, R5, label=r'$\\alpha = 0.445$', lw=0.6)\n",
    "#plot(t, R6, label=r'$\\alpha = 0.455$', lw=0.6)\n",
    "#plot(t, R7, label=r'$\\alpha = 0.466$', lw=0.6)\n",
    "#plot(t, R8, label=r'$\\alpha = 0.477$', lw=0.6)\n",
    "#plot(t, R9, label=r'$\\alpha = 0.488$', lw=0.6)\n",
    "plot(t_an, rgal_an, label=r'$\\alpha = 1$', lw=0.6)\n",
    "plot(t_an, rgal_an05, label=r'$\\alpha = 1$', lw=0.6)\n",
    "\n",
    "\n",
    "plot(t1-2.4, R_nbody, label='N_body', lw=2)\n",
    "legend(loc='best', ncol=2)\n",
    "ylabel('$R_{gal}[kpc]$', fontsize=20)\n",
    "xlabel('$time[Gyr]$', fontsize=20)\n",
    "savefig('orbits_comparison_pos.png', bbox_inches='tight')"
   ]
  },
  {
   "cell_type": "code",
   "execution_count": 29,
   "metadata": {
    "collapsed": true
   },
   "outputs": [],
   "source": [
    "V1 = V1 * units.kpc / units.Gyr\n",
    "V1 = V1.to(units.km/units.s)\n",
    "\n",
    "V2 = V2 * units.kpc / units.Gyr\n",
    "V2 = V2.to(units.km/units.s)\n",
    "\n",
    "V3 = V3 * units.kpc / units.Gyr\n",
    "V3 = V3.to(units.km/units.s)\n",
    "\n",
    "V4 = V4 * units.kpc / units.Gyr\n",
    "V4 = V4.to(units.km/units.s)\n",
    "\n",
    "V5 = V5 * units.kpc / units.Gyr\n",
    "V5 = V5.to(units.km/units.s)\n",
    "\n",
    "V6 = V6 * units.kpc / units.Gyr\n",
    "V6 = V6.to(units.km/units.s)\n",
    "\n",
    "V7 = V7 * units.kpc / units.Gyr\n",
    "V7 = V7.to(units.km/units.s)\n",
    "\n",
    "V8 = V8 * units.kpc / units.Gyr\n",
    "V8 = V8.to(units.km/units.s)\n",
    "\n",
    "V9 = V9 * units.kpc / units.Gyr\n",
    "V9 = V9.to(units.km/units.s)\n",
    "\n",
    "V10 = V10 * units.kpc / units.Gyr\n",
    "V10 = V10.to(units.km/units.s)"
   ]
  },
  {
   "cell_type": "code",
   "execution_count": 30,
   "metadata": {
    "collapsed": false
   },
   "outputs": [
    {
     "data": {
      "image/png": "[encoded data removed]",
      "text/plain": [
       "<matplotlib.figure.Figure at 0x7f3ae6a23f90>"
      ]
     },
     "metadata": {},
     "output_type": "display_data"
    }
   ],
   "source": [
    "figure(figsize=(8, 6))\n",
    "plot(t, V1, label=r'$\\alpha = 0.4$', lw=0.6)\n",
    "plot(t, V2, label=r'$\\alpha = 0.411$', lw=0.6)\n",
    "plot(t, V3, label=r'$\\alpha = 0.422$', lw=0.6)\n",
    "plot(t, V4, label=r'$\\alpha = 0.433$', lw=0.6)\n",
    "plot(t, V5, label=r'$\\alpha = 0.445$', lw=0.6)\n",
    "plot(t, V6, label=r'$\\alpha = 0.455$', lw=0.6)\n",
    "plot(t, V7, label=r'$\\alpha = 0.466$', lw=0.6)\n",
    "plot(t, V8, label=r'$\\alpha = 0.477$', lw=0.6)\n",
    "plot(t, V9, label=r'$\\alpha = 0.488$', lw=0.6)\n",
    "plot(t, V10, label=r'$\\alpha = 0.499$', lw=0.6)\n",
    "\n",
    "plot(t1-1.7, vR_nbody, label='N_body', lw=2)\n",
    "legend(loc='best', ncol=2)\n",
    "ylabel('$V_{gal}[km/s]$', fontsize=20)\n",
    "xlabel('$time[Gyr]$', fontsize=20)\n",
    "savefig('orbits_comparison_vel.png', bbox_inches='tight')"
   ]
  },
  {
   "cell_type": "code",
   "execution_count": 14,
   "metadata": {
    "collapsed": false
   },
   "outputs": [
    {
     "data": {
      "text/plain": [
       "(267.73159291649011, 273.81235704529621)"
      ]
     },
     "execution_count": 14,
     "metadata": {},
     "output_type": "execute_result"
    }
   ],
   "source": [
    "vR_nbody[0], V1[0]"
   ]
  },
  {
   "cell_type": "code",
   "execution_count": 32,
   "metadata": {
    "collapsed": false
   },
   "outputs": [],
   "source": [
    "conversion = 1 * units.kpc / units.Gyr"
   ]
  },
  {
   "cell_type": "code",
   "execution_count": 35,
   "metadata": {
    "collapsed": false
   },
   "outputs": [],
   "source": [
    "ccc = conversion.to(units.km/units.s)"
   ]
  },
  {
   "cell_type": "code",
   "execution_count": 36,
   "metadata": {
    "collapsed": false
   },
   "outputs": [
    {
     "name": "stdout",
     "output_type": "stream",
     "text": [
      "0.977792221673\n"
     ]
    }
   ],
   "source": [
    "print ccc.value"
   ]
  },
  {
   "cell_type": "code",
   "execution_count": null,
   "metadata": {
    "collapsed": true
   },
   "outputs": [],
   "source": []
  }
 ],
 "metadata": {
  "kernelspec": {
   "display_name": "Python 2",
   "language": "python",
   "name": "python2"
  },
  "language_info": {
   "codemirror_mode": {
    "name": "ipython",
    "version": 2
   },
   "file_extension": ".py",
   "mimetype": "text/x-python",
   "name": "python",
   "nbconvert_exporter": "python",
   "pygments_lexer": "ipython2",
   "version": "2.7.6"
  }
 },
 "nbformat": 4,
 "nbformat_minor": 0
}
