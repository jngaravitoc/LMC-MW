{
 "cells": [
  {
   "cell_type": "code",
   "execution_count": 3,
   "metadata": {
    "collapsed": false
   },
   "outputs": [
    {
     "name": "stdout",
     "output_type": "stream",
     "text": [
      "Populating the interactive namespace from numpy and matplotlib\n"
     ]
    }
   ],
   "source": [
    "%pylab inline"
   ]
  },
  {
   "cell_type": "code",
   "execution_count": 4,
   "metadata": {
    "collapsed": false
   },
   "outputs": [],
   "source": [
    "orbit = loadtxt(\"sgr_orbit_free.dat\")\n",
    "MW = loadtxt('MW_orb.dat')\n",
    "Sag = loadtxt('Sgr_orb.dat')"
   ]
  },
  {
   "cell_type": "code",
   "execution_count": 9,
   "metadata": {
    "collapsed": true
   },
   "outputs": [],
   "source": [
    "t = orbit[:,0]\n",
    "x_sag = orbit[:,1]\n",
    "y_sag = orbit[:,2]\n",
    "z_sag = orbit[:,3]\n",
    "x_mw = orbit[:,4]\n",
    "y_mw = orbit[:,5]\n",
    "z_mw = orbit[:,6]"
   ]
  },
  {
   "cell_type": "code",
   "execution_count": 10,
   "metadata": {
    "collapsed": false
   },
   "outputs": [],
   "source": [
    "# form N-body\n",
    "\n",
    "t1 = MW[:,-1]\n",
    "\n",
    "xMW = MW[:,0]\n",
    "xSag = Sag[:,0]\n",
    "yMW = MW[:,1]\n",
    "ySag = Sag[:,1]\n",
    "zMW = MW[:,2]\n",
    "zSag = Sag[:,2]\n"
   ]
  },
  {
   "cell_type": "code",
   "execution_count": 7,
   "metadata": {
    "collapsed": true
   },
   "outputs": [],
   "source": [
    "R = np.sqrt((x_sag - x_mw)**2 + (y_sag - y_mw)**2 + (z_sag - z_mw)**2)\n",
    "\n",
    "R_nbody = np.sqrt((xSag - xMW)**2 + (ySag - yMW)**2 + (zSag - zMW)**2)"
   ]
  },
  {
   "cell_type": "code",
   "execution_count": 12,
   "metadata": {
    "collapsed": false
   },
   "outputs": [
    {
     "data": {
      "text/plain": [
       "[<matplotlib.lines.Line2D at 0x7f26830a8d90>]"
      ]
     },
     "execution_count": 12,
     "metadata": {},
     "output_type": "execute_result"
    },
    {
     "data": {
      "image/png": "[encoded data removed]",
      "text/plain": [
       "<matplotlib.figure.Figure at 0x7f268305c690>"
      ]
     },
     "metadata": {},
     "output_type": "display_data"
    }
   ],
   "source": [
    "plot(t, R)\n",
    "plot(t1-1.7, R_nbody)"
   ]
  },
  {
   "cell_type": "code",
   "execution_count": null,
   "metadata": {
    "collapsed": true
   },
   "outputs": [],
   "source": []
  }
 ],
 "metadata": {
  "kernelspec": {
   "display_name": "Python 2",
   "language": "python",
   "name": "python2"
  },
  "language_info": {
   "codemirror_mode": {
    "name": "ipython",
    "version": 2
   },
   "file_extension": ".py",
   "mimetype": "text/x-python",
   "name": "python",
   "nbconvert_exporter": "python",
   "pygments_lexer": "ipython2",
   "version": "2.7.6"
  }
 },
 "nbformat": 4,
 "nbformat_minor": 0
}
