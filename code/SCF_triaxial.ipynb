{
 "cells": [
  {
   "cell_type": "code",
   "execution_count": 14,
   "metadata": {
    "collapsed": false
   },
   "outputs": [
    {
     "name": "stdout",
     "output_type": "stream",
     "text": [
      "Populating the interactive namespace from numpy and matplotlib\n"
     ]
    },
    {
     "name": "stderr",
     "output_type": "stream",
     "text": [
      "WARNING: pylab import has clobbered these variables: ['test', 'gradient']\n",
      "`%matplotlib` prevents importing * from pylab and numpy\n"
     ]
    }
   ],
   "source": [
    "%pylab inline\n",
    "import biff\n",
    "from octopus import *\n",
    "from pygadgetreader import *"
   ]
  },
  {
   "cell_type": "code",
   "execution_count": 15,
   "metadata": {
    "collapsed": true
   },
   "outputs": [],
   "source": [
    "## Code taken from (https://github.com/adrn/biff/blob/master/notebooks/Plummer%20test.ipynb)\n",
    "def STnlm(xyz, mass, rs, n_max, l_max):\n",
    "    nmax = n_max\n",
    "    lmax = l_max\n",
    "\n",
    "    Snlm = np.zeros((nmax+1,lmax+1,lmax+1))\n",
    "    Tnlm = np.zeros((nmax+1,lmax+1,lmax+1))\n",
    "\n",
    "    nlms = []\n",
    "\n",
    "    for n in range(nmax+1):\n",
    "        for l in range(lmax+1):\n",
    "            for m in range(l+1):\n",
    "                nlms.append([n,l,m])\n",
    "\n",
    "    for nlm in nlms:\n",
    "        n,l,m = nlm\n",
    "        S,T = biff.compute_coeffs_discrete(np.double(xyz), np.double(mass/100.0), nlm, rs)\n",
    "        Snlm[n,l,m] = S\n",
    "        Tnlm[n,l,m] = T\n",
    "    return Snlm, Tnlm, nlms"
   ]
  },
  {
   "cell_type": "code",
   "execution_count": 8,
   "metadata": {
    "collapsed": true
   },
   "outputs": [],
   "source": [
    "def truncate(pos):\n",
    "    index_cut = np.where(np.sqrt(pos[:,0]**2.0+pos[:,1]**2.0+pos[:,2]**2.0)<500)[0]\n",
    "    return pos[index_cut]"
   ]
  },
  {
   "cell_type": "code",
   "execution_count": 55,
   "metadata": {
    "collapsed": false
   },
   "outputs": [],
   "source": [
    "MW_sph = readsnap('../data/MW_models/triaxial/spherical_010', 'pos', 'dm')\n",
    "MW_oblate12 = readsnap('../data/MW_models/triaxial/Oblate12_010', 'pos', 'dm')\n",
    "MW_oblate15 = readsnap('../data/MW_models/triaxial/Oblate15_010', 'pos', 'dm')\n",
    "MW_prolate06 = readsnap('../data/MW_models/triaxial/Prolate06_010', 'pos', 'dm')\n",
    "MW_prolate08 = readsnap('../data/MW_models/triaxial/Prolate08_010', 'pos', 'dm')"
   ]
  },
  {
   "cell_type": "code",
   "execution_count": 56,
   "metadata": {
    "collapsed": true
   },
   "outputs": [],
   "source": [
    "MW_sph_t = truncate(MW_sph)\n",
    "MW_oblate12_t = truncate(MW_oblate12)\n",
    "MW_oblate15_t = truncate(MW_oblate15)\n",
    "MW_prolate08_t = truncate(MW_prolate08)\n",
    "MW_prolate06_t = truncate(MW_prolate06)\n",
    "\n",
    "\n",
    "r_s = 40.85"
   ]
  },
  {
   "cell_type": "code",
   "execution_count": 58,
   "metadata": {
    "collapsed": true
   },
   "outputs": [],
   "source": [
    "Mass = np.ones(len(MW_oblate12_t))\n",
    "Ssph, Tsph, nlmsph = STnlm(MW_sph_t, Mass, r_s, 20, 0)"
   ]
  },
  {
   "cell_type": "code",
   "execution_count": 59,
   "metadata": {
    "collapsed": false
   },
   "outputs": [],
   "source": [
    "Soblate12, Toblate12, nlmso12 = STnlm(MW_oblate12_t, Mass, r_s, 20, 0)\n",
    "Soblate15, Toblate15, nlmso15 = STnlm(MW_oblate15_t, Mass, r_s, 20, 0)\n",
    "Sprolate06, Tprolate06, nlmsp06 = STnlm(MW_prolate06_t, Mass, r_s, 20, 0)\n",
    "Sprolate08, Tprolate08, nlmsp08 = STnlm(MW_prolate08_t, Mass, r_s, 20, 0)\n"
   ]
  },
  {
   "cell_type": "code",
   "execution_count": 61,
   "metadata": {
    "collapsed": false
   },
   "outputs": [
    {
     "data": {
      "text/plain": [
       "[<matplotlib.lines.Line2D at 0x7f74a8e9d510>]"
      ]
     },
     "execution_count": 61,
     "metadata": {},
     "output_type": "execute_result"
    },
    {
     "data": {
      "image/png": "[encoded data removed]",
      "text/plain": [
       "<matplotlib.figure.Figure at 0x7f74a9412110>"
      ]
     },
     "metadata": {},
     "output_type": "display_data"
    }
   ],
   "source": [
    "plt.semilogy(np.array(nlmsph)[:,0], np.abs(Ssph.flat/Ssph[0,0,0])[:], marker='o', c='y', alpha=0.8, label='$n=20$')\n",
    "plt.semilogy(np.array(nlmso12)[:,0], np.abs(Soblate12.flat/Soblate12[0,0,0])[:], marker='o', c='k', alpha=0.8, label='$n=20$')\n",
    "plt.semilogy(np.array(nlmso15)[:,0], np.abs(Soblate15.flat/Soblate15[0,0,0])[:], marker='o', c='b', alpha=0.8, label='$n=20$')\n",
    "plt.semilogy(np.array(nlmsp06)[:,0], np.abs(Sprolate06.flat/Sprolate06[0,0,0])[:], marker='o', c='r', alpha=0.8, label='$n=20$')\n",
    "plt.semilogy(np.array(nlmsp08)[:,0], np.abs(Sprolate08.flat/Sprolate08[0,0,0])[:], marker='o', c='g', alpha=0.8, label='$n=20$')"
   ]
  },
  {
   "cell_type": "code",
   "execution_count": 62,
   "metadata": {
    "collapsed": true
   },
   "outputs": [],
   "source": [
    "Ssph_l, Tsph_l, nlmsph_l = STnlm(MW_sph_t, Mass, r_s, 10, 10)"
   ]
  },
  {
   "cell_type": "code",
   "execution_count": 33,
   "metadata": {
    "collapsed": true
   },
   "outputs": [],
   "source": [
    "Soblate12_l, Toblate12_l, nlmso12_l = STnlm(MW_oblate12_t, Mass, r_s, 10, 10)"
   ]
  },
  {
   "cell_type": "code",
   "execution_count": 47,
   "metadata": {
    "collapsed": true
   },
   "outputs": [],
   "source": [
    "Soblate15_l, Toblate15_l, nlmso15_l = STnlm(MW_oblate15_t, Mass, r_s, 10, 10)\n"
   ]
  },
  {
   "cell_type": "code",
   "execution_count": 48,
   "metadata": {
    "collapsed": true
   },
   "outputs": [],
   "source": [
    "Sprolate06_l, Tprolate06_l, nlmsp06_l = STnlm(MW_prolate06_t, Mass, r_s, 10, 10)\n",
    "Sprolate08_l, Tprolate08_l, nlmsp08_l = STnlm(MW_prolate08_t, Mass, r_s, 10, 10)"
   ]
  },
  {
   "cell_type": "code",
   "execution_count": 53,
   "metadata": {
    "collapsed": false
   },
   "outputs": [
    {
     "name": "stdout",
     "output_type": "stream",
     "text": [
      "158890.069247\n",
      "144648676.592\n",
      "125096.627711\n",
      "131415.848338\n"
     ]
    }
   ],
   "source": [
    "print np.nanmax(Soblate12_l[:,:,:])\n",
    "print np.nanmax(Soblate15_l[:,:,:])\n",
    "\n",
    "print np.nanmax(Sprolate06_l[:,:,:])\n",
    "print np.nanmax(Sprolate08_l[:,:,:])"
   ]
  },
  {
   "cell_type": "code",
   "execution_count": 64,
   "metadata": {
    "collapsed": false
   },
   "outputs": [
    {
     "data": {
      "text/plain": [
       "<matplotlib.colorbar.Colorbar instance at 0x7f74a7447518>"
      ]
     },
     "execution_count": 64,
     "metadata": {},
     "output_type": "execute_result"
    },
    {
     "data": {
      "image/png": "[encoded data removed]",
      "text/plain": [
       "<matplotlib.figure.Figure at 0x7f74a94c99d0>"
      ]
     },
     "metadata": {},
     "output_type": "display_data"
    }
   ],
   "source": [
    "imshow(np.log10(np.abs(Ssph_l[:,:,0]).T / np.nanmax(Ssph_l[:,:,:])), origin='lower', interpolation='None'\n",
    "           ,cmap = plt.cm.cool, vmin=-10, vmax=0)\n",
    "\n",
    "colorbar()"
   ]
  },
  {
   "cell_type": "code",
   "execution_count": 54,
   "metadata": {
    "collapsed": false
   },
   "outputs": [
    {
     "data": {
      "text/plain": [
       "<matplotlib.colorbar.Colorbar instance at 0x7f74a77e38c0>"
      ]
     },
     "execution_count": 54,
     "metadata": {},
     "output_type": "execute_result"
    },
    {
     "data": {
      "image/png": "[encoded data removed]",
      "text/plain": [
       "<matplotlib.figure.Figure at 0x7f74a8e55a90>"
      ]
     },
     "metadata": {},
     "output_type": "display_data"
    }
   ],
   "source": [
    "figure(figsize=(12,12))\n",
    "subplot(2, 2, 1)\n",
    "imshow(np.log10(np.abs(Soblate12_l[:,:,0]).T / np.nanmax(Soblate15_l[:,:,:])), origin='lower', interpolation='None'\n",
    "           ,cmap = plt.cm.cool, vmin=-9, vmax=0)\n",
    "colorbar()\n",
    "\n",
    "subplot(2, 2, 2)\n",
    "imshow(np.log10(np.abs(Soblate15_l[:,:,0]).T / np.nanmax(Soblate15_l[:,:,:])), origin='lower', interpolation='None'\n",
    "           ,cmap = plt.cm.cool, vmin=-9, vmax=0)\n",
    "colorbar()\n",
    "\n",
    "\n",
    "subplot(2, 2, 3)\n",
    "imshow(np.log10(np.abs(Sprolate06_l[:,:,0]).T / np.nanmax(Soblate15_l[:,:,:])), origin='lower', interpolation='None'\n",
    "           ,cmap = plt.cm.cool, vmin=-9, vmax=0)\n",
    "colorbar()\n",
    "\n",
    "\n",
    "subplot(2, 2, 4)\n",
    "imshow(np.log10(np.abs(Sprolate08_l[:,:,0]).T / np.nanmax(Soblate15_l[:,:,:])), origin='lower', interpolation='None'\n",
    "           ,cmap = plt.cm.cool, vmin=-9, vmax=0)\n",
    "colorbar()\n",
    "\n"
   ]
  },
  {
   "cell_type": "code",
   "execution_count": null,
   "metadata": {
    "collapsed": true
   },
   "outputs": [],
   "source": []
  }
 ],
 "metadata": {
  "kernelspec": {
   "display_name": "Python 2",
   "language": "python",
   "name": "python2"
  },
  "language_info": {
   "codemirror_mode": {
    "name": "ipython",
    "version": 2
   },
   "file_extension": ".py",
   "mimetype": "text/x-python",
   "name": "python",
   "nbconvert_exporter": "python",
   "pygments_lexer": "ipython2",
   "version": "2.7.6"
  }
 },
 "nbformat": 4,
 "nbformat_minor": 0
}
