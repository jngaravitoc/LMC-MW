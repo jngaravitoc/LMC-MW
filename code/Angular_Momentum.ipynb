{
 "cells": [
  {
   "cell_type": "code",
   "execution_count": 1,
   "metadata": {
    "collapsed": false
   },
   "outputs": [
    {
     "name": "stdout",
     "output_type": "stream",
     "text": [
      "Populating the interactive namespace from numpy and matplotlib\n"
     ]
    }
   ],
   "source": [
    "%pylab inline\n",
    "from pygadgetreader import *\n",
    "from numpy import linalg\n",
    "from octopus import orbit_cm, profiles\n",
    "from astropy import units as u\n",
    "from astropy import constants"
   ]
  },
  {
   "cell_type": "code",
   "execution_count": 2,
   "metadata": {
    "collapsed": true
   },
   "outputs": [],
   "source": [
    "font = {'size':16, 'family':'serif'}\n",
    "matplotlib.rc('font', **font)"
   ]
  },
  {
   "cell_type": "markdown",
   "metadata": {},
   "source": [
    "# Obejective:\n",
    "\n",
    "1. Study the evolution of the angular momentun of the MW in presence of the LMC\n",
    "2. Study the LMC angular momentum\n",
    "\n",
    "\\begin{equation}\n",
    "\\vec{J} = m_i \\sum_i \\vec{r_i} \\times \\vec{v_i}\n",
    "\\end{equation}\n",
    "\n",
    "\\begin{equation}\n",
    "\\lambda' = \\dfrac{J}{\\sqrt{2}MV_cR}\n",
    "\\end{equation}\n",
    "\n",
    "Where $V_c^2 = GM/R$\n",
    "\n",
    "## TO-DO"
   ]
  },
  {
   "cell_type": "code",
   "execution_count": 3,
   "metadata": {
    "collapsed": false
   },
   "outputs": [
    {
     "name": "stdout",
     "output_type": "stream",
     "text": [
      "4.30211348837e-06 km2 kpc / (s2 solMass)\n"
     ]
    }
   ],
   "source": [
    "G = constants.G\n",
    "G = G.to('u.kpc * u.km**2 / (u.s**2 * u.Msun)')\n",
    "print G"
   ]
  },
  {
   "cell_type": "code",
   "execution_count": 4,
   "metadata": {
    "collapsed": true
   },
   "outputs": [],
   "source": [
    "def mw_particles(xyz, vxyz, ids, M, N_halo):\n",
    "    id_cut = np.sort(ids)[N_halo]\n",
    "    index_mw = np.where(ids<id_cut)[0]\n",
    "    index_lmc = np.where(ids>=id_cut)[0]\n",
    "    return xyz[index_mw], vxyz[index_mw], M[index_mw], xyz[index_lmc], vxyz[index_lmc], M[index_lmc]"
   ]
  },
  {
   "cell_type": "code",
   "execution_count": 5,
   "metadata": {
    "collapsed": false
   },
   "outputs": [
    {
     "name": "stdout",
     "output_type": "stream",
     "text": [
      "Returning DM    Positions\n",
      "Returning DM    Velocities\n",
      "Returning DM    Particle IDs\n",
      "Returning DM    Mass\n",
      "Returning DM    Positions\n",
      "Returning DM    Velocities\n",
      "Returning DM    Particle IDs\n",
      "Returning DM    Mass\n"
     ]
    }
   ],
   "source": [
    "all_pos_i = readsnap('../data/LMCMW/MWmLMC6/H1/MWfLMC6H1_000.hdf5', 'pos', 'dm')\n",
    "all_vel_i = readsnap('../data/LMCMW/MWmLMC6/H1/MWfLMC6H1_000.hdf5', 'vel', 'dm')\n",
    "all_pid_i = readsnap('../data/LMCMW/MWmLMC6/H1/MWfLMC6H1_000.hdf5', 'pid', 'dm')\n",
    "all_M_i = readsnap('../data/LMCMW/MWmLMC6/H1/MWfLMC6H1_000.hdf5', 'mass', 'dm')\n",
    "\n",
    "all_pos_f = readsnap('../data/LMCMW/MWmLMC6/H1/MWfLMC6H1_119.hdf5', 'pos', 'dm')\n",
    "all_vel_f = readsnap('../data/LMCMW/MWmLMC6/H1/MWfLMC6H1_119.hdf5', 'vel', 'dm')\n",
    "all_pid_f = readsnap('../data/LMCMW/MWmLMC6/H1/MWfLMC6H1_119.hdf5', 'pid', 'dm')\n",
    "all_M_f = readsnap('../data/LMCMW/MWmLMC6/H1/MWfLMC6H1_119.hdf5', 'mass', 'dm')"
   ]
  },
  {
   "cell_type": "code",
   "execution_count": 6,
   "metadata": {
    "collapsed": false
   },
   "outputs": [],
   "source": [
    "mw_pos_i, mw_vel_i, mw_mass_i, lmc_pos_i, lmc_vel_i, lmc_mass_i = mw_particles(all_pos_i, all_vel_i, all_pid_i, all_M_i, 1000000) \n",
    "mw_pos_f, mw_vel_f, mw_mass_f, lmc_pos_f, lmc_vel_f, lmc_mass_f = mw_particles(all_pos_f, all_vel_f, all_pid_f, all_M_f, 1000000) "
   ]
  },
  {
   "cell_type": "code",
   "execution_count": 7,
   "metadata": {
    "collapsed": false
   },
   "outputs": [
    {
     "name": "stdout",
     "output_type": "stream",
     "text": [
      "3.14213492468 33.1085245965 -10.5106429199\n",
      "11.5791685785 247.827350217 129.886171086\n",
      "1.95962845506 -11.9165978387 -37.8634495107\n"
     ]
    }
   ],
   "source": [
    "# Removing particles beyond 500kpc\n",
    "\n",
    "xmw_cm, ymw_cm, zmw_cm, vxmw_cm, vymw_cm, vzmw_cm = orbit_cm.CM(mw_pos_f, mw_vel_f)\n",
    "xlmc_cm, ylmc_cm, zlmc_cm, vxlmc_cm, vylmc_cm, vzlmc_cm = orbit_cm.CM(lmc_pos_f, lmc_vel_f)\n",
    "xlmc_cmi, ylmc_cmi, zlmc_cmi, vxlmc_cmi, vylmc_cmi, vzlmc_cmi = orbit_cm.CM(lmc_pos_i, lmc_vel_i)\n",
    "\n",
    "print xmw_cm, ymw_cm, zmw_cm\n",
    "print xlmc_cmi, ylmc_cmi, zlmc_cmi\n",
    "print xlmc_cm, ylmc_cm, zlmc_cm\n",
    "\n",
    "\n",
    "mw_clean_i = np.where(np.sqrt(mw_pos_i[:,0]**2.0 + mw_pos_i[:,1]**2.0 + mw_pos_i[:,2]**2.0)<500)[0]\n",
    "mw_clean_f = np.where(np.sqrt((mw_pos_f[:,0]-xmw_cm)**2.0 + (mw_pos_f[:,1]-ymw_cm)**2.0 + (mw_pos_f[:,2]-zmw_cm)**2.0)<500)[0]\n",
    "\n",
    "all_clean_f = np.where(np.sqrt((all_pos_f[:,0]-xmw_cm)**2.0 + (all_pos_f[:,1]-ymw_cm)**2.0 + (all_pos_f[:,2]-zmw_cm)**2.0)<500)[0]\n",
    "lmc_clean_i = np.where(np.sqrt((lmc_pos_i[:,0]-xlmc_cmi)**2.0 + (lmc_pos_i[:,1]-ylmc_cmi)**2.0 + (lmc_pos_i[:,2]-zlmc_cmi)**2.0)<500)[0]\n",
    "lmc_clean_f = np.where(np.sqrt((lmc_pos_f[:,0]-xlmc_cm)**2.0 + (lmc_pos_f[:,1]-ylmc_cm)**2.0 + (lmc_pos_f[:,2]-zlmc_cm)**2.0)<500)[0]\n",
    "\n",
    "mw_pos_i = mw_pos_i[mw_clean_i]\n",
    "mw_vel_i = mw_vel_i[mw_clean_i]\n",
    "mw_mass = mw_mass_i[mw_clean_i]\n",
    "\n",
    "mw_pos_f = mw_pos_f[mw_clean_f]\n",
    "mw_vel_f = mw_vel_f[mw_clean_f]\n",
    "mw_mass = mw_mass_f[mw_clean_f]\n",
    "\n",
    "lmc_pos_i = lmc_pos_i[lmc_clean_i]\n",
    "lmc_vel_i = lmc_vel_i[lmc_clean_i]\n",
    "lmc_mass_i = lmc_mass_i[lmc_clean_i]\n",
    "\n",
    "lmc_pos_f = lmc_pos_f[lmc_clean_f]\n",
    "lmc_vel_f = lmc_vel_f[lmc_clean_f]\n",
    "lmc_mass_f = lmc_mass_f[lmc_clean_i]\n",
    "\n",
    "all_pos_f = all_pos_f[all_clean_f]\n",
    "all_vel_f = all_vel_f[all_clean_f]\n",
    "all_M_f = all_M_f[all_clean_f]"
   ]
  },
  {
   "cell_type": "code",
   "execution_count": 8,
   "metadata": {
    "collapsed": true
   },
   "outputs": [],
   "source": [
    "def angular_m(M, xyz, vxyz):\n",
    "    r_c_p = ([np.cross(xyz[i], vxyz[i]) for i in range(len(xyz))])\n",
    "    J_x_i = np.zeros(len(r_c_p))\n",
    "    J_y_i = np.zeros(len(r_c_p))\n",
    "    J_z_i = np.zeros(len(r_c_p))\n",
    "    for i in range(len(r_c_p)):\n",
    "        J_x_i[i] = r_c_p[i][0]\n",
    "        J_y_i[i] = r_c_p[i][1]\n",
    "        J_z_i[i] = r_c_p[i][2]\n",
    "    J_x = np.sum(J_x_i)\n",
    "    J_y = np.sum(J_y_i)\n",
    "    J_z = np.sum(J_z_i)\n",
    "    M_tot = np.sum(M)*1E10\n",
    "    J = np.array([J_x, J_y, J_z])\n",
    "    J_t = np.dot(M_tot, J)\n",
    "    return J_t\n",
    "\n",
    "def spin_param(J, M, xyz):\n",
    "    J_n = linalg.norm(J) # Norm of J\n",
    "    M_t = np.sum(M)*1E10 # Enclosed mass within Rmax\n",
    "    R = np.max(np.sqrt(xyz[:,0]**2 + xyz[:,1]**2 + xyz[:,2]**2)) # Rmax\n",
    "    V_c = np.sqrt(G*M_t/R) # V_c at Rmax and M_t\n",
    "    l = J_n / (np.sqrt(2.0) * M_t * V_c * R)\n",
    "    return l.value"
   ]
  },
  {
   "cell_type": "code",
   "execution_count": 9,
   "metadata": {
    "collapsed": false
   },
   "outputs": [],
   "source": [
    "J_mw_i = angular_m(mw_mass_i, mw_pos_i, mw_vel_i)"
   ]
  },
  {
   "cell_type": "code",
   "execution_count": 10,
   "metadata": {
    "collapsed": false
   },
   "outputs": [
    {
     "data": {
      "text/plain": [
       "array([ -1.66640481e+19,  -7.63254163e+18,   8.41559722e+17])"
      ]
     },
     "execution_count": 10,
     "metadata": {},
     "output_type": "execute_result"
    }
   ],
   "source": [
    "J_mw_i"
   ]
  },
  {
   "cell_type": "code",
   "execution_count": 12,
   "metadata": {
    "collapsed": true
   },
   "outputs": [],
   "source": [
    "J_mw_f = angular_m(mw_mass_f, mw_pos_f, mw_vel_f)"
   ]
  },
  {
   "cell_type": "code",
   "execution_count": 13,
   "metadata": {
    "collapsed": false
   },
   "outputs": [
    {
     "data": {
      "text/plain": [
       "array([ -8.37412276e+20,   4.67734941e+19,  -1.22380663e+20])"
      ]
     },
     "execution_count": 13,
     "metadata": {},
     "output_type": "execute_result"
    }
   ],
   "source": [
    "J_mw_f"
   ]
  },
  {
   "cell_type": "code",
   "execution_count": 45,
   "metadata": {
    "collapsed": false
   },
   "outputs": [
    {
     "data": {
      "text/plain": [
       "141.22729685759793"
      ]
     },
     "execution_count": 45,
     "metadata": {},
     "output_type": "execute_result"
    }
   ],
   "source": [
    "spin_param(J_mw_i, mw_mass_i, mw_pos_i)"
   ]
  },
  {
   "cell_type": "code",
   "execution_count": null,
   "metadata": {
    "collapsed": false
   },
   "outputs": [],
   "source": [
    "print np.linalg.norm(J_mw_i)"
   ]
  },
  {
   "cell_type": "code",
   "execution_count": 44,
   "metadata": {
    "collapsed": false
   },
   "outputs": [
    {
     "data": {
      "text/plain": [
       "2666.7676"
      ]
     },
     "execution_count": 44,
     "metadata": {},
     "output_type": "execute_result"
    }
   ],
   "source": [
    "r_c_p[1][0]"
   ]
  },
  {
   "cell_type": "code",
   "execution_count": 99,
   "metadata": {
    "collapsed": false
   },
   "outputs": [
    {
     "name": "stdout",
     "output_type": "stream",
     "text": [
      "4.30211348837e-06 km2 kpc / (s2 solMass)\n"
     ]
    }
   ],
   "source": [
    "print G"
   ]
  },
  {
   "cell_type": "code",
   "execution_count": 27,
   "metadata": {
    "collapsed": false
   },
   "outputs": [
    {
     "data": {
      "text/plain": [
       "107.6172772150819"
      ]
     },
     "execution_count": 27,
     "metadata": {},
     "output_type": "execute_result"
    }
   ],
   "source": [
    "profiles.vc_hernquist(40, 500, 0, 0, 1.57E12)"
   ]
  },
  {
   "cell_type": "markdown",
   "metadata": {
    "collapsed": true
   },
   "source": [
    "# MW isolated"
   ]
  },
  {
   "cell_type": "code",
   "execution_count": 16,
   "metadata": {
    "collapsed": true
   },
   "outputs": [],
   "source": [
    "L = np.zeros(40)"
   ]
  },
  {
   "cell_type": "code",
   "execution_count": 17,
   "metadata": {
    "collapsed": false
   },
   "outputs": [
    {
     "name": "stdout",
     "output_type": "stream",
     "text": [
      "Returning DM    Positions\n",
      "Returning DM    Velocities\n",
      "Returning DM    Mass\n",
      "Returning DM    Positions\n",
      "Returning DM    Velocities\n",
      "Returning DM    Mass\n",
      "Returning DM    Positions\n",
      "Returning DM    Velocities\n",
      "Returning DM    Mass\n",
      "Returning DM    Positions\n",
      "Returning DM    Velocities\n",
      "Returning DM    Mass\n",
      "Returning DM    Positions\n",
      "Returning DM    Velocities\n",
      "Returning DM    Mass\n",
      "Returning DM    Positions\n",
      "Returning DM    Velocities\n",
      "Returning DM    Mass\n",
      "Returning DM    Positions\n",
      "Returning DM    Velocities\n",
      "Returning DM    Mass\n",
      "Returning DM    Positions\n",
      "Returning DM    Velocities\n",
      "Returning DM    Mass\n",
      "Returning DM    Positions\n",
      "Returning DM    Velocities\n",
      "Returning DM    Mass\n",
      "Returning DM    Positions\n",
      "Returning DM    Velocities\n",
      "Returning DM    Mass\n",
      "Returning DM    Positions\n",
      "Returning DM    Velocities\n",
      "Returning DM    Mass\n",
      "Returning DM    Positions\n",
      "Returning DM    Velocities\n",
      "Returning DM    Mass\n",
      "Returning DM    Positions\n",
      "Returning DM    Velocities\n",
      "Returning DM    Mass\n",
      "Returning DM    Positions\n",
      "Returning DM    Velocities\n",
      "Returning DM    Mass\n",
      "Returning DM    Positions\n",
      "Returning DM    Velocities\n",
      "Returning DM    Mass\n",
      "Returning DM    Positions\n",
      "Returning DM    Velocities\n",
      "Returning DM    Mass\n",
      "Returning DM    Positions\n",
      "Returning DM    Velocities\n",
      "Returning DM    Mass\n",
      "Returning DM    Positions\n",
      "Returning DM    Velocities\n",
      "Returning DM    Mass\n",
      "Returning DM    Positions\n",
      "Returning DM    Velocities\n",
      "Returning DM    Mass\n",
      "Returning DM    Positions\n",
      "Returning DM    Velocities\n",
      "Returning DM    Mass\n",
      "Returning DM    Positions\n",
      "Returning DM    Velocities\n",
      "Returning DM    Mass\n",
      "Returning DM    Positions\n",
      "Returning DM    Velocities\n",
      "Returning DM    Mass\n",
      "Returning DM    Positions\n",
      "Returning DM    Velocities\n",
      "Returning DM    Mass\n",
      "Returning DM    Positions\n",
      "Returning DM    Velocities\n",
      "Returning DM    Mass\n",
      "Returning DM    Positions\n",
      "Returning DM    Velocities\n",
      "Returning DM    Mass\n",
      "Returning DM    Positions\n",
      "Returning DM    Velocities\n",
      "Returning DM    Mass\n",
      "Returning DM    Positions\n",
      "Returning DM    Velocities\n",
      "Returning DM    Mass\n",
      "Returning DM    Positions\n",
      "Returning DM    Velocities\n",
      "Returning DM    Mass\n",
      "Returning DM    Positions\n",
      "Returning DM    Velocities\n",
      "Returning DM    Mass\n",
      "Returning DM    Positions\n",
      "Returning DM    Velocities\n",
      "Returning DM    Mass\n",
      "Returning DM    Positions\n",
      "Returning DM    Velocities\n",
      "Returning DM    Mass\n",
      "Returning DM    Positions\n",
      "Returning DM    Velocities\n",
      "Returning DM    Mass\n",
      "Returning DM    Positions\n",
      "Returning DM    Velocities\n",
      "Returning DM    Mass\n",
      "Returning DM    Positions\n",
      "Returning DM    Velocities\n",
      "Returning DM    Mass\n",
      "Returning DM    Positions\n",
      "Returning DM    Velocities\n",
      "Returning DM    Mass\n",
      "Returning DM    Positions\n",
      "Returning DM    Velocities\n",
      "Returning DM    Mass\n",
      "Returning DM    Positions\n",
      "Returning DM    Velocities\n",
      "Returning DM    Mass\n",
      "Returning DM    Positions\n",
      "Returning DM    Velocities\n",
      "Returning DM    Mass\n",
      "Returning DM    Positions\n",
      "Returning DM    Velocities\n",
      "Returning DM    Mass\n",
      "Returning DM    Positions\n",
      "Returning DM    Velocities\n",
      "Returning DM    Mass\n"
     ]
    }
   ],
   "source": [
    "for i in range(40):\n",
    "    mw_pos = readsnap(('../data/MW_models/pm/model2/MWN2vir_{:0>3d}.hdf5').format(i), 'pos', 'dm')\n",
    "    mw_vel = readsnap(('../data/MW_models/pm/model2/MWN2vir_{:0>3d}.hdf5').format(i), 'vel', 'dm')\n",
    "    mw_mass = readsnap(('../data/MW_models/pm/model2/MWN2vir_{:0>3d}.hdf5').format(i), 'mass', 'dm')\n",
    "    J = angular_m(mw_mass, mw_pos, mw_vel)\n",
    "    L[i] = spin_param(J, mw_mass, mw_pos)\n"
   ]
  },
  {
   "cell_type": "code",
   "execution_count": 18,
   "metadata": {
    "collapsed": false
   },
   "outputs": [
    {
     "data": {
      "text/plain": [
       "[<matplotlib.lines.Line2D at 0x7fd5591edc90>]"
      ]
     },
     "execution_count": 18,
     "metadata": {},
     "output_type": "execute_result"
    },
    {
     "data": {
      "image/png": "[encoded data removed]",
      "text/plain": [
       "<matplotlib.figure.Figure at 0x7fd56423ef10>"
      ]
     },
     "metadata": {},
     "output_type": "display_data"
    }
   ],
   "source": [
    "plot(L)"
   ]
  },
  {
   "cell_type": "code",
   "execution_count": null,
   "metadata": {
    "collapsed": true
   },
   "outputs": [],
   "source": []
  }
 ],
 "metadata": {
  "kernelspec": {
   "display_name": "Python 2",
   "language": "python",
   "name": "python2"
  },
  "language_info": {
   "codemirror_mode": {
    "name": "ipython",
    "version": 2
   },
   "file_extension": ".py",
   "mimetype": "text/x-python",
   "name": "python",
   "nbconvert_exporter": "python",
   "pygments_lexer": "ipython2",
   "version": "2.7.6"
  }
 },
 "nbformat": 4,
 "nbformat_minor": 0
}
