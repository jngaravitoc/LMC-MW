{
 "cells": [
  {
   "cell_type": "code",
   "execution_count": 2,
   "metadata": {
    "collapsed": false
   },
   "outputs": [
    {
     "name": "stdout",
     "output_type": "stream",
     "text": [
      "Populating the interactive namespace from numpy and matplotlib\n"
     ]
    }
   ],
   "source": [
    "%pylab inline"
   ]
  },
  {
   "cell_type": "code",
   "execution_count": 34,
   "metadata": {
    "collapsed": true
   },
   "outputs": [],
   "source": [
    "MW = loadtxt('MW_orb.dat')"
   ]
  },
  {
   "cell_type": "code",
   "execution_count": 35,
   "metadata": {
    "collapsed": true
   },
   "outputs": [],
   "source": [
    "Sag = loadtxt('Sgr_orb.dat')"
   ]
  },
  {
   "cell_type": "code",
   "execution_count": 36,
   "metadata": {
    "collapsed": true
   },
   "outputs": [],
   "source": [
    "MW1 = MW[:,0]\n",
    "Sag1 = Sag[:,0]\n",
    "t = MW[:,-1]\n",
    "t = Sag[:,-1]"
   ]
  },
  {
   "cell_type": "code",
   "execution_count": 27,
   "metadata": {
    "collapsed": true
   },
   "outputs": [],
   "source": [
    "MW2 = MW[:,1]\n",
    "Sag2 = Sag[:,1]\n",
    "\n",
    "MW3 = MW[:,2]\n",
    "Sag3 = Sag[:,2]\n",
    "\n",
    "MW4 = MW[:,3]\n",
    "Sag4 = Sag[:,3]\n",
    "\n",
    "MW5 = MW[:,4]\n",
    "Sag5 = Sag[:,4]\n",
    "\n",
    "MW6 = MW[:,5]\n",
    "Sag6 = Sag[:,5]"
   ]
  },
  {
   "cell_type": "code",
   "execution_count": 40,
   "metadata": {
    "collapsed": false
   },
   "outputs": [
    {
     "data": {
      "text/plain": [
       "[<matplotlib.lines.Line2D at 0x7fc30949d610>]"
      ]
     },
     "execution_count": 40,
     "metadata": {},
     "output_type": "execute_result"
    },
    {
     "data": {
      "image/png": "[encoded data removed]",
      "text/plain": [
       "<matplotlib.figure.Figure at 0x7fc309550210>"
      ]
     },
     "metadata": {},
     "output_type": "display_data"
    }
   ],
   "source": [
    "#plot(t, np.sqrt(Sag1**2 + Sag2**2 + Sag3**2))\n",
    "#plot(t, np.sqrt(MW1**2 + MW2**2 + MW3**2))\n",
    "plot(t, np.sqrt(Sag1**2 + Sag2**2 + Sag3**2) - np.sqrt(MW1**2 + MW2**2 + MW3**2))"
   ]
  },
  {
   "cell_type": "code",
   "execution_count": null,
   "metadata": {
    "collapsed": true
   },
   "outputs": [],
   "source": []
  }
 ],
 "metadata": {
  "kernelspec": {
   "display_name": "Python 2",
   "language": "python",
   "name": "python2"
  },
  "language_info": {
   "codemirror_mode": {
    "name": "ipython",
    "version": 2
   },
   "file_extension": ".py",
   "mimetype": "text/x-python",
   "name": "python",
   "nbconvert_exporter": "python",
   "pygments_lexer": "ipython2",
   "version": "2.7.6"
  }
 },
 "nbformat": 4,
 "nbformat_minor": 0
}
